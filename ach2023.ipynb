{
  "cells": [
    {
      "cell_type": "markdown",
      "metadata": {
        "id": "view-in-github",
        "colab_type": "text"
      },
      "source": [
        "<a href=\"https://colab.research.google.com/github/OdysseusPolymetis/ach2023_influence/blob/main/ach2023.ipynb\" target=\"_parent\"><img src=\"https://colab.research.google.com/assets/colab-badge.svg\" alt=\"Open In Colab\"/></a>"
      ]
    },
    {
      "cell_type": "markdown",
      "metadata": {
        "id": "nG7DZEpdzDLu"
      },
      "source": [
        "# <center>**Project for influence detection in Classics**</center>"
      ]
    },
    {
      "cell_type": "markdown",
      "source": [
        "Requirements"
      ],
      "metadata": {
        "id": "KUP8_s_FuAH9"
      }
    },
    {
      "cell_type": "code",
      "execution_count": null,
      "metadata": {
        "id": "HKrcW3eIdoZM"
      },
      "outputs": [],
      "source": [
        "!pip install torch transformers numpy scipy stanza python-Levenshtein rank_bm25 faiss-gpu bertviz"
      ]
    },
    {
      "cell_type": "markdown",
      "source": [
        "Récupération du modèle Ancient Greek Bert"
      ],
      "metadata": {
        "id": "iaBlCiRLt-PB"
      }
    },
    {
      "cell_type": "code",
      "execution_count": null,
      "metadata": {
        "id": "jaeqyQjUzUhX",
        "colab": {
          "base_uri": "https://localhost:8080/"
        },
        "outputId": "fe6cc4ff-bb2d-4e01-c23b-6509806c9499"
      },
      "outputs": [
        {
          "output_type": "stream",
          "name": "stderr",
          "text": [
            "Some weights of the model checkpoint at UGARIT/grc-alignment were not used when initializing XLMRobertaModel: ['lm_head.layer_norm.bias', 'psi_cls.bias', 'lm_head.dense.bias', 'lm_head.layer_norm.weight', 'psi_cls.transform.bias', 'lm_head.decoder.weight', 'lm_head.dense.weight', 'lm_head.decoder.bias', 'lm_head.bias', 'psi_cls.transform.weight', 'psi_cls.decoder.bias', 'psi_cls.decoder.weight']\n",
            "- This IS expected if you are initializing XLMRobertaModel from the checkpoint of a model trained on another task or with another architecture (e.g. initializing a BertForSequenceClassification model from a BertForPreTraining model).\n",
            "- This IS NOT expected if you are initializing XLMRobertaModel from the checkpoint of a model that you expect to be exactly identical (initializing a BertForSequenceClassification model from a BertForSequenceClassification model).\n",
            "Some weights of XLMRobertaModel were not initialized from the model checkpoint at UGARIT/grc-alignment and are newly initialized: ['roberta.pooler.dense.weight', 'roberta.pooler.dense.bias']\n",
            "You should probably TRAIN this model on a down-stream task to be able to use it for predictions and inference.\n"
          ]
        }
      ],
      "source": [
        "from transformers import AutoTokenizer, AutoModel\n",
        "tokeniser = AutoTokenizer.from_pretrained(\"UGARIT/grc-alignment\")\n",
        "model = AutoModel.from_pretrained(\"UGARIT/grc-alignment\")"
      ]
    },
    {
      "cell_type": "markdown",
      "source": [
        "Récupération des treebank data"
      ],
      "metadata": {
        "id": "JR_wSPZ4uGDn"
      }
    },
    {
      "cell_type": "code",
      "execution_count": null,
      "metadata": {
        "id": "Skftlq81zZlz",
        "colab": {
          "base_uri": "https://localhost:8080/"
        },
        "outputId": "2d63f6bc-0db4-4f63-d554-d35e337cefec"
      },
      "outputs": [
        {
          "output_type": "stream",
          "name": "stdout",
          "text": [
            "Cloning into 'treebank_data'...\n",
            "remote: Enumerating objects: 2633, done.\u001b[K\n",
            "remote: Counting objects: 100% (222/222), done.\u001b[K\n",
            "remote: Compressing objects: 100% (80/80), done.\u001b[K\n",
            "remote: Total 2633 (delta 143), reused 214 (delta 141), pack-reused 2411\u001b[K\n",
            "Receiving objects: 100% (2633/2633), 75.59 MiB | 14.19 MiB/s, done.\n",
            "Resolving deltas: 100% (1498/1498), done.\n",
            "Updating files: 100% (289/289), done.\n"
          ]
        }
      ],
      "source": [
        "!git clone https://github.com/PerseusDL/treebank_data.git"
      ]
    },
    {
      "cell_type": "markdown",
      "source": [
        "Récupération des stopwords"
      ],
      "metadata": {
        "id": "Cm_ZBHazuJDD"
      }
    },
    {
      "cell_type": "code",
      "execution_count": null,
      "metadata": {
        "id": "RftG7QcOzef1",
        "colab": {
          "base_uri": "https://localhost:8080/"
        },
        "outputId": "7c6abaa6-9700-4ca9-a707-1640507484db"
      },
      "outputs": [
        {
          "output_type": "stream",
          "name": "stdout",
          "text": [
            "/usr/local/lib/python3.10/dist-packages/gdown/cli.py:121: FutureWarning: Option `--id` was deprecated in version 4.3.1 and will be removed in 5.0. You don't need to pass it anymore to use a file ID.\n",
            "  warnings.warn(\n",
            "Downloading...\n",
            "From: https://drive.google.com/uc?id=1MZ4ld8j30ye3YGYy-T7V3Cyy1c4dlGks\n",
            "To: /content/stopwords_gk.txt\n",
            "100% 98.3k/98.3k [00:00<00:00, 171MB/s]\n"
          ]
        }
      ],
      "source": [
        "!gdown --id 1MZ4ld8j30ye3YGYy-T7V3Cyy1c4dlGks"
      ]
    },
    {
      "cell_type": "markdown",
      "source": [
        "Pour enlever les accents"
      ],
      "metadata": {
        "id": "B-eAleFwuLut"
      }
    },
    {
      "cell_type": "code",
      "source": [
        "def remove_diacritics(char):\n",
        "    normalized_char = unicodedata.normalize('NFD', char)\n",
        "    non_diacritic_char = ''.join(c for c in normalized_char if not unicodedata.combining(c))\n",
        "    return non_diacritic_char"
      ],
      "metadata": {
        "id": "BIsUlaNqIBSx"
      },
      "execution_count": null,
      "outputs": []
    },
    {
      "cell_type": "markdown",
      "source": [
        "Pour créer une liste de stopwords sans accents"
      ],
      "metadata": {
        "id": "h6r47PhGuRt9"
      }
    },
    {
      "cell_type": "code",
      "execution_count": null,
      "metadata": {
        "id": "kbc5R-razkCa"
      },
      "outputs": [],
      "source": [
        "import unicodedata\n",
        "stopwords_gk=set()\n",
        "with open(\"/content/stopwords_gk.txt\", encoding = \"utf8\") as stop_file:\n",
        "  stopwords_diacritics=stop_file.read().split(\"\\n\")\n",
        "stopwords_diacritics=set(stopwords_diacritics)\n",
        "stopwords=set()\n",
        "for stopword in stopwords_diacritics:\n",
        "  stopword_no_diac=remove_diacritics(stopword)\n",
        "  stopwords_gk.add(stopword_no_diac)\n"
      ]
    },
    {
      "cell_type": "markdown",
      "source": [
        "Les imports"
      ],
      "metadata": {
        "id": "ZlSKHcvvuVzD"
      }
    },
    {
      "cell_type": "code",
      "execution_count": null,
      "metadata": {
        "id": "VKXQ_J3RzphS"
      },
      "outputs": [],
      "source": [
        "import string\n",
        "import xml.etree.ElementTree as ET\n",
        "import torch\n",
        "from sklearn.feature_extraction.text import TfidfVectorizer\n",
        "import Levenshtein as lev\n",
        "from sklearn.metrics.pairwise import cosine_similarity\n",
        "import glob\n",
        "from itertools import product\n",
        "import matplotlib.pyplot as plt\n",
        "from joblib import Parallel, delayed\n",
        "import pickle\n",
        "import string\n",
        "from collections import defaultdict\n",
        "import math\n",
        "import pandas as pd\n",
        "import plotly.figure_factory as ff\n",
        "import os\n",
        "import gc\n",
        "import numpy as np"
      ]
    },
    {
      "cell_type": "markdown",
      "source": [
        "Vérifications de la GPU"
      ],
      "metadata": {
        "id": "JyR7F6scuYgr"
      }
    },
    {
      "cell_type": "code",
      "execution_count": null,
      "metadata": {
        "id": "TTDnJ-On6l2r"
      },
      "outputs": [],
      "source": [
        "device = torch.device(\"cuda:0\" if torch.cuda.is_available() else \"cpu\")"
      ]
    },
    {
      "cell_type": "code",
      "execution_count": null,
      "metadata": {
        "id": "QKwnH8_i-NQw"
      },
      "outputs": [],
      "source": [
        "if torch.cuda.is_available():\n",
        "    model = model.to('cuda')"
      ]
    },
    {
      "cell_type": "markdown",
      "source": [
        "Sortie pour les écoutes d'attention"
      ],
      "metadata": {
        "id": "0XTE79R4udsq"
      }
    },
    {
      "cell_type": "code",
      "source": [
        "output_dir = \"/content/attentions\"\n",
        "\n",
        "# Créez le répertoire s'il n'existe pas déjà\n",
        "os.makedirs(output_dir, exist_ok=True)"
      ],
      "metadata": {
        "id": "-U9E3WG_lR7V"
      },
      "execution_count": null,
      "outputs": []
    },
    {
      "cell_type": "markdown",
      "source": [
        "Preprocessing du texte : basse casse et sans ponctuation"
      ],
      "metadata": {
        "id": "pkwpHQMcuhPx"
      }
    },
    {
      "cell_type": "code",
      "execution_count": null,
      "metadata": {
        "id": "V4Yv1yKFi93Y"
      },
      "outputs": [],
      "source": [
        "def preprocess_text(text):\n",
        "    # Convert to lower case\n",
        "    text = text.lower()\n",
        "    # Remove punctuation\n",
        "    text = text.translate(str.maketrans('', '', string.punctuation))\n",
        "    return text"
      ]
    },
    {
      "cell_type": "markdown",
      "source": [
        "Distance de Jaro-Winkler"
      ],
      "metadata": {
        "id": "1wJ1Y3lhuqed"
      }
    },
    {
      "cell_type": "code",
      "execution_count": null,
      "metadata": {
        "id": "-T9HIrvtzzho"
      },
      "outputs": [],
      "source": [
        "def jaro_winkler_similarity(s1, s2, stopwords):\n",
        "    words1 = s1.split()\n",
        "    words2 = s2.split()\n",
        "\n",
        "    # Initialiser le score max à 0\n",
        "    max_score = 0\n",
        "\n",
        "    # Calculer la distance de Jaro-Winkler pour chaque paire de mots\n",
        "    for word1 in words1:\n",
        "        for word2 in words2:\n",
        "            word1=remove_diacritics(word1)\n",
        "            word2=remove_diacritics(word2)\n",
        "            if len(word1) > 5 and len(word2) > 5 and word1 not in stopwords and word2 not in stopwords:\n",
        "                score = lev.jaro_winkler(word1, word2)\n",
        "                if score < 0.8 :\n",
        "                  score = 0\n",
        "                if score > max_score:\n",
        "                    max_score = score\n",
        "\n",
        "    return max_score"
      ]
    },
    {
      "cell_type": "markdown",
      "source": [
        "Liste de lemmes communs suivis"
      ],
      "metadata": {
        "id": "mOpIYaESutUH"
      }
    },
    {
      "cell_type": "code",
      "source": [
        "def count_consecutive_common_lemmas(sentence1, sentence2, stopwords):\n",
        "    lemmas1 = [word for word in sentence1.split() if word not in stopwords]\n",
        "    lemmas2 = [word for word in sentence2.split() if word not in stopwords]\n",
        "\n",
        "    count = 0\n",
        "    min_len = min(len(lemmas1), len(lemmas2))\n",
        "\n",
        "    for i in range(min_len):\n",
        "        if lemmas1[i] == lemmas2[i]:\n",
        "            count += 1\n",
        "        else:\n",
        "            break\n",
        "    return count"
      ],
      "metadata": {
        "id": "z2qDaogGGLPV"
      },
      "execution_count": null,
      "outputs": []
    },
    {
      "cell_type": "markdown",
      "source": [
        "Récupération des données d'attention"
      ],
      "metadata": {
        "id": "QkMpiqA2uw9f"
      }
    },
    {
      "cell_type": "code",
      "source": [
        "def load_attention_info(file_prefix):\n",
        "    # Chercher tous les fichiers qui commencent par 'file_prefix'\n",
        "    files = glob.glob(f\"{file_prefix}*.pickle\")\n",
        "\n",
        "    attention_info_all = []\n",
        "    for file in sorted(files): # pour garder le même ordre\n",
        "        with open(file, 'rb') as f:\n",
        "            attention_info_batch = pickle.load(f)\n",
        "            attention_info_all.extend(attention_info_batch)\n",
        "\n",
        "    return attention_info_all"
      ],
      "metadata": {
        "id": "HKlB2mcj-8gp"
      },
      "execution_count": null,
      "outputs": []
    },
    {
      "cell_type": "markdown",
      "source": [
        "Paramétrage des graphes d'attention"
      ],
      "metadata": {
        "id": "tL7RVyYhu0bV"
      }
    },
    {
      "cell_type": "code",
      "source": [
        "import matplotlib.pyplot as plt\n",
        "from mpl_toolkits.axes_grid1 import make_axes_locatable\n",
        "\n",
        "def plot_attention(attention, sentence, important_words, filename, i, ax):\n",
        "    important_attention = []\n",
        "    important_word_list = []\n",
        "\n",
        "    for word, scores in zip(sentence.split(), attention):\n",
        "        if word in important_words:\n",
        "            important_attention.append(scores.mean().cpu().item())\n",
        "            important_word_list.append(word)\n",
        "\n",
        "    important_attention = np.array(important_attention)\n",
        "    important_attention = (important_attention - important_attention.min()) / (important_attention.max() - important_attention.min() + 1e-9)\n",
        "\n",
        "    img = ax.imshow(important_attention.reshape(1, -1), cmap='plasma', interpolation='nearest', vmin=0, vmax=1)\n",
        "    ax.set_yticks([])\n",
        "    ax.set_xticks(range(len(important_word_list)))\n",
        "    ax.set_xticklabels(important_word_list, rotation='vertical')\n",
        "\n",
        "    divider = make_axes_locatable(ax)\n",
        "    cax = divider.append_axes(\"right\", size=\"5%\", pad=0.05)\n",
        "\n",
        "    plt.colorbar(img, cax=cax)"
      ],
      "metadata": {
        "id": "qg7ffI07PbdK"
      },
      "execution_count": null,
      "outputs": []
    },
    {
      "cell_type": "markdown",
      "source": [
        "Création des graphes d'attention"
      ],
      "metadata": {
        "id": "AJN4E0r4u6nv"
      }
    },
    {
      "cell_type": "code",
      "source": [
        "def visualize_attention(attention_info, filename):\n",
        "    if not os.path.exists('/content/attention_graphs/'):\n",
        "        os.makedirs('/content/attention_graphs/')\n",
        "\n",
        "    num_sentences = len(attention_info)\n",
        "    #num_sentences = 20\n",
        "    max_sentences_per_fig = 5  # Maximum number of sentences per figure\n",
        "    dpi = 100\n",
        "\n",
        "    for fig_num in range(num_sentences // max_sentences_per_fig + 1):\n",
        "        #print(f'figure {fig_num}')\n",
        "        start = fig_num * max_sentences_per_fig\n",
        "        end = start + max_sentences_per_fig\n",
        "        fig_sentences = attention_info[start:end]\n",
        "\n",
        "        if not fig_sentences:\n",
        "            continue  # Skip if fig_sentences is empty\n",
        "\n",
        "        fig, axs = plt.subplots(len(fig_sentences), 1, figsize=(10, len(fig_sentences) * 3), dpi=dpi)\n",
        "        if len(fig_sentences) == 1:  # If there's only one sentence, axs is not a list, so make it a list\n",
        "            axs = [axs]\n",
        "\n",
        "        for i, info in enumerate(fig_sentences):\n",
        "            #print(f'sentence {i}')\n",
        "            plot_attention(info[\"attention\"], info[\"sentence\"], info[\"important_words\"], filename, i, axs[i])\n",
        "\n",
        "        plt.subplots_adjust(hspace=2)\n",
        "        plt.xticks(rotation=45)\n",
        "        plt.tight_layout()\n",
        "        plt.savefig(f\"/content/attention_graphs/{os.path.basename(filename)}_{fig_num}.png\", dpi=dpi)\n",
        "        plt.close()\n",
        "\n"
      ],
      "metadata": {
        "id": "7ZCLm_i3O5iq"
      },
      "execution_count": null,
      "outputs": []
    },
    {
      "cell_type": "markdown",
      "source": [
        "Brassage du TF-IDF global (on peut exclure des auteurs)"
      ],
      "metadata": {
        "id": "zn4N6LYtu9nR"
      }
    },
    {
      "cell_type": "code",
      "source": [
        "def read_all(files):\n",
        "\n",
        "  print(\"Reading the whole corpus for TF-IDF\")\n",
        "\n",
        "  term_frequencies = defaultdict(lambda: defaultdict(int))\n",
        "  document_frequencies = defaultdict(set)\n",
        "  inverse_document_frequencies = {}\n",
        "\n",
        "  excluded=[\"tlg0011.\", \"tlg0085.\"]\n",
        "\n",
        "  num_documents = 0\n",
        "\n",
        "  for filename in files:\n",
        "    if not any(excluded_string in filename for excluded_string in excluded):\n",
        "      print(f'File being processed for TF-IDF : {filename}')\n",
        "      tree = ET.parse(filename) # lire le fichier XML\n",
        "      root = tree.getroot()  # obtenir la racine de l'arbre XML\n",
        "      num_documents +=1\n",
        "\n",
        "        # Parcourir chaque sentence dans le fichier\n",
        "      for sentence in root.iter('sentence'):\n",
        "            # créer un ensemble pour stocker les lemmas uniques dans cette sentence\n",
        "        sentence_lemmas = set()\n",
        "            # Parcourir chaque word dans la sentence\n",
        "        for word in sentence.iter('word'):\n",
        "          lemma = word.get('lemma')\n",
        "          if lemma is not None:\n",
        "            lemma = preprocess_text(lemma)\n",
        "            lemma = ''.join(remove_diacritics(char) for char in lemma)\n",
        "                    # Si ce n'est pas un stopwords\n",
        "            if lemma not in stopwords:\n",
        "                        # mettre à jour la fréquence du terme pour ce document\n",
        "              term_frequencies[lemma][filename] += 1\n",
        "              sentence_lemmas.add(lemma)\n",
        "\n",
        "            # mettre à jour les fréquences de documents pour chaque lemma unique dans la sentence\n",
        "        for lemma in sentence_lemmas:\n",
        "          document_frequencies[lemma].add(filename)\n",
        "\n",
        "  for lemma, documents in document_frequencies.items():\n",
        "    #print(f'Lemma: {lemma}, Document Frequencies: {len(documents)}')\n",
        "    inverse_document_frequencies = {lemma: math.log(num_documents / len(documents)) for lemma, documents in document_frequencies.items()}\n",
        "\n",
        "  return inverse_document_frequencies\n"
      ],
      "metadata": {
        "id": "ntpa4VfXWruU"
      },
      "execution_count": null,
      "outputs": []
    },
    {
      "cell_type": "markdown",
      "metadata": {
        "id": "rDCcvfRXm3Eg"
      },
      "source": [
        "**Avec BATCH**\n",
        "<br>Ramassage des lemmes, constitution des embeddings pour chaque texte, ramassage des scores TF-IDF\n",
        "<br>Prend de 5 à 10 minutes avec les stopwords\n",
        "<br>Pour faire tourner BERT sur du non lemmatisé, lui passer form_sentences à la place de sentences\n",
        "\n"
      ]
    },
    {
      "cell_type": "code",
      "execution_count": null,
      "metadata": {
        "id": "U8PdS8HulQnF"
      },
      "outputs": [],
      "source": [
        "def process_file(filename, inverse_document_frequencies, is_source_file=True):\n",
        "\n",
        "  print(f'Lecture du fichier en cours : {filename}\\n')\n",
        "  tree = ET.parse(filename)\n",
        "  root = tree.getroot()\n",
        "  sentences = []\n",
        "  form_sentences = []\n",
        "  tfidf_threshold=0.6\n",
        "\n",
        "  for sentence in root.iter('sentence'):\n",
        "    forms = []\n",
        "    lemmas = []\n",
        "    for word in sentence.iter('word'):\n",
        "        lemma = word.get('lemma')\n",
        "        form = word.get('form')\n",
        "        if lemma is not None:\n",
        "            lemma = preprocess_text(lemma)\n",
        "            lemma = ''.join(remove_diacritics(char) for char in lemma)\n",
        "            lemmas.append(lemma)\n",
        "            forms.append(form)\n",
        "\n",
        "    if len(lemmas)==0:\n",
        "      print(\"potentielle phrase vide\")\n",
        "\n",
        "    form_sentences.append(' '.join(forms))\n",
        "    sentences.append(' '.join(lemmas))\n",
        "\n",
        "  embeddings = []\n",
        "  batch_size = 256\n",
        "  attention_info = []\n",
        "\n",
        "  print(\"Calcul des embeddings en cours (avec attention)\\n\")\n",
        "\n",
        "  for i in range(0, len(sentences), batch_size):\n",
        "    batch_sentences = form_sentences[i:i+batch_size]\n",
        "    inputs = tokeniser(batch_sentences, return_tensors=\"pt\", padding=True, truncation=True, max_length=512)\n",
        "    inputs = inputs.to(model.device)\n",
        "    with torch.no_grad():\n",
        "      outputs = model(**inputs, output_attentions=True)\n",
        "    embeddings.extend(outputs[0].mean(dim=1).cpu().numpy())\n",
        "\n",
        "    for sentence, attention in zip(batch_sentences, outputs.attentions):\n",
        "        word_scores = {word: inverse_document_frequencies.get(word, 0) for word in sentence.split()}\n",
        "        important_words = sorted(word_scores, key=word_scores.get, reverse=True)[:10]\n",
        "        important_word_indices = [i for i, word in enumerate(sentence.split()) if word in important_words]\n",
        "        attention = outputs.attentions[-1][0, :, important_word_indices, :]\n",
        "        attention_info.append({\"sentence\": sentence, \"attention\": attention, \"important_words\": important_words})\n",
        "\n",
        "    # Save attention info for important words only\n",
        "    with open(f\"/content/attentions/attention_info_{os.path.basename(filename)}_{i//batch_size}.pickle\", \"wb\") as f:\n",
        "      pickle.dump(attention_info, f)\n",
        "\n",
        "    visualize_attention(attention_info, filename)\n",
        "\n",
        "    del inputs\n",
        "    del outputs\n",
        "    torch.cuda.empty_cache()\n",
        "\n",
        "  print(\"Calcul du TF-IDF des fichiers\\n\")\n",
        "\n",
        "  if is_source_file:\n",
        "    tokenized_corpus = [sentence.split() for sentence in sentences]\n",
        "    max_idf = max(inverse_document_frequencies.values())\n",
        "    normalized_scores = {lemma: inverse_document_frequencies.get(lemma, 0) / max_idf for sentence in tokenized_corpus for lemma in sentence if lemma not in stopwords}\n",
        "\n",
        "  else:\n",
        "    normalized_scores = {}\n",
        "\n",
        "\n",
        "  return filename, sentences, form_sentences, embeddings, normalized_scores"
      ]
    },
    {
      "cell_type": "markdown",
      "source": [
        "Fonction sans les fichiers de sortie d'attention (prend beaucoup de RAM)"
      ],
      "metadata": {
        "id": "B1qXMP4MqAIQ"
      }
    },
    {
      "cell_type": "code",
      "source": [
        "def process_file_without_attention(filename, inverse_document_frequencies, is_source_file=True):\n",
        "\n",
        "  print(f'Lecture du fichier en cours : {filename}\\n')\n",
        "  tree = ET.parse(filename)\n",
        "  root = tree.getroot()\n",
        "  sentences = []\n",
        "  form_sentences = []\n",
        "  form_sentences_for_emb = []\n",
        "  tfidf_threshold=0.6\n",
        "\n",
        "  for sentence in root.iter('sentence'):\n",
        "    forms_for_emb = []\n",
        "    forms = []\n",
        "    lemmas = []\n",
        "    for word in sentence.iter('word'):\n",
        "        lemma = word.get('lemma')\n",
        "        form = word.get('form')\n",
        "        if lemma is not None:\n",
        "            lemma = preprocess_text(lemma)\n",
        "            lemma = ''.join(remove_diacritics(char) for char in lemma)\n",
        "            lemmas.append(lemma)\n",
        "            forms.append(form)\n",
        "            form = ''.join(remove_diacritics(char) for char in form)\n",
        "            forms_for_emb.append(form)\n",
        "\n",
        "    if len(lemmas)==0:\n",
        "      print(\"potentielle phrase vide\")\n",
        "\n",
        "    form_sentences_for_emb.append(' '.join(forms_for_emb))\n",
        "    form_sentences.append(' '.join(forms))\n",
        "    sentences.append(' '.join(lemmas))\n",
        "\n",
        "  embeddings = []\n",
        "  batch_size = 32\n",
        "  attention_info = []\n",
        "\n",
        "  print(\"Calcul des embeddings en cours (sans attention)\\n\")\n",
        "\n",
        "  for i in range(0, len(sentences), batch_size):\n",
        "    batch_sentences = form_sentences_for_emb[i:i+batch_size]\n",
        "    inputs = tokeniser(batch_sentences, return_tensors=\"pt\", padding=True, truncation=True, max_length=512)\n",
        "    inputs = inputs.to(model.device)\n",
        "    with torch.no_grad():\n",
        "      outputs = model(**inputs, output_attentions=True)\n",
        "    embeddings.extend(outputs[0].mean(dim=1).cpu().numpy())\n",
        "\n",
        "    del inputs\n",
        "    del outputs\n",
        "    torch.cuda.empty_cache()\n",
        "\n",
        "  print(\"Calcul du TF-IDF des fichiers\\n\")\n",
        "\n",
        "  if is_source_file:\n",
        "    tokenized_corpus = [sentence.split() for sentence in sentences]\n",
        "    max_idf = max(inverse_document_frequencies.values())\n",
        "    normalized_scores = {lemma: inverse_document_frequencies.get(lemma, 0) / max_idf for sentence in tokenized_corpus for lemma in sentence if lemma not in stopwords}\n",
        "\n",
        "  else:\n",
        "    normalized_scores = {}\n",
        "\n",
        "\n",
        "  return filename, sentences, form_sentences, embeddings, normalized_scores"
      ],
      "metadata": {
        "id": "ZG5L7-CAnbqY"
      },
      "execution_count": null,
      "outputs": []
    },
    {
      "cell_type": "markdown",
      "metadata": {
        "id": "h_w3DE_HoPZy"
      },
      "source": [
        "**FAITH OPTIMIZED**\n",
        "<br>Calcul de similarité des vecteurs avec faiss, et constitution du score de similarité global"
      ]
    },
    {
      "cell_type": "code",
      "execution_count": null,
      "metadata": {
        "id": "gtoNX-jIoIRz"
      },
      "outputs": [],
      "source": [
        "import faiss\n",
        "import numpy as np\n",
        "\n",
        "def compare_files(data1, data2):\n",
        "    filename1, sentences1, form_sentences1, embeddings1, normalized_scores1 = data1\n",
        "    filename2, sentences2, form_sentences2, embeddings2, normalized_scores2 = data2\n",
        "\n",
        "    print(f'Files {filename1} and {filename2} are being compared\\n')\n",
        "    print('Calcul de similarité des embeddings avec faiss en cours\\n')\n",
        "\n",
        "\n",
        "    embeddings1 = np.array(embeddings1)\n",
        "    embeddings2 = np.array(embeddings2)\n",
        "\n",
        "    faiss.normalize_L2(embeddings1)\n",
        "    faiss.normalize_L2(embeddings2)\n",
        "\n",
        "    index = faiss.IndexFlatIP(embeddings2.shape[1])   # IP = Inner Product\n",
        "    index.add(embeddings2)\n",
        "\n",
        "    _, indices = index.search(embeddings1, 1)\n",
        "\n",
        "    sentence_pairs_and_scores = [(sentence1, sentences2[i], cosine_similarity([emb1], [embeddings2[i]])[0, 0])\n",
        "                             for emb1, sentence1, i in zip(embeddings1, sentences1, indices.flatten())]\n",
        "\n",
        "    sentence_pairs_and_scores.sort(key=lambda x: x[2], reverse=True)\n",
        "\n",
        "    del embeddings1\n",
        "    del embeddings2\n",
        "    gc.collect()\n",
        "    del index\n",
        "    gc.collect()\n",
        "\n",
        "    print('Calcul du score de similarité\\n')\n",
        "\n",
        "    global_similarity_scores = []\n",
        "    tfidf_threshold = 0.7\n",
        "    pushup_score = 0.1\n",
        "    for sentence1, sentence2, cosine_similarity_score in sentence_pairs_and_scores:\n",
        "        form_sentence1 = form_sentences1[sentences1.index(sentence1)]\n",
        "        form_sentence2 = form_sentences2[sentences2.index(sentence2)]\n",
        "        common_lemmas = set(sentence1.split()).intersection(set(sentence2.split())) - set(stopwords)\n",
        "        common_lemmas_count = len(common_lemmas)\n",
        "        common_tfidf_scores_sentences1 = [(lemma, normalized_scores1.get(lemma, 0)) for lemma in common_lemmas]\n",
        "\n",
        "        max_tfidf_score_sentences1 = max(score for _, score in common_tfidf_scores_sentences1) if common_tfidf_scores_sentences1 else 0\n",
        "\n",
        "        if len(sentence1.split()) < 4 and max_tfidf_score_sentences1 > tfidf_threshold:\n",
        "            global_similarity_score = (cosine_similarity_score + max_tfidf_score_sentences1)/2\n",
        "        elif max_tfidf_score_sentences1 > tfidf_threshold:\n",
        "            jw_similarity_score = jaro_winkler_similarity(sentence1, sentence2, stopwords)\n",
        "            if common_lemmas_count > 1:\n",
        "              global_similarity_score = ((cosine_similarity_score + jw_similarity_score*common_lemmas_count + max_tfidf_score_sentences1) / (2 + common_lemmas_count))+pushup_score\n",
        "            else:\n",
        "              global_similarity_score = (cosine_similarity_score + jw_similarity_score+ max_tfidf_score_sentences1) / 3\n",
        "        else:\n",
        "            global_similarity_score = cosine_similarity_score-0.1\n",
        "\n",
        "        global_similarity_scores.append((form_sentence1, form_sentence2, global_similarity_score, common_lemmas))\n",
        "\n",
        "    global_similarity_scores.sort(key=lambda x: x[2], reverse=True)\n",
        "\n",
        "    similarity_scores = [score for _, _, score, _ in global_similarity_scores]\n",
        "    similarity_mean = sum(similarity_scores) / len(similarity_scores)\n",
        "\n",
        "    return filename1, filename2, similarity_mean, global_similarity_scores\n"
      ]
    },
    {
      "cell_type": "markdown",
      "source": [
        "Appel des fonctions de prétraitement et de TF-IDF"
      ],
      "metadata": {
        "id": "vnJgZcyAvpcb"
      }
    },
    {
      "cell_type": "code",
      "execution_count": null,
      "metadata": {
        "id": "zjjcoTis3Q_5",
        "colab": {
          "base_uri": "https://localhost:8080/"
        },
        "outputId": "566f43df-08ff-4209-a7d0-aba245672cca"
      },
      "outputs": [
        {
          "output_type": "stream",
          "name": "stdout",
          "text": [
            "Reading the whole corpus for TF-IDF\n",
            "File being processed for TF-IDF : /content/treebank_data/v2.1/Greek/texts/tlg0543.tlg001.perseus-grc1.tb.xml\n",
            "File being processed for TF-IDF : /content/treebank_data/v2.1/Greek/texts/tlg0016.tlg001.perseus-grc1.1.tb.xml\n",
            "File being processed for TF-IDF : /content/treebank_data/v2.1/Greek/texts/tlg0540.tlg001.perseus-grc1.tb.xml\n",
            "File being processed for TF-IDF : /content/treebank_data/v2.1/Greek/texts/tlg0012.tlg001.perseus-grc1.tb.xml\n",
            "File being processed for TF-IDF : /content/treebank_data/v2.1/Greek/texts/tlg0007.tlg015.perseus-grc1.tb.xml\n",
            "File being processed for TF-IDF : /content/treebank_data/v2.1/Greek/texts/tlg0012.tlg002.perseus-grc1.tb.xml\n",
            "File being processed for TF-IDF : /content/treebank_data/v2.1/Greek/texts/tlg0007.tlg004.perseus-grc1.tb.xml\n",
            "File being processed for TF-IDF : /content/treebank_data/v2.1/Greek/texts/tlg0096.tlg002.opp-grc2.1-53.tb.xml\n",
            "File being processed for TF-IDF : /content/treebank_data/v2.1/Greek/texts/tlg0003.tlg001.perseus-grc1.1.tb.xml\n",
            "File being processed for TF-IDF : /content/treebank_data/v2.1/Greek/texts/tlg0540.tlg015.perseus-grc1.tb.xml\n",
            "File being processed for TF-IDF : /content/treebank_data/v2.1/Greek/texts/tlg0548.tlg001.perseus-grc1.1.1.1-1.4.1.tb.xml\n",
            "File being processed for TF-IDF : /content/treebank_data/v2.1/Greek/texts/tlg0013.tlg002.perseus-grc1.tb.xml\n",
            "File being processed for TF-IDF : /content/treebank_data/v2.1/Greek/texts/tlg0540.tlg023.perseus-grc1.tb.xml\n",
            "File being processed for TF-IDF : /content/treebank_data/v2.1/Greek/texts/tlg0060.tlg001.perseus-grc3.11.tb.xml\n",
            "File being processed for TF-IDF : /content/treebank_data/v2.1/Greek/texts/tlg0059.tlg001.perseus-grc1.tb.xml\n",
            "File being processed for TF-IDF : /content/treebank_data/v2.1/Greek/texts/tlg0020.tlg002.perseus-grc1.tb.xml\n",
            "File being processed for TF-IDF : /content/treebank_data/v2.1/Greek/texts/tlg0008.tlg001.perseus-grc1.12.tb.xml\n",
            "File being processed for TF-IDF : /content/treebank_data/v2.1/Greek/texts/tlg0020.tlg001.perseus-grc1.tb.xml\n",
            "File being processed for TF-IDF : /content/treebank_data/v2.1/Greek/texts/tlg0540.tlg014.perseus-grc1.tb.xml\n",
            "File being processed for TF-IDF : /content/treebank_data/v2.1/Greek/texts/tlg0020.tlg003.perseus-grc1.tb.xml\n",
            "File being processed for TF-IDF : /content/treebank_data/v2.1/Greek/texts/tlg0008.tlg001.perseus-grc1.13.tb.xml\n"
          ]
        }
      ],
      "source": [
        "source_dir = glob.glob('/content/treebank_data/v2.1/Greek/texts/*.xml')\n",
        "target_dir = glob.glob('/content/treebank_data/v2.1/Latin/texts/*.xml')\n",
        "\n",
        "# Identification des étiquettes source et cibles\n",
        "source_tags = [\"tlg0003\"]\n",
        "target_tags = [\"phi0631\", \"phi1348\", \"phi1351\"]  # Ajoutez d'autres étiquettes si nécessaire\n",
        "\n",
        "# Division des fichiers en source et cible basés sur les étiquettes dans leurs noms\n",
        "source_files = [file for file in source_dir if any(tag in file for tag in source_tags)]\n",
        "target_files = [file for file in target_dir if any(tag in file for tag in target_tags)]\n",
        "\n",
        "inverse_document_frequencies = read_all(source_dir)\n",
        "\n",
        "with open('/content/tfidf.pkl', 'wb') as fichier:\n",
        "    # utiliser pickle.dump pour sauvegarder la variable dans le fichier\n",
        "    pickle.dump(inverse_document_frequencies, fichier)\n"
      ]
    },
    {
      "cell_type": "markdown",
      "source": [
        "Appel des fonctions de création des embeddings et des graphes d'attention"
      ],
      "metadata": {
        "id": "7UXwd-tjvvs4"
      }
    },
    {
      "cell_type": "code",
      "source": [
        "source_data = [process_file_without_attention(file, inverse_document_frequencies, True) for file in source_files]\n",
        "target_data = [process_file_without_attention(file, inverse_document_frequencies, False) for file in target_files]\n",
        "\n",
        "\n",
        "with open('/content/source_data.pkl', 'wb') as fichier:\n",
        "    # utiliser pickle.dump pour sauvegarder la variable dans le fichier\n",
        "    pickle.dump(source_data, fichier)\n",
        "\n",
        "with open('/content/target_data.pkl', 'wb') as fichier:\n",
        "    # utiliser pickle.dump pour sauvegarder la variable dans le fichier\n",
        "    pickle.dump(target_data, fichier)"
      ],
      "metadata": {
        "id": "8wDxH6p5OC0i",
        "colab": {
          "base_uri": "https://localhost:8080/"
        },
        "outputId": "688fb10a-bf0d-4236-fc4d-47e0e6354f90"
      },
      "execution_count": null,
      "outputs": [
        {
          "output_type": "stream",
          "name": "stdout",
          "text": [
            "Lecture du fichier en cours : /content/treebank_data/v2.1/Greek/texts/tlg0003.tlg001.perseus-grc1.1.tb.xml\n",
            "\n",
            "Calcul des embeddings en cours (sans attention)\n",
            "\n",
            "Calcul du TF-IDF des fichiers\n",
            "\n",
            "Lecture du fichier en cours : /content/treebank_data/v2.1/Latin/texts/phi0631.phi001.perseus-lat1.tb.xml\n",
            "\n",
            "Calcul des embeddings en cours (sans attention)\n",
            "\n",
            "Calcul du TF-IDF des fichiers\n",
            "\n",
            "Lecture du fichier en cours : /content/treebank_data/v2.1/Latin/texts/phi1348.abo012.perseus-lat1.tb.xml\n",
            "\n",
            "Calcul des embeddings en cours (sans attention)\n",
            "\n",
            "Calcul du TF-IDF des fichiers\n",
            "\n",
            "Lecture du fichier en cours : /content/treebank_data/v2.1/Latin/texts/phi1351.phi005.perseus-lat1.tb.xml\n",
            "\n",
            "Calcul des embeddings en cours (sans attention)\n",
            "\n",
            "Calcul du TF-IDF des fichiers\n",
            "\n"
          ]
        }
      ]
    },
    {
      "cell_type": "markdown",
      "source": [
        "Appel des fonction de comparaison des textes, avec scores de similarité"
      ],
      "metadata": {
        "id": "9wHJWZLEv2HI"
      }
    },
    {
      "cell_type": "code",
      "execution_count": null,
      "metadata": {
        "id": "VhuxUBbXkE37",
        "colab": {
          "base_uri": "https://localhost:8080/"
        },
        "outputId": "0b4e7658-c7aa-4ac1-b213-3b080570257f"
      },
      "outputs": [
        {
          "output_type": "stream",
          "name": "stdout",
          "text": [
            "Files /content/treebank_data/v2.1/Greek/texts/tlg0003.tlg001.perseus-grc1.1.tb.xml and /content/treebank_data/v2.1/Latin/texts/phi0631.phi001.perseus-lat1.tb.xml are being compared\n",
            "\n",
            "Calcul de similarité des embeddings avec faiss en cours\n",
            "\n",
            "Calcul du score de similarité\n",
            "\n",
            "Files /content/treebank_data/v2.1/Greek/texts/tlg0003.tlg001.perseus-grc1.1.tb.xml and /content/treebank_data/v2.1/Latin/texts/phi1348.abo012.perseus-lat1.tb.xml are being compared\n",
            "\n",
            "Calcul de similarité des embeddings avec faiss en cours\n",
            "\n",
            "Calcul du score de similarité\n",
            "\n",
            "Files /content/treebank_data/v2.1/Greek/texts/tlg0003.tlg001.perseus-grc1.1.tb.xml and /content/treebank_data/v2.1/Latin/texts/phi1351.phi005.perseus-lat1.tb.xml are being compared\n",
            "\n",
            "Calcul de similarité des embeddings avec faiss en cours\n",
            "\n",
            "Calcul du score de similarité\n",
            "\n"
          ]
        }
      ],
      "source": [
        "# Maintenant, on compare chaque fichier source à chaque fichier cible\n",
        "file_similarity_scores = []\n",
        "\n",
        "for data1, data2 in product(source_data, target_data):\n",
        "    score_info=compare_files(data1, data2)\n",
        "    file_similarity_scores.append(score_info)"
      ]
    },
    {
      "cell_type": "markdown",
      "source": [
        "Sauvegarde des scores"
      ],
      "metadata": {
        "id": "vHKXHx0hv8L2"
      }
    },
    {
      "cell_type": "code",
      "execution_count": null,
      "metadata": {
        "id": "kPix4js4l5q0"
      },
      "outputs": [],
      "source": [
        "with open('/content/unsorted_similarity_score.pkl', 'wb') as fichier:\n",
        "    # utiliser pickle.dump pour sauvegarder la variable dans le fichier\n",
        "    pickle.dump(file_similarity_scores, fichier)"
      ]
    },
    {
      "cell_type": "markdown",
      "source": [
        "Vérification des scores"
      ],
      "metadata": {
        "id": "FHX3uDjev_HV"
      }
    },
    {
      "cell_type": "code",
      "execution_count": null,
      "metadata": {
        "id": "wgcjn_svvQvZ",
        "colab": {
          "base_uri": "https://localhost:8080/"
        },
        "outputId": "30d0b8a2-54de-459c-efb2-721e248a8a16"
      },
      "outputs": [
        {
          "output_type": "stream",
          "name": "stdout",
          "text": [
            "Aucun fichier n'a de score de comparaison à zéro.\n"
          ]
        }
      ],
      "source": [
        "files_with_zero_score = []\n",
        "\n",
        "for filename1, filename2, max_score, score in file_similarity_scores:\n",
        "    if max_score == 0:\n",
        "        files_with_zero_score.append((filename1, filename2))\n",
        "\n",
        "if len(files_with_zero_score) > 0:\n",
        "    print(\"Les fichiers suivants ont des scores de comparaison à zéro, quelque chose ne va pas :\")\n",
        "    for filename1, filename2 in files_with_zero_score:\n",
        "        print(f\"- {filename1} et {filename2}\")\n",
        "else:\n",
        "    print(\"Aucun fichier n'a de score de comparaison à zéro.\")\n"
      ]
    },
    {
      "cell_type": "markdown",
      "source": [
        "Fonction de création d'une carte de chaleur de similarité globale"
      ],
      "metadata": {
        "id": "px5jwZ3cwD7I"
      }
    },
    {
      "cell_type": "code",
      "source": [
        "import os\n",
        "import numpy as np\n",
        "import seaborn as sns\n",
        "import matplotlib.pyplot as plt\n",
        "\n",
        "def create_heatmap(source_files, target_files, file_similarity_scores):\n",
        "    # Créer un dictionnaire pour stocker les scores de similarité par fichier source\n",
        "    similarity_scores_by_source = {}\n",
        "\n",
        "    # Parcourir les scores de similarité pour chaque paire de fichiers\n",
        "    for filename1, filename2, max_score, _ in file_similarity_scores:\n",
        "        # Vérifier si le fichier source existe dans le dictionnaire\n",
        "        if filename1 not in similarity_scores_by_source:\n",
        "            similarity_scores_by_source[filename1] = []\n",
        "\n",
        "        # Ajouter le score de similarité à la liste correspondante\n",
        "        similarity_scores_by_source[filename1].append((filename2, max_score))\n",
        "\n",
        "    # Trier les scores de similarité par ordre décroissant pour chaque fichier source\n",
        "    for filename in similarity_scores_by_source:\n",
        "        similarity_scores_by_source[filename].sort(key=lambda x: x[1], reverse=True)\n",
        "\n",
        "    # Parcourir les fichiers source et créer une heatmap pour chaque fichier\n",
        "    for source_file in source_files:\n",
        "        # Récupérer les scores de similarité triés pour le fichier source\n",
        "        sorted_scores = similarity_scores_by_source[source_file]\n",
        "\n",
        "        # Obtenir les étiquettes des fichiers cibles en utilisant os.path.basename\n",
        "        target_labels = [os.path.basename(filename2) for filename2, _ in sorted_scores]\n",
        "\n",
        "        source_file_basename = os.path.basename(source_file)\n",
        "\n",
        "        # Créer la heatmap pour le fichier source\n",
        "        plt.figure(figsize=(8, 6))\n",
        "        sns.heatmap([[score] for _, score in sorted_scores], xticklabels=['Similarity Score'], yticklabels=[os.path.basename(filename2) for filename2, _ in sorted_scores], cmap=\"YlGnBu\", cbar_kws={'label': 'Similarity Score'}, square=True, annot=True, fmt=\".2f\", linewidths=0.5, linecolor='lightgray', annot_kws={\"fontsize\": 8}, cbar=True, cbar_ax=None, ax=None)\n",
        "        plt.title(f'Similarity Heatmap for {source_file_basename}')\n",
        "        plt.ylabel('Target Files')\n",
        "        plt.show()\n"
      ],
      "metadata": {
        "id": "D_aQT1c3AtVe"
      },
      "execution_count": null,
      "outputs": []
    },
    {
      "cell_type": "markdown",
      "source": [
        "Appel de la fonction de création de carte de chaleur"
      ],
      "metadata": {
        "id": "dwxGFY8dwKfK"
      }
    },
    {
      "cell_type": "code",
      "execution_count": null,
      "metadata": {
        "id": "UtXEjePg1apf",
        "colab": {
          "base_uri": "https://localhost:8080/",
          "height": 545
        },
        "outputId": "5ffa1e5a-a6b8-48f6-eb5a-d237fc95f04e"
      },
      "outputs": [
        {
          "output_type": "display_data",
          "data": {
            "text/plain": [
              "<Figure size 800x600 with 2 Axes>"
            ],
            "image/png": "[encoded data removed]"
          },
          "metadata": {}
        }
      ],
      "source": [
        "create_heatmap(source_files, target_files, file_similarity_scores)"
      ]
    },
    {
      "cell_type": "markdown",
      "source": [
        "Création d'une DataFrame interrogeable"
      ],
      "metadata": {
        "id": "tp9VFQT3wRhb"
      }
    },
    {
      "cell_type": "code",
      "source": [
        "import pandas as pd\n",
        "\n",
        "# Créer une liste pour stocker les données des phrases similaires\n",
        "similar_sentences_data = []\n",
        "\n",
        "# Parcourir la liste des objets score_info\n",
        "for score_info in file_similarity_scores:\n",
        "    source_file = score_info[0]\n",
        "    target_file = score_info[1]\n",
        "    average_score = score_info[2]\n",
        "    sentences_data = score_info[3]\n",
        "\n",
        "    # Parcourir les données des phrases similaires\n",
        "    for sentence_data in sentences_data:\n",
        "        source_sentence = sentence_data[0]\n",
        "        target_sentence = sentence_data[1]\n",
        "        similarity_score = sentence_data[2]\n",
        "        common_lemmas = sentence_data[3]\n",
        "\n",
        "        # Ajouter les données à la liste des phrases similaires\n",
        "        similar_sentences_data.append({\n",
        "            'Source File': source_file,\n",
        "            'Target File': target_file,\n",
        "            'Average Score': average_score,\n",
        "            'Source Sentence': source_sentence,\n",
        "            'Target Sentence': target_sentence,\n",
        "            'Similarity Score': similarity_score,\n",
        "            'Common Lemmas': common_lemmas\n",
        "        })\n",
        "\n",
        "# Créer un DataFrame à partir des données des phrases similaires\n",
        "similar_sentences_df = pd.DataFrame(similar_sentences_data)\n"
      ],
      "metadata": {
        "id": "-ZTSM8bh33a7"
      },
      "execution_count": null,
      "outputs": []
    },
    {
      "cell_type": "markdown",
      "source": [
        "Impression généraliste de la DataFrame"
      ],
      "metadata": {
        "id": "ACTRmqxhwX9-"
      }
    },
    {
      "cell_type": "code",
      "source": [
        "for filename1, filename2, max_score, score_info in file_similarity_scores:\n",
        "    print(f\"Similarity scores for {filename1} and {filename2}:\")\n",
        "    top_scores = sorted(score_info, key=lambda x: x[2], reverse=True)[:10]\n",
        "    for sentence1, sentence2, score, common_lemmas in top_scores:\n",
        "        print(f\"Sentence 1: {sentence1}\")\n",
        "        print(f\"Sentence 2: {sentence2}\")\n",
        "        print(f\"Similarity Score: {score}\")\n",
        "        print(f\"Common Lemmas: {common_lemmas}\")\n",
        "        print()\n"
      ],
      "metadata": {
        "colab": {
          "base_uri": "https://localhost:8080/"
        },
        "id": "2yGo92kiCfKL",
        "outputId": "fd5d67e0-8ea9-4e73-e9af-360762b11f5f"
      },
      "execution_count": null,
      "outputs": [
        {
          "output_type": "stream",
          "name": "stdout",
          "text": [
            "Similarity scores for /content/treebank_data/v2.1/Greek/texts/tlg0003.tlg001.perseus-grc1.1.tb.xml and /content/treebank_data/v2.1/Latin/texts/phi0631.phi001.perseus-lat1.tb.xml:\n",
            "Sentence 1: ἤδη δὲ ἦν ὀψὲ καὶ ἐπεπαιάνιστο αὐτοῖς ὡς ἐς ἐπίπλουν , καὶ οἱ Κορίνθιοι ἐξαπίνης πρύμναν ἐκρούοντο κατιδόντες εἴκοσι ναῦς Ἀθηναίων προσπλεούσας , ἃς ὕστερον τῶν δέκα βοηθοὺς ἐξέπεμψαν οἱ Ἀθηναῖοι , δείσαντες , ὅπερ ἐγένετο , μὴ νικηθῶσιν οἱ Κερκυραῖοι καὶ αἱ σφέτεραι δέκα νῆες ὀλίγαι ἀμύνειν ὦσιν .\n",
            "Sentence 2: nam postquam Cn . Pompeio et M . Crasso consulibus tribunicia postestas restituta est , homines adulescentes summam potestatem nacti , quibus aetas que animus ferox erat , coepere senatum criminando plebem exagitare , dein largiundo atque pollicitando magis incendere , ita ipsi clari que potentes fieri .\n",
            "Similarity Score: 0.8939817786216736\n",
            "Common Lemmas: set()\n",
            "\n",
            "Sentence 1: καὶ ὅτῳ τάδε ξυμφέροντα μὲν δοκεῖ λέγεσθαι , φοβεῖται δὲ μὴ δἰ αὐτὰ πειθόμενος τὰς σπονδὰς λύσῃ , γνώτω τὸ μὲν δεδιὸς αὐτοῦ ἰσχὺν ἔχον τοὺς ἐναντίους μᾶλλον φοβῆσον , τὸ δὲ θαρσοῦν μὴ δεξαμένου ἀσθενὲς ὂν πρὸς ἰσχύοντας τοὺς ἐχθροὺς ἀδεέστερον ἐσόμενον , καὶ ἅμα οὐ περὶ τῆς Κερκύρας νῦν τὸ πλέον ἢ καὶ τῶν Ἀθηνῶν βουλευόμενος , καὶ οὐ τὰ κράτιστα αὐταῖς προνοῶν , ὅταν ἐς τὸν μέλλοντα καὶ ὅσον οὐ παρόντα πόλεμον τὸ αὐτίκα περισκοπῶν ἐνδοιάζῃ χωρίον προσλαβεῖν ὃ μετὰ μεγίστων καιρῶν οἰκειοῦταί τε καὶ πολεμοῦται . βουλευόμενος περί\n",
            "Sentence 2: Quare ego ita censeo , quom nefario consilio sceleratorum civium res publica in maxuma pericula venerit , que ii indicio T . Volturci et legatorum Allobrogum convicti que confessi sint caedem , incendia que alia se foeda atque crudelia facinora in civis que patriam paravisse , de confessis , sicuti de manufestis rerum capitalium , more maiorum supplicium sumundum . '\n",
            "Similarity Score: 0.893729293346405\n",
            "Common Lemmas: set()\n",
            "\n",
            "Sentence 1: τῶν δὲ Ἀθηναίων ἔτυχε γὰρ πρεσβεία πρότερον ἐν τῇ Λακεδαίμονι περὶ ἄλλων παροῦσα , καὶ ὡς ᾔσθοντο τῶν λόγων , ἔδοξεν αὐτοῖς παριτητέα ἐς τοὺς Λακεδαιμονίους εἶναι , τῶν μὲν ἐγκλημάτων πέρι μηδὲν ἀπολογησομένους ὧν αἱ πόλεις ἐνεκάλουν , δηλῶσαι δὲ περὶ τοῦ παντὸς ὡς οὐ ταχέως αὐτοῖς βουλευτέον εἴη , ἀλλ̓ ἐν πλέονι σκεπτέον .\n",
            "Sentence 2: ibi multa ipse secum volvens , quod que ne insidiae consuli procedebant et ab incendio intellegebat urbem vigiliis munitam , optumum factu credens exercitum augere ac , prius quam legiones scriberentur , multa antecapere , quae bello usui forent , nocte intempesta cum paucis in Manliana castra profectus est .\n",
            "Similarity Score: 0.8936658143997193\n",
            "Common Lemmas: set()\n",
            "\n",
            "Sentence 1: δύο γὰρ ἅμαξαι ἐναντίαι ἀλλήλαις τοὺς λίθους ἐπῆγον .\n",
            "Sentence 2: quippe secundae res sapientium animos fatigant :\n",
            "Similarity Score: 0.8935873150825501\n",
            "Common Lemmas: set()\n",
            "\n",
            "Sentence 1: Ἀθηναῖοι δὲ ἀκούσαντες ἀμφοτέρων , γενομένης καὶ δὶς ἐκκλησίας , τῇ μὲν προτέρᾳ οὐχ ἧσσον τῶν Κορινθίων ἀπεδέξαντο τοὺς λόγους , ἐν δὲ τῇ ὑστεραίᾳ μετέγνωσαν Κερκυραίοις ξυμμαχίαν μὲν μὴ ποιήσασθαι ὥστε τοὺς αὐτοὺς ἐχθροὺς καὶ φίλους νομίζειν ( εἰ γὰρ ἐπὶ Κόρινθον ἐκέλευον σφίσιν οἱ Κερκυραῖοι ξυμπλεῖν , ἐλύοντ̓ ἂν αὐτοῖς αἱ πρὸς Πελοποννησίους σπονδαι ) , ἐπιμαχίαν δ̓ ἐποιήσαντο τῇ ἀλλήλων βοηθεῖν , ἐάν τις ἐπὶ Κέρκυραν ἴῃ ἢ Ἀθήνας ἢ τοὺς τούτων ξυμμάχους .\n",
            "Sentence 2: At Romae Lentulus cum ceteris , qui principes coniurationis erant , paratis ut videbatur magnis copiis constituerant , uti , quom Catilina in agrum Aefulanum cum exercitu venisset , L . Bestia tribunus plebis contione habita quereretur de actionibus Ciceronis que belli gravissumi invidiam optumo consuli inponeret :\n",
            "Similarity Score: 0.893561327457428\n",
            "Common Lemmas: set()\n",
            "\n",
            "Sentence 1: τὴν δὲ ἀσφάλειαν εἶναι μηδένα ἐκβῆναι ἐκ τῆς νεὼς μέχρι πλοῦς γένηται ·\n",
            "Sentence 2: quam ob rem defensionem in novo consilio non statui parare :\n",
            "Similarity Score: 0.8934959411621094\n",
            "Common Lemmas: set()\n",
            "\n",
            "Sentence 1: τό τε γὰρ ξυμφέρον ἐν ᾧ ἄν τις ἐλάχιστα ἁμαρτάνῃ μάλιστα ἕπεται , καὶ τὸ μέλλον τοῦ πολέμου ᾧ φοβοῦντες ὑμᾶς Κερκυραῖοι κελεύουσιν ἀδικεῖν ἐν ἀφανεῖ ἔτι κεῖται , καὶ οὐκ ἄξιον ἐπαρθέντας αὐτῷ φανερὰν ἔχθραν ἤδη καὶ οὐ μέλλουσαν πρὸς Κορινθίους κτήσασθαι , τῆς δὲ ὑπαρχούσης πρότερον διὰ Μεγαρέας ὑποψίας σῶφρον ὑφελεῖν μᾶλλον ( ἡ γὰρ τελευταία χάρις καιρὸν ἔχουσα , κ- ἂν ἐλάσσων ᾖ , δύναται μεῖζον ἔγκλημα λῦσαι ) , μηδ̓ ὅτι ναυτικοῦ ξυμμαχίαν μεγάλην διδόασι , τούτῳ ἐφέλκεσθαι · ἐστιν ἐστιν\n",
            "Sentence 2: Quare ego ita censeo , quom nefario consilio sceleratorum civium res publica in maxuma pericula venerit , que ii indicio T . Volturci et legatorum Allobrogum convicti que confessi sint caedem , incendia que alia se foeda atque crudelia facinora in civis que patriam paravisse , de confessis , sicuti de manufestis rerum capitalium , more maiorum supplicium sumundum . '\n",
            "Similarity Score: 0.8934871792793274\n",
            "Common Lemmas: set()\n",
            "\n",
            "Sentence 1: Βοιωτοί τε γὰρ οἱ νῦν ἑξηκοστῷ ἔτει μετὰ Ἰλίου ἅλωσιν ἐξ Ἄρνης ἀναστάντες ὑπὸ Θεσσαλῶν τὴν νῦν μὲν Βοιωτίαν , πρότερον δὲ Καδμηίδα γῆν καλουμένην ᾤκισαν ( ἦν δὲ αὐτῶν καὶ ἀποδασμὸς πρότερον ἐν τῇ γῇ ταύτῃ , ἀφ̓ ὧν καὶ ἐς Ἴλιον ἐστράτευσαν ) , Δωριῆς τε ὀγδοηκοστῷ ἔτει ξὺν Ἡρακλείδαις Πελοπόννησον ἔσχον . καλουμένην\n",
            "Sentence 2: At Romae Lentulus cum ceteris , qui principes coniurationis erant , paratis ut videbatur magnis copiis constituerant , uti , quom Catilina in agrum Aefulanum cum exercitu venisset , L . Bestia tribunus plebis contione habita quereretur de actionibus Ciceronis que belli gravissumi invidiam optumo consuli inponeret :\n",
            "Similarity Score: 0.8934449195861817\n",
            "Common Lemmas: set()\n",
            "\n",
            "Sentence 1: τόν τε γὰρ Μῆδον αὐτοὶ ἴσμεν ἐκ περάτων γῆς πρότερον ἐπὶ τὴν Πελοπόννησον ἐλθόντα ἢ τὰ παῤ ὑμῶν ἀξίως προαπαντῆσαι , καὶ νῦν τοὺς Ἀθηναίους οὐχ ἑκάς , ὥσπερ ἐκεῖνον , ἀλλ̓ ἐγγὺς ὄντας περιορᾶτε , καὶ ἀντὶ τοῦ ἐπελθεῖν αὐτοὶ ἀμύνεσθαι βούλεσθε μᾶλλον ἐπιόντας , καὶ ἐς τύχας πρὸς πολλῷ δυνατωτέρους ἀγωνιζόμενοι καταστῆναι , ἐπιστάμενοι καὶ τὸν βάρβαρον αὐτὸν περὶ αὑτῷ τὰ πλείω σφαλέντα , καὶ πρὸς αὐτοὺς τοὺς Ἀθηναίους πολλὰ ἡμᾶς ἤδη τοῖς ἁμαρτήμασιν αὐτῶν μᾶλλον ἢ τῇ ἀφ̓ ὑμῶν τιμωρίᾳ περιγεγενημένους , ἐπεὶ αἵ γε ὑμέτεραι ἐλπίδες ἤδη τινάς που καὶ ἀπαρασκεύους διὰ τὸ πιστεῦσαι ἔφθειραν .\n",
            "Sentence 2: sed ubi consulem ad tantum facinus inpellere nequeunt , ipsi singillatim circumeundo atque ementiundo , quae se ex Volturcio aut Allobrogibus audisse dicerent , magnam illi invidiam conflaverant , usque eo ut nonnulli equites Romani , qui praesidi causa cum telis erant circum aedem Concordiae , seu periculi magnitudine seu animi mobilitate inpulsi , quo studium suom in rem publicam clarius esset , egredienti ex senatu Caesari gladio minitarentur .\n",
            "Similarity Score: 0.8934304356575012\n",
            "Common Lemmas: set()\n",
            "\n",
            "Sentence 1: τοῦ τε χρόνου τὸν πλεῖστον μετὰ τὴν ναυμαχίαν ἐπεκράτουν τῆς θαλάσσης καὶ τοὺς τῶν Κορινθίων ξυμμάχους ἐπιπλέοντες ἔφθειρον , μέχρι οὗ Κορίνθιοι περιιόντι τῷ θέρει πέμψαντες ναῦς καὶ στρατιάν , ἐπεὶ σφῶν οἱ ξύμμαχοι ἐπόνουν , ἐστρατοπεδεύοντο ἐπὶ Ἀκτίῳ καὶ περὶ τὸ Χειμέριον τῆς Θεσπρωτίδος φυλακῆς ἕνεκα τῆς τε Λευκάδος καὶ τῶν ἄλλων πόλεων ὅσαι σφίσι φίλιαι ἦσαν .\n",
            "Sentence 2: At Romae Lentulus cum ceteris , qui principes coniurationis erant , paratis ut videbatur magnis copiis constituerant , uti , quom Catilina in agrum Aefulanum cum exercitu venisset , L . Bestia tribunus plebis contione habita quereretur de actionibus Ciceronis que belli gravissumi invidiam optumo consuli inponeret :\n",
            "Similarity Score: 0.8933705925941468\n",
            "Common Lemmas: set()\n",
            "\n",
            "Similarity scores for /content/treebank_data/v2.1/Greek/texts/tlg0003.tlg001.perseus-grc1.1.tb.xml and /content/treebank_data/v2.1/Latin/texts/phi1348.abo012.perseus-lat1.tb.xml:\n",
            "Sentence 1: τέλος δὲ ἀφικομένων τῶν τελευταίων πρέσβεων ἐκ Λακεδαίμονος , Ῥαμφίου τε καὶ Μελησίππου καὶ Ἀγησάνδρου , καὶ λεγόντων ἄλλο μὲν οὐδὲν ὧν πρότερον εἰώθεσαν , αὐτὰ δὲ τάδε ὅτι Λακεδαιμόνιοι βούλονται τὴν εἰρήνην εἶναι , εἴη δ̓ ἂν εἰ τοὺς Ἕλληνας αὐτονόμους ἀφεῖτε , ποιήσαντες ἐκκλησίαν οἱ Ἀθηναῖοι γνώμας σφίσιν αὐτοῖς προυτίθεσαν , καὶ ἐδόκει ἅπαξ περὶ ἁπάντων βουλευσαμένους ἀποκρίνασθαι .\n",
            "Sentence 2: nam ut senatus actis continetur , cum C. Laetorius , adulescens patricii generis , in deprecanda grauiore adulterii poena praeter aetatem atque natales hoc quoque patribus conscriptis allegaret , esse possessorem ac uelut aedituum soli , quod primum Diuus Augustus nascens attigisset , peteret -que donari quasi proprio suo ac peculiari deo , decretum est ut ea pars domus consecraretur .\n",
            "Similarity Score: 0.8943997263908386\n",
            "Common Lemmas: set()\n",
            "\n",
            "Sentence 1: ὃς ἀφικόμενος κατὰ γῆν τούς τε Αἰγυπτίους καὶ τοὺς ξυμμάχους μάχῃ ἐκράτησε καὶ ἐκ τῆς Μέμφιδος ἐξήλασε τοὺς Ἕλληνας καὶ τέλος ἐς Προσωπίτιδα τὴν νῆσον κατέκλῃσε καὶ ἐπολιόρκει ἐν αὐτῇ ἐνιαυτὸν καὶ ἓξ μῆνας , μέχρι οὗ ξηράνας τὴν διώρυχα καὶ παρατρέψας ἄλλῃ τὸ ὕδωρ τάς τε ναῦς ἐπὶ τοῦ ξηροῦ ἐποίησε καὶ τῆς νήσου τὰ πολλὰ ἤπειρον , καὶ διαβὰς εἷλε τὴν νῆσον πεζῇ . ἐποίησε\n",
            "Sentence 2: magna uero quondam sterilitate ac difficili remedio cum uenalicias et lanistarum familias peregrinos -que omnes exceptis medicis et praeceptoribus partim -que seruitiorum urbe expulisset , ut tandem annona conualuit , impetum se cepisse scribit frumentationes publicas in perpetuum abolendi , quod earum fiducia cultura agrorum cessaret :\n",
            "Similarity Score: 0.8941993355751038\n",
            "Common Lemmas: set()\n",
            "\n",
            "Sentence 1: ὁ δὲ ἀκούσας ἀνίστησί τε αὐτὸν μετὰ τοῦ ἑαυτοῦ υἱέος , ὥσπερ καὶ ἔχων αὐτὸν ἐκαθέζετο , καὶ μέγιστον ἦν ἱκέτευμα τοῦτο , καὶ ὕστερον οὐ πολλῷ τοῖς τε Λακεδαιμονίοις καὶ Ἀθηναίοις ἐλθοῦσι καὶ πολλὰ εἰποῦσιν οὐκ ἐκδίδωσιν , ἀλλ̓ ἀποστέλλει βουλόμενον ὡς βασιλέα πορευθῆναι ἐπὶ τὴν ἑτέραν θάλασσαν πεζῇ ἐς Πύδναν τὴν Ἀλεξάνδρου .\n",
            "Sentence 2: nam histrionum licentiam adeo compescuit , ut Stephanionem togatarium , cui in puerilem habitum circumtonsam matronam ministrasse compererat , per trina theatra uirgis caesum relegauerit , Hylan pantomimum querente praetore in atrio domus suae nemine excluso flagellis uerberarit et Pyladen urbe atque Italia summouerit , quod spectatorem , a quo exibilabatur , demonstrasset digito conspicuum -que fecisset .\n",
            "Similarity Score: 0.8940972924232483\n",
            "Common Lemmas: set()\n",
            "\n",
            "Sentence 1: Βοιωτοί τε γὰρ οἱ νῦν ἑξηκοστῷ ἔτει μετὰ Ἰλίου ἅλωσιν ἐξ Ἄρνης ἀναστάντες ὑπὸ Θεσσαλῶν τὴν νῦν μὲν Βοιωτίαν , πρότερον δὲ Καδμηίδα γῆν καλουμένην ᾤκισαν ( ἦν δὲ αὐτῶν καὶ ἀποδασμὸς πρότερον ἐν τῇ γῇ ταύτῃ , ἀφ̓ ὧν καὶ ἐς Ἴλιον ἐστράτευσαν ) , Δωριῆς τε ὀγδοηκοστῷ ἔτει ξὺν Ἡρακλείδαις Πελοπόννησον ἔσχον . καλουμένην\n",
            "Sentence 2: nam ut senatus actis continetur , cum C. Laetorius , adulescens patricii generis , in deprecanda grauiore adulterii poena praeter aetatem atque natales hoc quoque patribus conscriptis allegaret , esse possessorem ac uelut aedituum soli , quod primum Diuus Augustus nascens attigisset , peteret -que donari quasi proprio suo ac peculiari deo , decretum est ut ea pars domus consecraretur .\n",
            "Similarity Score: 0.8939550161361695\n",
            "Common Lemmas: set()\n",
            "\n",
            "Sentence 1: τῶν δὲ Σαμίων ἦσαν γάρ τινες οἳ οὐχ ὑπέμειναν , ἀλλ̓ ἔφυγον ἐς τὴν ἤπειρον , ξυνθέμενοι τῶν ἐν τῇ πόλει τοῖς δυνατωτάτοις καὶ Πισσούθνῃ τῷ Ὑστάσπου ξυμμαχίαν , ὃς εἶχε Σάρδεις τότε , ἐπικούρους τε ξυλλέξαντες ἐς ἑπτακοσίους διέβησαν ὑπὸ νύκτα ἐς τὴν Σάμον , καὶ πρῶτον μὲν τῷ δήμῳ ἐπανέστησαν καὶ ἐκράτησαν τῶν πλείστων , ἔπειτα τοὺς ὁμήρους ἐκκλέψαντες ἐκ Λήμνου τοὺς αὑτῶν ἀπέστησαν , καὶ τοὺς φρουροὺς τοὺς Ἀθηναίων καὶ τοὺς ἄρχοντας οἳ ἦσαν παρὰ σφίσιν ἐξέδοσαν Πισσούθνῃ , ἐπί τε Μίλητον εὐθὺς παρεσκευάζοντο στρατεύειν .\n",
            "Sentence 2: nam histrionum licentiam adeo compescuit , ut Stephanionem togatarium , cui in puerilem habitum circumtonsam matronam ministrasse compererat , per trina theatra uirgis caesum relegauerit , Hylan pantomimum querente praetore in atrio domus suae nemine excluso flagellis uerberarit et Pyladen urbe atque Italia summouerit , quod spectatorem , a quo exibilabatur , demonstrasset digito conspicuum -que fecisset .\n",
            "Similarity Score: 0.8938336610794068\n",
            "Common Lemmas: set()\n",
            "\n",
            "Sentence 1: τό τε γὰρ ξυμφέρον ἐν ᾧ ἄν τις ἐλάχιστα ἁμαρτάνῃ μάλιστα ἕπεται , καὶ τὸ μέλλον τοῦ πολέμου ᾧ φοβοῦντες ὑμᾶς Κερκυραῖοι κελεύουσιν ἀδικεῖν ἐν ἀφανεῖ ἔτι κεῖται , καὶ οὐκ ἄξιον ἐπαρθέντας αὐτῷ φανερὰν ἔχθραν ἤδη καὶ οὐ μέλλουσαν πρὸς Κορινθίους κτήσασθαι , τῆς δὲ ὑπαρχούσης πρότερον διὰ Μεγαρέας ὑποψίας σῶφρον ὑφελεῖν μᾶλλον ( ἡ γὰρ τελευταία χάρις καιρὸν ἔχουσα , κ- ἂν ἐλάσσων ᾖ , δύναται μεῖζον ἔγκλημα λῦσαι ) , μηδ̓ ὅτι ναυτικοῦ ξυμμαχίαν μεγάλην διδόασι , τούτῳ ἐφέλκεσθαι · ἐστιν ἐστιν\n",
            "Sentence 2: nam ut senatus actis continetur , cum C. Laetorius , adulescens patricii generis , in deprecanda grauiore adulterii poena praeter aetatem atque natales hoc quoque patribus conscriptis allegaret , esse possessorem ac uelut aedituum soli , quod primum Diuus Augustus nascens attigisset , peteret -que donari quasi proprio suo ac peculiari deo , decretum est ut ea pars domus consecraretur .\n",
            "Similarity Score: 0.8938113689422608\n",
            "Common Lemmas: set()\n",
            "\n",
            "Sentence 1: Δίκαιον , ὦ Ἀθηναῖοι , τοὺς μήτε εὐεργεσίας μεγάλης μήτε ξυμμαχίας προυφειλομένης ἥκοντας παρὰ τοὺς πέλας ἐπικουρίας , ὥσπερ καὶ ἡμεῖς νῦν , δεησομένους ἀναδιδάξαι πρῶτον , μάλιστα μὲν ὡς καὶ ξύμφορα δέονται , εἰ δὲ μή , ὅτι γε οὐκ ἐπιζήμια , ἔπειτα δὲ ὡς καὶ τὴν χάριν βέβαιον ἕξουσιν · ἐστιν ἀναδιδάξαι ἐστιν ἐστιν\n",
            "Sentence 2: nam ut senatus actis continetur , cum C. Laetorius , adulescens patricii generis , in deprecanda grauiore adulterii poena praeter aetatem atque natales hoc quoque patribus conscriptis allegaret , esse possessorem ac uelut aedituum soli , quod primum Diuus Augustus nascens attigisset , peteret -que donari quasi proprio suo ac peculiari deo , decretum est ut ea pars domus consecraretur .\n",
            "Similarity Score: 0.8938080310821533\n",
            "Common Lemmas: set()\n",
            "\n",
            "Sentence 1: μάχῃ μὲν γὰρ μιᾷ πρὸς ἅπαντας Ἕλληνας δυνατοὶ Πελοποννήσιοι καὶ οἱ ξύμμαχοι ἀντισχεῖν , πολεμεῖν δὲ μὴ πρὸς ὁμοίαν ἀντιπαρασκευὴν ἀδύνατοι , ὅταν μήτε βουλευτηρίῳ ἑνὶ χρώμενοι παραχρῆμά τι ὀξέως ἐπιτελῶσι πάντες τε ἰσόψηφοι ὄντες καὶ οὐχ ὁμόφυλοι τὸ ἐφ̓ ἑαυτὸν ἕκαστος σπεύδῃ · εἰσιν\n",
            "Sentence 2: nam cum spectaculo ludorum gregarium militem in quattuordecim ordinibus sedentem excitari per apparitorem iussisset , rumore ab obtrectatoribus dilato quasi eundem mox et discruciatum necasset , minimum afuit quin periret concursu et indignatione turbae militaris .\n",
            "Similarity Score: 0.8937193989753723\n",
            "Common Lemmas: set()\n",
            "\n",
            "Sentence 1: οὐ μὴν οὐδὲ ἀναισθήτως αὐτοὺς κελεύω τούς τε ξυμμάχους ἡμῶν ἐᾶν βλάπτειν καὶ ἐπιβουλεύοντας μὴ καταφωρᾶν , ἀλλὰ ὅπλα μὲν μήπω κινεῖν , πέμπειν δὲ καὶ αἰτιᾶσθαι μήτε πόλεμον ἄγαν δηλοῦντας μήθ̓ ὡς ἐπιτρέψομεν , κ- ἀν τούτῳ καὶ τὰ ἡμέτεῤ αὐτῶν ἐξαρτύεσθαι ξυμμάχων τε προσαγωγῇ καὶ Ἑλλήνων καὶ βαρβάρων , εἴ ποθέν τινα ἢ ναυτικοῦ ἢ χρημάτων δύναμιν προσληψόμεθα ( ἀνεπίφθονον δέ , ὅσοι ὥσπερ καὶ ἡμεῖς ὑπ̓ Ἀθηναίων ἐπιβουλευόμεθα , μὴ Ἕλληνας μόνον , ἀλλὰ καὶ βαρβάρους προσλαβόντας διασωθῆναἰ ) , καὶ τὰ αὑτῶν ἅμα ἐκποριζώμεθα . ἐστιν ἐπιβουλευόμεθα\n",
            "Sentence 2: nam histrionum licentiam adeo compescuit , ut Stephanionem togatarium , cui in puerilem habitum circumtonsam matronam ministrasse compererat , per trina theatra uirgis caesum relegauerit , Hylan pantomimum querente praetore in atrio domus suae nemine excluso flagellis uerberarit et Pyladen urbe atque Italia summouerit , quod spectatorem , a quo exibilabatur , demonstrasset digito conspicuum -que fecisset .\n",
            "Similarity Score: 0.8936901926994324\n",
            "Common Lemmas: set()\n",
            "\n",
            "Sentence 1: τόν τε γὰρ Μῆδον αὐτοὶ ἴσμεν ἐκ περάτων γῆς πρότερον ἐπὶ τὴν Πελοπόννησον ἐλθόντα ἢ τὰ παῤ ὑμῶν ἀξίως προαπαντῆσαι , καὶ νῦν τοὺς Ἀθηναίους οὐχ ἑκάς , ὥσπερ ἐκεῖνον , ἀλλ̓ ἐγγὺς ὄντας περιορᾶτε , καὶ ἀντὶ τοῦ ἐπελθεῖν αὐτοὶ ἀμύνεσθαι βούλεσθε μᾶλλον ἐπιόντας , καὶ ἐς τύχας πρὸς πολλῷ δυνατωτέρους ἀγωνιζόμενοι καταστῆναι , ἐπιστάμενοι καὶ τὸν βάρβαρον αὐτὸν περὶ αὑτῷ τὰ πλείω σφαλέντα , καὶ πρὸς αὐτοὺς τοὺς Ἀθηναίους πολλὰ ἡμᾶς ἤδη τοῖς ἁμαρτήμασιν αὐτῶν μᾶλλον ἢ τῇ ἀφ̓ ὑμῶν τιμωρίᾳ περιγεγενημένους , ἐπεὶ αἵ γε ὑμέτεραι ἐλπίδες ἤδη τινάς που καὶ ἀπαρασκεύους διὰ τὸ πιστεῦσαι ἔφθειραν .\n",
            "Sentence 2: et Quintum Gallium praetorem , in officio salutationis tabellas duplices ueste tectas tenentem , suspicatus gladium occulere , nec quicquam statim , ne aliud inueniretur , ausus inquirere , paulo post per centuriones et milites raptum e tribunali seruilem in modum torsit ac fatentem nihil iussit occidi prius oculis eius sua manu effossis ;\n",
            "Similarity Score: 0.8936834573745728\n",
            "Common Lemmas: set()\n",
            "\n",
            "Similarity scores for /content/treebank_data/v2.1/Greek/texts/tlg0003.tlg001.perseus-grc1.1.tb.xml and /content/treebank_data/v2.1/Latin/texts/phi1351.phi005.perseus-lat1.tb.xml:\n",
            "Sentence 1: καὶ γὰρ ἀδικία πολλὴ κατηγορεῖτο αὐτοῦ ὑπὸ τῶν Ἑλλήνων τῶν ἀφικνουμένων , καὶ τυραννίδος μᾶλλον ἐφαίνετο μίμησις ἢ στρατηγία . ἐφαίνετο\n",
            "Sentence 2: plenum exiliis mare , infecti caedibus scopuli . fuit\n",
            "Similarity Score: 0.8941635131835938\n",
            "Common Lemmas: set()\n",
            "\n",
            "Sentence 1: ἐκ πολέμου μὲν γὰρ εἰρήνη μᾶλλον βεβαιοῦται , ἀφ̓ ἡσυχίας δὲ μὴ πολεμῆσαι οὐχ ὁμοίως ἀκίνδυνον . ἐστιν\n",
            "Sentence 2: plenum exiliis mare , infecti caedibus scopuli . fuit\n",
            "Similarity Score: 0.8931269884109497\n",
            "Common Lemmas: set()\n",
            "\n",
            "Sentence 1: ὃς ἀφικόμενος κατὰ γῆν τούς τε Αἰγυπτίους καὶ τοὺς ξυμμάχους μάχῃ ἐκράτησε καὶ ἐκ τῆς Μέμφιδος ἐξήλασε τοὺς Ἕλληνας καὶ τέλος ἐς Προσωπίτιδα τὴν νῆσον κατέκλῃσε καὶ ἐπολιόρκει ἐν αὐτῇ ἐνιαυτὸν καὶ ἓξ μῆνας , μέχρι οὗ ξηράνας τὴν διώρυχα καὶ παρατρέψας ἄλλῃ τὸ ὕδωρ τάς τε ναῦς ἐπὶ τοῦ ξηροῦ ἐποίησε καὶ τῆς νήσου τὰ πολλὰ ἤπειρον , καὶ διαβὰς εἷλε τὴν νῆσον πεζῇ . ἐποίησε\n",
            "Sentence 2: Miles urbanus longo Caesarum sacramento imbutus et ad destituendum Neronem arte magis et impulsu quam suo ingenio traductus , postquam neque dari donativum sub nomine Galbae promissum neque magnis meritis ac praemiis eundem in pace quem in bello locum praeventam -que gratiam intellegit apud principem a legionibus factum , pronus ad novas res scelere insuper Nymphidii Sabini praefecti imperium sibi molientis agitatur . esse traductus esse intellegit\n",
            "Similarity Score: 0.8930253624916077\n",
            "Common Lemmas: set()\n",
            "\n",
            "Sentence 1: οὔτε γὰρ ἐν πανηγύρεσι ταῖς κοιναῖς διδόντες γέρα τὰ νομιζόμενα οὔτε Κορινθίῳ ἀνδρὶ προκαταρχόμενοι τῶν ἱερῶν ὥσπερ αἱ ἄλλαι ἀποικίαι , περιφρονοῦντες δὲ αὐτοὺς καὶ χρημάτων δυνάμει ὄντες κατ̓ ἐκεῖνον τὸν χρόνον ὁμοῖα τοῖς Ἑλλήνων πλουσιωτάτοις καὶ τῇ ἐς πόλεμον παρασκευῇ δυνατώτεροι , ναυτικῷ δὲ καὶ πολὺ προύχειν ἔστιν ὅτε ἐπαιρόμενοι καὶ κατὰ τὴν Φαιάκων προενοίκησιν τῆς Κερκύρας κλέος ἐχόντων τὰ περὶ τὰς ναῦς ( ᾗ καὶ μᾶλλον ἐξηρτύοντο τὸ ναυτικὸν καὶ ἦσαν οὐκ ἀδύνατοι · τριήρεις γὰρ εἴκοσι καὶ ἑκατὸν ὑπῆρχον αὐτοῖς ὅτε ἤρχοντο πολεμεῖν ) , πάντων οὖν τούτων ἐγκλήματα ἔχοντες οἱ Κορίνθιοι ἔπεμπον ἐς τὴν Ἐπίδαμνον ἄσμενοι τὴν ὠφελίαν , οἰκήτορά τε τὸν βουλόμενον ἰέναι κελεύοντες καὶ Ἀμπρακιωτῶν καὶ Λευκαδίων καὶ ἑαυτῶν φρουρούς . εἶναι\n",
            "Sentence 2: Miles urbanus longo Caesarum sacramento imbutus et ad destituendum Neronem arte magis et impulsu quam suo ingenio traductus , postquam neque dari donativum sub nomine Galbae promissum neque magnis meritis ac praemiis eundem in pace quem in bello locum praeventam -que gratiam intellegit apud principem a legionibus factum , pronus ad novas res scelere insuper Nymphidii Sabini praefecti imperium sibi molientis agitatur . esse traductus esse intellegit\n",
            "Similarity Score: 0.8927698373794556\n",
            "Common Lemmas: set()\n",
            "\n",
            "Sentence 1: πᾶσα γὰρ ἡ Ἑλλὰς ἐσιδηροφόρει διὰ τὰς ἀφάρκτους τε οἰκήσεις καὶ οὐκ ἀσφαλεῖς παῤ ἀλλήλους ἐφόδους , καὶ ξυνήθη τὴν δίαιταν μεθ̓ ὅπλων ἐποιήσαντο ὥσπερ οἱ βάρβαροι . ἐποιήσαντο\n",
            "Sentence 2: namque Otho pueritiam incuriose , adulescentiam petulanter egerat , gratus Neroni aemulatione luxus . egerat\n",
            "Similarity Score: 0.8926109910011292\n",
            "Common Lemmas: set()\n",
            "\n",
            "Sentence 1: ὡς δ̓ οὐκ ἔπειθε , βουλόμενος τὰ ἐπὶ τούτοις παρασκευάζειν καὶ ὅπως τὰ ἔξωθεν ἕξει ὡς ἄριστα , ἔκπλουν ποιεῖται λαθὼν τὴν φυλακὴν τῶν Ἀθηναίων .\n",
            "Sentence 2: credo et rei publicae curam subisse , frustra a Nerone translatae si apud Othonem relinqueretur .\n",
            "Similarity Score: 0.8924505352973938\n",
            "Common Lemmas: set()\n",
            "\n",
            "Sentence 1: καὶ ὅτῳ τάδε ξυμφέροντα μὲν δοκεῖ λέγεσθαι , φοβεῖται δὲ μὴ δἰ αὐτὰ πειθόμενος τὰς σπονδὰς λύσῃ , γνώτω τὸ μὲν δεδιὸς αὐτοῦ ἰσχὺν ἔχον τοὺς ἐναντίους μᾶλλον φοβῆσον , τὸ δὲ θαρσοῦν μὴ δεξαμένου ἀσθενὲς ὂν πρὸς ἰσχύοντας τοὺς ἐχθροὺς ἀδεέστερον ἐσόμενον , καὶ ἅμα οὐ περὶ τῆς Κερκύρας νῦν τὸ πλέον ἢ καὶ τῶν Ἀθηνῶν βουλευόμενος , καὶ οὐ τὰ κράτιστα αὐταῖς προνοῶν , ὅταν ἐς τὸν μέλλοντα καὶ ὅσον οὐ παρόντα πόλεμον τὸ αὐτίκα περισκοπῶν ἐνδοιάζῃ χωρίον προσλαβεῖν ὃ μετὰ μεγίστων καιρῶν οἰκειοῦταί τε καὶ πολεμοῦται . βουλευόμενος περί\n",
            "Sentence 2: Miles urbanus longo Caesarum sacramento imbutus et ad destituendum Neronem arte magis et impulsu quam suo ingenio traductus , postquam neque dari donativum sub nomine Galbae promissum neque magnis meritis ac praemiis eundem in pace quem in bello locum praeventam -que gratiam intellegit apud principem a legionibus factum , pronus ad novas res scelere insuper Nymphidii Sabini praefecti imperium sibi molientis agitatur . esse traductus esse intellegit\n",
            "Similarity Score: 0.8923955202102661\n",
            "Common Lemmas: set()\n",
            "\n",
            "Sentence 1: τοὺς δὲ τὴν μεσόγειαν μᾶλλον καὶ μὴ ἐν πόρῳ κατῳκημένους εἰδέναι χρὴ ὅτι , τοῖς κάτω ἢν μὴ ἀμύνωσι , χαλεπωτέραν ἕξουσι τὴν κατακομιδὴν τῶν ὡραίων καὶ πάλιν ἀντίληψιν ὧν ἡ θάλασσα τῇ ἠπείρῳ δίδωσι , καὶ τῶν νῦν λεγομένων μὴ κακοὺς κριτὰς ὡς μὴ προσηκόντων εἶναι , προσδέχεσθαι δέ ποτε , εἰ τὰ κάτω πρόοιντο , κ- ἂν μέχρι σφῶν τὸ δεινὸν προελθεῖν , καὶ περὶ αὑτῶν οὐχ ἧσσον νῦν βουλεύεσθαι .\n",
            "Sentence 2: fuere qui crederent Capitonem ut avaritia et libidine foedum ac maculosum ita cogitatione rerum novarum abstinuisse , sed a legatis bellum suadentibus , postquam impellere nequiverint , crimen ac dolum ultro compositum , et Galbam mobilitate ingenii , an ne altius scrutaretur , quoquo modo acta , quia mutari non poterant , comprobasse . fuisse\n",
            "Similarity Score: 0.892331326007843\n",
            "Common Lemmas: set()\n",
            "\n",
            "Sentence 1: καὶ παριόντες ἄλλοι τε πολλοὶ ἔλεγον ἐπ̓ ἀμφότερα γιγνόμενοι ταῖς γνώμαις καὶ ὡς χρὴ πολεμεῖν καὶ ὡς μὴ ἐμπόδιον εἶναι τὸ ψήφισμα εἰρήνης , ἀλλὰ καθελεῖν , καὶ παρελθὼν Περικλῆς ὁ Ξανθίππου , ἀνὴρ κατ̓ ἐκεῖνον τὸν χρόνον πρῶτος Ἀθηναίων , λέγειν τε καὶ πράσσειν δυνατώτατος , παρῄνει τοιάδε . χρή\n",
            "Sentence 2: Ceterum antequam destinata componam , repetendum videtur qualis status urbis , quae mens exercituum , quis habitus provinciarum , quid in toto terrarum orbe validum , quid aegrum fuerit , ut non modo casus eventus -que rerum , qui plerumque fortuiti sunt , sed ratio etiam causae -que noscantur . fuerit fuerit fuerit fuerit\n",
            "Similarity Score: 0.8922464489936829\n",
            "Common Lemmas: set()\n",
            "\n",
            "Sentence 1: δυνατωτέρας δὲ γιγνομένης τῆς Ἑλλάδος καὶ τῶν χρημάτων τὴν κτῆσιν ἔτι μᾶλλον ἢ πρότερον ποιουμένης τὰ πολλὰ τυραννίδες ἐν ταῖς πόλεσι καθίσταντο , τῶν προσόδων μειζόνων γιγνομένων ( πρότερον δὲ ἦσαν ἐπὶ ῥητοῖς γέρασι πατρικαὶ βασιλεῖα ) , ναυτικά τε ἐξηρτύετο ἡ Ἑλλάς , καὶ τῆς θαλάσσης μᾶλλον ἀντείχοντο .\n",
            "Sentence 2: fuere qui crederent Capitonem ut avaritia et libidine foedum ac maculosum ita cogitatione rerum novarum abstinuisse , sed a legatis bellum suadentibus , postquam impellere nequiverint , crimen ac dolum ultro compositum , et Galbam mobilitate ingenii , an ne altius scrutaretur , quoquo modo acta , quia mutari non poterant , comprobasse . fuisse\n",
            "Similarity Score: 0.8922382235527039\n",
            "Common Lemmas: set()\n",
            "\n"
          ]
        }
      ]
    },
    {
      "cell_type": "markdown",
      "source": [
        "Graphe de Sankey"
      ],
      "metadata": {
        "id": "FJHtW2_6wdXV"
      }
    },
    {
      "cell_type": "code",
      "source": [
        "import plotly.graph_objects as go\n",
        "import os\n",
        "import itertools\n",
        "\n",
        "# Générez un ensemble de labels pour les phrases (par exemple 'A', 'B', 'C', etc.)\n",
        "import string\n",
        "phrase_labels = iter(''.join(chars) for chars in itertools.product(string.ascii_uppercase, repeat=2))\n",
        "\n",
        "# Préparez les données pour le diagramme Sankey\n",
        "sources = []\n",
        "targets = []\n",
        "values = []\n",
        "labels = []\n",
        "hovertexts = []\n",
        "\n",
        "legend_data = []\n",
        "\n",
        "for file_score_info in file_similarity_scores:\n",
        "    source_file, target_file, mean_score, global_similarity_scores = file_score_info\n",
        "\n",
        "    source_file = os.path.basename(source_file)\n",
        "    target_file = os.path.basename(target_file)\n",
        "\n",
        "    if source_file not in labels:\n",
        "        labels.append(source_file)\n",
        "\n",
        "    if target_file not in labels:\n",
        "        labels.append(target_file)\n",
        "\n",
        "    sources.append(labels.index(source_file))\n",
        "    targets.append(labels.index(target_file))\n",
        "    values.append(mean_score)\n",
        "\n",
        "    # Pour chaque paire de fichiers, prenez les trois phrases les plus similaires\n",
        "    for sentence1, sentence2, score, _ in global_similarity_scores[:3]:\n",
        "        phrase_label = next(phrase_labels)\n",
        "        labels.append(phrase_label)\n",
        "\n",
        "        sources.append(labels.index(source_file))\n",
        "        targets.append(labels.index(phrase_label))\n",
        "        values.append(score)\n",
        "\n",
        "        sources.append(labels.index(phrase_label))\n",
        "        targets.append(labels.index(target_file))\n",
        "        values.append(score)\n",
        "\n",
        "        hovertexts.append(f\"{source_file} -> {phrase_label}: {sentence1}\")\n",
        "        hovertexts.append(f\"{phrase_label} -> {target_file}: {sentence2}\")\n",
        "\n",
        "        legend_data.append((phrase_label, sentence1, sentence2))\n",
        "\n",
        "# Création de la légende\n",
        "legend = go.Table(header=dict(values=['Label', 'Source Sentence', 'Target Sentence']),\n",
        "                  cells=dict(values=[list(i) for i in zip(*legend_data)]))\n",
        "\n",
        "fig = go.Figure()\n",
        "\n",
        "fig.add_trace(go.Sankey(\n",
        "    node=dict(\n",
        "        pad=15,\n",
        "        thickness=20,\n",
        "        line=dict(color=\"black\", width=0.5),\n",
        "        label=labels,\n",
        "        color=\"blue\"\n",
        "    ),\n",
        "    link=dict(\n",
        "        source=sources,  # indices correspondant à labels, définissant les sources des liens\n",
        "        target=targets,  # indices correspondant à labels, définissant les cibles des liens\n",
        "        value=values  # valeur des liens\n",
        "    )))\n",
        "\n",
        "fig.update_layout(title_text=\"Sankey Diagram of Sentence Similarities\", font_size=10)\n",
        "fig.show()\n",
        "\n",
        "legend = go.Figure(data=[go.Table(header=dict(values=['Label', 'Source Sentence', 'Target Sentence']),\n",
        "                  cells=dict(values=[list(i) for i in zip(*legend_data)]))])\n",
        "legend.show()\n",
        "\n"
      ],
      "metadata": {
        "colab": {
          "base_uri": "https://localhost:8080/",
          "height": 1000
        },
        "id": "ROivqw7YChtS",
        "outputId": "ce75c20b-eb42-4f3c-dac3-7680bd4f372e"
      },
      "execution_count": null,
      "outputs": [
        {
          "output_type": "display_data",
          "data": {
            "text/html": [
              "<html>\n",
              "<head><meta charset=\"utf-8\" /></head>\n",
              "<body>\n",
              "    <div>            <script src=\"https://cdnjs.cloudflare.com/ajax/libs/mathjax/2.7.5/MathJax.js?config=TeX-AMS-MML_SVG\"></script><script type=\"text/javascript\">if (window.MathJax && window.MathJax.Hub && window.MathJax.Hub.Config) {window.MathJax.Hub.Config({SVG: {font: \"STIX-Web\"}});}</script>                <script type=\"text/javascript\">window.PlotlyConfig = {MathJaxConfig: 'local'};</script>\n",
              "        <script src=\"https://cdn.plot.ly/plotly-2.18.2.min.js\"></script>                <div id=\"e7e4130f-c98f-44d5-81e7-f633688cda7b\" class=\"plotly-graph-div\" style=\"height:525px; width:100%;\"></div>            <script type=\"text/javascript\">                                    window.PLOTLYENV=window.PLOTLYENV || {};                                    if (document.getElementById(\"e7e4130f-c98f-44d5-81e7-f633688cda7b\")) {                    Plotly.newPlot(                        \"e7e4130f-c98f-44d5-81e7-f633688cda7b\",                        [{\"link\":{\"source\":[0,0,2,0,3,0,4,0,0,6,0,7,0,8,0,0,10,0,11,0,12,0,0,14,0,15,0,16,0,0,18,0,19,0,20,0,0,22,0,23,0,24,0,0,26,0,27,0,28,0,0,30,0,31,0,32,0,0,34,0,35,0,36,0,0,38,0,39,0,40,0,0,42,0,43,0,44,0,0,46,0,47,0,48,49,49,50,49,51,49,52,49,49,53,49,54,49,55,49,49,56,49,57,49,58,49,49,59,49,60,49,61,49,49,62,49,63,49,64,49,49,65,49,66,49,67,49,49,68,49,69,49,70,49,49,71,49,72,49,73,49,49,74,49,75,49,76,49,49,77,49,78,49,79,49,49,80,49,81,49,82,49,49,83,49,84,49,85],\"target\":[1,2,1,3,1,4,1,5,6,5,7,5,8,5,9,10,9,11,9,12,9,13,14,13,15,13,16,13,17,18,17,19,17,20,17,21,22,21,23,21,24,21,25,26,25,27,25,28,25,29,30,29,31,29,32,29,33,34,33,35,33,36,33,37,38,37,39,37,40,37,41,42,41,43,41,44,41,45,46,45,47,45,48,45,1,50,1,51,1,52,1,5,53,5,54,5,55,5,9,56,9,57,9,58,9,13,59,13,60,13,61,13,17,62,17,63,17,64,17,21,65,21,66,21,67,21,25,68,25,69,25,70,25,29,71,29,72,29,73,29,33,74,33,75,33,76,33,37,77,37,78,37,79,37,41,80,41,81,41,82,41,45,83,45,84,45,85,45],\"value\":[0.6677150193799217,1.156310510635376,1.156310510635376,1.0901079604154453,1.0901079604154453,1.0766138711696491,1.0766138711696491,0.6558556166826748,1.0975444892173634,1.0975444892173634,1.0966649630790577,1.0966649630790577,1.0924295911317692,1.0924295911317692,0.6632506983986468,1.0715557614093647,1.0715557614093647,0.9252359469731649,0.9252359469731649,0.9237566788991293,0.9237566788991293,0.6652242182505367,1.1465475678443908,1.1465475678443908,1.103708732853383,1.103708732853383,1.103301672053896,1.103301672053896,0.6595520498180032,1.0599992636801017,1.0599992636801017,1.056803858673693,1.056803858673693,1.0451859150291694,1.0451859150291694,0.6677469666758569,1.1139871366123857,1.1139871366123857,1.0961214879279957,1.0961214879279957,1.0900442579513416,1.0900442579513416,0.6570295567509111,1.08880743176993,1.08880743176993,0.8519806675282617,0.8519806675282617,0.8519174071319401,0.8519174071319401,0.6668762355968525,1.0987081506973133,1.0987081506973133,1.0905719080692158,1.0905719080692158,0.9611381223428128,0.9611381223428128,0.6547806606191703,1.1346487820148468,1.1346487820148468,1.1023145325283707,1.1023145325283707,1.0941116342073307,1.0941116342073307,0.6558199717810889,1.1565505266189575,1.1565505266189575,1.1464260637760162,1.1464260637760162,1.0953410580922136,1.0953410580922136,0.6643656597198445,1.0966050604110584,1.0966050604110584,1.0901382544761524,1.0901382544761524,1.0742130854850636,1.0742130854850636,0.6609666277436934,1.0985019335275517,1.0985019335275517,1.0842553058391438,1.0842553058391438,1.058550900614382,1.058550900614382,0.6742103624699953,1.1346938635988784,1.1346938635988784,1.0961154678588734,1.0961154678588734,1.093289909673296,1.093289909673296,0.6640302135125917,1.1114294015011,1.1114294015011,1.1015631833797321,1.1015631833797321,1.070757693445803,1.070757693445803,0.6692300370524801,1.0973662117248402,1.0973662117248402,1.095533830833994,1.095533830833994,1.0907245257621632,1.0907245257621632,0.672797119150027,1.125867103052208,1.125867103052208,1.115368443989834,1.115368443989834,1.1105174667935074,1.1105174667935074,0.669005581495518,1.1109805387895115,1.1109805387895115,1.0939052978282795,1.0939052978282795,1.0869517752652988,1.0869517752652988,0.6766356258670498,1.1496093094348907,1.1496093094348907,1.0977698043156632,1.0977698043156632,1.0722367827059043,1.0722367827059043,0.6673750531422649,1.1328849911689758,1.1328849911689758,1.0918629148727284,1.0918629148727284,1.0909638384109364,1.0909638384109364,0.6744350079950875,1.1342468883677077,1.1342468883677077,1.098459688735567,1.098459688735567,1.0982168892150745,1.0982168892150745,0.6593159193607424,1.1485658407211303,1.1485658407211303,1.1461809545755386,1.1461809545755386,1.094820482445322,1.094820482445322,0.6626881101243753,1.1117048270802201,1.1117048270802201,1.1064504034619034,1.1064504034619034,1.1006567010408268,1.1006567010408268,0.6707866674425252,1.1008983382707462,1.1008983382707462,1.097795901609026,1.097795901609026,1.0942598262554035,1.0942598262554035,0.6676373307502517,1.1048335114246235,1.1048335114246235,1.0835455849934585,1.0835455849934585,1.057715392506243,1.057715392506243]},\"node\":{\"color\":\"blue\",\"label\":[\"tlg0012.tlg002.perseus-grc1.tb.xml\",\"tlg0011.tlg005.perseus-grc2.tb.xml\",\"AA\",\"AB\",\"AC\",\"tlg0085.tlg001.perseus-grc2.tb.xml\",\"AD\",\"AE\",\"AF\",\"tlg0011.tlg004.perseus-grc1.tb.xml\",\"AG\",\"AH\",\"AI\",\"tlg0085.tlg005.perseus-grc1.tb.xml\",\"AJ\",\"AK\",\"AL\",\"tlg0085.tlg002.perseus-grc2.tb.xml\",\"AM\",\"AN\",\"AO\",\"tlg0011.tlg003.perseus-grc1.tb.xml\",\"AP\",\"AQ\",\"AR\",\"tlg0085.tlg004.perseus-grc2.tb.xml\",\"AS\",\"AT\",\"AU\",\"tlg0011.tlg001.perseus-grc2.tb.xml\",\"AV\",\"AW\",\"AX\",\"tlg0085.tlg006.perseus-grc2.tb.xml\",\"AY\",\"AZ\",\"BA\",\"tlg0085.tlg007.perseus-grc1.tb.xml\",\"BB\",\"BC\",\"BD\",\"tlg0011.tlg002.perseus-grc2.tb.xml\",\"BE\",\"BF\",\"BG\",\"tlg0085.tlg003.perseus-grc2.tb.xml\",\"BH\",\"BI\",\"BJ\",\"tlg0012.tlg001.perseus-grc1.tb.xml\",\"BK\",\"BL\",\"BM\",\"BN\",\"BO\",\"BP\",\"BQ\",\"BR\",\"BS\",\"BT\",\"BU\",\"BV\",\"BW\",\"BX\",\"BY\",\"BZ\",\"CA\",\"CB\",\"CC\",\"CD\",\"CE\",\"CF\",\"CG\",\"CH\",\"CI\",\"CJ\",\"CK\",\"CL\",\"CM\",\"CN\",\"CO\",\"CP\",\"CQ\",\"CR\",\"CS\",\"CT\"],\"line\":{\"color\":\"black\",\"width\":0.5},\"pad\":15,\"thickness\":20},\"type\":\"sankey\"}],                        {\"template\":{\"data\":{\"histogram2dcontour\":[{\"type\":\"histogram2dcontour\",\"colorbar\":{\"outlinewidth\":0,\"ticks\":\"\"},\"colorscale\":[[0.0,\"#0d0887\"],[0.1111111111111111,\"#46039f\"],[0.2222222222222222,\"#7201a8\"],[0.3333333333333333,\"#9c179e\"],[0.4444444444444444,\"#bd3786\"],[0.5555555555555556,\"#d8576b\"],[0.6666666666666666,\"#ed7953\"],[0.7777777777777778,\"#fb9f3a\"],[0.8888888888888888,\"#fdca26\"],[1.0,\"#f0f921\"]]}],\"choropleth\":[{\"type\":\"choropleth\",\"colorbar\":{\"outlinewidth\":0,\"ticks\":\"\"}}],\"histogram2d\":[{\"type\":\"histogram2d\",\"colorbar\":{\"outlinewidth\":0,\"ticks\":\"\"},\"colorscale\":[[0.0,\"#0d0887\"],[0.1111111111111111,\"#46039f\"],[0.2222222222222222,\"#7201a8\"],[0.3333333333333333,\"#9c179e\"],[0.4444444444444444,\"#bd3786\"],[0.5555555555555556,\"#d8576b\"],[0.6666666666666666,\"#ed7953\"],[0.7777777777777778,\"#fb9f3a\"],[0.8888888888888888,\"#fdca26\"],[1.0,\"#f0f921\"]]}],\"heatmap\":[{\"type\":\"heatmap\",\"colorbar\":{\"outlinewidth\":0,\"ticks\":\"\"},\"colorscale\":[[0.0,\"#0d0887\"],[0.1111111111111111,\"#46039f\"],[0.2222222222222222,\"#7201a8\"],[0.3333333333333333,\"#9c179e\"],[0.4444444444444444,\"#bd3786\"],[0.5555555555555556,\"#d8576b\"],[0.6666666666666666,\"#ed7953\"],[0.7777777777777778,\"#fb9f3a\"],[0.8888888888888888,\"#fdca26\"],[1.0,\"#f0f921\"]]}],\"heatmapgl\":[{\"type\":\"heatmapgl\",\"colorbar\":{\"outlinewidth\":0,\"ticks\":\"\"},\"colorscale\":[[0.0,\"#0d0887\"],[0.1111111111111111,\"#46039f\"],[0.2222222222222222,\"#7201a8\"],[0.3333333333333333,\"#9c179e\"],[0.4444444444444444,\"#bd3786\"],[0.5555555555555556,\"#d8576b\"],[0.6666666666666666,\"#ed7953\"],[0.7777777777777778,\"#fb9f3a\"],[0.8888888888888888,\"#fdca26\"],[1.0,\"#f0f921\"]]}],\"contourcarpet\":[{\"type\":\"contourcarpet\",\"colorbar\":{\"outlinewidth\":0,\"ticks\":\"\"}}],\"contour\":[{\"type\":\"contour\",\"colorbar\":{\"outlinewidth\":0,\"ticks\":\"\"},\"colorscale\":[[0.0,\"#0d0887\"],[0.1111111111111111,\"#46039f\"],[0.2222222222222222,\"#7201a8\"],[0.3333333333333333,\"#9c179e\"],[0.4444444444444444,\"#bd3786\"],[0.5555555555555556,\"#d8576b\"],[0.6666666666666666,\"#ed7953\"],[0.7777777777777778,\"#fb9f3a\"],[0.8888888888888888,\"#fdca26\"],[1.0,\"#f0f921\"]]}],\"surface\":[{\"type\":\"surface\",\"colorbar\":{\"outlinewidth\":0,\"ticks\":\"\"},\"colorscale\":[[0.0,\"#0d0887\"],[0.1111111111111111,\"#46039f\"],[0.2222222222222222,\"#7201a8\"],[0.3333333333333333,\"#9c179e\"],[0.4444444444444444,\"#bd3786\"],[0.5555555555555556,\"#d8576b\"],[0.6666666666666666,\"#ed7953\"],[0.7777777777777778,\"#fb9f3a\"],[0.8888888888888888,\"#fdca26\"],[1.0,\"#f0f921\"]]}],\"mesh3d\":[{\"type\":\"mesh3d\",\"colorbar\":{\"outlinewidth\":0,\"ticks\":\"\"}}],\"scatter\":[{\"fillpattern\":{\"fillmode\":\"overlay\",\"size\":10,\"solidity\":0.2},\"type\":\"scatter\"}],\"parcoords\":[{\"type\":\"parcoords\",\"line\":{\"colorbar\":{\"outlinewidth\":0,\"ticks\":\"\"}}}],\"scatterpolargl\":[{\"type\":\"scatterpolargl\",\"marker\":{\"colorbar\":{\"outlinewidth\":0,\"ticks\":\"\"}}}],\"bar\":[{\"error_x\":{\"color\":\"#2a3f5f\"},\"error_y\":{\"color\":\"#2a3f5f\"},\"marker\":{\"line\":{\"color\":\"#E5ECF6\",\"width\":0.5},\"pattern\":{\"fillmode\":\"overlay\",\"size\":10,\"solidity\":0.2}},\"type\":\"bar\"}],\"scattergeo\":[{\"type\":\"scattergeo\",\"marker\":{\"colorbar\":{\"outlinewidth\":0,\"ticks\":\"\"}}}],\"scatterpolar\":[{\"type\":\"scatterpolar\",\"marker\":{\"colorbar\":{\"outlinewidth\":0,\"ticks\":\"\"}}}],\"histogram\":[{\"marker\":{\"pattern\":{\"fillmode\":\"overlay\",\"size\":10,\"solidity\":0.2}},\"type\":\"histogram\"}],\"scattergl\":[{\"type\":\"scattergl\",\"marker\":{\"colorbar\":{\"outlinewidth\":0,\"ticks\":\"\"}}}],\"scatter3d\":[{\"type\":\"scatter3d\",\"line\":{\"colorbar\":{\"outlinewidth\":0,\"ticks\":\"\"}},\"marker\":{\"colorbar\":{\"outlinewidth\":0,\"ticks\":\"\"}}}],\"scattermapbox\":[{\"type\":\"scattermapbox\",\"marker\":{\"colorbar\":{\"outlinewidth\":0,\"ticks\":\"\"}}}],\"scatterternary\":[{\"type\":\"scatterternary\",\"marker\":{\"colorbar\":{\"outlinewidth\":0,\"ticks\":\"\"}}}],\"scattercarpet\":[{\"type\":\"scattercarpet\",\"marker\":{\"colorbar\":{\"outlinewidth\":0,\"ticks\":\"\"}}}],\"carpet\":[{\"aaxis\":{\"endlinecolor\":\"#2a3f5f\",\"gridcolor\":\"white\",\"linecolor\":\"white\",\"minorgridcolor\":\"white\",\"startlinecolor\":\"#2a3f5f\"},\"baxis\":{\"endlinecolor\":\"#2a3f5f\",\"gridcolor\":\"white\",\"linecolor\":\"white\",\"minorgridcolor\":\"white\",\"startlinecolor\":\"#2a3f5f\"},\"type\":\"carpet\"}],\"table\":[{\"cells\":{\"fill\":{\"color\":\"#EBF0F8\"},\"line\":{\"color\":\"white\"}},\"header\":{\"fill\":{\"color\":\"#C8D4E3\"},\"line\":{\"color\":\"white\"}},\"type\":\"table\"}],\"barpolar\":[{\"marker\":{\"line\":{\"color\":\"#E5ECF6\",\"width\":0.5},\"pattern\":{\"fillmode\":\"overlay\",\"size\":10,\"solidity\":0.2}},\"type\":\"barpolar\"}],\"pie\":[{\"automargin\":true,\"type\":\"pie\"}]},\"layout\":{\"autotypenumbers\":\"strict\",\"colorway\":[\"#636efa\",\"#EF553B\",\"#00cc96\",\"#ab63fa\",\"#FFA15A\",\"#19d3f3\",\"#FF6692\",\"#B6E880\",\"#FF97FF\",\"#FECB52\"],\"font\":{\"color\":\"#2a3f5f\"},\"hovermode\":\"closest\",\"hoverlabel\":{\"align\":\"left\"},\"paper_bgcolor\":\"white\",\"plot_bgcolor\":\"#E5ECF6\",\"polar\":{\"bgcolor\":\"#E5ECF6\",\"angularaxis\":{\"gridcolor\":\"white\",\"linecolor\":\"white\",\"ticks\":\"\"},\"radialaxis\":{\"gridcolor\":\"white\",\"linecolor\":\"white\",\"ticks\":\"\"}},\"ternary\":{\"bgcolor\":\"#E5ECF6\",\"aaxis\":{\"gridcolor\":\"white\",\"linecolor\":\"white\",\"ticks\":\"\"},\"baxis\":{\"gridcolor\":\"white\",\"linecolor\":\"white\",\"ticks\":\"\"},\"caxis\":{\"gridcolor\":\"white\",\"linecolor\":\"white\",\"ticks\":\"\"}},\"coloraxis\":{\"colorbar\":{\"outlinewidth\":0,\"ticks\":\"\"}},\"colorscale\":{\"sequential\":[[0.0,\"#0d0887\"],[0.1111111111111111,\"#46039f\"],[0.2222222222222222,\"#7201a8\"],[0.3333333333333333,\"#9c179e\"],[0.4444444444444444,\"#bd3786\"],[0.5555555555555556,\"#d8576b\"],[0.6666666666666666,\"#ed7953\"],[0.7777777777777778,\"#fb9f3a\"],[0.8888888888888888,\"#fdca26\"],[1.0,\"#f0f921\"]],\"sequentialminus\":[[0.0,\"#0d0887\"],[0.1111111111111111,\"#46039f\"],[0.2222222222222222,\"#7201a8\"],[0.3333333333333333,\"#9c179e\"],[0.4444444444444444,\"#bd3786\"],[0.5555555555555556,\"#d8576b\"],[0.6666666666666666,\"#ed7953\"],[0.7777777777777778,\"#fb9f3a\"],[0.8888888888888888,\"#fdca26\"],[1.0,\"#f0f921\"]],\"diverging\":[[0,\"#8e0152\"],[0.1,\"#c51b7d\"],[0.2,\"#de77ae\"],[0.3,\"#f1b6da\"],[0.4,\"#fde0ef\"],[0.5,\"#f7f7f7\"],[0.6,\"#e6f5d0\"],[0.7,\"#b8e186\"],[0.8,\"#7fbc41\"],[0.9,\"#4d9221\"],[1,\"#276419\"]]},\"xaxis\":{\"gridcolor\":\"white\",\"linecolor\":\"white\",\"ticks\":\"\",\"title\":{\"standoff\":15},\"zerolinecolor\":\"white\",\"automargin\":true,\"zerolinewidth\":2},\"yaxis\":{\"gridcolor\":\"white\",\"linecolor\":\"white\",\"ticks\":\"\",\"title\":{\"standoff\":15},\"zerolinecolor\":\"white\",\"automargin\":true,\"zerolinewidth\":2},\"scene\":{\"xaxis\":{\"backgroundcolor\":\"#E5ECF6\",\"gridcolor\":\"white\",\"linecolor\":\"white\",\"showbackground\":true,\"ticks\":\"\",\"zerolinecolor\":\"white\",\"gridwidth\":2},\"yaxis\":{\"backgroundcolor\":\"#E5ECF6\",\"gridcolor\":\"white\",\"linecolor\":\"white\",\"showbackground\":true,\"ticks\":\"\",\"zerolinecolor\":\"white\",\"gridwidth\":2},\"zaxis\":{\"backgroundcolor\":\"#E5ECF6\",\"gridcolor\":\"white\",\"linecolor\":\"white\",\"showbackground\":true,\"ticks\":\"\",\"zerolinecolor\":\"white\",\"gridwidth\":2}},\"shapedefaults\":{\"line\":{\"color\":\"#2a3f5f\"}},\"annotationdefaults\":{\"arrowcolor\":\"#2a3f5f\",\"arrowhead\":0,\"arrowwidth\":1},\"geo\":{\"bgcolor\":\"white\",\"landcolor\":\"#E5ECF6\",\"subunitcolor\":\"white\",\"showland\":true,\"showlakes\":true,\"lakecolor\":\"white\"},\"title\":{\"x\":0.05},\"mapbox\":{\"style\":\"light\"}}},\"title\":{\"text\":\"Sankey Diagram of Sentence Similarities\"},\"font\":{\"size\":10}},                        {\"responsive\": true}                    ).then(function(){\n",
              "                            \n",
              "var gd = document.getElementById('e7e4130f-c98f-44d5-81e7-f633688cda7b');\n",
              "var x = new MutationObserver(function (mutations, observer) {{\n",
              "        var display = window.getComputedStyle(gd).display;\n",
              "        if (!display || display === 'none') {{\n",
              "            console.log([gd, 'removed!']);\n",
              "            Plotly.purge(gd);\n",
              "            observer.disconnect();\n",
              "        }}\n",
              "}});\n",
              "\n",
              "// Listen for the removal of the full notebook cells\n",
              "var notebookContainer = gd.closest('#notebook-container');\n",
              "if (notebookContainer) {{\n",
              "    x.observe(notebookContainer, {childList: true});\n",
              "}}\n",
              "\n",
              "// Listen for the clearing of the current output cell\n",
              "var outputEl = gd.closest('.output');\n",
              "if (outputEl) {{\n",
              "    x.observe(outputEl, {childList: true});\n",
              "}}\n",
              "\n",
              "                        })                };                            </script>        </div>\n",
              "</body>\n",
              "</html>"
            ]
          },
          "metadata": {}
        },
        {
          "output_type": "display_data",
          "data": {
            "text/html": [
              "<html>\n",
              "<head><meta charset=\"utf-8\" /></head>\n",
              "<body>\n",
              "    <div>            <script src=\"https://cdnjs.cloudflare.com/ajax/libs/mathjax/2.7.5/MathJax.js?config=TeX-AMS-MML_SVG\"></script><script type=\"text/javascript\">if (window.MathJax && window.MathJax.Hub && window.MathJax.Hub.Config) {window.MathJax.Hub.Config({SVG: {font: \"STIX-Web\"}});}</script>                <script type=\"text/javascript\">window.PlotlyConfig = {MathJaxConfig: 'local'};</script>\n",
              "        <script src=\"https://cdn.plot.ly/plotly-2.18.2.min.js\"></script>                <div id=\"82271029-8e04-4472-86cc-af5f714fce57\" class=\"plotly-graph-div\" style=\"height:525px; width:100%;\"></div>            <script type=\"text/javascript\">                                    window.PLOTLYENV=window.PLOTLYENV || {};                                    if (document.getElementById(\"82271029-8e04-4472-86cc-af5f714fce57\")) {                    Plotly.newPlot(                        \"82271029-8e04-4472-86cc-af5f714fce57\",                        [{\"cells\":{\"values\":[[\"AA\",\"AB\",\"AC\",\"AD\",\"AE\",\"AF\",\"AG\",\"AH\",\"AI\",\"AJ\",\"AK\",\"AL\",\"AM\",\"AN\",\"AO\",\"AP\",\"AQ\",\"AR\",\"AS\",\"AT\",\"AU\",\"AV\",\"AW\",\"AX\",\"AY\",\"AZ\",\"BA\",\"BB\",\"BC\",\"BD\",\"BE\",\"BF\",\"BG\",\"BH\",\"BI\",\"BJ\",\"BK\",\"BL\",\"BM\",\"BN\",\"BO\",\"BP\",\"BQ\",\"BR\",\"BS\",\"BT\",\"BU\",\"BV\",\"BW\",\"BX\",\"BY\",\"BZ\",\"CA\",\"CB\",\"CC\",\"CD\",\"CE\",\"CF\",\"CG\",\"CH\",\"CI\",\"CJ\",\"CK\",\"CL\",\"CM\",\"CN\",\"CO\",\"CP\",\"CQ\",\"CR\",\"CS\",\"CT\"],[\"\\u03b2\\u03bf\\u03c5\\u03bb\\u03bf\\u03af\\u03bc\\u03b7\\u03bd \\u03b4\\u0313 \\u1f02\\u03bd \\u1f10\\u03b3\\u03ce \\u03b3\\u03b5 \\u03ba\\u03b1\\u1f76 \\u1f04\\u03bb\\u03b3\\u03b5\\u03b1 \\u03c0\\u03bf\\u03bb\\u03bb\\u1f70 \\u03bc\\u03bf\\u03b3\\u03ae\\u03c3\\u03b1\\u03c2 \\u03bf\\u1f34\\u03ba\\u03b1\\u03b4\\u03ad \\u03c4\\u0313 \\u1f10\\u03bb\\u03b8\\u03ad\\u03bc\\u03b5\\u03bd\\u03b1\\u03b9 \\u03ba\\u03b1\\u1f76 \\u03bd\\u03cc\\u03c3\\u03c4\\u03b9\\u03bc\\u03bf\\u03bd \\u1f26\\u03bc\\u03b1\\u03c1 \\u1f30\\u03b4\\u03ad\\u03c3\\u03b8\\u03b1\\u03b9 , \\u1f22 \\u1f10\\u03bb\\u03b8\\u1f7c\\u03bd \\u1f00\\u03c0\\u03bf\\u03bb\\u03ad\\u03c3\\u03b8\\u03b1\\u03b9 \\u1f10\\u03c6\\u03ad\\u03c3\\u03c4\\u03b9\\u03bf\\u03c2 , \\u1f61\\u03c2 \\u1f08\\u03b3\\u03b1\\u03bc\\u03ad\\u03bc\\u03bd\\u03c9\\u03bd \\u1f64\\u03bb\\u03b5\\u03b8\\u0313 \\u1f51\\u03c0\\u0313 \\u0391\\u1f30\\u03b3\\u03af\\u03c3\\u03b8\\u03bf\\u03b9\\u03bf \\u03b4\\u03cc\\u03bb\\u1ff3 \\u03ba\\u03b1\\u1f76 \\u1f27\\u03c2 \\u1f00\\u03bb\\u03cc\\u03c7\\u03bf\\u03b9\\u03bf .\",\"\\u03b1\\u1f34\\u03b8\\u0313 \\u1f44\\u03c6\\u03b5\\u03bb\\u03bf\\u03bd \\u03bc\\u03b5\\u1fd6\\u03bd\\u03b1\\u03b9 \\u03c0\\u03b1\\u03c1\\u1f70 \\u03a6\\u03b1\\u03b9\\u03ae\\u03ba\\u03b5\\u03c3\\u03c3\\u03b9\\u03bd \\u03b1\\u1f50\\u03c4\\u03bf\\u1fe6 \\u00b7\",\"\\u1f14\\u03bd\\u03b8\\u03b1 \\u03ba\\u03b5 \\u03b4\\u1f74 \\u03b4\\u03cd\\u03c3\\u03c4\\u03b7\\u03bd\\u03bf\\u03c2 \\u1f51\\u03c0\\u1f72\\u03c1 \\u03bc\\u03cc\\u03c1\\u03bf\\u03bd \\u1f64\\u03bb\\u03b5\\u03c4\\u0313 \\u1f48\\u03b4\\u03c5\\u03c3\\u03c3\\u03b5\\u03cd\\u03c2 , \\u03b5\\u1f30 \\u03bc\\u1f74 \\u1f10\\u03c0\\u03b9\\u03c6\\u03c1\\u03bf\\u03c3\\u03cd\\u03bd\\u03b7\\u03bd \\u03b4\\u1ff6\\u03ba\\u03b5 \\u03b3\\u03bb\\u03b1\\u03c5\\u03ba\\u1ff6\\u03c0\\u03b9\\u03c2 \\u1f08\\u03b8\\u03ae\\u03bd\\u03b7 .\",\"\\u1f63\\u03c2 \\u1f04\\u03c1\\u0313 \\u1f14\\u03c6\\u03b7 , \\u03ba\\u03b1\\u1f76 \\u03c0\\u03b5\\u1fd6\\u03c3\\u03bc\\u03b1 \\u03bd\\u03b5\\u1f78\\u03c2 \\u03ba\\u03c5\\u03b1\\u03bd\\u03bf\\u03c0\\u03c1\\u1ff4\\u03c1\\u03bf\\u03b9\\u03bf \\u03ba\\u03af\\u03bf\\u03bd\\u03bf\\u03c2 \\u1f10\\u03be\\u03ac\\u03c8\\u03b1\\u03c2 \\u03bc\\u03b5\\u03b3\\u03ac\\u03bb\\u03b7\\u03c2 \\u03c0\\u03b5\\u03c1\\u03af\\u03b2\\u03b1\\u03bb\\u03bb\\u03b5 \\u03b8\\u03cc\\u03bb\\u03bf\\u03b9\\u03bf , \\u1f51\\u03c8\\u03cc\\u03c3\\u0313 \\u1f10\\u03c0\\u03b5\\u03bd\\u03c4\\u03b1\\u03bd\\u03cd\\u03c3\\u03b1\\u03c2 , \\u03bc\\u03ae \\u03c4\\u03b9\\u03c2 \\u03c0\\u03bf\\u03c3\\u1f76\\u03bd \\u03bf\\u1f56\\u03b4\\u03b1\\u03c2 \\u1f35\\u03ba\\u03bf\\u03b9\\u03c4\\u03bf .\",\"\\u03b1\\u1f36\\u03c8\\u03b1 \\u03b3\\u1f70\\u03c1 \\u1f26\\u03bb\\u03b8\\u03b5 \\u03ba\\u03b5\\u03ba\\u03bb\\u03b7\\u03b3\\u1f7c\\u03c2 \\u0396\\u03ad\\u03c6\\u03c5\\u03c1\\u03bf\\u03c2 \\u03bc\\u03b5\\u03b3\\u03ac\\u03bb\\u1fc3 \\u03c3\\u1f7a\\u03bd \\u03bb\\u03b1\\u03af\\u03bb\\u03b1\\u03c0\\u03b9 \\u03b8\\u03cd\\u03c9\\u03bd , \\u1f31\\u03c3\\u03c4\\u03bf\\u1fe6 \\u03b4\\u1f72 \\u03c0\\u03c1\\u03bf\\u03c4\\u03cc\\u03bd\\u03bf\\u03c5\\u03c2 \\u1f14\\u03c1\\u03c1\\u03b7\\u03be\\u0313 \\u1f00\\u03bd\\u03ad\\u03bc\\u03bf\\u03b9\\u03bf \\u03b8\\u03cd\\u03b5\\u03bb\\u03bb\\u03b1 \\u1f00\\u03bc\\u03c6\\u03bf\\u03c4\\u03ad\\u03c1\\u03bf\\u03c5\\u03c2 \\u00b7\",\"\\u1f00\\u03bb\\u03bb\\u0313 \\u1f45\\u03c4\\u03b5 \\u03b4\\u1f74 \\u1f15\\u03b2\\u03b4\\u03bf\\u03bc\\u03bf\\u03bd \\u1f26\\u03bc\\u03b1\\u03c1 \\u1f10\\u03c0\\u1f76 \\u0396\\u03b5\\u1f7a\\u03c2 \\u03b8\\u1fc6\\u03ba\\u03b5 \\u039a\\u03c1\\u03bf\\u03bd\\u03af\\u03c9\\u03bd , \\u03ba\\u03b1\\u1f76 \\u03c4\\u03cc\\u03c4\\u0313 \\u1f14\\u03c0\\u03b5\\u03b9\\u03c4\\u0313 \\u1f04\\u03bd\\u03b5\\u03bc\\u03bf\\u03c2 \\u03bc\\u1f72\\u03bd \\u1f10\\u03c0\\u03b1\\u03cd\\u03c3\\u03b1\\u03c4\\u03bf \\u03bb\\u03b1\\u03af\\u03bb\\u03b1\\u03c0\\u03b9 \\u03b8\\u03cd\\u03c9\\u03bd , \\u1f21\\u03bc\\u03b5\\u1fd6\\u03c2 \\u03b4\\u0313 \\u03b1\\u1f36\\u03c8\\u0313 \\u1f00\\u03bd\\u03b1\\u03b2\\u03ac\\u03bd\\u03c4\\u03b5\\u03c2 \\u1f10\\u03bd\\u03ae\\u03ba\\u03b1\\u03bc\\u03b5\\u03bd \\u03b5\\u1f50\\u03c1\\u03ad\\u03b9 \\u03c0\\u03cc\\u03bd\\u03c4\\u1ff3 , \\u1f31\\u03c3\\u03c4\\u1f78\\u03bd \\u03c3\\u03c4\\u03b7\\u03c3\\u03ac\\u03bc\\u03b5\\u03bd\\u03bf\\u03b9 \\u1f00\\u03bd\\u03ac \\u03b8\\u0313 \\u1f31\\u03c3\\u03c4\\u03af\\u03b1 \\u03bb\\u03b5\\u03cd\\u03ba\\u0313 \\u1f10\\u03c1\\u03cd\\u03c3\\u03b1\\u03bd\\u03c4\\u03b5\\u03c2 .\",\"\\u1f14\\u03bd\\u03b8\\u03b1 \\u03ba\\u03b5 \\u03b4\\u1f74 \\u03b4\\u03cd\\u03c3\\u03c4\\u03b7\\u03bd\\u03bf\\u03c2 \\u1f51\\u03c0\\u1f72\\u03c1 \\u03bc\\u03cc\\u03c1\\u03bf\\u03bd \\u1f64\\u03bb\\u03b5\\u03c4\\u0313 \\u1f48\\u03b4\\u03c5\\u03c3\\u03c3\\u03b5\\u03cd\\u03c2 , \\u03b5\\u1f30 \\u03bc\\u1f74 \\u1f10\\u03c0\\u03b9\\u03c6\\u03c1\\u03bf\\u03c3\\u03cd\\u03bd\\u03b7\\u03bd \\u03b4\\u1ff6\\u03ba\\u03b5 \\u03b3\\u03bb\\u03b1\\u03c5\\u03ba\\u1ff6\\u03c0\\u03b9\\u03c2 \\u1f08\\u03b8\\u03ae\\u03bd\\u03b7 .\",\"\\u03b1\\u1f50\\u03c4\\u03af\\u03ba\\u03b1 \\u03b4\\u0313 \\u1f26\\u03bb\\u03b8\\u03b5 \\u03ba\\u03b1\\u03c4\\u1f70 \\u03c3\\u03c4\\u03cc\\u03bc\\u03b1 \\u03c6\\u03bf\\u03af\\u03bd\\u03b9\\u03bf\\u03bd \\u03b1\\u1f37\\u03bc\\u03b1 , \\u03ba\\u1f70\\u03b4 \\u03b4\\u0313 \\u1f14\\u03c0\\u03b5\\u03c3\\u0313 \\u1f10\\u03bd \\u03ba\\u03bf\\u03bd\\u03af\\u1fc3\\u03c3\\u03b9 \\u03bc\\u03b1\\u03ba\\u03ce\\u03bd , \\u03c3\\u1f7a\\u03bd \\u03b4\\u0313 \\u1f24\\u03bb\\u03b1\\u03c3\\u0313 \\u1f40\\u03b4\\u03cc\\u03bd\\u03c4\\u03b1\\u03c2 \\u03bb\\u03b1\\u03ba\\u03c4\\u03af\\u03b6\\u03c9\\u03bd \\u03c0\\u03bf\\u03c3\\u1f76 \\u03b3\\u03b1\\u1fd6\\u03b1\\u03bd \\u00b7\",\"\\u1f04\\u03bb\\u03bb\\u03b7\\u03bd \\u03b4\\u0313 \\u1f27\\u03bc\\u03b9\\u03bd \\u1f41\\u03b4\\u1f78\\u03bd \\u03c4\\u03b5\\u03ba\\u03bc\\u03ae\\u03c1\\u03b1\\u03c4\\u03bf \\u039a\\u03af\\u03c1\\u03ba\\u03b7 , \\u03b5\\u1f30\\u03c2 \\u1f08\\u03af\\u03b4\\u03b1\\u03bf \\u03b4\\u03cc\\u03bc\\u03bf\\u03c5\\u03c2 \\u03ba\\u03b1\\u1f76 \\u1f10\\u03c0\\u03b1\\u03b9\\u03bd\\u1fc6\\u03c2 \\u03a0\\u03b5\\u03c1\\u03c3\\u03b5\\u03c6\\u03bf\\u03bd\\u03b5\\u03af\\u03b7\\u03c2 \\u03c8\\u03c5\\u03c7\\u1fc7 \\u03c7\\u03c1\\u03b7\\u03c3\\u03bf\\u03bc\\u03ad\\u03bd\\u03bf\\u03c5\\u03c2 \\u0398\\u03b7\\u03b2\\u03b1\\u03af\\u03bf\\u03c5 \\u03a4\\u03b5\\u03b9\\u03c1\\u03b5\\u03c3\\u03af\\u03b1\\u03bf .\",\"\\u1f00\\u03bb\\u03bb\\u0313 \\u1f41\\u03c0\\u03cc\\u03c4\\u0313 \\u1f02\\u03bd \\u03b4\\u1f74 \\u03bd\\u03b7\\u1f76 \\u03b4\\u03b9\\u0313 \\u1f68\\u03ba\\u03b5\\u03b1\\u03bd\\u03bf\\u1fd6\\u03bf \\u03c0\\u03b5\\u03c1\\u03ae\\u03c3\\u1fc3\\u03c2 , \\u1f14\\u03bd\\u03b8\\u0313 \\u1f00\\u03ba\\u03c4\\u03ae \\u03c4\\u03b5 \\u03bb\\u03ac\\u03c7\\u03b5\\u03b9\\u03b1 \\u03ba\\u03b1\\u1f76 \\u1f04\\u03bb\\u03c3\\u03b5\\u03b1 \\u03a0\\u03b5\\u03c1\\u03c3\\u03b5\\u03c6\\u03bf\\u03bd\\u03b5\\u03af\\u03b7\\u03c2 , \\u03bc\\u03b1\\u03ba\\u03c1\\u03b1\\u03af \\u03c4\\u0313 \\u03b1\\u1f34\\u03b3\\u03b5\\u03b9\\u03c1\\u03bf\\u03b9 \\u03ba\\u03b1\\u1f76 \\u1f30\\u03c4\\u03ad\\u03b1\\u03b9 \\u1f60\\u03bb\\u03b5\\u03c3\\u03af\\u03ba\\u03b1\\u03c1\\u03c0\\u03bf\\u03b9 , \\u03bd\\u1fc6\\u03b1 \\u03bc\\u1f72\\u03bd \\u03b1\\u1f50\\u03c4\\u03bf\\u1fe6 \\u03ba\\u03ad\\u03bb\\u03c3\\u03b1\\u03b9 \\u1f10\\u03c0\\u0313 \\u1f68\\u03ba\\u03b5\\u03b1\\u03bd\\u1ff7 \\u03b2\\u03b1\\u03b8\\u03c5\\u03b4\\u03af\\u03bd\\u1fc3 , \\u03b1\\u1f50\\u03c4\\u1f78\\u03c2 \\u03b4\\u0313 \\u03b5\\u1f30\\u03c2 \\u1f08\\u03af\\u03b4\\u03b5\\u03c9 \\u1f30\\u03ad\\u03bd\\u03b1\\u03b9 \\u03b4\\u03cc\\u03bc\\u03bf\\u03bd \\u03b5\\u1f50\\u03c1\\u03ce\\u03b5\\u03bd\\u03c4\\u03b1 .\",\"\\u03c4\\u03cc\\u03c4\\u03b5 \\u03b3\\u03ac\\u03c1 \\u1fe5\\u03b1 \\u03ba\\u03c5\\u03bb\\u03af\\u03bd\\u03b4\\u03b5\\u03c4\\u03bf \\u03c0\\u03ae\\u03bc\\u03b1\\u03c4\\u03bf\\u03c2 \\u1f00\\u03c1\\u03c7\\u1f74 \\u03a4\\u03c1\\u03c9\\u03c3\\u03af \\u03c4\\u03b5 \\u03ba\\u03b1\\u1f76 \\u0394\\u03b1\\u03bd\\u03b1\\u03bf\\u1fd6\\u03c3\\u03b9 \\u0394\\u03b9\\u1f78\\u03c2 \\u03bc\\u03b5\\u03b3\\u03ac\\u03bb\\u03bf\\u03c5 \\u03b4\\u03b9\\u1f70 \\u03b2\\u03bf\\u03c5\\u03bb\\u03ac\\u03c2 .\",\"\\u1f41\\u03c0\\u03c0\\u03cc\\u03c4\\u03b5 \\u03ba\\u03b5\\u03bd \\u03b4\\u03ae \\u03c4\\u03bf\\u03b9 \\u03c3\\u03c5\\u03bc\\u03b2\\u03bb\\u03ae\\u03bc\\u03b5\\u03bd\\u03bf\\u03c2 \\u1f04\\u03bb\\u03bb\\u03bf\\u03c2 \\u1f41\\u03b4\\u03af\\u03c4\\u03b7\\u03c2 \\u03c6\\u03ae\\u1fc3 \\u1f00\\u03b8\\u03b7\\u03c1\\u03b7\\u03bb\\u03bf\\u03b9\\u03b3\\u1f78\\u03bd \\u1f14\\u03c7\\u03b5\\u03b9\\u03bd \\u1f00\\u03bd\\u1f70 \\u03c6\\u03b1\\u03b9\\u03b4\\u03af\\u03bc\\u1ff3 \\u1f64\\u03bc\\u1ff3 , \\u03ba\\u03b1\\u1f76 \\u03c4\\u03cc\\u03c4\\u03b5 \\u03b4\\u1f74 \\u03b3\\u03b1\\u03af\\u1fc3 \\u03c0\\u03ae\\u03be\\u03b1\\u03c2 \\u1f10\\u03c5\\u1fc6\\u03c1\\u03b5\\u03c2 \\u1f10\\u03c1\\u03b5\\u03c4\\u03bc\\u03cc\\u03bd , \\u1fe5\\u03ad\\u03be\\u03b1\\u03c2 \\u1f31\\u03b5\\u03c1\\u1f70 \\u03ba\\u03b1\\u03bb\\u1f70 \\u03a0\\u03bf\\u03c3\\u03b5\\u03b9\\u03b4\\u03ac\\u03c9\\u03bd\\u03b9 \\u1f04\\u03bd\\u03b1\\u03ba\\u03c4\\u03b9 , \\u1f00\\u03c1\\u03bd\\u03b5\\u03b9\\u1f78\\u03bd \\u03c4\\u03b1\\u1fe6\\u03c1\\u03cc\\u03bd \\u03c4\\u03b5 \\u03c3\\u03c5\\u1ff6\\u03bd \\u03c4\\u0313 \\u1f10\\u03c0\\u03b9\\u03b2\\u03ae\\u03c4\\u03bf\\u03c1\\u03b1 \\u03ba\\u03ac\\u03c0\\u03c1\\u03bf\\u03bd , \\u03bf\\u1f34\\u03ba\\u03b1\\u03b4\\u0313 \\u1f00\\u03c0\\u03bf\\u03c3\\u03c4\\u03b5\\u03af\\u03c7\\u03b5\\u03b9\\u03bd \\u1f14\\u03c1\\u03b4\\u03b5\\u03b9\\u03bd \\u03b8\\u0313 \\u1f31\\u03b5\\u03c1\\u1fb6\\u03c2 \\u1f11\\u03ba\\u03b1\\u03c4\\u03cc\\u03bc\\u03b2\\u03b1\\u03c2 \\u1f00\\u03b8\\u03b1\\u03bd\\u03ac\\u03c4\\u03bf\\u03b9\\u03c3\\u03b9 \\u03b8\\u03b5\\u03bf\\u1fd6\\u03c3\\u03b9 , \\u03c4\\u03bf\\u1f76 \\u03bf\\u1f50\\u03c1\\u03b1\\u03bd\\u1f78\\u03bd \\u03b5\\u1f50\\u03c1\\u1f7a\\u03bd \\u1f14\\u03c7\\u03bf\\u03c5\\u03c3\\u03b9 , \\u03c0\\u1fb6\\u03c3\\u03b9 \\u03bc\\u03ac\\u03bb\\u0313 \\u1f11\\u03be\\u03b5\\u03af\\u03b7\\u03c2 .\",\"\\u03c4\\u1f78 \\u03b4\\u0313 \\u03bf\\u1f50 \\u03b4\\u0313 \\u1f10\\u03c0\\u1f76 \\u03bd\\u1fc6\\u03b5\\u03c2 \\u1f10\\u1fd6\\u03c3\\u03b1\\u03b9 \\u1f60\\u03ba\\u03cd\\u03c0\\u03bf\\u03c1\\u03bf\\u03b9 \\u03c0\\u03b5\\u03c1\\u03cc\\u03c9\\u03c3\\u03b9\\u03bd , \\u1f00\\u03b3\\u03b1\\u03bb\\u03bb\\u03cc\\u03bc\\u03b5\\u03bd\\u03b1\\u03b9 \\u0394\\u03b9\\u1f78\\u03c2 \\u03bf\\u1f54\\u03c1\\u1ff3 .\",\"\\\" \\u03c4\\u03af\\u03c0\\u03c4\\u03b5 \\u03bc\\u03bf\\u03b9 , \\u1f19\\u03c1\\u03bc\\u03b5\\u03af\\u03b1 \\u03c7\\u03c1\\u03c5\\u03c3\\u03cc\\u03c1\\u03c1\\u03b1\\u03c0\\u03b9 , \\u03b5\\u1f30\\u03bb\\u03ae\\u03bb\\u03bf\\u03c5\\u03b8\\u03b1\\u03c2 \\u03b1\\u1f30\\u03b4\\u03bf\\u1fd6\\u03cc\\u03c2 \\u03c4\\u03b5 \\u03c6\\u03af\\u03bb\\u03bf\\u03c2 \\u03c4\\u03b5 ;\",\"\\u03c4\\u03b5\\u1fe6 \\u03b4\\u03ce\\u03bc\\u03b1\\u03b8\\u0313 \\u1f35\\u03ba\\u03c9\\u03bc\\u03b1\\u03b9 \\u1f00\\u03bd\\u03b4\\u03c1\\u1ff6\\u03bd \\u03bf\\u1f33 \\u03ba\\u03c1\\u03b1\\u03bd\\u03b1\\u1f74\\u03bd \\u1f38\\u03b8\\u03ac\\u03ba\\u03b7\\u03bd \\u03ba\\u03ac\\u03c4\\u03b1 \\u03ba\\u03bf\\u03b9\\u03c1\\u03b1\\u03bd\\u03ad\\u03bf\\u03c5\\u03c3\\u03b9\\u03bd ;\",\"\\u03c3\\u1f7a \\u03b4\\u03ad \\u03bc\\u03b5 \\u03c0\\u03c1\\u03bf\\u0390\\u03b5\\u03b9\\u03c2 \\u03ba\\u03b1\\u1f76 \\u03c0\\u03cc\\u03c4\\u03bd\\u03b9\\u03b1 \\u03bc\\u03ae\\u03c4\\u03b7\\u03c1 \\u1f10\\u03c2 \\u03c0\\u03b1\\u03c4\\u03ad\\u03c1\\u0313 \\u0391\\u1f50\\u03c4\\u03cc\\u03bb\\u03c5\\u03ba\\u03bf\\u03bd \\u03bc\\u03b7\\u03c4\\u03c1\\u1f78\\u03c2 \\u03c6\\u03af\\u03bb\\u03bf\\u03bd , \\u1f44\\u03c6\\u03c1\\u0313 \\u1f02\\u03bd \\u1f11\\u03bb\\u03bf\\u03af\\u03bc\\u03b7\\u03bd \\u03b4\\u1ff6\\u03c1\\u03b1 , \\u03c4\\u1f70 \\u03b4\\u03b5\\u1fe6\\u03c1\\u03bf \\u03bc\\u03bf\\u03bb\\u03ce\\u03bd \\u03bc\\u03bf\\u03b9 \\u1f51\\u03c0\\u03ad\\u03c3\\u03c7\\u03b5\\u03c4\\u03bf \\u03ba\\u03b1\\u1f76 \\u03ba\\u03b1\\u03c4\\u03ad\\u03bd\\u03b5\\u03c5\\u03c3\\u03b5\\u03bd .\",\"\\u1f00\\u03bb\\u03bb\\u0313 \\u03b1\\u1f30\\u03c3\\u03c7\\u03c5\\u03bd\\u03cc\\u03bc\\u03b5\\u03bd\\u03bf\\u03b9 \\u03c6\\u03ac\\u03c4\\u03b9\\u03bd \\u1f00\\u03bd\\u03b4\\u03c1\\u1ff6\\u03bd \\u1f20\\u03b4\\u1f72 \\u03b3\\u03c5\\u03bd\\u03b1\\u03b9\\u03ba\\u1ff6\\u03bd , \\u03bc\\u03ae \\u03c0\\u03bf\\u03c4\\u03ad \\u03c4\\u03b9\\u03c2 \\u03b5\\u1f34\\u03c0\\u1fc3\\u03c3\\u03b9 \\u03ba\\u03b1\\u03ba\\u03ce\\u03c4\\u03b5\\u03c1\\u03bf\\u03c2 \\u1f04\\u03bb\\u03bb\\u03bf\\u03c2 \\u1f08\\u03c7\\u03b1\\u03b9\\u1ff6\\u03bd \\u1f26 \\u03c0\\u03bf\\u03bb\\u1f7a \\u03c7\\u03b5\\u03af\\u03c1\\u03bf\\u03bd\\u03b5\\u03c2 \\u1f04\\u03bd\\u03b4\\u03c1\\u03b5\\u03c2 \\u1f00\\u03bc\\u03cd\\u03bc\\u03bf\\u03bd\\u03bf\\u03c2 \\u1f00\\u03bd\\u03b4\\u03c1\\u1f78\\u03c2 \\u1f04\\u03ba\\u03bf\\u03b9\\u03c4\\u03b9\\u03bd \\u03bc\\u03bd\\u1ff6\\u03bd\\u03c4\\u03b1\\u03b9 , \\u03bf\\u1f50 \\u03b4\\u03ad \\u03c4\\u03b9 \\u03c4\\u03cc\\u03be\\u03bf\\u03bd \\u1f10\\u03b0\\u03be\\u03bf\\u03bf\\u03bd \\u1f10\\u03bd\\u03c4\\u03b1\\u03bd\\u03cd\\u03bf\\u03c5\\u03c3\\u03b9\\u03bd \\u00b7\",\"\\u1f63\\u03c2 \\u03c6\\u03ac\\u03c4\\u03bf , \\u03b3\\u03ae\\u03b8\\u03b7\\u03c3\\u03b5\\u03bd \\u03b4\\u1f72 \\u03c0\\u03bf\\u03bb\\u03cd\\u03c4\\u03bb\\u03b1\\u03c2 \\u03b4\\u1fd6\\u03bf\\u03c2 \\u1f48\\u03b4\\u03c5\\u03c3\\u03c3\\u03b5\\u03cd\\u03c2 , \\u03bf\\u1f55\\u03bd\\u03b5\\u03ba\\u03b1 \\u03c4\\u1ff6\\u03bd \\u03bc\\u1f72\\u03bd \\u03b4\\u1ff6\\u03c1\\u03b1 \\u03c0\\u03b1\\u03c1\\u03ad\\u03bb\\u03ba\\u03b5\\u03c4\\u03bf , \\u03b8\\u03ad\\u03bb\\u03b3\\u03b5 \\u03b4\\u1f72 \\u03b8\\u03c5\\u03bc\\u1f78\\u03bd \\u03bc\\u03b5\\u03b9\\u03bb\\u03b9\\u03c7\\u03af\\u03bf\\u03b9\\u03c2 \\u1f10\\u03c0\\u03ad\\u03b5\\u03c3\\u03c3\\u03b9 , \\u03bd\\u03cc\\u03bf\\u03c2 \\u03b4\\u03ad \\u03bf\\u1f31 \\u1f04\\u03bb\\u03bb\\u03b1 \\u03bc\\u03b5\\u03bd\\u03bf\\u03af\\u03bd\\u03b1 .\",\"\\\" \\u03bd\\u03cd\\u03bc\\u03c6\\u03b1\\u03b9 \\u03ba\\u03c1\\u03b7\\u03bd\\u03b1\\u1fd6\\u03b1\\u03b9 , \\u03ba\\u03bf\\u1fe6\\u03c1\\u03b1\\u03b9 \\u0394\\u03b9\\u03cc\\u03c2 , \\u03b5\\u1f34 \\u03c0\\u03bf\\u03c4\\u0313 \\u1f48\\u03b4\\u03c5\\u03c3\\u03c3\\u03b5\\u1f7a\\u03c2 \\u1f54\\u03bc\\u03bc\\u0313 \\u1f10\\u03c0\\u1f76 \\u03bc\\u03b7\\u03c1\\u03af\\u0313 \\u1f14\\u03ba\\u03b7\\u03b5 , \\u03ba\\u03b1\\u03bb\\u03cd\\u03c8\\u03b1\\u03c2 \\u03c0\\u03af\\u03bf\\u03bd\\u03b9 \\u03b4\\u03b7\\u03bc\\u1ff7 , \\u1f00\\u03c1\\u03bd\\u1ff6\\u03bd \\u1f20\\u03b4\\u0313 \\u1f10\\u03c1\\u03af\\u03c6\\u03c9\\u03bd , \\u03c4\\u03cc\\u03b4\\u03b5 \\u03bc\\u03bf\\u03b9 \\u03ba\\u03c1\\u03b7\\u03ae\\u03bd\\u03b1\\u03c4\\u0313 \\u1f10\\u03ad\\u03bb\\u03b4\\u03c9\\u03c1 , \\u1f61\\u03c2 \\u1f14\\u03bb\\u03b8\\u03bf\\u03b9 \\u03bc\\u1f72\\u03bd \\u03ba\\u03b5\\u1fd6\\u03bd\\u03bf\\u03c2 \\u1f00\\u03bd\\u03ae\\u03c1 , \\u1f00\\u03b3\\u03ac\\u03b3\\u03bf\\u03b9 \\u03b4\\u03ad \\u1f11 \\u03b4\\u03b1\\u03af\\u03bc\\u03c9\\u03bd \\u00b7\",\"\\\" \\u03bf\\u1f31 \\u03b4\\u1f72 \\u03b4\\u03cd\\u03c9 \\u03c3\\u03ba\\u03cc\\u03c0\\u03b5\\u03bb\\u03bf\\u03b9 \\u1f41 \\u03bc\\u1f72\\u03bd \\u03bf\\u1f50\\u03c1\\u03b1\\u03bd\\u1f78\\u03bd \\u03b5\\u1f50\\u03c1\\u1f7a\\u03bd \\u1f31\\u03ba\\u03ac\\u03bd\\u03b5\\u03b9 \\u1f40\\u03be\\u03b5\\u03af\\u1fc3 \\u03ba\\u03bf\\u03c1\\u03c5\\u03c6\\u1fc7 , \\u03bd\\u03b5\\u03c6\\u03ad\\u03bb\\u03b7 \\u03b4\\u03ad \\u03bc\\u03b9\\u03bd \\u1f00\\u03bc\\u03c6\\u03b9\\u03b2\\u03ad\\u03b2\\u03b7\\u03ba\\u03b5 \\u03ba\\u03c5\\u03b1\\u03bd\\u03ad\\u03b7 \\u00b7\",\"\\u03b1\\u1f30\\u03c3\\u03c5\\u03bc\\u03bd\\u1fc6\\u03c4\\u03b1\\u03b9 \\u03b4\\u1f72 \\u03ba\\u03c1\\u03b9\\u03c4\\u03bf\\u1f76 \\u1f10\\u03bd\\u03bd\\u03ad\\u03b1 \\u03c0\\u03ac\\u03bd\\u03c4\\u03b5\\u03c2 \\u1f00\\u03bd\\u03ad\\u03c3\\u03c4\\u03b1\\u03bd \\u03b4\\u03ae\\u03bc\\u03b9\\u03bf\\u03b9 , \\u03bf\\u1f33 \\u03ba\\u03b1\\u03c4\\u0313 \\u1f00\\u03b3\\u1ff6\\u03bd\\u03b1\\u03c2 \\u1f10\\u1f7a \\u03c0\\u03c1\\u03ae\\u03c3\\u03c3\\u03b5\\u03c3\\u03ba\\u03bf\\u03bd \\u1f15\\u03ba\\u03b1\\u03c3\\u03c4\\u03b1 , \\u03bb\\u03b5\\u03af\\u03b7\\u03bd\\u03b1\\u03bd \\u03b4\\u1f72 \\u03c7\\u03bf\\u03c1\\u03cc\\u03bd , \\u03ba\\u03b1\\u03bb\\u1f78\\u03bd \\u03b4\\u0313 \\u03b5\\u1f54\\u03c1\\u03c5\\u03bd\\u03b1\\u03bd \\u1f00\\u03b3\\u1ff6\\u03bd\\u03b1 .\",\"\\u1f21 \\u03b3\\u1f70\\u03c1 \\u03b4\\u03af\\u03ba\\u03b7 , \\u1f41\\u03c0\\u03c0\\u03cc\\u03c4\\u03b5 \\u03c0\\u03ac\\u03c4\\u03c1\\u03b7\\u03c2 \\u1f27\\u03c2 \\u1f00\\u03c0\\u03ad\\u1fc3\\u03c3\\u03b9\\u03bd \\u1f00\\u03bd\\u1f74\\u03c1 \\u03c4\\u03cc\\u03c3\\u03c3\\u03bf\\u03bd \\u03c7\\u03c1\\u03cc\\u03bd\\u03bf\\u03bd \\u1f45\\u03c3\\u03c3\\u03bf\\u03bd \\u1f10\\u03b3\\u1f7c \\u03bd\\u1fe6\\u03bd , \\u03c0\\u03bf\\u03bb\\u03bb\\u1f70 \\u03b2\\u03c1\\u03bf\\u03c4\\u1ff6\\u03bd \\u1f10\\u03c0\\u1f76 \\u1f04\\u03c3\\u03c4\\u03b5\\u0313 \\u1f00\\u03bb\\u03ce\\u03bc\\u03b5\\u03bd\\u03bf\\u03c2 , \\u1f04\\u03bb\\u03b3\\u03b5\\u03b1 \\u03c0\\u03ac\\u03c3\\u03c7\\u03c9\\u03bd \\u00b7\",\"\\u1f00\\u03bd\\u03b4\\u03c1\\u03ac\\u03c3\\u03b9 \\u03b4\\u1f72 \\u03c0\\u03c1\\u03bf\\u03c4\\u03ad\\u03c1\\u03bf\\u03b9\\u03c3\\u03b9\\u03bd \\u1f10\\u03c1\\u03b9\\u03b6\\u03ad\\u03bc\\u03b5\\u03bd \\u03bf\\u1f50\\u03ba \\u1f10\\u03b8\\u03b5\\u03bb\\u03ae\\u03c3\\u03c9 , \\u03bf\\u1f54\\u03b8\\u0313 \\u1f29\\u03c1\\u03b1\\u03ba\\u03bb\\u1fc6\\u03b9 \\u03bf\\u1f54 \\u03c4\\u0313 \\u0395\\u1f50\\u03c1\\u03cd\\u03c4\\u1ff3 \\u039f\\u03b9\\u03c7\\u03b1\\u03bb\\u03b9\\u1fc6\\u03b9 , \\u03bf\\u1f35 \\u1fe5\\u03b1 \\u03ba\\u03b1\\u1f76 \\u1f00\\u03b8\\u03b1\\u03bd\\u03ac\\u03c4\\u03bf\\u03b9\\u03c3\\u03b9\\u03bd \\u1f10\\u03c1\\u03af\\u03b6\\u03b5\\u03c3\\u03ba\\u03bf\\u03bd \\u03c0\\u03b5\\u03c1\\u1f76 \\u03c4\\u03cc\\u03be\\u03c9\\u03bd .\",\"\\u03b1\\u1f50\\u03c4\\u1f70\\u03c1 \\u1f10\\u03b3\\u1f7c \\u03c7\\u03b5\\u03af\\u03c1\\u03b5\\u03c3\\u03c3\\u03b9 \\u03bb\\u03b1\\u03b2\\u1f7c\\u03bd \\u03c0\\u03b5\\u03c1\\u03b9\\u03bc\\u03ae\\u03ba\\u03b5\\u03b1 \\u03ba\\u03bf\\u03bd\\u03c4\\u1f78\\u03bd \\u1f66\\u03c3\\u03b1 \\u03c0\\u03b1\\u03c1\\u03ad\\u03be , \\u1f11\\u03c4\\u03ac\\u03c1\\u03bf\\u03b9\\u03c3\\u03b9 \\u03b4\\u0313 \\u1f10\\u03c0\\u03bf\\u03c4\\u03c1\\u03cd\\u03bd\\u03b1\\u03c2 \\u1f10\\u03ba\\u03ad\\u03bb\\u03b5\\u03c5\\u03c3\\u03b1 \\u1f10\\u03bc\\u03b2\\u03b1\\u03bb\\u03ad\\u03b5\\u03b9\\u03bd \\u03ba\\u03ce\\u03c0\\u1fc3\\u03c2 , \\u1f35\\u03bd\\u0313 \\u1f51\\u03c0\\u1f72\\u03ba \\u03ba\\u03b1\\u03ba\\u03cc\\u03c4\\u03b7\\u03c4\\u03b1 \\u03c6\\u03cd\\u03b3\\u03bf\\u03b9\\u03bc\\u03b5\\u03bd , \\u03ba\\u03c1\\u03b1\\u03c4\\u1f76 \\u03ba\\u03b1\\u03c4\\u03b1\\u03bd\\u03b5\\u03cd\\u03c9\\u03bd \\u00b7\",\"\\u1f14\\u03bd\\u03b8\\u03b1 \\u03b4\\u1f72 \\u03c0\\u03b1\\u03c4\\u03c1\\u1f78\\u03c2 \\u1f10\\u03bc\\u03bf\\u1fd6\\u03bf \\u03b8\\u03c1\\u03cc\\u03bd\\u03bf\\u03c2 \\u03c0\\u03bf\\u03c4\\u03b9\\u03ba\\u03ad\\u03ba\\u03bb\\u03b9\\u03c4\\u03b1\\u03b9 \\u03b1\\u1f50\\u03c4\\u1fc7 , \\u03c4\\u1ff7 \\u1f45 \\u03b3\\u03b5 \\u03bf\\u1f30\\u03bd\\u03bf\\u03c0\\u03bf\\u03c4\\u03ac\\u03b6\\u03b5\\u03b9 \\u1f10\\u03c6\\u03ae\\u03bc\\u03b5\\u03bd\\u03bf\\u03c2 \\u1f00\\u03b8\\u03ac\\u03bd\\u03b1\\u03c4\\u03bf\\u03c2 \\u1f65\\u03c2 .\",\"\\\" \\u1f62 \\u03c0\\u03cc\\u03c0\\u03bf\\u03b9 , \\u1f26 \\u03bc\\u03ac\\u03bb\\u03b1 \\u03b4\\u1f74 \\u1f08\\u03b3\\u03b1\\u03bc\\u03ad\\u03bc\\u03bd\\u03bf\\u03bd\\u03bf\\u03c2 \\u1f08\\u03c4\\u03c1\\u03b5\\u0390\\u03b4\\u03b1\\u03bf \\u03c6\\u03b8\\u03af\\u03c3\\u03b5\\u03c3\\u03b8\\u03b1\\u03b9 \\u03ba\\u03b1\\u03ba\\u1f78\\u03bd \\u03bf\\u1f36\\u03c4\\u03bf\\u03bd \\u1f10\\u03bd\\u1f76 \\u03bc\\u03b5\\u03b3\\u03ac\\u03c1\\u03bf\\u03b9\\u03c3\\u03b9\\u03bd \\u1f14\\u03bc\\u03b5\\u03bb\\u03bb\\u03bf\\u03bd , \\u03b5\\u1f30 \\u03bc\\u03ae \\u03bc\\u03bf\\u03b9 \\u03c3\\u1f7a \\u1f15\\u03ba\\u03b1\\u03c3\\u03c4\\u03b1 , \\u03b8\\u03b5\\u03ac , \\u03ba\\u03b1\\u03c4\\u1f70 \\u03bc\\u03bf\\u1fd6\\u03c1\\u03b1\\u03bd \\u1f14\\u03b5\\u03b9\\u03c0\\u03b5\\u03c2 .\",\"\\u03c3\\u1f7a \\u03b4\\u03ad \\u03bc\\u03b5 \\u03c0\\u03c1\\u03bf\\u0390\\u03b5\\u03b9\\u03c2 \\u03ba\\u03b1\\u1f76 \\u03c0\\u03cc\\u03c4\\u03bd\\u03b9\\u03b1 \\u03bc\\u03ae\\u03c4\\u03b7\\u03c1 \\u1f10\\u03c2 \\u03c0\\u03b1\\u03c4\\u03ad\\u03c1\\u0313 \\u0391\\u1f50\\u03c4\\u03cc\\u03bb\\u03c5\\u03ba\\u03bf\\u03bd \\u03bc\\u03b7\\u03c4\\u03c1\\u1f78\\u03c2 \\u03c6\\u03af\\u03bb\\u03bf\\u03bd , \\u1f44\\u03c6\\u03c1\\u0313 \\u1f02\\u03bd \\u1f11\\u03bb\\u03bf\\u03af\\u03bc\\u03b7\\u03bd \\u03b4\\u1ff6\\u03c1\\u03b1 , \\u03c4\\u1f70 \\u03b4\\u03b5\\u1fe6\\u03c1\\u03bf \\u03bc\\u03bf\\u03bb\\u03ce\\u03bd \\u03bc\\u03bf\\u03b9 \\u1f51\\u03c0\\u03ad\\u03c3\\u03c7\\u03b5\\u03c4\\u03bf \\u03ba\\u03b1\\u1f76 \\u03ba\\u03b1\\u03c4\\u03ad\\u03bd\\u03b5\\u03c5\\u03c3\\u03b5\\u03bd .\",\"\\u03bf\\u1f31 \\u03b4\\u1f72 \\u03b8\\u03b5\\u03bf\\u1f76 \\u03b8\\u1ff6\\u03ba\\u03cc\\u03bd\\u03b4\\u03b5 \\u03ba\\u03b1\\u03b8\\u03af\\u03b6\\u03b1\\u03bd\\u03bf\\u03bd , \\u1f10\\u03bd \\u03b4\\u0313 \\u1f04\\u03c1\\u03b1 \\u03c4\\u03bf\\u1fd6\\u03c3\\u03b9 \\u0396\\u03b5\\u1f7a\\u03c2 \\u1f51\\u03c8\\u03b9\\u03b2\\u03c1\\u03b5\\u03bc\\u03ad\\u03c4\\u03b7\\u03c2 , \\u03bf\\u1f57 \\u03c4\\u03b5 \\u03ba\\u03c1\\u03ac\\u03c4\\u03bf\\u03c2 \\u1f10\\u03c3\\u03c4\\u1f76 \\u03bc\\u03ad\\u03b3\\u03b9\\u03c3\\u03c4\\u03bf\\u03bd .\",\"\\\" \\u03b1\\u1f50\\u03c4\\u1f70\\u03c1 \\u1f10\\u03c0\\u03b5\\u1f76 \\u03c0\\u03bf\\u03c4\\u03b1\\u03bc\\u03bf\\u1fd6\\u03bf \\u03bb\\u03af\\u03c0\\u03b5\\u03bd \\u1fe5\\u03cc\\u03bf\\u03bd \\u1f68\\u03ba\\u03b5\\u03b1\\u03bd\\u03bf\\u1fd6\\u03bf \\u03bd\\u03b7\\u1fe6\\u03c2 , \\u1f00\\u03c0\\u1f78 \\u03b4\\u0313 \\u1f35\\u03ba\\u03b5\\u03c4\\u03bf \\u03ba\\u1fe6\\u03bc\\u03b1 \\u03b8\\u03b1\\u03bb\\u03ac\\u03c3\\u03c3\\u03b7\\u03c2 \\u03b5\\u1f50\\u03c1\\u03c5\\u03c0\\u03cc\\u03c1\\u03bf\\u03b9\\u03bf \\u03bd\\u1fc6\\u03c3\\u03cc\\u03bd \\u03c4\\u0313 \\u0391\\u1f30\\u03b1\\u03af\\u03b7\\u03bd , \\u1f45\\u03b8\\u03b9 \\u03c4\\u0313 \\u1f28\\u03bf\\u1fe6\\u03c2 \\u1f20\\u03c1\\u03b9\\u03b3\\u03b5\\u03bd\\u03b5\\u03af\\u03b7\\u03c2 \\u03bf\\u1f30\\u03ba\\u03af\\u03b1 \\u03ba\\u03b1\\u1f76 \\u03c7\\u03bf\\u03c1\\u03bf\\u03af \\u03b5\\u1f30\\u03c3\\u03b9 \\u03ba\\u03b1\\u1f76 \\u1f00\\u03bd\\u03c4\\u03bf\\u03bb\\u03b1\\u1f76 \\u1f28\\u03b5\\u03bb\\u03af\\u03bf\\u03b9\\u03bf , \\u03bd\\u1fc6\\u03b1 \\u03bc\\u1f72\\u03bd \\u1f14\\u03bd\\u03b8\\u0313 \\u1f10\\u03bb\\u03b8\\u03cc\\u03bd\\u03c4\\u03b5\\u03c2 \\u1f10\\u03ba\\u03ad\\u03bb\\u03c3\\u03b1\\u03bc\\u03b5\\u03bd \\u1f10\\u03bd \\u03c8\\u03b1\\u03bc\\u03ac\\u03b8\\u03bf\\u03b9\\u03c3\\u03b9\\u03bd , \\u1f10\\u03ba \\u03b4\\u1f72 \\u03ba\\u03b1\\u1f76 \\u03b1\\u1f50\\u03c4\\u03bf\\u1f76 \\u03b2\\u1fc6\\u03bc\\u03b5\\u03bd \\u1f10\\u03c0\\u1f76 \\u1fe5\\u03b7\\u03b3\\u03bc\\u1fd6\\u03bd\\u03b9 \\u03b8\\u03b1\\u03bb\\u03ac\\u03c3\\u03c3\\u03b7\\u03c2 \\u00b7\",\"\\u03c0\\u03c1\\u1ff6\\u03c4\\u03bf\\u03bd \\u03bc\\u1f72\\u03bd \\u03be\\u03af\\u03c6\\u03bf\\u03c2 \\u1f40\\u03be\\u1f7a \\u03c0\\u03b5\\u03c1\\u1f76 \\u03c3\\u03c4\\u03b9\\u03b2\\u03b1\\u03c1\\u03bf\\u1fd6\\u03c2 \\u03b2\\u03ac\\u03bb\\u03b5\\u03c4\\u0313 \\u1f64\\u03bc\\u03bf\\u03b9\\u03c2 , \\u1f00\\u03bc\\u03c6\\u1f76 \\u03b4\\u1f72 \\u03c7\\u03bb\\u03b1\\u1fd6\\u03bd\\u03b1\\u03bd \\u1f11\\u03ad\\u03c3\\u03c3\\u03b1\\u03c4\\u0313 \\u1f00\\u03bb\\u03b5\\u03be\\u03ac\\u03bd\\u03b5\\u03bc\\u03bf\\u03bd , \\u03bc\\u03ac\\u03bb\\u03b1 \\u03c0\\u03c5\\u03ba\\u03bd\\u03ae\\u03bd , \\u1f02\\u03bd \\u03b4\\u1f72 \\u03bd\\u03ac\\u03ba\\u03b7\\u03bd \\u1f15\\u03bb\\u03b5\\u03c4\\u0313 \\u03b1\\u1f30\\u03b3\\u1f78\\u03c2 \\u1f10\\u03cb\\u03c4\\u03c1\\u03b5\\u03c6\\u03ad\\u03bf\\u03c2 \\u03bc\\u03b5\\u03b3\\u03ac\\u03bb\\u03bf\\u03b9\\u03bf , \\u03b5\\u1f35\\u03bb\\u03b5\\u03c4\\u03bf \\u03b4\\u0313 \\u1f40\\u03be\\u1f7a\\u03bd \\u1f04\\u03ba\\u03bf\\u03bd\\u03c4\\u03b1 , \\u03ba\\u03c5\\u03bd\\u1ff6\\u03bd \\u1f00\\u03bb\\u03ba\\u03c4\\u1fc6\\u03c1\\u03b1 \\u03ba\\u03b1\\u1f76 \\u1f00\\u03bd\\u03b4\\u03c1\\u1ff6\\u03bd .\",\"\\u1f10\\u03b3\\u1f7c \\u03b4\\u0313 \\u1f04\\u03bf\\u03c1 \\u1f40\\u03be\\u1f7a \\u1f10\\u03c1\\u03c5\\u03c3\\u03c3\\u03ac\\u03bc\\u03b5\\u03bd\\u03bf\\u03c2 \\u03c0\\u03b1\\u03c1\\u1f70 \\u03bc\\u03b7\\u03c1\\u03bf\\u1fe6 \\u03b2\\u03cc\\u03b8\\u03c1\\u03bf\\u03bd \\u1f44\\u03c1\\u03c5\\u03be\\u0313 \\u1f45\\u03c3\\u03c3\\u03bf\\u03bd \\u03c4\\u03b5 \\u03c0\\u03c5\\u03b3\\u03bf\\u03cd\\u03c3\\u03b9\\u03bf\\u03bd \\u1f14\\u03bd\\u03b8\\u03b1 \\u03ba\\u03b1\\u1f76 \\u1f14\\u03bd\\u03b8\\u03b1 , \\u1f00\\u03bc\\u03c6\\u0313 \\u03b1\\u1f50\\u03c4\\u1ff7 \\u03b4\\u1f72 \\u03c7\\u03bf\\u1f74\\u03bd \\u03c7\\u03b5\\u03cc\\u03bc\\u03b7\\u03bd \\u03c0\\u1fb6\\u03c3\\u03b9\\u03bd \\u03bd\\u03b5\\u03ba\\u03cd\\u03b5\\u03c3\\u03c3\\u03b9 , \\u03c0\\u03c1\\u1ff6\\u03c4\\u03b1 \\u03bc\\u03b5\\u03bb\\u03b9\\u03ba\\u03c1\\u03ae\\u03c4\\u1ff3 , \\u03bc\\u03b5\\u03c4\\u03ad\\u03c0\\u03b5\\u03b9\\u03c4\\u03b1 \\u03b4\\u1f72 \\u1f21\\u03b4\\u03ad\\u03b9 \\u03bf\\u1f34\\u03bd\\u1ff3 , \\u03c4\\u1f78 \\u03c4\\u03c1\\u03af\\u03c4\\u03bf\\u03bd \\u03b1\\u1f56\\u03b8\\u0313 \\u1f55\\u03b4\\u03b1\\u03c4\\u03b9 \\u00b7\",\"\\\" \\u03c3\\u03b9\\u03b3\\u1fc7 \\u03bd\\u1fe6\\u03bd , \\u03bc\\u03ae \\u03c4\\u03af\\u03c2 \\u03bc\\u03b5 \\u03c0\\u03c1\\u03bf\\u03c3\\u03b1\\u03c5\\u03b4\\u03ac\\u03c4\\u03c9 \\u1f10\\u03c0\\u03ad\\u03b5\\u03c3\\u03c3\\u03b9\\u03bd \\u1f51\\u03bc\\u03b5\\u03c4\\u03ad\\u03c1\\u03c9\\u03bd \\u1f11\\u03c4\\u03ac\\u03c1\\u03c9\\u03bd , \\u03be\\u03c5\\u03bc\\u03b2\\u03bb\\u03ae\\u03bc\\u03b5\\u03bd\\u03bf\\u03c2 \\u1f22 \\u1f10\\u03bd \\u1f00\\u03b3\\u03c5\\u03b9\\u1fc7 , \\u1f24 \\u03c0\\u03bf\\u03c5 \\u1f10\\u03c0\\u1f76 \\u03ba\\u03c1\\u03ae\\u03bd\\u1fc3 \\u00b7\",\"\\u03b1\\u1f50\\u03c4\\u1f70\\u03c1 \\u1f14\\u03c0\\u03b5\\u03b9\\u03c4\\u03b1 \\u0391\\u1f34\\u03b3\\u03c5\\u03c0\\u03c4\\u03cc\\u03bd\\u03b4\\u03b5 \\u03bc\\u03b5 \\u03b8\\u03c5\\u03bc\\u1f78\\u03c2 \\u1f00\\u03bd\\u03ce\\u03b3\\u03b5\\u03b9 \\u03bd\\u03b1\\u03c5\\u03c4\\u03af\\u03bb\\u03bb\\u03b5\\u03c3\\u03b8\\u03b1\\u03b9 , \\u03bd\\u1fc6\\u03b1\\u03c2 \\u1f10\\u1fe2 \\u03c3\\u03c4\\u03b5\\u03af\\u03bb\\u03b1\\u03bd\\u03c4\\u03b1 \\u03c3\\u1f7a\\u03bd \\u1f00\\u03bd\\u03c4\\u03b9\\u03b8\\u03ad\\u03bf\\u03b9\\u03c2 \\u1f11\\u03c4\\u03ac\\u03c1\\u03bf\\u03b9\\u03c3\\u03b9\\u03bd .\",\"\\u03c0\\u03b1\\u03b9\\u03b4\\u1f76 \\u03b4\\u03ad \\u03ba\\u03b5\\u03bd \\u03b5\\u1f34\\u03c0\\u03bf\\u03b9\\u03bc\\u03b9 \\u1f14\\u03c0\\u03bf\\u03c2 , \\u03c4\\u03cc \\u03ba\\u03b5 \\u03ba\\u03ad\\u03c1\\u03b4\\u03b9\\u03bf\\u03bd \\u03b5\\u1f34\\u03b7 , \\u03bc\\u1f74 \\u03c0\\u03ac\\u03bd\\u03c4\\u03b1 \\u03bc\\u03bd\\u03b7\\u03c3\\u03c4\\u1fc6\\u03c1\\u03c3\\u03b9\\u03bd \\u1f51\\u03c0\\u03b5\\u03c1\\u03c6\\u03b9\\u03ac\\u03bb\\u03bf\\u03b9\\u03c3\\u03b9\\u03bd \\u1f41\\u03bc\\u03b9\\u03bb\\u03b5\\u1fd6\\u03bd , \\u03bf\\u1f35 \\u03c4\\u0313 \\u03b5\\u1f56 \\u03bc\\u1f72\\u03bd \\u03b2\\u03ac\\u03b6\\u03bf\\u03c5\\u03c3\\u03b9 , \\u03ba\\u03b1\\u03ba\\u1ff6\\u03c2 \\u03b4\\u0313 \\u1f44\\u03c0\\u03b9\\u03b8\\u03b5\\u03bd \\u03c6\\u03c1\\u03bf\\u03bd\\u03ad\\u03bf\\u03c5\\u03c3\\u03b9 . \\\"\",\"\\u1f67\\u03b4\\u03b5 \\u03b4\\u03ad \\u03bf\\u1f31 \\u03c6\\u03c1\\u03bf\\u03bd\\u03ad\\u03bf\\u03bd\\u03c4\\u03b9 \\u03b4\\u03bf\\u03ac\\u03c3\\u03c3\\u03b1\\u03c4\\u03bf \\u03ba\\u03ad\\u03c1\\u03b4\\u03b9\\u03bf\\u03bd \\u03b5\\u1f36\\u03bd\\u03b1\\u03b9 , \\u03b3\\u03bf\\u03cd\\u03bd\\u03c9\\u03bd \\u1f05\\u03c8\\u03b1\\u03c3\\u03b8\\u03b1\\u03b9 \\u039b\\u03b1\\u03b5\\u03c1\\u03c4\\u03b9\\u03ac\\u03b4\\u03b5\\u03c9 \\u1f48\\u03b4\\u03c5\\u03c3\\u1fc6\\u03bf\\u03c2 .\",\"\\u039a\\u03af\\u03c1\\u03ba\\u03b7\\u03c2 \\u03b4\\u0313 \\u1f10\\u03bd \\u03bc\\u03b5\\u03b3\\u03ac\\u03c1\\u1ff3 \\u03ba\\u03b1\\u03c4\\u03b1\\u03bb\\u03ad\\u03b3\\u03bc\\u03b5\\u03bd\\u03bf\\u03c2 \\u03bf\\u1f50\\u03ba \\u1f10\\u03bd\\u03cc\\u03b7\\u03c3\\u03b1 \\u1f04\\u03c8\\u03bf\\u03c1\\u03c1\\u03bf\\u03bd \\u03ba\\u03b1\\u03c4\\u03b1\\u03b2\\u1fc6\\u03bd\\u03b1\\u03b9 \\u1f30\\u1f7c\\u03bd \\u1f10\\u03c2 \\u03ba\\u03bb\\u03af\\u03bc\\u03b1\\u03ba\\u03b1 \\u03bc\\u03b1\\u03ba\\u03c1\\u03ae\\u03bd , \\u1f00\\u03bb\\u03bb\\u1f70 \\u03ba\\u03b1\\u03c4\\u03b1\\u03bd\\u03c4\\u03b9\\u03ba\\u03c1\\u1f7a \\u03c4\\u03ad\\u03b3\\u03b5\\u03bf\\u03c2 \\u03c0\\u03ad\\u03c3\\u03bf\\u03bd \\u00b7\",\"\\u1f00\\u03c4\\u1f70\\u03c1 \\u03c4\\u1f78\\u03bd \\u03b4\\u03b5\\u03be\\u03b9\\u1f78\\u03bd \\u1f35\\u03c0\\u03c0\\u03bf\\u03bd \\u03ba\\u03ad\\u03bd\\u03c3\\u03b1\\u03b9 \\u1f41\\u03bc\\u03bf\\u03ba\\u03bb\\u03ae\\u03c3\\u03b1\\u03c2 , \\u03b5\\u1f36\\u03be\\u03b1\\u03af \\u03c4\\u03ad \\u03bf\\u1f31 \\u1f21\\u03bd\\u03af\\u03b1 \\u03c7\\u03b5\\u03c1\\u03c3\\u03af\\u03bd .\",\"\\u03bf\\u1f33 \\u03b4\\u0313 \\u1f05\\u03bc\\u03b1 \\u03c0\\u03ac\\u03bd\\u03c4\\u03b5\\u03c2 \\u1f10\\u03c6\\u0313 \\u1f35\\u03c0\\u03c0\\u03bf\\u03b9\\u03b9\\u03bd \\u03bc\\u03ac\\u03c3\\u03c4\\u03b9\\u03b3\\u03b1\\u03c2 \\u1f04\\u03b5\\u03b9\\u03c1\\u03b1\\u03bd , \\u03c0\\u03ad\\u03c0\\u03bb\\u03b7\\u03b3\\u03cc\\u03bd \\u03b8\\u0313 \\u1f31\\u03bc\\u1fb6\\u03c3\\u03b9\\u03bd , \\u1f41\\u03bc\\u03cc\\u03ba\\u03bb\\u03b7\\u03c3\\u03ac\\u03bd \\u03c4\\u0313 \\u1f10\\u03c0\\u03ad\\u03b5\\u03c3\\u03c3\\u03b9\\u03bd \\u1f10\\u03c3\\u03c3\\u03c5\\u03bc\\u03ad\\u03bd\\u03c9\\u03c2 \\u00b7\",\"\\u03bf\\u1f33 \\u03b4\\u1f72 \\u03c3\\u1f7a\\u03bd \\u03b1\\u1f50\\u03c4\\u1ff7 \\u03c0\\u03ac\\u03bd\\u03c4\\u03b5\\u03c2 \\u1f41\\u03bc\\u03bf\\u03ba\\u03bb\\u03ae\\u03c3\\u03b1\\u03bd\\u03c4\\u03b5\\u03c2 \\u1f14\\u03c7\\u03bf\\u03bd \\u1f10\\u03c1\\u03c5\\u03c3\\u03ac\\u03c1\\u03bc\\u03b1\\u03c4\\u03b1\\u03c2 \\u1f35\\u03c0\\u03c0\\u03bf\\u03c5\\u03c2 \\u1f20\\u03c7\\u1fc7 \\u03b8\\u03b5\\u03c3\\u03c0\\u03b5\\u03c3\\u03af\\u1fc3 \\u00b7\",\"\\u1f61\\u03c2 \\u03b4\\u0313 \\u1f45\\u03c4\\u0313 \\u1f02\\u03bd \\u1f60\\u03b4\\u03af\\u03bd\\u03bf\\u03c5\\u03c3\\u03b1\\u03bd \\u1f14\\u03c7\\u1fc3 \\u03b2\\u03ad\\u03bb\\u03bf\\u03c2 \\u1f40\\u03be\\u1f7a \\u03b3\\u03c5\\u03bd\\u03b1\\u1fd6\\u03ba\\u03b1 \\u03b4\\u03c1\\u03b9\\u03bc\\u03cd , \\u03c4\\u03cc \\u03c4\\u03b5 \\u03c0\\u03c1\\u03bf\\u03ca\\u03b5\\u1fd6\\u03c3\\u03b9 \\u03bc\\u03bf\\u03b3\\u03bf\\u03c3\\u03c4\\u03cc\\u03ba\\u03bf\\u03b9 \\u0395\\u1f30\\u03bb\\u03b5\\u03af\\u03b8\\u03c5\\u03b9\\u03b1\\u03b9 \\u1f2d\\u03c1\\u03b7\\u03c2 \\u03b8\\u03c5\\u03b3\\u03b1\\u03c4\\u03ad\\u03c1\\u03b5\\u03c2 \\u03c0\\u03b9\\u03ba\\u03c1\\u1f70\\u03c2 \\u1f60\\u03b4\\u1fd6\\u03bd\\u03b1\\u03c2 \\u1f14\\u03c7\\u03bf\\u03c5\\u03c3\\u03b1\\u03b9 , \\u1f63\\u03c2 \\u1f40\\u03be\\u03b5\\u1fd6\\u0313 \\u1f40\\u03b4\\u03cd\\u03bd\\u03b1\\u03b9 \\u03b4\\u1fe6\\u03bd\\u03bf\\u03bd \\u03bc\\u03ad\\u03bd\\u03bf\\u03c2 \\u1f08\\u03c4\\u03c1\\u03b5\\u0390\\u03b4\\u03b1\\u03bf .\",\"\\u1f61\\u03c2 \\u03b4\\u0313 \\u1f51\\u03c0\\u1f78 \\u03bb\\u03b1\\u03af\\u03bb\\u03b1\\u03c0\\u03b9 \\u03c0\\u1fb6\\u03c3\\u03b1 \\u03ba\\u03b5\\u03bb\\u03b1\\u03b9\\u03bd\\u1f74 \\u03b2\\u03ad\\u03b2\\u03c1\\u03b9\\u03b8\\u03b5 \\u03c7\\u03b8\\u1f7c\\u03bd \\u1f24\\u03bc\\u03b1\\u03c4\\u0313 \\u1f40\\u03c0\\u03c9\\u03c1\\u03b9\\u03bd\\u1ff7 , \\u1f45\\u03c4\\u03b5 \\u03bb\\u03b1\\u03b2\\u03c1\\u03cc\\u03c4\\u03b1\\u03c4\\u03bf\\u03bd \\u03c7\\u03ad\\u03b5\\u03b9 \\u1f55\\u03b4\\u03c9\\u03c1 \\u0396\\u03b5\\u03cd\\u03c2 , \\u1f45\\u03c4\\u03b5 \\u03b4\\u03ae \\u1fe5\\u0313 \\u1f04\\u03bd\\u03b4\\u03c1\\u03b5\\u03c3\\u03c3\\u03b9 \\u03ba\\u03bf\\u03c4\\u03b5\\u03c3\\u03c3\\u03ac\\u03bc\\u03b5\\u03bd\\u03bf\\u03c2 \\u03c7\\u03b1\\u03bb\\u03b5\\u03c0\\u03ae\\u03bd\\u1fc3 , \\u03bf\\u1f33 \\u03b2\\u03af\\u1fc3 \\u03b5\\u1f30\\u03bd \\u1f00\\u03b3\\u03bf\\u03c1\\u1fc7 \\u03c3\\u03ba\\u03bf\\u03bb\\u03b9\\u1f70\\u03c2 \\u03ba\\u03c1\\u03af\\u03bd\\u03c9\\u03c3\\u03b9 \\u03b8\\u03ad\\u03bc\\u03b9\\u03c3\\u03c4\\u03b1\\u03c2 , \\u1f10\\u03ba \\u03b4\\u1f72 \\u03b4\\u03af\\u03ba\\u03b7\\u03bd \\u1f10\\u03bb\\u03ac\\u03c3\\u03c9\\u03c3\\u03b9 \\u03b8\\u03b5\\u1ff6\\u03bd \\u1f44\\u03c0\\u03b9\\u03bd \\u03bf\\u1f50\\u03ba \\u1f00\\u03bb\\u03ad\\u03b3\\u03bf\\u03bd\\u03c4\\u03b5\\u03c2 \\u00b7\",\"\\u0396\\u03b5\\u1fe6 \\u1f04\\u03bd\\u03b1 \\u0394\\u03c9\\u03b4\\u03c9\\u03bd\\u03b1\\u1fd6\\u03b5 \\u03a0\\u03b5\\u03bb\\u03b1\\u03c3\\u03b3\\u03b9\\u03ba\\u1f72 \\u03c4\\u03b7\\u03bb\\u03cc\\u03b8\\u03b9 \\u03bd\\u03b1\\u03af\\u03c9\\u03bd \\u0394\\u03c9\\u03b4\\u03ce\\u03bd\\u03b7\\u03c2 \\u03bc\\u03b5\\u03b4\\u03ad\\u03c9\\u03bd \\u03b4\\u03c5\\u03c3\\u03c7\\u03b5\\u03b9\\u03bc\\u03ad\\u03c1\\u03bf\\u03c5 , \\u1f00\\u03bc\\u03c6\\u1f76 \\u03b4\\u1f72 \\u03a3\\u03b5\\u03bb\\u03bb\\u03bf\\u1f76 \\u03c3\\u03bf\\u1f76 \\u03bd\\u03b1\\u03af\\u03bf\\u03c5\\u03c3\\u0313 \\u1f51\\u03c0\\u03bf\\u03c6\\u1fc6\\u03c4\\u03b1\\u03b9 \\u1f00\\u03bd\\u03b9\\u03c0\\u03c4\\u03cc\\u03c0\\u03bf\\u03b4\\u03b5\\u03c2 \\u03c7\\u03b1\\u03bc\\u03b1\\u03b9\\u03b5\\u1fe6\\u03bd\\u03b1\\u03b9 , \\u1f20\\u03bc\\u1f72\\u03bd \\u03b4\\u03ae \\u03c0\\u03bf\\u03c4\\u0313 \\u1f10\\u03bc\\u1f78\\u03bd \\u1f14\\u03c0\\u03bf\\u03c2 \\u1f14\\u03ba\\u03bb\\u03c5\\u03b5\\u03c2 \\u03b5\\u1f50\\u03be\\u03b1\\u03bc\\u03ad\\u03bd\\u03bf\\u03b9\\u03bf , \\u03c4\\u03af\\u03bc\\u03b7\\u03c3\\u03b1\\u03c2 \\u03bc\\u1f72\\u03bd \\u1f10\\u03bc\\u03ad , \\u03bc\\u03ad\\u03b3\\u03b1 \\u03b4\\u0313 \\u1f34\\u03c8\\u03b1\\u03bf \\u03bb\\u03b1\\u1f78\\u03bd \\u1f08\\u03c7\\u03b1\\u03b9\\u1ff6\\u03bd , \\u1f20\\u03b4\\u0313 \\u1f14\\u03c4\\u03b9 \\u03ba\\u03b1\\u1f76 \\u03bd\\u1fe6\\u03bd \\u03bc\\u03bf\\u03b9 \\u03c4\\u03cc\\u03b4\\u0313 \\u1f10\\u03c0\\u03b9\\u03ba\\u03c1\\u03ae\\u03b7\\u03bd\\u03bf\\u03bd \\u1f10\\u03ad\\u03bb\\u03b4\\u03c9\\u03c1 \\u00b7\",\"\\u03a7\\u03c1\\u03cd\\u03c3\\u03b7\\u03c2 \\u03b4\\u0313 \\u03b1\\u1f56\\u03b8\\u0313 \\u1f31\\u03b5\\u03c1\\u03b5\\u1f7a\\u03c2 \\u1f11\\u03ba\\u03b1\\u03c4\\u03b7\\u03b2\\u03cc\\u03bb\\u03bf\\u03c5 \\u1f08\\u03c0\\u03cc\\u03bb\\u03bb\\u03c9\\u03bd\\u03bf\\u03c2 \\u1f26\\u03bb\\u03b8\\u03b5 \\u03b8\\u03bf\\u1f70\\u03c2 \\u1f10\\u03c0\\u1f76 \\u03bd\\u1fc6\\u03b1\\u03c2 \\u1f08\\u03c7\\u03b1\\u03b9\\u1ff6\\u03bd \\u03c7\\u03b1\\u03bb\\u03ba\\u03bf\\u03c7\\u03b9\\u03c4\\u03ce\\u03bd\\u03c9\\u03bd \\u03bb\\u03c5\\u03c3\\u03cc\\u03bc\\u03b5\\u03bd\\u03cc\\u03c2 \\u03c4\\u03b5 \\u03b8\\u03cd\\u03b3\\u03b1\\u03c4\\u03c1\\u03b1 \\u03c6\\u03ad\\u03c1\\u03c9\\u03bd \\u03c4\\u0313 \\u1f00\\u03c0\\u03b5\\u03c1\\u03b5\\u03af\\u03c3\\u03b9\\u0313 \\u1f04\\u03c0\\u03bf\\u03b9\\u03bd\\u03b1 , \\u03c3\\u03c4\\u03ad\\u03bc\\u03bc\\u03b1\\u03c4\\u0313 \\u1f14\\u03c7\\u03c9\\u03bd \\u1f10\\u03bd \\u03c7\\u03b5\\u03c1\\u03c3\\u1f76\\u03bd \\u1f11\\u03ba\\u03b7\\u03b2\\u03cc\\u03bb\\u03bf\\u03c5 \\u1f08\\u03c0\\u03cc\\u03bb\\u03bb\\u03c9\\u03bd\\u03bf\\u03c2 \\u03c7\\u03c1\\u03c5\\u03c3\\u03ad\\u1ff3 \\u1f00\\u03bd\\u1f70 \\u03c3\\u03ba\\u03ae\\u03c0\\u03c4\\u03c1\\u1ff3 , \\u03ba\\u03b1\\u1f76 \\u03bb\\u03af\\u03c3\\u03c3\\u03b5\\u03c4\\u03bf \\u03c0\\u03ac\\u03bd\\u03c4\\u03b1\\u03c2 \\u1f08\\u03c7\\u03b1\\u03b9\\u03bf\\u03cd\\u03c2 , \\u1f08\\u03c4\\u03c1\\u03b5\\u0390\\u03b4\\u03b1 \\u03b4\\u1f72 \\u03bc\\u03ac\\u03bb\\u03b9\\u03c3\\u03c4\\u03b1 \\u03b4\\u03cd\\u03c9 \\u03ba\\u03bf\\u03c3\\u03bc\\u03ae\\u03c4\\u03bf\\u03c1\\u03b5 \\u03bb\\u03b1\\u1ff6\\u03bd .\",\"\\u1f43 \\u03b3\\u1f70\\u03c1 \\u1f26\\u03bb\\u03b8\\u03b5 \\u03b8\\u03bf\\u1f70\\u03c2 \\u1f10\\u03c0\\u1f76 \\u03bd\\u1fc6\\u03b1\\u03c2 \\u1f08\\u03c7\\u03b1\\u03b9\\u1ff6\\u03bd \\u03bb\\u03c5\\u03c3\\u03cc\\u03bc\\u03b5\\u03bd\\u03cc\\u03c2 \\u03c4\\u03b5 \\u03b8\\u03cd\\u03b3\\u03b1\\u03c4\\u03c1\\u03b1 \\u03c6\\u03ad\\u03c1\\u03c9\\u03bd \\u03c4\\u0313 \\u1f00\\u03c0\\u03b5\\u03c1\\u03b5\\u03af\\u03c3\\u03b9\\u0313 \\u1f04\\u03c0\\u03bf\\u03b9\\u03bd\\u03b1 , \\u03c3\\u03c4\\u03ad\\u03bc\\u03bc\\u03b1\\u03c4\\u0313 \\u1f14\\u03c7\\u03c9\\u03bd \\u1f10\\u03bd \\u03c7\\u03b5\\u03c1\\u03c3\\u1f76\\u03bd \\u1f11\\u03ba\\u03b7\\u03b2\\u03cc\\u03bb\\u03bf\\u03c5 \\u1f08\\u03c0\\u03cc\\u03bb\\u03bb\\u03c9\\u03bd\\u03bf\\u03c2 \\u03c7\\u03c1\\u03c5\\u03c3\\u03ad\\u1ff3 \\u1f00\\u03bd\\u1f70 \\u03c3\\u03ba\\u03ae\\u03c0\\u03c4\\u03c1\\u1ff3 , \\u03ba\\u03b1\\u1f76 \\u03bb\\u03af\\u03c3\\u03c3\\u03b5\\u03c4\\u03bf \\u03c0\\u03ac\\u03bd\\u03c4\\u03b1\\u03c2 \\u1f08\\u03c7\\u03b1\\u03b9\\u03bf\\u03cd\\u03c2 , \\u1f08\\u03c4\\u03c1\\u03b5\\u0390\\u03b4\\u03b1 \\u03b4\\u1f72 \\u03bc\\u03ac\\u03bb\\u03b9\\u03c3\\u03c4\\u03b1 \\u03b4\\u03cd\\u03c9 , \\u03ba\\u03bf\\u03c3\\u03bc\\u03ae\\u03c4\\u03bf\\u03c1\\u03b5 \\u03bb\\u03b1\\u1ff6\\u03bd \\u00b7\",\"\\u1f66 \\u03c6\\u03af\\u03bb\\u03bf\\u03b9 \\u1f08\\u03c1\\u03b3\\u03b5\\u03af\\u03c9\\u03bd \\u1f21\\u03b3\\u03ae\\u03c4\\u03bf\\u03c1\\u03b5\\u03c2 \\u1f20\\u03b4\\u1f72 \\u03bc\\u03ad\\u03b4\\u03bf\\u03bd\\u03c4\\u03b5\\u03c2 \\u03b5\\u1f30 \\u03bc\\u03ad\\u03bd \\u03c4\\u03b9\\u03c2 \\u03c4\\u1f78\\u03bd \\u1f44\\u03bd\\u03b5\\u03b9\\u03c1\\u03bf\\u03bd \\u1f08\\u03c7\\u03b1\\u03b9\\u1ff6\\u03bd \\u1f04\\u03bb\\u03bb\\u03bf\\u03c2 \\u1f14\\u03bd\\u03b9\\u03c3\\u03c0\\u03b5 \\u03c8\\u03b5\\u1fe6\\u03b4\\u03cc\\u03c2 \\u03ba\\u03b5\\u03bd \\u03c6\\u03b1\\u1fd6\\u03bc\\u03b5\\u03bd \\u03ba\\u03b1\\u1f76 \\u03bd\\u03bf\\u03c3\\u03c6\\u03b9\\u03b6\\u03bf\\u03af\\u03bc\\u03b5\\u03b8\\u03b1 \\u03bc\\u1fb6\\u03bb\\u03bb\\u03bf\\u03bd \\u00b7\",\"\\u1f61\\u03c2 \\u03b4\\u0313 \\u1f45\\u03c4\\u03b5 \\u03c0\\u03bf\\u03c1\\u03c6\\u03cd\\u03c1\\u1fc3 \\u03c0\\u03ad\\u03bb\\u03b1\\u03b3\\u03bf\\u03c2 \\u03bc\\u03ad\\u03b3\\u03b1 \\u03ba\\u03cd\\u03bc\\u03b1\\u03c4\\u03b9 \\u03ba\\u03c9\\u03c6\\u1ff7 \\u1f40\\u03c3\\u03c3\\u03cc\\u03bc\\u03b5\\u03bd\\u03bf\\u03bd \\u03bb\\u03b9\\u03b3\\u03ad\\u03c9\\u03bd \\u1f00\\u03bd\\u03ad\\u03bc\\u03c9\\u03bd \\u03bb\\u03b1\\u03b9\\u03c8\\u03b7\\u03c1\\u1f70 \\u03ba\\u03ad\\u03bb\\u03b5\\u03c5\\u03b8\\u03b1 \\u03b1\\u1f54\\u03c4\\u03c9\\u03c2 , \\u03bf\\u1f50 \\u03b4\\u0313 \\u1f04\\u03c1\\u03b1 \\u03c4\\u03b5 \\u03c0\\u03c1\\u03bf\\u03ba\\u03c5\\u03bb\\u03af\\u03bd\\u03b4\\u03b5\\u03c4\\u03b1\\u03b9 \\u03bf\\u1f50\\u03b4\\u03b5\\u03c4\\u03ad\\u03c1\\u03c9\\u03c3\\u03b5 , \\u03c0\\u03c1\\u03af\\u03bd \\u03c4\\u03b9\\u03bd\\u03b1 \\u03ba\\u03b5\\u03ba\\u03c1\\u03b9\\u03bc\\u03ad\\u03bd\\u03bf\\u03bd \\u03ba\\u03b1\\u03c4\\u03b1\\u03b2\\u03ae\\u03bc\\u03b5\\u03bd\\u03b1\\u03b9 \\u1f10\\u03ba \\u0394\\u03b9\\u1f78\\u03c2 \\u03bf\\u1f56\\u03c1\\u03bf\\u03bd , \\u1f63\\u03c2 \\u1f43 \\u03b3\\u03ad\\u03c1\\u03c9\\u03bd \\u1f45\\u03c1\\u03bc\\u03b1\\u03b9\\u03bd\\u03b5 \\u03b4\\u03b1\\u03ca\\u03b6\\u03cc\\u03bc\\u03b5\\u03bd\\u03bf\\u03c2 \\u03ba\\u03b1\\u03c4\\u1f70 \\u03b8\\u03c5\\u03bc\\u1f78\\u03bd \\u03b4\\u03b9\\u03c7\\u03b8\\u03ac\\u03b4\\u03b9\\u0313 , \\u1f22 \\u03bc\\u03b5\\u03b8\\u0313 \\u1f45\\u03bc\\u03b9\\u03bb\\u03bf\\u03bd \\u1f34\\u03bf\\u03b9 \\u0394\\u03b1\\u03bd\\u03b1\\u1ff6\\u03bd \\u03c4\\u03b1\\u03c7\\u03c5\\u03c0\\u03ce\\u03bb\\u03c9\\u03bd , \\u1f26\\u03b5 \\u03bc\\u03b5\\u03c4\\u0313 \\u1f08\\u03c4\\u03c1\\u03b5\\u0390\\u03b4\\u03b7\\u03bd \\u1f08\\u03b3\\u03b1\\u03bc\\u03ad\\u03bc\\u03bd\\u03bf\\u03bd\\u03b1 \\u03c0\\u03bf\\u03b9\\u03bc\\u03ad\\u03bd\\u03b1 \\u03bb\\u03b1\\u1ff6\\u03bd .\",\"\\u03bc\\u1fc6\\u03bd\\u03b9\\u03bd \\u1f04\\u03b5\\u03b9\\u03b4\\u03b5 \\u03b8\\u03b5\\u1f70 \\u03a0\\u03b7\\u03bb\\u03b7\\u03ca\\u03ac\\u03b4\\u03b5\\u03c9 \\u1f08\\u03c7\\u03b9\\u03bb\\u1fc6\\u03bf\\u03c2 \\u03bf\\u1f50\\u03bb\\u03bf\\u03bc\\u03ad\\u03bd\\u03b7\\u03bd , \\u1f23 \\u03bc\\u03c5\\u03c1\\u03af\\u0313 \\u1f08\\u03c7\\u03b1\\u03b9\\u03bf\\u1fd6\\u03c2 \\u1f04\\u03bb\\u03b3\\u03b5\\u0313 \\u1f14\\u03b8\\u03b7\\u03ba\\u03b5 , \\u03c0\\u03bf\\u03bb\\u03bb\\u1f70\\u03c2 \\u03b4\\u0313 \\u1f30\\u03c6\\u03b8\\u03af\\u03bc\\u03bf\\u03c5\\u03c2 \\u03c8\\u03c5\\u03c7\\u1f70\\u03c2 \\u1f0c\\u03ca\\u03b4\\u03b9 \\u03c0\\u03c1\\u03bf\\u0390\\u03b1\\u03c8\\u03b5\\u03bd \\u1f21\\u03c1\\u03ce\\u03c9\\u03bd , \\u03b1\\u1f50\\u03c4\\u03bf\\u1f7a\\u03c2 \\u03b4\\u1f72 \\u1f11\\u03bb\\u03ce\\u03c1\\u03b9\\u03b1 \\u03c4\\u03b5\\u1fe6\\u03c7\\u03b5 \\u03ba\\u03cd\\u03bd\\u03b5\\u03c3\\u03c3\\u03b9\\u03bd \\u03bf\\u1f30\\u03c9\\u03bd\\u03bf\\u1fd6\\u03c3\\u03af \\u03c4\\u03b5 \\u03c0\\u1fb6\\u03c3\\u03b9 , \\u0394\\u03b9\\u1f78\\u03c2 \\u03b4\\u0313 \\u1f10\\u03c4\\u03b5\\u03bb\\u03b5\\u03af\\u03b5\\u03c4\\u03bf \\u03b2\\u03bf\\u03c5\\u03bb\\u03ae , \\u1f10\\u03be \\u03bf\\u1f57 \\u03b4\\u1f74 \\u03c4\\u1f70 \\u03c0\\u03c1\\u1ff6\\u03c4\\u03b1 \\u03b4\\u03b9\\u03b1\\u03c3\\u03c4\\u03ae\\u03c4\\u03b7\\u03bd \\u1f10\\u03c1\\u03af\\u03c3\\u03b1\\u03bd\\u03c4\\u03b5 \\u1f08\\u03c4\\u03c1\\u03b5\\u0390\\u03b4\\u03b7\\u03c2 \\u03c4\\u03b5 \\u1f04\\u03bd\\u03b1\\u03be \\u1f00\\u03bd\\u03b4\\u03c1\\u1ff6\\u03bd \\u03ba\\u03b1\\u1f76 \\u03b4\\u1fd6\\u03bf\\u03c2 \\u1f08\\u03c7\\u03b9\\u03bb\\u03bb\\u03b5\\u03cd\\u03c2 .\",\"\\u03b8\\u03ae\\u03c3\\u03b5\\u03b9\\u03bd \\u03b3\\u1f70\\u03c1 \\u1f14\\u03c4\\u0313 \\u1f14\\u03bc\\u03b5\\u03bb\\u03bb\\u03b5\\u03bd \\u1f10\\u03c0\\u0313 \\u1f04\\u03bb\\u03b3\\u03b5\\u03ac \\u03c4\\u03b5 \\u03c3\\u03c4\\u03bf\\u03bd\\u03b1\\u03c7\\u03ac\\u03c2 \\u03c4\\u03b5 \\u03a4\\u03c1\\u03c9\\u03c3\\u03af \\u03c4\\u03b5 \\u03ba\\u03b1\\u1f76 \\u0394\\u03b1\\u03bd\\u03b1\\u03bf\\u1fd6\\u03c3\\u03b9 \\u03b4\\u03b9\\u1f70 \\u03ba\\u03c1\\u03b1\\u03c4\\u03b5\\u03c1\\u1f70\\u03c2 \\u1f51\\u03c3\\u03bc\\u03af\\u03bd\\u03b1\\u03c2 .\",\"\\u1f31\\u03c0\\u03c0\\u1fc6\\u03b1\\u03c2 \\u03bc\\u1f72\\u03bd \\u03c0\\u03c1\\u1ff6\\u03c4\\u03b1 \\u03c3\\u1f7a\\u03bd \\u1f35\\u03c0\\u03c0\\u03bf\\u03b9\\u03c3\\u03b9\\u03bd \\u03ba\\u03b1\\u1f76 \\u1f44\\u03c7\\u03b5\\u03c3\\u03c6\\u03b9 , \\u03c0\\u03b5\\u03b6\\u03bf\\u1f7a\\u03c2 \\u03b4\\u0313 \\u1f10\\u03be\\u03cc\\u03c0\\u03b9\\u03b8\\u03b5 \\u03c3\\u03c4\\u1fc6\\u03c3\\u03b5\\u03bd \\u03c0\\u03bf\\u03bb\\u03ad\\u03b1\\u03c2 \\u03c4\\u03b5 \\u03ba\\u03b1\\u1f76 \\u1f10\\u03c3\\u03b8\\u03bb\\u03bf\\u1f7a\\u03c2 \\u1f15\\u03c1\\u03ba\\u03bf\\u03c2 \\u1f14\\u03bc\\u03b5\\u03bd \\u03c0\\u03bf\\u03bb\\u03ad\\u03bc\\u03bf\\u03b9\\u03bf \\u00b7\",\"\\u03ba\\u03b1\\u1f76 \\u03c4\\u1f78\\u03bd \\u1f08\\u03c7\\u03b9\\u03bb\\u03bb\\u03b5\\u1f7a\\u03c2 \\u03b8\\u1fc6\\u03ba\\u03b5\\u03bd \\u1f04\\u03b5\\u03b8\\u03bb\\u03bf\\u03bd \\u03bf\\u1f57 \\u1f11\\u03c4\\u03ac\\u03c1\\u03bf\\u03b9\\u03bf , \\u1f45\\u03c2 \\u03c4\\u03b9\\u03c2 \\u1f10\\u03bb\\u03b1\\u03c6\\u03c1\\u03cc\\u03c4\\u03b1\\u03c4\\u03bf\\u03c2 \\u03c0\\u03bf\\u03c3\\u03c3\\u1f76 \\u03ba\\u03c1\\u03b1\\u03b9\\u03c0\\u03bd\\u03bf\\u1fd6\\u03c3\\u03b9 \\u03c0\\u03ad\\u03bb\\u03bf\\u03b9\\u03c4\\u03bf \\u00b7\",\"\\u03b1\\u1f50\\u03c4\\u1f70\\u03c1 \\u1f45\\u03b8\\u0313 \\u1f55\\u03c0\\u03bd\\u03bf\\u03c2 \\u1f15\\u03bb\\u03bf\\u03b9 , \\u03c0\\u03b1\\u03cd\\u03c3\\u03b1\\u03b9\\u03c4\\u03cc \\u03c4\\u03b5 \\u03bd\\u03b7\\u03c0\\u03b9\\u03b1\\u03c7\\u03b5\\u03cd\\u03c9\\u03bd , \\u03b5\\u1f55\\u03b4\\u03b5\\u03c3\\u03ba\\u0313 \\u1f10\\u03bd \\u03bb\\u03ad\\u03ba\\u03c4\\u03c1\\u03bf\\u03b9\\u03c3\\u03b9\\u03bd \\u1f10\\u03bd \\u1f00\\u03b3\\u03ba\\u03b1\\u03bb\\u03af\\u03b4\\u03b5\\u03c3\\u03c3\\u03b9 \\u03c4\\u03b9\\u03b8\\u03ae\\u03bd\\u03b7\\u03c2 \\u03b5\\u1f50\\u03bd\\u1fc7 \\u1f14\\u03bd\\u03b9 \\u03bc\\u03b1\\u03bb\\u03b1\\u03ba\\u1fc7 \\u03b8\\u03b1\\u03bb\\u03ad\\u03c9\\u03bd \\u1f10\\u03bc\\u03c0\\u03bb\\u03b7\\u03c3\\u03ac\\u03bc\\u03b5\\u03bd\\u03bf\\u03c2 \\u03ba\\u1fc6\\u03c1 \\u00b7\",\"\\u0391\\u1f34\\u03b1\\u03bd\\u03c4\\u03bf\\u03c2 \\u03b4\\u1f72 \\u03c0\\u03c1\\u1ff6\\u03c4\\u03bf\\u03c2 \\u1f00\\u03ba\\u03cc\\u03bd\\u03c4\\u03b9\\u03c3\\u03b5 \\u03c6\\u03b1\\u03af\\u03b4\\u03b9\\u03bc\\u03bf\\u03c2 \\u1f1d\\u03ba\\u03c4\\u03c9\\u03c1 \\u1f14\\u03b3\\u03c7\\u03b5\\u03b9 , \\u1f10\\u03c0\\u03b5\\u1f76 \\u03c4\\u03ad\\u03c4\\u03c1\\u03b1\\u03c0\\u03c4\\u03bf \\u03c0\\u03c1\\u1f78\\u03c2 \\u1f30\\u03b8\\u03cd \\u03bf\\u1f31 , \\u03bf\\u1f50 \\u03b4\\u0313 \\u1f00\\u03c6\\u03ac\\u03bc\\u03b1\\u03c1\\u03c4\\u03b5 , \\u03c4\\u1fc7 \\u1fe5\\u03b1 \\u03b4\\u03cd\\u03c9 \\u03c4\\u03b5\\u03bb\\u03b1\\u03bc\\u1ff6\\u03bd\\u03b5 \\u03c0\\u03b5\\u03c1\\u1f76 \\u03c3\\u03c4\\u03ae\\u03b8\\u03b5\\u03c3\\u03c3\\u03b9 \\u03c4\\u03b5\\u03c4\\u03ac\\u03c3\\u03b8\\u03b7\\u03bd , \\u1f24\\u03c4\\u03bf\\u03b9 \\u1f43 \\u03bc\\u1f72\\u03bd \\u03c3\\u03ac\\u03ba\\u03b5\\u03bf\\u03c2 , \\u1f43 \\u03b4\\u1f72 \\u03c6\\u03b1\\u03c3\\u03b3\\u03ac\\u03bd\\u03bf\\u03c5 \\u1f00\\u03c1\\u03b3\\u03c5\\u03c1\\u03bf\\u03ae\\u03bb\\u03bf\\u03c5 \\u00b7\",\"\\u03c4\\u1fc7 \\u1f45 \\u03b3\\u03b5 \\u03c0\\u03b1\\u03c1\\u03ba\\u03b1\\u03c4\\u03ad\\u03bb\\u03b5\\u03ba\\u03c4\\u03bf \\u03c7\\u03cc\\u03bb\\u03bf\\u03bd \\u03b8\\u03c5\\u03bc\\u03b1\\u03bb\\u03b3\\u03ad\\u03b1 \\u03c0\\u03ad\\u03c3\\u03c3\\u03c9\\u03bd \\u1f10\\u03be \\u1f00\\u03c1\\u03ad\\u03c9\\u03bd \\u03bc\\u03b7\\u03c4\\u03c1\\u1f78\\u03c2 \\u03ba\\u03b5\\u03c7\\u03bf\\u03bb\\u03c9\\u03bc\\u03ad\\u03bd\\u03bf\\u03c2 , \\u1f25 \\u1fe5\\u03b1 \\u03b8\\u03b5\\u03bf\\u1fd6\\u03c3\\u03b9 \\u03c0\\u03cc\\u03bb\\u03bb\\u0313 \\u1f00\\u03c7\\u03ad\\u03bf\\u03c5\\u03c3\\u0313 \\u1f20\\u03c1\\u1fb6\\u03c4\\u03bf \\u03ba\\u03b1\\u03c3\\u03b9\\u03b3\\u03bd\\u03ae\\u03c4\\u03bf\\u03b9\\u03bf \\u03c6\\u03cc\\u03bd\\u03bf\\u03b9\\u03bf , \\u03c0\\u03bf\\u03bb\\u03bb\\u1f70 \\u03b4\\u1f72 \\u03ba\\u03b1\\u1f76 \\u03b3\\u03b1\\u1fd6\\u03b1\\u03bd \\u03c0\\u03bf\\u03bb\\u03c5\\u03c6\\u03cc\\u03c1\\u03b2\\u03b7\\u03bd \\u03c7\\u03b5\\u03c1\\u03c3\\u1f76\\u03bd \\u1f00\\u03bb\\u03bf\\u03af\\u03b1 \\u03ba\\u03b9\\u03ba\\u03bb\\u03ae\\u03c3\\u03ba\\u03bf\\u03c5\\u03c3\\u0313 \\u1f08\\u0390\\u03b4\\u03b7\\u03bd \\u03ba\\u03b1\\u1f76 \\u1f10\\u03c0\\u03b1\\u03b9\\u03bd\\u1f74\\u03bd \\u03a0\\u03b5\\u03c1\\u03c3\\u03b5\\u03c6\\u03cc\\u03bd\\u03b5\\u03b9\\u03b1\\u03bd \\u03c0\\u03c1\\u03cc\\u03c7\\u03bd\\u03c5 \\u03ba\\u03b1\\u03b8\\u03b5\\u03b6\\u03bf\\u03bc\\u03ad\\u03bd\\u03b7 , \\u03b4\\u03b5\\u03cd\\u03bf\\u03bd\\u03c4\\u03bf \\u03b4\\u1f72 \\u03b4\\u03ac\\u03ba\\u03c1\\u03c5\\u03c3\\u03b9 \\u03ba\\u03cc\\u03bb\\u03c0\\u03bf\\u03b9 , \\u03c0\\u03b1\\u03b9\\u03b4\\u1f76 \\u03b4\\u03cc\\u03bc\\u03b5\\u03bd \\u03b8\\u03ac\\u03bd\\u03b1\\u03c4\\u03bf\\u03bd \\u00b7\",\"\\u03c4\\u03bf\\u1fe6 \\u03b4\\u0313 \\u1f00\\u03b3\\u03b1\\u03b8\\u03bf\\u1fe6 \\u03bf\\u1f54 \\u03c4\\u0313 \\u1f02\\u03c1 \\u03c4\\u03c1\\u03ad\\u03c0\\u03b5\\u03c4\\u03b1\\u03b9 \\u03c7\\u03c1\\u1f7c\\u03c2 \\u03bf\\u1f54\\u03c4\\u03ad \\u03c4\\u03b9 \\u03bb\\u03af\\u03b7\\u03bd \\u03c4\\u03b1\\u03c1\\u03b2\\u03b5\\u1fd6 , \\u1f10\\u03c0\\u03b5\\u03b9\\u03b4\\u1f70\\u03bd \\u03c0\\u03c1\\u1ff6\\u03c4\\u03bf\\u03bd \\u1f10\\u03c3\\u03af\\u03b6\\u03b7\\u03c4\\u03b1\\u03b9 \\u03bb\\u03cc\\u03c7\\u03bf\\u03bd \\u1f00\\u03bd\\u03b4\\u03c1\\u1ff6\\u03bd , \\u1f00\\u03c1\\u1fb6\\u03c4\\u03b1\\u03b9 \\u03b4\\u1f72 \\u03c4\\u03ac\\u03c7\\u03b9\\u03c3\\u03c4\\u03b1 \\u03bc\\u03b9\\u03b3\\u03ae\\u03bc\\u03b5\\u03bd\\u03b1\\u03b9 \\u1f10\\u03bd \\u03b4\\u03b1\\u1fd2 \\u03bb\\u03c5\\u03b3\\u03c1\\u1fc7 \\u00b7\",\"\\u03bf\\u1f33 \\u03b4\\u1f72 \\u03c4\\u03ac\\u03c7\\u0313 \\u1f10\\u03ba\\u03c0\\u03ad\\u03c1\\u03c3\\u03bf\\u03c5\\u03c3\\u0313 \\u03b5\\u1f56 \\u03bd\\u03b1\\u03b9\\u03bf\\u03bc\\u03ad\\u03bd\\u03b7\\u03bd \\u03c0\\u03cc\\u03bb\\u03b9\\u03bd \\u1f51\\u03bc\\u03ae\\u03bd .\",\"\\u1f26 \\u03c4\\u0313 \\u1f10\\u03ba\\u03ad\\u03bb\\u03b5\\u03c5\\u03bf\\u03bd \\u1f00\\u03c0\\u03c9\\u03c3\\u03ac\\u03bc\\u03b5\\u03bd\\u03bf\\u03bd \\u03b4\\u03ae\\u03ca\\u03bf\\u03bd \\u03c0\\u1fe6\\u03c1 \\u1f02\\u03c8 \\u1f10\\u03c0\\u1f76 \\u03bd\\u1fc6\\u03b1\\u03c2 \\u1f34\\u03bc\\u03b5\\u03bd , \\u03bc\\u03b7 \\u03b4\\u0313 \\u1f1d\\u03ba\\u03c4\\u03bf\\u03c1\\u03b9 \\u1f36\\u03c6\\u03b9 \\u03bc\\u03ac\\u03c7\\u03b5\\u03c3\\u03b8\\u03b1\\u03b9 .\",\"\\u1f43 \\u03b4\\u0313 \\u1f10\\u03be \\u1f35\\u03c0\\u03c0\\u03c9\\u03bd \\u03c7\\u03b1\\u03bc\\u03ac\\u03b4\\u03b9\\u03c2 \\u03c0\\u03ad\\u03c3\\u03b5 , \\u03bb\\u03cd\\u03bd\\u03c4\\u03bf \\u03b4\\u1f72 \\u03b3\\u03c5\\u1fd6\\u03b1 .\",\"\\u03c0\\u03c1\\u1f78\\u03c2 \\u03b4\\u0313 \\u1f10\\u03bc\\u1f72 \\u03c4\\u1f78\\u03bd \\u03b4\\u03cd\\u03c3\\u03c4\\u03b7\\u03bd\\u03bf\\u03bd \\u1f14\\u03c4\\u03b9 \\u03c6\\u03c1\\u03bf\\u03bd\\u03ad\\u03bf\\u03bd\\u03c4\\u0313 \\u1f10\\u03bb\\u03ad\\u03b7\\u03c3\\u03bf\\u03bd \\u03b4\\u03cd\\u03c3\\u03bc\\u03bf\\u03c1\\u03bf\\u03bd , \\u1f45\\u03bd \\u1fe5\\u03b1 \\u03c0\\u03b1\\u03c4\\u1f74\\u03c1 \\u039a\\u03c1\\u03bf\\u03bd\\u03af\\u03b4\\u03b7\\u03c2 \\u1f10\\u03c0\\u1f76 \\u03b3\\u03ae\\u03c1\\u03b1\\u03bf\\u03c2 \\u03bf\\u1f50\\u03b4\\u1ff7 \\u03b1\\u1f34\\u03c3\\u1fc3 \\u1f10\\u03bd \\u1f00\\u03c1\\u03b3\\u03b1\\u03bb\\u03ad\\u1fc3 \\u03c6\\u03b8\\u03af\\u03c3\\u03b5\\u03b9 \\u03ba\\u03b1\\u03ba\\u1f70 \\u03c0\\u03cc\\u03bb\\u03bb\\u0313 \\u1f10\\u03c0\\u03b9\\u03b4\\u03cc\\u03bd\\u03c4\\u03b1 \\u03c5\\u1f37\\u03ac\\u03c2 \\u03c4\\u0313 \\u1f40\\u03bb\\u03bb\\u03c5\\u03bc\\u03ad\\u03bd\\u03bf\\u03c5\\u03c2 \\u1f11\\u03bb\\u03ba\\u03b7\\u03b8\\u03b5\\u03af\\u03c3\\u03b1\\u03c2 \\u03c4\\u03b5 \\u03b8\\u03cd\\u03b3\\u03b1\\u03c4\\u03c1\\u03b1\\u03c2 , \\u03ba\\u03b1\\u1f76 \\u03b8\\u03b1\\u03bb\\u03ac\\u03bc\\u03bf\\u03c5\\u03c2 \\u03ba\\u03b5\\u03c1\\u03b1\\u03ca\\u03b6\\u03bf\\u03bc\\u03ad\\u03bd\\u03bf\\u03c5\\u03c2 , \\u03ba\\u03b1\\u1f76 \\u03bd\\u03ae\\u03c0\\u03b9\\u03b1 \\u03c4\\u03ad\\u03ba\\u03bd\\u03b1 \\u03b2\\u03b1\\u03bb\\u03bb\\u03cc\\u03bc\\u03b5\\u03bd\\u03b1 \\u03c0\\u03c1\\u03bf\\u03c4\\u1f76 \\u03b3\\u03b1\\u03af\\u1fc3 \\u1f10\\u03bd \\u03b1\\u1f30\\u03bd\\u1fc7 \\u03b4\\u03b7\\u03ca\\u03bf\\u03c4\\u1fc6\\u03c4\\u03b9 , \\u1f11\\u03bb\\u03ba\\u03bf\\u03bc\\u03ad\\u03bd\\u03b1\\u03c2 \\u03c4\\u03b5 \\u03bd\\u03c5\\u03bf\\u1f7a\\u03c2 \\u1f40\\u03bb\\u03bf\\u1fc7\\u03c2 \\u1f51\\u03c0\\u1f78 \\u03c7\\u03b5\\u03c1\\u03c3\\u1f76\\u03bd \\u1f08\\u03c7\\u03b1\\u03b9\\u1ff6\\u03bd .\",\"\\u03c4\\u03bf\\u1fe6 \\u03b4\\u0313 \\u1f00\\u03c0\\u1f78 \\u03bc\\u1f72\\u03bd \\u03ba\\u03c4\\u03b9\\u03b4\\u03ad\\u03b7\\u03bd \\u03ba\\u03c5\\u03bd\\u03ad\\u03b7\\u03bd \\u03ba\\u03b5\\u03c6\\u03b1\\u03bb\\u1fc6\\u03c6\\u03b9\\u03bd \\u1f15\\u03bb\\u03bf\\u03bd\\u03c4\\u03bf \\u03ba\\u03b1\\u1f76 \\u03bb\\u03c5\\u03ba\\u03ad\\u03b7\\u03bd \\u03ba\\u03b1\\u1f76 \\u03c4\\u03cc\\u03be\\u03b1 \\u03c0\\u03b1\\u03bb\\u03af\\u03bd\\u03c4\\u03bf\\u03bd\\u03b1 \\u03ba\\u03b1\\u1f76 \\u03b4\\u03cc\\u03c1\\u03c5 \\u03bc\\u03b1\\u03ba\\u03c1\\u03cc\\u03bd \\u00b7\",\"\\u03a4\\u03b5\\u1fe6\\u03ba\\u03c1\\u03bf\\u03c2 \\u03b4\\u0313 \\u03b5\\u1f34\\u03bd\\u03b1\\u03c4\\u03bf\\u03c2 \\u1f26\\u03bb\\u03b8\\u03b5 \\u03c0\\u03b1\\u03bb\\u03af\\u03bd\\u03c4\\u03bf\\u03bd\\u03b1 \\u03c4\\u03cc\\u03be\\u03b1 \\u03c4\\u03b9\\u03c4\\u03b1\\u03af\\u03bd\\u03c9\\u03bd , \\u03c3\\u03c4\\u1fc6 \\u03b4\\u0313 \\u1f04\\u03c1\\u0313 \\u1f51\\u03c0\\u0313 \\u0391\\u1f34\\u03b1\\u03bd\\u03c4\\u03bf\\u03c2 \\u03c3\\u03ac\\u03ba\\u03b5\\u03ca \\u03a4\\u03b5\\u03bb\\u03b1\\u03bc\\u03c9\\u03bd\\u03b9\\u03ac\\u03b4\\u03b1\\u03bf .\",\"\\u1f43 \\u03b4\\u1f72 \\u03a3\\u03c7\\u03b5\\u03b4\\u03af\\u03bf\\u03bd \\u03bc\\u03b5\\u03b3\\u03b1\\u03b8\\u03cd\\u03bc\\u03bf\\u03c5 \\u1f38\\u03c6\\u03af\\u03c4\\u03bf\\u03c5 \\u03c5\\u1f31\\u1f78\\u03bd \\u03a6\\u03c9\\u03ba\\u03ae\\u03c9\\u03bd \\u1f44\\u03c7\\u0313 \\u1f04\\u03c1\\u03b9\\u03c3\\u03c4\\u03bf\\u03bd , \\u1f43\\u03c2 \\u1f10\\u03bd \\u03ba\\u03bb\\u03b5\\u03b9\\u03c4\\u1ff7 \\u03a0\\u03b1\\u03bd\\u03bf\\u03c0\\u1fc6\\u03ca \\u03bf\\u1f30\\u03ba\\u03af\\u03b1 \\u03bd\\u03b1\\u03b9\\u03b5\\u03c4\\u03ac\\u03b1\\u03c3\\u03ba\\u03b5 \\u03c0\\u03bf\\u03bb\\u03ad\\u03c3\\u03c3\\u0313 \\u1f04\\u03bd\\u03b4\\u03c1\\u03b5\\u03c3\\u03c3\\u03b9\\u03bd \\u1f00\\u03bd\\u03ac\\u03c3\\u03c3\\u03c9\\u03bd , \\u03c4\\u1f78\\u03bd \\u03b2\\u03ac\\u03bb\\u0313 \\u1f51\\u03c0\\u1f78 \\u03ba\\u03bb\\u03b7\\u1fd7\\u03b4\\u03b1 \\u03bc\\u03ad\\u03c3\\u03b7\\u03bd \\u00b7\",\"\\u03b1\\u1f50\\u03c4\\u1f70\\u03c1 \\u1f08\\u03c7\\u03b1\\u03b9\\u03bf\\u1f76 \\u03c4\\u03c1\\u03b9\\u03c0\\u03bb\\u1fc7 \\u03c4\\u03b5\\u03c4\\u03c1\\u03b1\\u03c0\\u03bb\\u1fc7 \\u03c4\\u0313 \\u1f00\\u03c0\\u03bf\\u03c4\\u03b5\\u03af\\u03c3\\u03bf\\u03bc\\u03b5\\u03bd , \\u03b1\\u1f34 \\u03ba\\u03ad \\u03c0\\u03bf\\u03b8\\u03b9 \\u0396\\u03b5\\u1f7a\\u03c2 \\u03b4\\u1ff7\\u03c3\\u03b9 \\u03c0\\u03cc\\u03bb\\u03b9\\u03bd \\u03a4\\u03c1\\u03bf\\u03af\\u03b7\\u03bd \\u03b5\\u1f50\\u03c4\\u03b5\\u03af\\u03c7\\u03b5\\u03bf\\u03bd \\u1f10\\u03be\\u03b1\\u03bb\\u03b1\\u03c0\\u03ac\\u03be\\u03b1\\u03b9 .\",\"\\u03bf\\u1f50 \\u03b3\\u03ac\\u03c1 \\u03bf\\u1f35 \\u03c4\\u03b9\\u03c2 \\u1f10\\u03c4\\u03ae\\u03c4\\u03c5\\u03bc\\u03bf\\u03c2 \\u1f04\\u03b3\\u03b3\\u03b5\\u03bb\\u03bf\\u03c2 \\u1f10\\u03bb\\u03b8\\u1f7c\\u03bd \\u1f24\\u03b3\\u03b3\\u03b5\\u03b9\\u03bb\\u0313 \\u1f45\\u03c4\\u03c4\\u03af \\u1fe5\\u03ac \\u03bf\\u1f31 \\u03c0\\u03cc\\u03c3\\u03b9\\u03c2 \\u1f14\\u03ba\\u03c4\\u03bf\\u03b8\\u03b9 \\u03bc\\u03af\\u03bc\\u03bd\\u03b5 \\u03c0\\u03c5\\u03bb\\u03ac\\u03c9\\u03bd , \\u1f00\\u03bb\\u03bb\\u0313 \\u1f25 \\u03b3\\u0313 \\u1f31\\u03c3\\u03c4\\u1f78\\u03bd \\u1f55\\u03c6\\u03b1\\u03b9\\u03bd\\u03b5 \\u03bc\\u03c5\\u03c7\\u1ff7 \\u03b4\\u03cc\\u03bc\\u03bf\\u03c5 \\u1f51\\u03c8\\u03b7\\u03bb\\u03bf\\u1fd6\\u03bf \\u03b4\\u03af\\u03c0\\u03bb\\u03b1\\u03ba\\u03b1 \\u03c0\\u03bf\\u03c1\\u03c6\\u03c5\\u03c1\\u03ad\\u03b7\\u03bd , \\u1f10\\u03bd \\u03b4\\u1f72 \\u03b8\\u03c1\\u03cc\\u03bd\\u03b1 \\u03c0\\u03bf\\u03b9\\u03ba\\u03af\\u03bb\\u0313 \\u1f14\\u03c0\\u03b1\\u03c3\\u03c3\\u03b5 .\",\"\\u1f00\\u03bb\\u03bb\\u0313 \\u1f10\\u03c0\\u03af\\u03ba\\u03bf\\u03c5\\u03c1\\u03bf\\u03b9 \\u03c0\\u03bf\\u03bb\\u03bb\\u03ad\\u03c9\\u03bd \\u1f10\\u03ba \\u03c0\\u03bf\\u03bb\\u03af\\u03c9\\u03bd \\u1f10\\u03b3\\u03c7\\u03ad\\u03c3\\u03c0\\u03b1\\u03bb\\u03bf\\u03b9 \\u1f04\\u03bd\\u03b4\\u03c1\\u03b5\\u03c2 \\u1f14\\u03b1\\u03c3\\u03b9\\u03bd , \\u03bf\\u1f35 \\u03bc\\u03b5 \\u03bc\\u03ad\\u03b3\\u03b1 \\u03c0\\u03bb\\u03ac\\u03b6\\u03bf\\u03c5\\u03c3\\u03b9 \\u03ba\\u03b1\\u1f76 \\u03bf\\u1f50\\u03ba \\u03b5\\u1f30\\u1ff6\\u03c3\\u0313 \\u1f10\\u03b8\\u03ad\\u03bb\\u03bf\\u03bd\\u03c4\\u03b1 \\u1f38\\u03bb\\u03af\\u03bf\\u03c5 \\u1f10\\u03ba\\u03c0\\u03ad\\u03c1\\u03c3\\u03b1\\u03b9 \\u03b5\\u1f56 \\u03bd\\u03b1\\u03b9\\u03cc\\u03bc\\u03b5\\u03bd\\u03bf\\u03bd \\u03c0\\u03c4\\u03bf\\u03bb\\u03af\\u03b5\\u03b8\\u03c1\\u03bf\\u03bd .\",\"\\u039d\\u03b9\\u03c1\\u03b5\\u1f7a\\u03c2 \\u03b1\\u1f56 \\u03a3\\u03cd\\u03bc\\u03b7\\u03b8\\u03b5\\u03bd \\u1f04\\u03b3\\u03b5 \\u03c4\\u03c1\\u03b5\\u1fd6\\u03c2 \\u03bd\\u1fc6\\u03b1\\u03c2 \\u1f10\\u0390\\u03c3\\u03b1\\u03c2 \\u039d\\u03b9\\u03c1\\u03b5\\u1f7a\\u03c2 \\u1f08\\u03b3\\u03bb\\u03b1\\u0390\\u03b7\\u03c2 \\u03c5\\u1f31\\u1f78\\u03c2 \\u03a7\\u03b1\\u03c1\\u03cc\\u03c0\\u03bf\\u03b9\\u03cc \\u03c4\\u0313 \\u1f04\\u03bd\\u03b1\\u03ba\\u03c4\\u03bf\\u03c2 \\u039d\\u03b9\\u03c1\\u03b5\\u03cd\\u03c2 , \\u1f43\\u03c2 \\u03ba\\u03ac\\u03bb\\u03bb\\u03b9\\u03c3\\u03c4\\u03bf\\u03c2 \\u1f00\\u03bd\\u1f74\\u03c1 \\u1f51\\u03c0\\u1f78 \\u1f3c\\u03bb\\u03b9\\u03bf\\u03bd \\u1f26\\u03bb\\u03b8\\u03b5 \\u03c4\\u1ff6\\u03bd \\u1f04\\u03bb\\u03bb\\u03c9\\u03bd \\u0394\\u03b1\\u03bd\\u03b1\\u1ff6\\u03bd \\u03bc\\u03b5\\u03c4\\u0313 \\u1f00\\u03bc\\u03cd\\u03bc\\u03bf\\u03bd\\u03b1 \\u03a0\\u03b7\\u03bb\\u03b5\\u0390\\u03c9\\u03bd\\u03b1 \\u00b7\",\"\\u03b2\\u03ac\\u03c3\\u03ba\\u0313 \\u1f34\\u03b8\\u03b9 \\u1f3e\\u03c1\\u03b9 \\u03c4\\u03b1\\u03c7\\u03b5\\u1fd6\\u03b1 \\u03bb\\u03b9\\u03c0\\u03bf\\u1fe6\\u03c3\\u0313 \\u1f15\\u03b4\\u03bf\\u03c2 \\u039f\\u1f50\\u03bb\\u03cd\\u03bc\\u03c0\\u03bf\\u03b9\\u03bf \\u1f04\\u03b3\\u03b3\\u03b5\\u03b9\\u03bb\\u03bf\\u03bd \\u03a0\\u03c1\\u03b9\\u03ac\\u03bc\\u1ff3 \\u03bc\\u03b5\\u03b3\\u03b1\\u03bb\\u03ae\\u03c4\\u03bf\\u03c1\\u03b9 \\u1f3c\\u03bb\\u03b9\\u03bf\\u03bd \\u03b5\\u1f34\\u03c3\\u03c9 \\u03bb\\u03cd\\u03c3\\u03b1\\u03c3\\u03b8\\u03b1\\u03b9 \\u03c6\\u03af\\u03bb\\u03bf\\u03bd \\u03c5\\u1f31\\u1f78\\u03bd \\u1f30\\u03cc\\u03bd\\u03c4\\u0313 \\u1f10\\u03c0\\u1f76 \\u03bd\\u1fc6\\u03b1\\u03c2 \\u1f08\\u03c7\\u03b1\\u03b9\\u1ff6\\u03bd , \\u03b4\\u1ff6\\u03c1\\u03b1 \\u03b4\\u0313 \\u1f08\\u03c7\\u03b9\\u03bb\\u03bb\\u1fc6\\u03ca \\u03c6\\u03b5\\u03c1\\u03ad\\u03bc\\u03b5\\u03bd \\u03c4\\u03ac \\u03ba\\u03b5 \\u03b8\\u03c5\\u03bc\\u1f78\\u03bd \\u1f30\\u03ae\\u03bd\\u1fc3 \\u03bf\\u1f36\\u03bf\\u03bd , \\u03bc\\u1f74 \\u03b4\\u03ad \\u03c4\\u03b9\\u03c2 \\u1f04\\u03bb\\u03bb\\u03bf\\u03c2 \\u1f05\\u03bc\\u03b1 \\u03a4\\u03c1\\u03ce\\u03c9\\u03bd \\u1f34\\u03c4\\u03c9 \\u1f00\\u03bd\\u03ae\\u03c1 .\",\"\\u1f10\\u03c0\\u1f76 \\u03b4\\u1f72 \\u03c0\\u03c4\\u03cc\\u03bb\\u03b5\\u03bc\\u03bf\\u03c2 \\u03c4\\u03ad\\u03c4\\u03b1\\u03c4\\u03cc \\u03c3\\u03c6\\u03b9\\u03bd \\u1f04\\u03b3\\u03c1\\u03b9\\u03bf\\u03c2 \\u1f20\\u03b0\\u03c4\\u03b5 \\u03c0\\u1fe6\\u03c1 , \\u03c4\\u03cc \\u03c4\\u0313 \\u1f10\\u03c0\\u03b5\\u03c3\\u03c3\\u03cd\\u03bc\\u03b5\\u03bd\\u03bf\\u03bd \\u03c0\\u03cc\\u03bb\\u03b9\\u03bd \\u1f00\\u03bd\\u03b4\\u03c1\\u1ff6\\u03bd \\u1f44\\u03c1\\u03bc\\u03b5\\u03bd\\u03bf\\u03bd \\u1f10\\u03be\\u03b1\\u03af\\u03c6\\u03bd\\u03b7\\u03c2 \\u03c6\\u03bb\\u03b5\\u03b3\\u03ad\\u03b8\\u03b5\\u03b9 , \\u03bc\\u03b9\\u03bd\\u03cd\\u03b8\\u03bf\\u03c5\\u03c3\\u03b9 \\u03b4\\u1f72 \\u03bf\\u1f36\\u03ba\\u03bf\\u03b9 \\u1f10\\u03bd \\u03c3\\u03ad\\u03bb\\u03b1\\u03ca \\u03bc\\u03b5\\u03b3\\u03ac\\u03bb\\u1ff3 \\u00b7\",\"\\u1f00\\u03bb\\u03bb\\u0313 \\u1f10\\u03c0\\u1f76 \\u03ba\\u03b1\\u1f76 \\u03c4\\u1ff7 \\u03b8\\u1fc6\\u03ba\\u03b5 \\u03b8\\u03b5\\u1f78\\u03c2 \\u03ba\\u03b1\\u03ba\\u03cc\\u03bd , \\u1f45\\u03c4\\u03c4\\u03af \\u03bf\\u1f31 \\u03bf\\u1f54 \\u03c4\\u03b9 \\u03c0\\u03b1\\u03af\\u03b4\\u03c9\\u03bd \\u1f10\\u03bd \\u03bc\\u03b5\\u03b3\\u03ac\\u03c1\\u03bf\\u03b9\\u03c3\\u03b9 \\u03b3\\u03bf\\u03bd\\u1f74 \\u03b3\\u03ad\\u03bd\\u03b5\\u03c4\\u03bf \\u03ba\\u03c1\\u03b5\\u03b9\\u03cc\\u03bd\\u03c4\\u03c9\\u03bd , \\u1f00\\u03bb\\u03bb\\u0313 \\u1f15\\u03bd\\u03b1 \\u03c0\\u03b1\\u1fd6\\u03b4\\u03b1 \\u03c4\\u03ad\\u03ba\\u03b5\\u03bd \\u03c0\\u03b1\\u03bd\\u03b1\\u03ce\\u03c1\\u03b9\\u03bf\\u03bd \\u00b7\",\"\\u03c4\\u1f78\\u03bd \\u03bd\\u1fe6\\u03bd \\u03bf\\u1f50\\u03ba \\u1f14\\u03c4\\u03bb\\u03b7\\u03c4\\u03b5 \\u03bd\\u03ad\\u03ba\\u03c5\\u03bd \\u03c0\\u03b5\\u03c1 \\u1f10\\u03cc\\u03bd\\u03c4\\u03b1 \\u03c3\\u03b1\\u1ff6\\u03c3\\u03b1\\u03b9 \\u1f97 \\u03c4\\u0313 \\u1f00\\u03bb\\u03cc\\u03c7\\u1ff3 \\u1f30\\u03b4\\u03ad\\u03b5\\u03b9\\u03bd \\u03ba\\u03b1\\u1f76 \\u03bc\\u03b7\\u03c4\\u03ad\\u03c1\\u03b9 \\u03ba\\u03b1\\u1f76 \\u03c4\\u03ad\\u03ba\\u03b5\\u03ca \\u1fa7 \\u03ba\\u03b1\\u1f76 \\u03c0\\u03b1\\u03c4\\u03ad\\u03c1\\u03b9 \\u03a0\\u03c1\\u03b9\\u03ac\\u03bc\\u1ff3 \\u03bb\\u03b1\\u03bf\\u1fd6\\u03c3\\u03af \\u03c4\\u03b5 , \\u03c4\\u03bf\\u03af \\u03ba\\u03ad \\u03bc\\u03b9\\u03bd \\u1f66\\u03ba\\u03b1 \\u1f10\\u03bd \\u03c0\\u03c5\\u03c1\\u1f76 \\u03ba\\u03ae\\u03b1\\u03b9\\u03b5\\u03bd \\u03ba\\u03b1\\u1f76 \\u1f10\\u03c0\\u1f76 \\u03ba\\u03c4\\u03ad\\u03c1\\u03b5\\u03b1 \\u03ba\\u03c4\\u03b5\\u03c1\\u03af\\u03c3\\u03b1\\u03b9\\u03b5\\u03bd .\",\"\\u03a4\\u03c1\\u1ff6\\u03b5\\u03c2 \\u03b4\\u1f72 \\u03bb\\u03b5\\u03af\\u03bf\\u03c5\\u03c3\\u03b9\\u03bd \\u1f10\\u03bf\\u03b9\\u03ba\\u03cc\\u03c4\\u03b5\\u03c2 \\u1f60\\u03bc\\u03bf\\u03c6\\u03ac\\u03b3\\u03bf\\u03b9\\u03c3\\u03b9 \\u03bd\\u03b7\\u03c5\\u03c3\\u1f76\\u03bd \\u1f10\\u03c0\\u03b5\\u03c3\\u03c3\\u03b5\\u03cd\\u03bf\\u03bd\\u03c4\\u03bf , \\u0394\\u03b9\\u1f78\\u03c2 \\u03b4\\u0313 \\u1f10\\u03c4\\u03ad\\u03bb\\u03b5\\u03b9\\u03bf\\u03bd \\u1f10\\u03c6\\u03b5\\u03c4\\u03bc\\u03ac\\u03c2 , \\u1f45 \\u03c3\\u03c6\\u03b9\\u03c3\\u03b9\\u03bd \\u03b1\\u1f30\\u1f72\\u03bd \\u1f14\\u03b3\\u03b5\\u03b9\\u03c1\\u03b5 \\u03bc\\u03ad\\u03bd\\u03bf\\u03c2 \\u03bc\\u03ad\\u03b3\\u03b1 , \\u03b8\\u03ad\\u03bb\\u03b3\\u03b5 \\u03b4\\u1f72 \\u03b8\\u03c5\\u03bc\\u1f78\\u03bd \\u1f08\\u03c1\\u03b3\\u03b5\\u03af\\u03c9\\u03bd \\u03ba\\u03b1\\u1f76 \\u03ba\\u1fe6\\u03b4\\u03bf\\u03c2 \\u1f00\\u03c0\\u03b1\\u03af\\u03bd\\u03c5\\u03c4\\u03bf , \\u03c4\\u03bf\\u1f7a\\u03c2 \\u03b4\\u0313 \\u1f40\\u03c1\\u03cc\\u03b8\\u03c5\\u03bd\\u03b5\\u03bd .\",\"\\u03b5\\u1f30 \\u03b4\\u0313 \\u1f02\\u03bd \\u1f10\\u03bc\\u03bf\\u1f76 \\u03c4\\u03b9\\u03bc\\u1f74\\u03bd \\u03a0\\u03c1\\u03af\\u03b1\\u03bc\\u03bf\\u03c2 \\u03a0\\u03c1\\u03b9\\u03ac\\u03bc\\u03bf\\u03b9\\u03cc \\u03c4\\u03b5 \\u03c0\\u03b1\\u1fd6\\u03b4\\u03b5\\u03c2 \\u03c4\\u03af\\u03bd\\u03b5\\u03b9\\u03bd \\u03bf\\u1f50\\u03ba \\u1f10\\u03b8\\u03ad\\u03bb\\u03c9\\u03c3\\u03b9\\u03bd \\u1f08\\u03bb\\u03b5\\u03be\\u03ac\\u03bd\\u03b4\\u03c1\\u03bf\\u03b9\\u03bf \\u03c0\\u03b5\\u03c3\\u03cc\\u03bd\\u03c4\\u03bf\\u03c2 , \\u03b1\\u1f50\\u03c4\\u1f70\\u03c1 \\u1f10\\u03b3\\u1f7c \\u03ba\\u03b1\\u1f76 \\u1f14\\u03c0\\u03b5\\u03b9\\u03c4\\u03b1 \\u03bc\\u03b1\\u03c7\\u03ae\\u03c3\\u03bf\\u03bc\\u03b1\\u03b9 \\u03b5\\u1f35\\u03bd\\u03b5\\u03ba\\u03b1 \\u03c0\\u03bf\\u03b9\\u03bd\\u1fc6\\u03c2 \\u03b1\\u1f56\\u03b8\\u03b9 \\u03bc\\u03ad\\u03bd\\u03c9\\u03bd , \\u1f27\\u03cc\\u03c2 \\u03ba\\u03b5 \\u03c4\\u03ad\\u03bb\\u03bf\\u03c2 \\u03c0\\u03bf\\u03bb\\u03ad\\u03bc\\u03bf\\u03b9\\u03bf \\u03ba\\u03b9\\u03c7\\u03b5\\u03af\\u03c9 .\",\"\\u1f26 \\u03bf\\u1f50 \\u03bc\\u03ad\\u03bc\\u03bd\\u1fc3 \\u1f45\\u03c4\\u03b5 \\u03c4\\u0313 \\u1f10\\u03ba\\u03c1\\u03ad\\u03bc\\u03c9 \\u1f51\\u03c8\\u03cc\\u03b8\\u03b5\\u03bd , \\u1f10\\u03ba \\u03b4\\u1f72 \\u03c0\\u03bf\\u03b4\\u03bf\\u1fd6\\u03b9\\u03bd \\u1f04\\u03ba\\u03bc\\u03bf\\u03bd\\u03b1\\u03c2 \\u1f27\\u03ba\\u03b1 \\u03b4\\u03cd\\u03c9 , \\u03c0\\u03b5\\u03c1\\u1f76 \\u03c7\\u03b5\\u03c1\\u03c3\\u1f76 \\u03b4\\u1f72 \\u03b4\\u03b5\\u03c3\\u03bc\\u1f78\\u03bd \\u1f34\\u03b7\\u03bb\\u03b1 \\u03c7\\u03c1\\u03cd\\u03c3\\u03b5\\u03bf\\u03bd \\u1f04\\u03c1\\u03c1\\u03b7\\u03ba\\u03c4\\u03bf\\u03bd ;\"],[\"\\u1f14\\u03c0\\u03b5\\u03b9\\u03c4\\u03b1 \\u03c0\\u03bf\\u03af\\u03b1\\u03c2 \\u1f21\\u03bc\\u03ad\\u03c1\\u03b1\\u03c2 \\u03b4\\u03bf\\u03ba\\u03b5\\u1fd6\\u03c2 \\u03bc\\u0313 \\u1f04\\u03b3\\u03b5\\u03b9\\u03bd , \\u1f45\\u03c4\\u03b1\\u03bd \\u03b8\\u03c1\\u03cc\\u03bd\\u03bf\\u03b9\\u03c2 \\u0391\\u1f34\\u03b3\\u03b9\\u03c3\\u03b8\\u03bf\\u03bd \\u1f10\\u03bd\\u03b8\\u03b1\\u03ba\\u03bf\\u1fe6\\u03bd\\u03c4\\u0313 \\u1f34\\u03b4\\u03c9 \\u03c4\\u03bf\\u1fd6\\u03c3\\u03b9\\u03bd \\u03c0\\u03b1\\u03c4\\u03c1\\u1ff4\\u03bf\\u03b9\\u03c2 , \\u03b5\\u1f30\\u03c3\\u03af\\u03b4\\u03c9 \\u03b4\\u0313 \\u1f10\\u03c3\\u03b8\\u03ae\\u03bc\\u03b1\\u03c4\\u03b1 \\u03c6\\u03bf\\u03c1\\u03bf\\u1fe6\\u03bd\\u03c4\\u0313 \\u1f10\\u03ba\\u03b5\\u03af\\u03bd\\u1ff3 \\u03c4\\u03b1\\u1f50\\u03c4\\u1f70 \\u03ba\\u03b1\\u1f76 \\u03c0\\u03b1\\u03c1\\u03b5\\u03c3\\u03c4\\u03af\\u03bf\\u03c5\\u03c2 \\u03c3\\u03c0\\u03ad\\u03bd\\u03b4\\u03bf\\u03bd\\u03c4\\u03b1 \\u03bb\\u03bf\\u03b9\\u03b2\\u1f70\\u03c2 \\u1f14\\u03bd\\u03b8\\u0313 \\u1f10\\u03ba\\u03b5\\u1fd6\\u03bd\\u03bf\\u03bd \\u1f64\\u03bb\\u03b5\\u03c3\\u03b5\\u03bd , \\u1f34\\u03b4\\u03c9 \\u03b4\\u1f72 \\u03c4\\u03bf\\u03cd\\u03c4\\u03c9\\u03bd \\u03c4\\u1f74\\u03bd \\u03c4\\u03b5\\u03bb\\u03b5\\u03c5\\u03c4\\u03b1\\u03af\\u03b1\\u03bd \\u1f55\\u03b2\\u03c1\\u03b9\\u03bd , \\u03c4\\u1f78\\u03bd \\u03b1\\u1f50\\u03c4\\u03bf\\u03ad\\u03bd\\u03c4\\u03b7\\u03bd \\u1f21\\u03bc\\u1f76\\u03bd \\u1f10\\u03bd \\u03ba\\u03bf\\u03af\\u03c4\\u1fc3 \\u03c0\\u03b1\\u03c4\\u03c1\\u1f78\\u03c2 \\u03be\\u1f7a\\u03bd \\u03c4\\u1fc7 \\u03c4\\u03b1\\u03bb\\u03b1\\u03af\\u03bd\\u1fc3 \\u03bc\\u03b7\\u03c4\\u03c1\\u03af , \\u03bc\\u03b7\\u03c4\\u03ad\\u03c1\\u0313 \\u03b5\\u1f30 \\u03c7\\u03c1\\u03b5\\u1f7c\\u03bd \\u03c4\\u03b1\\u03cd\\u03c4\\u03b7\\u03bd \\u03c0\\u03c1\\u03bf\\u03c3\\u03b1\\u03c5\\u03b4\\u1fb6\\u03bd \\u03c4\\u1ff7\\u03b4\\u03b5 \\u03c3\\u03c5\\u03b3\\u03ba\\u03bf\\u03b9\\u03bc\\u03c9\\u03bc\\u03ad\\u03bd\\u03b7\\u03bd \\u00b7\",\"\\u03b5\\u1f34\\u03b8\\u0313 \\u1f64\\u03c6\\u03b5\\u03bb\\u03b5\\u03c2 \\u03c4\\u03bf\\u03b9\\u03ac\\u03b4\\u03b5 \\u03c4\\u1f74\\u03bd \\u03b3\\u03bd\\u03ce\\u03bc\\u03b7\\u03bd \\u03c0\\u03b1\\u03c4\\u03c1\\u1f78\\u03c2 \\u03b8\\u03bd\\u1fc4\\u03c3\\u03ba\\u03bf\\u03bd\\u03c4\\u03bf\\u03c2 \\u03b5\\u1f36\\u03bd\\u03b1\\u03b9 \\u00b7\",\"\\u1f06\\u03c1\\u0313 \\u1f51\\u03bc\\u1f76\\u03bd \\u1f61\\u03c2 \\u1f00\\u03bb\\u03b3\\u03bf\\u1fe6\\u03c3\\u03b1 \\u03ba\\u1f60\\u03b4\\u03c5\\u03bd\\u03c9\\u03bc\\u03ad\\u03bd\\u03b7 \\u03b4\\u03b5\\u03b9\\u03bd\\u1ff6\\u03c2 \\u03b4\\u03b1\\u03ba\\u03c1\\u1fe6\\u03c3\\u03b1\\u03b9 \\u03ba\\u1f00\\u03c0\\u03b9\\u03ba\\u03c9\\u03ba\\u1fe6\\u03c3\\u03b1\\u03b9 \\u03b4\\u03bf\\u03ba\\u03b5\\u1fd6 \\u03c4\\u1f78\\u03bd \\u03c5\\u1f31\\u1f78\\u03bd \\u1f21 \\u03b4\\u03cd\\u03c3\\u03c4\\u03b7\\u03bd\\u03bf\\u03c2 \\u1f67\\u03b4\\u0313 \\u1f40\\u03bb\\u03c9\\u03bb\\u03cc\\u03c4\\u03b1 ;\",\"\\u03bf\\u1f54\\u03c4\\u03bf\\u03b9 \\u03c4\\u03b1\\u03c7\\u03b5\\u1fd6\\u03b1 \\u03bd\\u03b1\\u03c5\\u03c4\\u03b9\\u03ba\\u03bf\\u1fe6 \\u03c3\\u03c4\\u03c1\\u03b1\\u03c4\\u03bf\\u1fe6 \\u03c3\\u03c4\\u03bf\\u03bb\\u03ae , \\u03bf\\u1f50 \\u03b4\\u0313 \\u1f45\\u03c1\\u03bc\\u03bf\\u03c2 , \\u03bf\\u1f57 \\u03b4\\u03b5\\u1fd6 \\u03c0\\u03b5\\u03b9\\u03c3\\u03bc\\u03ac\\u03c4\\u03c9\\u03bd \\u03c3\\u03c9\\u03c4\\u03ae\\u03c1\\u03b9\\u03b1 \\u1f10\\u03c2 \\u03b3\\u1fc6\\u03bd \\u1f10\\u03bd\\u03b5\\u03b3\\u03ba\\u03b5\\u1fd6\\u03bd , \\u03bf\\u1f50 \\u03b4\\u0313 \\u1f10\\u03bd \\u1f00\\u03b3\\u03ba\\u03c5\\u03c1\\u03bf\\u03c5\\u03c7\\u03af\\u03b1\\u03b9\\u03c2 \\u03b8\\u03b1\\u03c1\\u03c3\\u03bf\\u1fe6\\u03c3\\u03b9 \\u03bd\\u03b1\\u1ff6\\u03bd \\u03c0\\u03bf\\u03b9\\u03bc\\u03ad\\u03bd\\u03b5\\u03c2 \\u03c0\\u03b1\\u03c1\\u03b1\\u03c5\\u03c4\\u03af\\u03ba\\u03b1 , \\u1f04\\u03bb\\u03bb\\u03c9\\u03c2 \\u03c4\\u03b5 \\u03ba\\u03b1\\u1f76 \\u03bc\\u03bf\\u03bb\\u03cc\\u03bd\\u03c4\\u03b5\\u03c2 \\u1f00\\u03bb\\u03af\\u03bc\\u03b5\\u03bd\\u03bf\\u03bd \\u03c7\\u03b8\\u03cc\\u03bd\\u03b1 \\u1f10\\u03c2 \\u03bd\\u03cd\\u03ba\\u03c4\\u0313 \\u1f00\\u03c0\\u03bf\\u03c3\\u03c4\\u03b5\\u03af\\u03c7\\u03bf\\u03bd\\u03c4\\u03bf\\u03c2 \\u1f21\\u03bb\\u03af\\u03bf\\u03c5 .\",\"\\u1f14\\u03bd\\u03b8\\u03b1 \\u03b4\\u1f72 \\u03bb\\u03b1\\u03af\\u03bb\\u03b1\\u03c0\\u03b9 \\u03c7\\u03b5\\u03b9\\u03bc\\u03c9\\u03bd\\u03bf\\u03c4\\u03cd\\u03c0\\u1ff3 , \\u03b2\\u03c1\\u03bf\\u03bd\\u03c4\\u1fc7 \\u03c3\\u03c4\\u03b5\\u03c1\\u03bf\\u03c0\\u1fc7 \\u03c4\\u0313 \\u1f40\\u03bc\\u03b2\\u03c1\\u03bf\\u03c6\\u03cc\\u03c1\\u03bf\\u03b9\\u03c3\\u03af\\u03bd \\u03c4\\u0313 \\u1f00\\u03bd\\u03ad\\u03bc\\u03bf\\u03b9\\u03c2 \\u1f00\\u03b3\\u03c1\\u03af\\u03b1\\u03c2 \\u1f01\\u03bb\\u1f78\\u03c2 \\u1f00\\u03bd\\u03c4\\u03ae\\u03c3\\u03b1\\u03bd\\u03c4\\u03b5\\u03c2 , \\u1f44\\u03bb\\u03bf\\u03b9\\u03bd\\u03c4\\u03bf , \\u03c0\\u03c1\\u03af\\u03bd \\u03c0\\u03bf\\u03c4\\u03b5 \\u03bb\\u03ad\\u03ba\\u03c4\\u03c1\\u03c9\\u03bd , \\u1f67\\u03bd \\u03b8\\u03ad\\u03bc\\u03b9\\u03c2 \\u03b5\\u1f34\\u03c1\\u03b3\\u03b5\\u03b9 , \\u03c3\\u03c6\\u03b5\\u03c4\\u03b5\\u03c1\\u03b9\\u03be\\u03ac\\u03bc\\u03b5\\u03bd\\u03bf\\u03b9 \\u03c0\\u03b1\\u03c4\\u03c1\\u03b1\\u03b4\\u03ad\\u03bb\\u03c6\\u03b5\\u03b9\\u03b1\\u03bd \\u03c4\\u03ae\\u03bd\\u03b4\\u0313 \\u1f00\\u03b5\\u03ba\\u03cc\\u03bd\\u03c4\\u03c9\\u03bd \\u1f10\\u03c0\\u03b9\\u03b2\\u1fc6\\u03bd\\u03b1\\u03b9 .\",\"\\u1f14\\u03bd\\u03b8\\u03b1 \\u03b4\\u1f72 \\u03bb\\u03b1\\u03af\\u03bb\\u03b1\\u03c0\\u03b9 \\u03c7\\u03b5\\u03b9\\u03bc\\u03c9\\u03bd\\u03bf\\u03c4\\u03cd\\u03c0\\u1ff3 , \\u03b2\\u03c1\\u03bf\\u03bd\\u03c4\\u1fc7 \\u03c3\\u03c4\\u03b5\\u03c1\\u03bf\\u03c0\\u1fc7 \\u03c4\\u0313 \\u1f40\\u03bc\\u03b2\\u03c1\\u03bf\\u03c6\\u03cc\\u03c1\\u03bf\\u03b9\\u03c3\\u03af\\u03bd \\u03c4\\u0313 \\u1f00\\u03bd\\u03ad\\u03bc\\u03bf\\u03b9\\u03c2 \\u1f00\\u03b3\\u03c1\\u03af\\u03b1\\u03c2 \\u1f01\\u03bb\\u1f78\\u03c2 \\u1f00\\u03bd\\u03c4\\u03ae\\u03c3\\u03b1\\u03bd\\u03c4\\u03b5\\u03c2 , \\u1f44\\u03bb\\u03bf\\u03b9\\u03bd\\u03c4\\u03bf , \\u03c0\\u03c1\\u03af\\u03bd \\u03c0\\u03bf\\u03c4\\u03b5 \\u03bb\\u03ad\\u03ba\\u03c4\\u03c1\\u03c9\\u03bd , \\u1f67\\u03bd \\u03b8\\u03ad\\u03bc\\u03b9\\u03c2 \\u03b5\\u1f34\\u03c1\\u03b3\\u03b5\\u03b9 , \\u03c3\\u03c6\\u03b5\\u03c4\\u03b5\\u03c1\\u03b9\\u03be\\u03ac\\u03bc\\u03b5\\u03bd\\u03bf\\u03b9 \\u03c0\\u03b1\\u03c4\\u03c1\\u03b1\\u03b4\\u03ad\\u03bb\\u03c6\\u03b5\\u03b9\\u03b1\\u03bd \\u03c4\\u03ae\\u03bd\\u03b4\\u0313 \\u1f00\\u03b5\\u03ba\\u03cc\\u03bd\\u03c4\\u03c9\\u03bd \\u1f10\\u03c0\\u03b9\\u03b2\\u1fc6\\u03bd\\u03b1\\u03b9 .\",\"\\u03ba\\u03b1\\u03af\\u03c4\\u03bf\\u03b9 \\u03bd\\u03b9\\u03bd \\u03bf\\u1f50 \\u03ba\\u03b5\\u1fd6\\u03bd\\u03cc\\u03c2 \\u03b3\\u0313 \\u1f41 \\u03b4\\u03cd\\u03c3\\u03c4\\u03b7\\u03bd\\u03cc\\u03c2 \\u03c0\\u03bf\\u03c4\\u03b5 \\u03ba\\u03b1\\u03c4\\u03ad\\u03ba\\u03c4\\u03b1\\u03bd\\u0313 , \\u1f00\\u03bb\\u03bb\\u0313 \\u03b1\\u1f50\\u03c4\\u1f78\\u03c2 \\u03c0\\u03ac\\u03c1\\u03bf\\u03b9\\u03b8\\u03b5\\u03bd \\u1f64\\u03bb\\u03b5\\u03c4\\u03bf .\",\"\\u03c6\\u03bf\\u03af\\u03bd\\u03b9\\u03b1\\u03b9 \\u03b4\\u0313 \\u1f41\\u03bc\\u03bf\\u1fe6 \\u03b3\\u03bb\\u1fc6\\u03bd\\u03b1\\u03b9 \\u03b3\\u03ad\\u03bd\\u03b5\\u03b9\\u0313 \\u1f14\\u03c4\\u03b5\\u03bb\\u03bb\\u03bf\\u03bd , \\u03bf\\u1f50 \\u03b4\\u0313 \\u1f00\\u03bd\\u03af\\u03b5\\u03c3\\u03b1\\u03bd \\u03c6\\u03cc\\u03bd\\u03bf\\u03c5 \\u03bc\\u03c5\\u03b4\\u03ce\\u03c3\\u03b1\\u03c2 \\u03c3\\u03c4\\u03b1\\u03b3\\u03cc\\u03bd\\u03b1\\u03c2 , \\u1f00\\u03bb\\u03bb\\u0313 \\u1f41\\u03bc\\u03bf\\u1fe6 \\u03bc\\u03ad\\u03bb\\u03b1\\u03c2 \\u1f44\\u03bc\\u03b2\\u03c1\\u03bf\\u03c2 \\u03c7\\u03b1\\u03bb\\u03ac\\u03b6\\u03b7\\u03c2 \\u03b1\\u1f31\\u03bc\\u03b1\\u03c4\\u03bf\\u1fe6\\u03c2 \\u1f10\\u03c4\\u03ad\\u03b3\\u03b3\\u03b5\\u03c4\\u03bf .\",\"\\u1f66 \\u03c0\\u03ac\\u03bd\\u03c4\\u03b1 \\u03bd\\u03c9\\u03bc\\u1ff6\\u03bd \\u03a4\\u03b5\\u03b9\\u03c1\\u03b5\\u03c3\\u03af\\u03b1 , \\u03b4\\u03b9\\u03b4\\u03b1\\u03ba\\u03c4\\u03ac \\u03c4\\u03b5 \\u1f04\\u03c1\\u03c1\\u03b7\\u03c4\\u03ac \\u03c4\\u0313 , \\u03bf\\u1f50\\u03c1\\u03ac\\u03bd\\u03b9\\u03ac \\u03c4\\u03b5 \\u03ba\\u03b1\\u1f76 \\u03c7\\u03b8\\u03bf\\u03bd\\u03bf\\u03c3\\u03c4\\u03b9\\u03b2\\u1fc6 , \\u03c0\\u03cc\\u03bb\\u03b9\\u03bd \\u03bc\\u03ad\\u03bd , \\u03b5\\u1f30 \\u03ba\\u03b1\\u1f76 \\u03bc\\u1f74 \\u03b2\\u03bb\\u03ad\\u03c0\\u03b5\\u03b9\\u03c2 , \\u03c6\\u03c1\\u03bf\\u03bd\\u03b5\\u1fd6\\u03c2 \\u03b4\\u0313 \\u1f45\\u03bc\\u03c9\\u03c2 \\u03bf\\u1f35\\u1fb3 \\u03bd\\u03cc\\u03c3\\u1ff3 \\u03c3\\u03cd\\u03bd\\u03b5\\u03c3\\u03c4\\u03b9\\u03bd \\u00b7\",\"\\u1f10\\u03c0\\u03b5\\u1f76 \\u03c0\\u03c1\\u03b5\\u03c0\\u03cc\\u03bd\\u03c4\\u03c9\\u03c2 \\u1f11\\u03bb\\u03ad\\u03bd\\u03b1\\u03c2 , \\u1f15\\u03bb\\u03b1\\u03bd\\u03b4\\u03c1\\u03bf\\u03c2 , \\u1f11\\u03bb\\u03ad - \\u03c0\\u03c4\\u03bf\\u03bb\\u03b9\\u03c2 , \\u1f10\\u03ba \\u03c4\\u1ff6\\u03bd \\u1f01\\u03b2\\u03c1\\u03bf\\u03c4\\u03af\\u03bc\\u03c9\\u03bd \\u03c0\\u03c1\\u03bf\\u03ba\\u03b1\\u03bb\\u03c5\\u03bc\\u03bc\\u03ac\\u03c4\\u03c9\\u03bd \\u1f14\\u03c0\\u03bb\\u03b5\\u03c5\\u03c3\\u03b5 \\u03b6\\u03b5\\u03c6\\u03cd\\u03c1\\u03bf\\u03c5 \\u03b3\\u03af\\u03b3\\u03b1\\u03bd\\u03c4\\u03bf\\u03c2 \\u03b1\\u1f54\\u03c1\\u1fb3 , \\u03c0\\u03bf\\u03bb\\u03cd\\u03b1\\u03bd\\u03b4\\u03c1\\u03bf\\u03af \\u03c4\\u03b5 \\u03c6\\u03b5\\u03c1\\u03ac\\u03c3\\u03c0\\u03b9\\u03b4\\u03b5\\u03c2 \\u03ba\\u03c5\\u03bd\\u03b1\\u03b3\\u03bf\\u1f76 \\u03ba\\u03b1\\u03c4\\u0313 \\u1f34\\u03c7\\u03bd\\u03bf\\u03c2 \\u03c0\\u03bb\\u03b1\\u03c4\\u1fb6\\u03bd \\u1f04\\u03c6\\u03b1\\u03bd\\u03c4\\u03bf\\u03bd \\u03ba\\u03b5\\u03bb\\u03c3\\u03ac\\u03bd\\u03c4\\u03c9\\u03bd \\u03a3\\u03b9\\u03bc\\u03cc\\u03b5\\u03bd\\u03c4\\u03bf\\u03c2 \\u1f00 - \\u03ba\\u03c4\\u1f70\\u03c2 \\u1f10\\u03c0\\u0313 \\u1f00\\u03b5\\u03be\\u03b9\\u03c6\\u03cd\\u03bb\\u03bb\\u03bf\\u03c5\\u03c2 \\u03b4\\u03b9\\u0313 \\u1f14\\u03c1\\u03b9\\u03bd \\u03b1\\u1f31\\u03bc\\u03b1\\u03c4\\u03cc\\u03b5\\u03c3\\u03c3\\u03b1\\u03bd .\",\"\\u03bf\\u1f55\\u03c4\\u03c9 \\u03b4\\u0313 \\u1f08\\u03c4\\u03c1\\u03ad\\u03c9\\u03c2 \\u03c0\\u03b1\\u1fd6\\u03b4\\u03b1\\u03c2 \\u1f41 \\u03ba\\u03c1\\u03b5\\u03af\\u03c3\\u03c3\\u03c9\\u03bd \\u1f10\\u03c0\\u0313 \\u1f08\\u03bb\\u03b5\\u03be\\u03ac\\u03bd\\u03b4\\u03c1\\u1ff3 \\u03c0\\u03ad\\u03bc\\u03c0\\u03b5\\u03b9 \\u03be\\u03ad\\u03bd\\u03b9\\u03bf\\u03c2 \\u0396\\u03b5\\u1f7a\\u03c2 \\u03c0\\u03bf\\u03bb\\u03c5\\u03ac\\u03bd\\u03bf\\u03c1\\u03bf\\u03c2 \\u1f00\\u03bc\\u03c6\\u1f76 \\u03b3\\u03c5\\u03bd\\u03b1\\u03b9\\u03ba\\u1f78\\u03c2 \\u03c0\\u03bf\\u03bb\\u03bb\\u1f70 \\u03c0\\u03b1\\u03bb\\u03b1\\u03af\\u03c3\\u03bc\\u03b1\\u03c4\\u03b1 \\u03ba\\u03b1\\u1f76 \\u03b3\\u03c5\\u03b9\\u03bf\\u03b2\\u03b1\\u03c1\\u1fc6 \\u03b3\\u03cc\\u03bd\\u03b1\\u03c4\\u03bf\\u03c2 \\u03ba\\u03bf\\u03bd\\u03af\\u03b1\\u03b9\\u03c3\\u03b9\\u03bd \\u1f10\\u03c1\\u03b5\\u03b9\\u03b4\\u03bf\\u03bc\\u03ad\\u03bd\\u03bf\\u03c5 \\u03b4\\u03b9\\u03b1\\u03ba\\u03bd\\u03b1\\u03b9\\u03bf\\u03bc\\u03ad\\u03bd\\u03b7\\u03c2 \\u03c4\\u0313 \\u1f10\\u03bd \\u03c0\\u03c1\\u03bf\\u03c4\\u03b5\\u03bb\\u03b5\\u03af\\u03bf\\u03b9\\u03c2 \\u03ba\\u03ac\\u03bc\\u03b1\\u03ba\\u03bf\\u03c2 \\u03b8\\u03ae\\u03c3\\u03c9\\u03bd \\u0394\\u03b1\\u03bd\\u03b1\\u03bf\\u1fd6\\u03c3\\u03b9 \\u03a4\\u03c1\\u03c9\\u03c3\\u03af \\u03b8\\u0313 \\u1f41\\u03bc\\u03bf\\u03af\\u03c9\\u03c2 .\",\"\\u03b4\\u03ad\\u03ba\\u03b1\\u03c4\\u03bf\\u03bd \\u03bc\\u1f72\\u03bd \\u1f14\\u03c4\\u03bf\\u03c2 \\u03c4\\u03cc\\u03b4\\u0313 \\u1f10\\u03c0\\u03b5\\u1f76 \\u03a0\\u03c1\\u03b9\\u03ac\\u03bc\\u03bf\\u03c5 \\u03bc\\u03ad\\u03b3\\u03b1\\u03c2 \\u1f00\\u03bd\\u03c4\\u03af\\u03b4\\u03b9\\u03ba\\u03bf\\u03c2 , \\u039c\\u03b5\\u03bd\\u03ad\\u03bb\\u03b1\\u03bf\\u03c2 \\u1f04\\u03bd\\u03b1\\u03be \\u1f20\\u03b4\\u0313 \\u1f08\\u03b3\\u03b1\\u03bc\\u03ad\\u03bc\\u03bd\\u03c9\\u03bd , \\u03b4\\u03b9\\u03b8\\u03c1\\u03cc\\u03bd\\u03bf\\u03c5 \\u0394\\u03b9\\u03cc\\u03b8\\u03b5\\u03bd \\u03ba\\u03b1\\u1f76 \\u03b4\\u03b9\\u03c3\\u03ba\\u03ae\\u03c0\\u03c4\\u03c1\\u03bf\\u03c5 \\u03c4\\u03b9\\u03bc\\u1fc6\\u03c2 \\u1f40\\u03c7\\u03c5\\u03c1\\u1f78\\u03bd \\u03b6\\u03b5\\u1fe6\\u03b3\\u03bf\\u03c2 \\u1f08\\u03c4\\u03c1\\u03b5\\u03b9\\u03b4\\u1fb6\\u03bd \\u03c3\\u03c4\\u03cc\\u03bb\\u03bf\\u03bd \\u1f08\\u03c1\\u03b3\\u03b5\\u03af\\u03c9\\u03bd \\u03c7\\u03b9\\u03bb\\u03b9\\u03bf\\u03bd\\u03b1\\u03cd\\u03c4\\u03b7\\u03bd , \\u03c4\\u1fc6\\u03c3\\u03b4\\u0313 \\u1f00\\u03c0\\u1f78 \\u03c7\\u03ce\\u03c1\\u03b1\\u03c2 \\u1f26\\u03c1\\u03b1\\u03bd , \\u03c3\\u03c4\\u03c1\\u03b1\\u03c4\\u03b9\\u1ff6\\u03c4\\u03b9\\u03bd \\u1f00\\u03c1\\u03c9\\u03b3\\u1f70\\u03bd , \\u03bc\\u03ad\\u03b3\\u03b1\\u03bd \\u1f10\\u03ba \\u03b8\\u03c5\\u03bc\\u03bf\\u1fe6 \\u03ba\\u03bb\\u03ac\\u03b6\\u03bf\\u03bd\\u03c4\\u03b5\\u03c2 \\u1f0c\\u03c1\\u03b7 \\u03c4\\u03c1\\u03cc\\u03c0\\u03bf\\u03bd \\u03b1\\u1f30\\u03b3\\u03c5\\u03c0\\u03b9\\u1ff6\\u03bd , \\u03bf\\u1f35\\u03c4\\u0313 \\u1f10\\u03ba\\u03c0\\u03b1\\u03c4\\u03af\\u03bf\\u03b9\\u03c2 \\u1f04\\u03bb\\u03b3\\u03b5\\u03c3\\u03b9 \\u03c0\\u03b1\\u03af\\u03b4\\u03c9\\u03bd \\u1f55\\u03c0\\u03b1\\u03c4\\u03bf\\u03b9 \\u03bb\\u03b5\\u03c7\\u03ad\\u03c9\\u03bd \\u03c3\\u03c4\\u03c1\\u03bf\\u03c6\\u03bf\\u03b4\\u03b9\\u03bd\\u03bf\\u1fe6\\u03bd\\u03c4\\u03b1\\u03b9 \\u03c0\\u03c4\\u03b5\\u03c1\\u03cd\\u03b3\\u03c9\\u03bd \\u1f10\\u03c1\\u03b5\\u03c4\\u03bc\\u03bf\\u1fd6\\u03c3\\u03b9\\u03bd \\u1f10\\u03c1\\u03b5\\u03c3\\u03c3\\u03cc\\u03bc\\u03b5\\u03bd\\u03bf\\u03b9 , \\u03b4\\u03b5\\u03bc\\u03bd\\u03b9\\u03bf\\u03c4\\u03ae\\u03c1\\u03b7 \\u03c0\\u03cc\\u03bd\\u03bf\\u03bd \\u1f40\\u03c1\\u03c4\\u03b1\\u03bb\\u03af\\u03c7\\u03c9\\u03bd \\u1f40\\u03bb\\u03ad\\u03c3\\u03b1\\u03bd\\u03c4\\u03b5\\u03c2 \\u00b7\",\"\\u03bd\\u03b1\\u1ff6\\u03bd \\u03b3\\u03b5 \\u03c4\\u03b1\\u03b3\\u03bf\\u1f76 \\u03c4\\u1ff6\\u03bd \\u03bb\\u03b5\\u03bb\\u03b5\\u03b9\\u03bc\\u03bc\\u03ad\\u03bd\\u03c9\\u03bd \\u03c3\\u03cd\\u03b4\\u03b7\\u03bd \\u03ba\\u03b1\\u03c4\\u0313 \\u03bf\\u1f56\\u03c1\\u03bf\\u03bd \\u03bf\\u1f50\\u03ba \\u03b5\\u1f54\\u03ba\\u03bf\\u03c3\\u03bc\\u03bf\\u03bd \\u03b1\\u1f34\\u03c1\\u03bf\\u03bd\\u03c4\\u03b1\\u03b9 \\u03c6\\u03c5\\u03b3\\u03ae\\u03bd \\u00b7\",\"\\u03c4\\u03af\\u03c0\\u03c4\\u03b5 \\u0394\\u03b1\\u03c1\\u03b5\\u1fd6\\u03bf\\u03c2 \\u03bc\\u1f72\\u03bd \\u03bf\\u1f55 - \\u03c4\\u03c9 \\u03c4\\u03cc\\u03c4\\u0313 \\u1f00\\u03b2\\u03bb\\u03b1\\u03b2\\u1f74\\u03c2 \\u1f10\\u03c0\\u1fc6\\u03bd \\u03c4\\u03cc\\u03be\\u03b1\\u03c1\\u03c7\\u03bf\\u03c2 \\u03c0\\u03bf\\u03bb\\u03b9\\u03ae\\u03c4\\u03b1\\u03b9\\u03c2 , \\u03a3\\u03bf\\u03c5\\u03c3\\u03af\\u03b4\\u03b1\\u03b9\\u03c2 \\u03c6\\u03af\\u03bb\\u03bf\\u03c2 \\u1f04\\u03ba\\u03c4\\u03c9\\u03c1 ;\",\"\\u03b5\\u1f56 \\u03b3\\u1f70\\u03c1 \\u1f34\\u03c3\\u03c4\\u03b5 , \\u03c0\\u03b1\\u1fd6\\u03c2 \\u1f10\\u03bc\\u1f78\\u03c2 \\u03c0\\u03c1\\u03ac\\u03be\\u03b1\\u03c2 \\u03bc\\u1f72\\u03bd \\u03b5\\u1f56 \\u03b8\\u03b1\\u03c5\\u03bc\\u03b1\\u03c3\\u03c4\\u1f78\\u03c2 \\u1f02\\u03bd \\u03b3\\u03ad\\u03bd\\u03bf\\u03b9\\u03c4\\u0313 \\u1f00\\u03bd\\u03ae\\u03c1 , \\u03ba\\u03b1\\u03ba\\u1ff6\\u03c2 \\u03b4\\u1f72 \\u03c0\\u03c1\\u03ac\\u03be\\u03b1\\u03c2 , \\u03bf\\u1f50\\u03c7 \\u1f51\\u03c0\\u03b5\\u03cd\\u03b8\\u03c5\\u03bd\\u03bf\\u03c2 \\u03c0\\u03cc\\u03bb\\u03b5\\u03b9 , \\u03c3\\u03c9\\u03b8\\u03b5\\u1f76\\u03c2 \\u03b4\\u0313 \\u1f41\\u03bc\\u03bf\\u03af\\u03c9\\u03c2 \\u03c4\\u1fc6\\u03c3\\u03b4\\u03b5 \\u03ba\\u03bf\\u03b9\\u03c1\\u03b1\\u03bd\\u03b5\\u1fd6 \\u03c7\\u03b8\\u03bf\\u03bd\\u03cc\\u03c2 .\",\"\\u1f00\\u03bb\\u03bb\\u0313 \\u03b1\\u1f34\\u03b4\\u03b5\\u03c3\\u03b1\\u03b9 \\u03bc\\u1f72\\u03bd \\u03c0\\u03b1\\u03c4\\u03ad\\u03c1\\u03b1 \\u03c4\\u1f78\\u03bd \\u03c3\\u1f78\\u03bd \\u1f10\\u03bd \\u03bb\\u03c5\\u03b3\\u03c1\\u1ff7 \\u03b3\\u03ae\\u03c1\\u1fb3 \\u03c0\\u03c1\\u03bf\\u03bb\\u03b5\\u03af\\u03c0\\u03c9\\u03bd , \\u03b1\\u1f34\\u03b4\\u03b5\\u03c3\\u03b1\\u03b9 \\u03b4\\u1f72 \\u03bc\\u03b7\\u03c4\\u03ad\\u03c1\\u03b1 \\u03c0\\u03bf\\u03bb\\u03bb\\u1ff6\\u03bd \\u1f10\\u03c4\\u1ff6\\u03bd \\u03ba\\u03bb\\u03b7\\u03c1\\u03bf\\u1fe6\\u03c7\\u03bf\\u03bd , \\u1f25 \\u03c3\\u03b5 \\u03c0\\u03bf\\u03bb\\u03bb\\u03ac\\u03ba\\u03b9\\u03c2 \\u03b8\\u03b5\\u03bf\\u1fd6\\u03c2 \\u1f00\\u03c1\\u1fb6\\u03c4\\u03b1\\u03b9 \\u03b6\\u1ff6\\u03bd\\u03c4\\u03b1 \\u03c0\\u03c1\\u1f78\\u03c2 \\u03b4\\u03cc\\u03bc\\u03bf\\u03c5\\u03c2 \\u03bc\\u03bf\\u03bb\\u03b5\\u1fd6\\u03bd \\u00b7\",\"\\u03b5\\u1f30 \\u03b4\\u0313 \\u1f51\\u03c0\\u03bf\\u03b2\\u03b1\\u03bb\\u03bb\\u03cc\\u03bc\\u03b5\\u03bd\\u03bf\\u03b9 \\u03ba\\u03bb\\u03ad\\u03c0\\u03c4\\u03bf\\u03c5\\u03c3\\u03b9 \\u03bc\\u03cd\\u03b8\\u03bf\\u03c5\\u03c2 \\u03bf\\u1f31 \\u03bc\\u03b5\\u03b3\\u03ac\\u03bb\\u03bf\\u03b9 \\u03b2\\u03b1\\u03c3\\u03b9\\u03bb\\u1fc6\\u03c2 \\u1f22 \\u03c4\\u1fb6\\u03c2 \\u1f00\\u03c3\\u03ce\\u03c4\\u03bf\\u03c5 \\u03a3\\u03b9\\u03c3\\u03c5\\u03c6\\u03b9\\u03b4\\u1fb6\\u03bd \\u03b3\\u03b5\\u03bd\\u03b5\\u1fb6\\u03c2 , \\u03bc\\u1f74 \\u03bc\\u03ae , \\u1f04\\u03bd\\u03b1\\u03be , \\u1f14\\u03b8\\u0313 \\u1f67\\u03b4\\u0313 \\u1f10\\u03c6\\u03ac\\u03bb\\u03bf\\u03b9\\u03c2 \\u03ba\\u03bb\\u03b9\\u03c3\\u03af\\u03b1\\u03b9\\u03c2 \\u1f44\\u03bc\\u03bc\\u0313 \\u1f14\\u03c7\\u03c9\\u03bd \\u03ba\\u03b1\\u03ba\\u1f70\\u03bd \\u03c6\\u03ac\\u03c4\\u03b9\\u03bd \\u1f04\\u03c1\\u1fc3 .\",\"\\u1f26 \\u1fe5\\u03b1 \\u03ba\\u03b5\\u03bb\\u03b1\\u03b9\\u03bd\\u03ce\\u03c0\\u03b1\\u03bd \\u03b8\\u03c5\\u03bc\\u1f78\\u03bd \\u1f10\\u03c6\\u03c5\\u03b2\\u03c1\\u03af\\u03b6\\u03b5\\u03b9 \\u03c0\\u03bf\\u03bb\\u03cd\\u03c4\\u03bb\\u03b1\\u03c2 \\u1f00\\u03bd\\u03ae\\u03c1 , \\u03b3\\u03b5\\u03bb\\u1fb7 \\u03b4\\u1f72 \\u03c4\\u03bf\\u1fd6\\u03c3\\u03b4\\u03b5 \\u03bc\\u03b1\\u03b9\\u03bd\\u03bf\\u03bc\\u03ad\\u03bd\\u03bf\\u03b9\\u03c2 \\u1f04\\u03c7\\u03b5\\u03c3\\u03b9\\u03bd \\u03c0\\u03bf\\u03bb\\u1f7a\\u03bd \\u03b3\\u03ad\\u03bb\\u03c9\\u03c4\\u03b1 , \\u03c6\\u03b5\\u1fe6 \\u03c6\\u03b5\\u1fe6 , \\u03be\\u03cd\\u03bd \\u03c4\\u03b5 \\u03b4\\u03b9\\u03c0\\u03bb\\u03bf\\u1fd6 \\u03b2\\u03b1\\u03c3\\u03b9\\u03bb\\u1fc6\\u03c2 \\u03ba\\u03bb\\u03cd\\u03bf\\u03bd\\u03c4\\u03b5\\u03c2 \\u1f08\\u03c4\\u03c1\\u03b5\\u1fd6\\u03b4\\u03b1\\u03b9 .\",\"\\u1f41 \\u03b4\\u1f72 \\u03c4\\u03bf\\u03b9\\u03cc\\u03c3\\u03b4\\u0313 \\u1f00\\u03bd\\u1f74\\u03c1 \\u03bc\\u03ad\\u03c4\\u03bf\\u03b9\\u03ba\\u03bf\\u03c2 , \\u1f0c\\u03c1\\u03b3\\u03b5\\u03b9 \\u03b4\\u0313 \\u1f10\\u03ba\\u03c4\\u03af\\u03bd\\u03c9\\u03bd \\u03ba\\u03b1\\u03bb\\u1f70\\u03c2 \\u03c4\\u03c1\\u03bf\\u03c6\\u03ac\\u03c2 , \\u03c0\\u03cd\\u03c1\\u03b3\\u03bf\\u03b9\\u03c2 \\u1f00\\u03c0\\u03b5\\u03b9\\u03bb\\u03b5\\u1fd6 \\u03c4\\u03bf\\u1fd6\\u03c3\\u03b4\\u0313 \\u1f03 \\u03bc\\u1f74 \\u03ba\\u03c1\\u03b1\\u03af\\u03bd\\u03bf\\u03b9 \\u03b8\\u03b5\\u03cc\\u03c2 .\",\"\\u1f30\\u1f7c \\u03c6\\u03af\\u03bb\\u03bf\\u03b9 \\u03b4\\u03b1\\u03af\\u03bc\\u03bf\\u03bd\\u03b5\\u03c2 , \\u03bb\\u03c5\\u03c4\\u03ae\\u03c1\\u03b9\\u03bf\\u03af \\u03c4\\u0313 \\u1f00\\u03bc\\u03c6\\u03b9\\u03b2\\u03ac\\u03bd\\u03c4\\u03b5\\u03c2 \\u03c0\\u03cc\\u03bb\\u03b9\\u03bd , \\u03b4\\u03b5\\u03af\\u03be\\u03b1\\u03b8\\u0313 \\u1f61\\u03c2 \\u03c6\\u03b9\\u03bb\\u03bf\\u03c0\\u03cc\\u03bb\\u03b5\\u03b9\\u03c2 , \\u03bc\\u03ad\\u03bb\\u03b5\\u03c3\\u03b8\\u03ad \\u03b8\\u0313 \\u1f31\\u03b5\\u03c1\\u1ff6\\u03bd \\u03b4\\u03b7\\u03bc\\u03af\\u03c9\\u03bd , \\u03bc\\u03b5\\u03bb\\u03cc\\u03bc\\u03b5\\u03bd\\u03bf\\u03b9 \\u03b4\\u0313 \\u1f00\\u03c1\\u03ae\\u03be\\u03b1\\u03c4\\u03b5 \\u00b7\",\"\\u1f30\\u1f7c \\u03c6\\u03af\\u03bb\\u03bf\\u03b9 \\u03b4\\u03b1\\u03af\\u03bc\\u03bf\\u03bd\\u03b5\\u03c2 , \\u03bb\\u03c5\\u03c4\\u03ae\\u03c1\\u03b9\\u03bf\\u03af \\u03c4\\u0313 \\u1f00\\u03bc\\u03c6\\u03b9\\u03b2\\u03ac\\u03bd\\u03c4\\u03b5\\u03c2 \\u03c0\\u03cc\\u03bb\\u03b9\\u03bd , \\u03b4\\u03b5\\u03af\\u03be\\u03b1\\u03b8\\u0313 \\u1f61\\u03c2 \\u03c6\\u03b9\\u03bb\\u03bf\\u03c0\\u03cc\\u03bb\\u03b5\\u03b9\\u03c2 , \\u03bc\\u03ad\\u03bb\\u03b5\\u03c3\\u03b8\\u03ad \\u03b8\\u0313 \\u1f31\\u03b5\\u03c1\\u1ff6\\u03bd \\u03b4\\u03b7\\u03bc\\u03af\\u03c9\\u03bd , \\u03bc\\u03b5\\u03bb\\u03cc\\u03bc\\u03b5\\u03bd\\u03bf\\u03b9 \\u03b4\\u0313 \\u1f00\\u03c1\\u03ae\\u03be\\u03b1\\u03c4\\u03b5 \\u00b7\",\"\\u1f10\\u03bc\\u03bf\\u1f76 \\u03b3\\u1f70\\u03c1 \\u03bf\\u1f36\\u03ba\\u03c4\\u03bf\\u03c2 \\u03b4\\u03b5\\u03b9\\u03bd\\u1f78\\u03c2 \\u03b5\\u1f30\\u03c3\\u03ad\\u03b2\\u03b7 , \\u03c6\\u03af\\u03bb\\u03b1\\u03b9 , \\u03c4\\u03b1\\u03cd\\u03c4\\u03b1\\u03c2 \\u1f41\\u03c1\\u03ce\\u03c3\\u1fc3 \\u03b4\\u03c5\\u03c3\\u03c0\\u03cc\\u03c4\\u03bc\\u03bf\\u03c5\\u03c2 \\u1f10\\u03c0\\u1f76 \\u03be\\u03ad\\u03bd\\u03b7\\u03c2 \\u03c7\\u03ce\\u03c1\\u03b1\\u03c2 \\u1f00\\u03bf\\u03af\\u03ba\\u03bf\\u03c5\\u03c2 \\u1f00\\u03c0\\u03ac\\u03c4\\u03bf\\u03c1\\u03ac\\u03c2 \\u03c4\\u0313 \\u1f00\\u03bb\\u03c9\\u03bc\\u03ad\\u03bd\\u03b1\\u03c2 , \\u03b1\\u1f33 \\u03c0\\u03c1\\u1f76\\u03bd \\u03bc\\u1f72\\u03bd \\u1f26\\u03c3\\u03b1\\u03bd \\u1f10\\u03be \\u1f10\\u03bb\\u03b5\\u03c5\\u03b8\\u03ad\\u03c1\\u03c9\\u03bd \\u1f34\\u03c3\\u03c9\\u03c2 \\u1f00\\u03bd\\u03b4\\u03c1\\u1ff6\\u03bd , \\u03c4\\u03b1\\u03bd\\u1fe6\\u03bd \\u03b4\\u1f72 \\u03b4\\u03bf\\u1fe6\\u03bb\\u03bf\\u03bd \\u1f34\\u03c3\\u03c7\\u03bf\\u03c5\\u03c3\\u03b9\\u03bd \\u03b2\\u03af\\u03bf\\u03bd .\",\"\\u03c4\\u03b1\\u03cd\\u03c4\\u03b7\\u03c2 \\u1f41 \\u03b4\\u03b5\\u03b9\\u03bd\\u1f78\\u03c2 \\u1f35\\u03bc\\u03b5\\u03c1\\u03cc\\u03c2 \\u03c0\\u03bf\\u03b8\\u0313 \\u1f29\\u03c1\\u03b1\\u03ba\\u03bb\\u1fc6 \\u03b4\\u03b9\\u1fc6\\u03bb\\u03b8\\u03b5 , \\u03ba\\u03b1\\u1f76 \\u03c4\\u1fc6\\u03c3\\u03b4\\u0313 \\u03b5\\u1f35\\u03bd\\u03b5\\u03c7\\u0313 \\u1f21 \\u03c0\\u03bf\\u03bb\\u03cd\\u03c6\\u03b8\\u03bf\\u03c1\\u03bf\\u03c2 \\u03ba\\u03b1\\u03b8\\u1fc3\\u03c1\\u03ad\\u03b8\\u03b7 \\u03c0\\u03b1\\u03c4\\u03c1\\u1ff7\\u03bf\\u03c2 \\u039f\\u1f30\\u03c7\\u03b1\\u03bb\\u03af\\u03b1 \\u03b4\\u03cc\\u03c1\\u03b5\\u03b9 .\",\"\\u1f26\\u03bd \\u03bc\\u03bf\\u03b9 \\u03c0\\u03b1\\u03bb\\u03b1\\u03b9\\u1f78\\u03bd \\u03b4\\u1ff6\\u03c1\\u03bf\\u03bd \\u1f00\\u03c1\\u03c7\\u03b1\\u03af\\u03bf\\u03c5 \\u03c0\\u03bf\\u03c4\\u1f72 \\u03b8\\u03b7\\u03c1\\u03cc\\u03c2 , \\u03bb\\u03ad\\u03b2\\u03b7\\u03c4\\u03b9 \\u03c7\\u03b1\\u03bb\\u03ba\\u03ad\\u1ff3 \\u03ba\\u03b5\\u03ba\\u03c1\\u03c5\\u03bc\\u03bc\\u03ad\\u03bd\\u03bf\\u03bd , \\u1f43 \\u03c0\\u03b1\\u1fd6\\u03c2 \\u1f14\\u03c4\\u0313 \\u03bf\\u1f56\\u03c3\\u03b1 \\u03c4\\u03bf\\u1fe6 \\u03b4\\u03b1\\u03c3\\u03c5\\u03c3\\u03c4\\u03ad\\u03c1\\u03bd\\u03bf\\u03c5 \\u03c0\\u03b1\\u03c1\\u1f70 \\u039d\\u03ad\\u03c3\\u03c3\\u03bf\\u03c5 \\u03c6\\u03b8\\u03af\\u03bd\\u03bf\\u03bd\\u03c4\\u03bf\\u03c2 \\u1f10\\u03ba \\u03c6\\u03bf\\u03bd\\u1ff6\\u03bd \\u1f00\\u03bd\\u03b5\\u03b9\\u03bb\\u03cc\\u03bc\\u03b7\\u03bd , \\u1f43\\u03c2 \\u03c4\\u1f78\\u03bd \\u03b2\\u03b1\\u03b8\\u03cd\\u03c1\\u03c1\\u03bf\\u03c5\\u03bd \\u03c0\\u03bf\\u03c4\\u03b1\\u03bc\\u1f78\\u03bd \\u0395\\u1f54\\u03b7\\u03bd\\u03bf\\u03bd \\u03b2\\u03c1\\u03bf\\u03c4\\u03bf\\u1f7a\\u03c2 \\u03bc\\u03b9\\u03c3\\u03b8\\u03bf\\u1fe6 \\u0313 \\u03c0\\u03cc\\u03c1\\u03b5\\u03c5\\u03b5 \\u03c7\\u03b5\\u03c1\\u03c3\\u03af\\u03bd , \\u03bf\\u1f54 \\u03c4\\u03b5 \\u03c0\\u03bf\\u03bc\\u03c0\\u03af\\u03bc\\u03bf\\u03b9\\u03c2 \\u03ba\\u03ce\\u03c0\\u03b1\\u03b9\\u03c2 \\u1f10\\u03c1\\u03ad\\u03c3\\u03c3\\u03c9\\u03bd \\u03bf\\u1f54 \\u03c4\\u03b5 \\u03bb\\u03b1\\u03af\\u03c6\\u03b5\\u03c3\\u03b9\\u03bd \\u03bd\\u03b5\\u03ce\\u03c2 .\",\"\\u03ba\\u03b1\\u1f76 \\u03c4\\u1fc6\\u03c3\\u03b4\\u0313 \\u1f04\\u03ba\\u03bf\\u03c5\\u03c3\\u03bf\\u03bd \\u03bb\\u03bf\\u03b9\\u03c3\\u03b8\\u03af\\u03bf\\u03c5 \\u03b2\\u03bf\\u1fc6\\u03c2 , \\u03c0\\u03ac\\u03c4\\u03b5\\u03c1 , \\u1f30\\u03b4\\u1f7c\\u03bd \\u03bd\\u03b5\\u03bf\\u03c3\\u03c3\\u03bf\\u1f7a\\u03c2 \\u03c4\\u03bf\\u03cd\\u03c3\\u03b4\\u0313 \\u1f10\\u03c6\\u03b7\\u03bc\\u03ad\\u03bd\\u03bf\\u03c5\\u03c2 \\u03c4\\u03ac\\u03c6\\u1ff3 \\u00b7\",\"\\u03c0\\u03cc\\u03c0\\u03bf\\u03b9 \\u03b4\\u1f74 \\u03bd\\u03b5\\u03c1\\u03c4\\u03ad\\u03c1\\u03c9\\u03bd \\u03c4\\u03c5\\u03c1\\u03b1\\u03bd\\u03bd\\u03af\\u03b4\\u03b5\\u03c2 , \\u1f34\\u03b4\\u03b5\\u03c4\\u03b5 \\u03c0\\u03bf\\u03bb\\u03c5\\u03ba\\u03c1\\u03b1\\u03c4\\u03b5\\u1fd6\\u03c2 \\u1f08\\u03c1\\u03b1\\u1f76 \\u03c6\\u03b8\\u03b9\\u03bd\\u03bf\\u03bc\\u03ad\\u03bd\\u03c9\\u03bd , \\u1f34\\u03b4\\u03b5\\u03c3\\u03b8\\u0313 \\u1f08\\u03c4\\u03c1\\u03b5\\u03b9\\u03b4\\u1fb6\\u03bd \\u03c4\\u1f70 \\u03bb\\u03bf\\u03af\\u03c0\\u0313 \\u1f00\\u03bc\\u03b7\\u03c7\\u03ac\\u03bd\\u03c9\\u03c2 \\u1f14\\u03c7\\u03bf\\u03bd\\u03c4\\u03b1 \\u03ba\\u03b1\\u1f76 \\u03b4\\u03c9\\u03bc\\u03ac\\u03c4\\u03c9\\u03bd \\u1f04\\u03c4\\u03b9\\u03bc\\u03b1 .\",\"\\u03b5\\u1f30 \\u03b4\\u0313 \\u03bf\\u1f56\\u03bd \\u1f00\\u03bc\\u03b5\\u03af\\u03c8\\u03c9 \\u03b2\\u03b1\\u03bb\\u1f78\\u03bd \\u1f11\\u03c1\\u03ba\\u03b5\\u03af\\u03c9\\u03bd \\u03c0\\u03c5\\u03bb\\u1ff6\\u03bd \\u03ba\\u1f00\\u03ba\\u03b5\\u1fd6\\u03bd\\u03bf\\u03bd \\u1f10\\u03bd \\u03b8\\u03c1\\u03cc\\u03bd\\u03bf\\u03b9\\u03c3\\u03b9\\u03bd \\u03b5\\u1f51\\u03c1\\u03ae\\u03c3\\u03c9 \\u03c0\\u03b1\\u03c4\\u03c1\\u03cc\\u03c2 , \\u1f22 \\u03ba\\u03b1\\u1f76 \\u03bc\\u03bf\\u03bb\\u1f7c\\u03bd \\u1f14\\u03c0\\u03b5\\u03b9\\u03c4\\u03ac \\u03bc\\u03bf\\u03b9 \\u03ba\\u03b1\\u03c4\\u1f70 \\u03c3\\u03c4\\u03cc\\u03bc\\u03b1 \\u1f00\\u03c1\\u03b5\\u1fd6 , \\u03c3\\u03ac\\u03c6\\u0313 \\u1f34\\u03c3\\u03b8\\u03b9 , \\u03ba\\u03b1\\u1f76 \\u03ba\\u03b1\\u03c4\\u0313 \\u1f40\\u03c6\\u03b8\\u03b1\\u03bb\\u03bc\\u03bf\\u1f7a\\u03c2 \\u03b2\\u03b1\\u03bb\\u03b5\\u1fd6 , \\u03c0\\u03c1\\u1f76\\u03bd \\u03b1\\u1f50\\u03c4\\u1f78\\u03bd \\u03b5\\u1f30\\u03c0\\u03b5\\u1fd6\\u03bd \\\" \\u03c0\\u03bf\\u03b4\\u03b1\\u03c0\\u1f78\\u03c2 \\u1f41 \\u03be\\u03ad\\u03bd\\u03bf\\u03c2 ;\\\" \\u03bd\\u03b5\\u03ba\\u03c1\\u1f78\\u03bd \\u03b8\\u03ae\\u03c3\\u03c9 , \\u03c0\\u03bf\\u03b4\\u03ce\\u03ba\\u03b5\\u03b9 \\u03c0\\u03b5\\u03c1\\u03b9\\u03b2\\u03b1\\u03bb\\u1f7c\\u03bd \\u03c7\\u03b1\\u03bb\\u03ba\\u03b5\\u03cd\\u03bc\\u03b1\\u03c4\\u03b9 .\",\"\\u03a0\\u03bb\\u03b5\\u03b9\\u03c3\\u03c4\\u03bf\\u1fe6 \\u03c4\\u03b5 \\u03c0\\u03b7\\u03b3\\u1f70\\u03c2 \\u03ba\\u03b1\\u1f76 \\u03a0\\u03bf\\u03c3\\u03b5\\u03b9\\u03b4\\u1ff6\\u03bd\\u03bf\\u03c2 \\u03ba\\u03c1\\u03ac\\u03c4\\u03bf\\u03c2 \\u03ba\\u03b1\\u03bb\\u03bf\\u1fe6\\u03c3\\u03b1 \\u03ba\\u03b1\\u1f76 \\u03c4\\u03ad\\u03bb\\u03b5\\u03b9\\u03bf\\u03bd \\u1f55\\u03c8\\u03b9\\u03c3\\u03c4\\u03bf\\u03bd \\u0394\\u03af\\u03b1 , \\u1f14\\u03c0\\u03b5\\u03b9\\u03c4\\u03b1 \\u03bc\\u03ac\\u03bd\\u03c4\\u03b9\\u03c2 \\u1f10\\u03c2 \\u03b8\\u03c1\\u03cc\\u03bd\\u03bf\\u03c5\\u03c2 \\u03ba\\u03b1\\u03b8\\u03b9\\u03b6\\u03ac\\u03bd\\u03c9 .\",\"\\u03bb\\u03b9\\u03c0\\u1f7c\\u03bd \\u03b4\\u1f72 \\u03bb\\u03af\\u03bc\\u03bd\\u03b7\\u03bd \\u0394\\u03b7\\u03bb\\u03af\\u03b1\\u03bd \\u03c4\\u03b5 \\u03c7\\u03bf\\u03b9\\u03c1\\u03ac\\u03b4\\u03b1 , \\u03ba\\u03ad\\u03bb\\u03c3\\u03b1\\u03c2 \\u1f10\\u03c0\\u0313 \\u1f00\\u03ba\\u03c4\\u1f70\\u03c2 \\u03bd\\u03b1\\u03c5\\u03c0\\u03cc\\u03c1\\u03bf\\u03c5\\u03c2 \\u03c4\\u1f70\\u03c2 \\u03a0\\u03b1\\u03bb\\u03bb\\u03ac\\u03b4\\u03bf\\u03c2 , \\u1f10\\u03c2 \\u03c4\\u03ae\\u03bd\\u03b4\\u03b5 \\u03b3\\u03b1\\u1fd6\\u03b1\\u03bd \\u1f26\\u03bb\\u03b8\\u03b5 \\u03a0\\u03b1\\u03c1\\u03bd\\u03b7\\u03c3\\u03bf\\u1fe6 \\u03b8\\u0313 \\u1f15\\u03b4\\u03c1\\u03b1\\u03c2 .\",\"\\u1f41\\u03c1\\u1ff6 \\u03b4\\u0313 \\u1f10\\u03c0\\u0313 \\u1f40\\u03bc\\u03c6\\u03b1\\u03bb\\u1ff7 \\u03bc\\u1f72\\u03bd \\u1f04\\u03bd\\u03b4\\u03c1\\u03b1 \\u03b8\\u03b5\\u03bf\\u03bc\\u03c5\\u03c3\\u1fc6 \\u1f15\\u03b4\\u03c1\\u03b1\\u03bd \\u1f14\\u03c7\\u03bf\\u03bd\\u03c4\\u03b1 \\u03c0\\u03c1\\u03bf\\u03c3\\u03c4\\u03c1\\u03cc\\u03c0\\u03b1\\u03b9\\u03bf\\u03bd , \\u03b1\\u1f35\\u03bc\\u03b1\\u03c4\\u03b9 \\u03c3\\u03c4\\u03ac\\u03b6\\u03bf\\u03bd\\u03c4\\u03b1 \\u03c7\\u03b5\\u1fd6\\u03c1\\u03b1\\u03c2 \\u03ba\\u03b1\\u1f76 \\u03bd\\u03b5\\u03bf\\u03c3\\u03c0\\u03b1\\u03b4\\u1f72\\u03c2 \\u03be\\u03af\\u03c6\\u03bf\\u03c2 \\u1f14\\u03c7\\u03bf\\u03bd\\u03c4\\u0313 \\u1f10\\u03bb\\u03b1\\u03af\\u03b1\\u03c2 \\u03b8\\u0313 \\u1f51\\u03c8\\u03b9\\u03b3\\u03ad\\u03bd\\u03bd\\u03b7\\u03c4\\u03bf\\u03bd \\u03ba\\u03bb\\u03ac\\u03b4\\u03bf\\u03bd , \\u03bb\\u03ae\\u03bd\\u03b5\\u03b9 \\u03bc\\u03b5\\u03b3\\u03af\\u03c3\\u03c4\\u1ff3 \\u03c3\\u03c9\\u03c6\\u03c1\\u03cc\\u03bd\\u03c9\\u03c2 \\u1f10\\u03c3\\u03c4\\u03b5\\u03bc\\u03bc\\u03ad\\u03bd\\u03bf\\u03bd , \\u1f00\\u03c1\\u03b3\\u1fc6\\u03c4\\u03b9 \\u03bc\\u03b1\\u03bb\\u03bb\\u1ff7 \\u00b7\",\"\\u03ba\\u03b1\\u1f76 \\u03c7\\u03b5\\u03c1\\u03c3\\u1f76\\u03bd \\u03b5\\u1f50\\u03b8\\u1f7a\\u03c2 \\u03b4\\u03b9\\u03c8\\u03af\\u03b1\\u03bd \\u03c6\\u03ad\\u03c1\\u03b5\\u03b9 \\u03ba\\u03cc\\u03bd\\u03b9\\u03bd , \\u1f14\\u03ba \\u03c4\\u0313 \\u03b5\\u1f50\\u03ba\\u03c1\\u03bf\\u03c4\\u03ae\\u03c4\\u03bf\\u03c5 \\u03c7\\u03b1\\u03bb\\u03ba\\u03ad\\u03b1\\u03c2 \\u1f04\\u03c1\\u03b4\\u03b7\\u03bd \\u03c0\\u03c1\\u03cc\\u03c7\\u03bf\\u03c5 \\u03c7\\u03bf\\u03b1\\u1fd6\\u03c3\\u03b9 \\u03c4\\u03c1\\u03b9\\u03c3\\u03c0\\u03cc\\u03bd\\u03b4\\u03bf\\u03b9\\u03c3\\u03b9 \\u03c4\\u1f78\\u03bd \\u03bd\\u03ad\\u03ba\\u03c5\\u03bd \\u03c3\\u03c4\\u03ad\\u03c6\\u03b5\\u03b9 .\",\"\\u03ba\\u03b1\\u03af \\u03c3\\u03b5 \\u039d\\u03c5\\u03c3\\u03b1\\u03af\\u03c9\\u03bd \\u1f40\\u03c1\\u03ad\\u03c9\\u03bd \\u03ba\\u03b9\\u03c3\\u03c3\\u03ae\\u03c1\\u03b5\\u03b9\\u03c2 \\u1f44\\u03c7\\u03b8\\u03b1\\u03b9 \\u03c7\\u03bb\\u03c9\\u03c1\\u03ac \\u03c4\\u0313 \\u1f00\\u03ba\\u03c4\\u1f70 \\u03c0\\u03bf\\u03bb\\u03c5\\u03c3\\u03c4\\u03ac\\u03c6\\u03c5\\u03bb\\u03bf\\u03c2 \\u03c0\\u03ad\\u03bc\\u03c0\\u03b5\\u03b9 , \\u1f00\\u03bc\\u03b2\\u03c1\\u03cc\\u03c4\\u03c9\\u03bd \\u1f10\\u03c0\\u03ad\\u03c9\\u03bd \\u03b5\\u1f50\\u03b1\\u03b6\\u03cc\\u03bd\\u03c4\\u03c9\\u03bd \\u0398\\u03b7\\u03b2\\u03b1\\u0390\\u03b1\\u03c2 \\u1f10\\u03c0\\u03b9\\u03c3\\u03ba\\u03bf\\u03c0\\u03bf\\u1fe6\\u03bd\\u03c4\\u0313 \\u1f00\\u03b3\\u03c5\\u03b9\\u03ac\\u03c2 \\u00b7\",\"\\u03b1\\u1f55\\u03c4\\u03c9\\u03c2 \\u03b4\\u1f72 \\u03bd\\u03b1\\u1f78\\u03c2 \\u1f45\\u03c3\\u03c4\\u03b9\\u03c2 \\u1f10\\u03b3\\u03ba\\u03c1\\u03b1\\u03c4\\u1fc6 \\u03c0\\u03cc\\u03b4\\u03b1 \\u03c4\\u03b5\\u03af\\u03bd\\u03b1\\u03c2 \\u1f51\\u03c0\\u03b5\\u03af\\u03ba\\u03b5\\u03b9 \\u03bc\\u03b7\\u03b4\\u03ad\\u03bd , \\u1f51\\u03c0\\u03c4\\u03af\\u03bf\\u03b9\\u03c2 \\u03ba\\u03ac\\u03c4\\u03c9 \\u03c3\\u03c4\\u03c1\\u03ad\\u03c8\\u03b1\\u03c2 \\u03c4\\u1f78 \\u03bb\\u03bf\\u03b9\\u03c0\\u1f78\\u03bd \\u03c3\\u03ad\\u03bb\\u03bc\\u03b1\\u03c3\\u03b9\\u03bd \\u03bd\\u03b1\\u03c5\\u03c4\\u03af\\u03bb\\u03bb\\u03b5\\u03c4\\u03b1\\u03b9 .\",\"\\u1f14\\u03b1 \\u03bc\\u03b5 \\u03c4\\u1fc7\\u03b4\\u03b5 \\u03c4\\u1fc7 \\u03bd\\u03cc\\u03c3\\u1ff3 \\u03bd\\u03bf\\u03c3\\u03b5\\u1fd6\\u03bd , \\u1f10\\u03c0\\u03b5\\u1f76 \\u03ba\\u03ad\\u03c1\\u03b4\\u03b9\\u03c3\\u03c4\\u03bf\\u03bd \\u03b5\\u1f56 \\u03c6\\u03c1\\u03bf\\u03bd\\u03bf\\u1fe6\\u03bd\\u03c4\\u03b1 \\u03bc\\u1f74 \\u03c6\\u03c1\\u03bf\\u03bd\\u03b5\\u1fd6\\u03bd \\u03b4\\u03bf\\u03ba\\u03b5\\u1fd6\\u03bd .\",\"\\u1f14\\u03b1 \\u03bc\\u03b5 \\u03c4\\u1fc7\\u03b4\\u03b5 \\u03c4\\u1fc7 \\u03bd\\u03cc\\u03c3\\u1ff3 \\u03bd\\u03bf\\u03c3\\u03b5\\u1fd6\\u03bd , \\u1f10\\u03c0\\u03b5\\u1f76 \\u03ba\\u03ad\\u03c1\\u03b4\\u03b9\\u03c3\\u03c4\\u03bf\\u03bd \\u03b5\\u1f56 \\u03c6\\u03c1\\u03bf\\u03bd\\u03bf\\u1fe6\\u03bd\\u03c4\\u03b1 \\u03bc\\u1f74 \\u03c6\\u03c1\\u03bf\\u03bd\\u03b5\\u1fd6\\u03bd \\u03b4\\u03bf\\u03ba\\u03b5\\u1fd6\\u03bd .\",\"\\u03bc\\u03b1\\u03ba\\u03c1\\u1f78\\u03bd \\u03b4\\u1f72 \\u03bc\\u1fc6\\u03ba\\u03bf\\u03c2 \\u1f10\\u03ba\\u03c4\\u03b5\\u03bb\\u03b5\\u03c5\\u03c4\\u03ae\\u03c3\\u03b1\\u03c2 \\u03c7\\u03c1\\u03cc\\u03bd\\u03bf\\u03c5 \\u1f04\\u03c8\\u03bf\\u03c1\\u03c1\\u03bf\\u03bd \\u1f25\\u03be\\u03b5\\u03b9\\u03c2 \\u03b5\\u1f30\\u03c2 \\u03c6\\u03ac\\u03bf\\u03c2 \\u00b7\",\"\\u03bf\\u1f31 \\u03b4\\u0313 \\u1f05\\u03bc\\u03b1 \\u1f35\\u03c0\\u03c0\\u03bf\\u03b9\\u03c2 \\u1f41\\u03bc\\u03bf\\u03ba\\u03bb\\u03ae\\u03c3\\u03b1\\u03bd\\u03c4\\u03b5\\u03c2 \\u1f21\\u03bd\\u03af\\u03b1\\u03c2 \\u03c7\\u03b5\\u03c1\\u03bf\\u1fd6\\u03bd \\u1f14\\u03c3\\u03b5\\u03b9\\u03c3\\u03b1\\u03bd \\u00b7\",\"\\u03bf\\u1f31 \\u03b4\\u0313 \\u1f05\\u03bc\\u03b1 \\u1f35\\u03c0\\u03c0\\u03bf\\u03b9\\u03c2 \\u1f41\\u03bc\\u03bf\\u03ba\\u03bb\\u03ae\\u03c3\\u03b1\\u03bd\\u03c4\\u03b5\\u03c2 \\u1f21\\u03bd\\u03af\\u03b1\\u03c2 \\u03c7\\u03b5\\u03c1\\u03bf\\u1fd6\\u03bd \\u1f14\\u03c3\\u03b5\\u03b9\\u03c3\\u03b1\\u03bd \\u00b7\",\"\\u03bf\\u1f31 \\u03b4\\u0313 \\u1f05\\u03bc\\u03b1 \\u1f35\\u03c0\\u03c0\\u03bf\\u03b9\\u03c2 \\u1f41\\u03bc\\u03bf\\u03ba\\u03bb\\u03ae\\u03c3\\u03b1\\u03bd\\u03c4\\u03b5\\u03c2 \\u1f21\\u03bd\\u03af\\u03b1\\u03c2 \\u03c7\\u03b5\\u03c1\\u03bf\\u1fd6\\u03bd \\u1f14\\u03c3\\u03b5\\u03b9\\u03c3\\u03b1\\u03bd \\u00b7\",\"\\u1f31\\u03ba\\u03bd\\u03b5\\u1fd6\\u03c4\\u03b1\\u03b9 \\u03b4\\u1f74 \\u03c3\\u03b9\\u03bd\\u03bf\\u03c5\\u03bc\\u03ad\\u03bd\\u03b1 \\u03b2\\u03ad\\u03bb\\u03b5\\u03b9 \\u03b2\\u03bf\\u03c5\\u03ba\\u03cc\\u03bb\\u03bf\\u03c5 \\u03c0\\u03c4\\u03b5\\u03c1\\u03cc\\u03b5\\u03bd\\u03c4\\u03bf\\u03c2 \\u0394\\u1fd6\\u03bf\\u03bd \\u03c0\\u03ac\\u03bc\\u03b2\\u03bf\\u03c4\\u03bf\\u03bd \\u1f04\\u03bb\\u03c3\\u03bf\\u03c2 , \\u03bb\\u03b5\\u03b9\\u03bc\\u1ff6\\u03bd\\u03b1 \\u03c7\\u03b9\\u03bf\\u03bd\\u03cc\\u03b2\\u03bf\\u03c3\\u03ba\\u03bf\\u03bd , \\u1f45\\u03bd\\u03c4\\u0313 \\u1f10\\u03c0\\u03ad\\u03c1\\u03c7\\u03b5\\u03c4\\u03b1\\u03b9 \\u03a4\\u03c5\\u03c6\\u1ff6 \\u03bc\\u03ad\\u03bd\\u03bf\\u03c2 , \\u1f55\\u03b4\\u03c9\\u03c1 \\u03c4\\u03b5 \\u039d\\u03b5\\u03af\\u03bb\\u03bf\\u03c5 \\u03bd\\u03cc\\u03c3\\u03bf\\u03b9\\u03c2 \\u1f04\\u03b8\\u03b9\\u03ba\\u03c4\\u03bf\\u03bd , \\u03bc\\u03b1\\u03b9\\u03bd\\u03bf\\u03bc\\u03ad\\u03bd\\u03b1 \\u03c0\\u03cc\\u03bd\\u03bf\\u03b9\\u03c2 \\u1f00\\u03c4\\u03af - \\u03bc\\u03bf\\u03b9\\u03c2 \\u1f40\\u03b4\\u03cd\\u03bd\\u03b1\\u03b9\\u03c2 \\u03c4\\u03b5 \\u03ba\\u03b5\\u03bd\\u03c4\\u03c1\\u03bf\\u03b4\\u03b1 - \\u03bb\\u03ae\\u03c4\\u03b9\\u03c3\\u03b9 , \\u03b8\\u03c5\\u03b9\\u1f70\\u03c2 \\u1f2d\\u03c1\\u03b1\\u03c2 .\",\"\\u1f14\\u03bd\\u03b8\\u03b1 \\u03b4\\u1f72 \\u03bb\\u03b1\\u03af\\u03bb\\u03b1\\u03c0\\u03b9 \\u03c7\\u03b5\\u03b9\\u03bc\\u03c9\\u03bd\\u03bf\\u03c4\\u03cd\\u03c0\\u1ff3 , \\u03b2\\u03c1\\u03bf\\u03bd\\u03c4\\u1fc7 \\u03c3\\u03c4\\u03b5\\u03c1\\u03bf\\u03c0\\u1fc7 \\u03c4\\u0313 \\u1f40\\u03bc\\u03b2\\u03c1\\u03bf\\u03c6\\u03cc\\u03c1\\u03bf\\u03b9\\u03c3\\u03af\\u03bd \\u03c4\\u0313 \\u1f00\\u03bd\\u03ad\\u03bc\\u03bf\\u03b9\\u03c2 \\u1f00\\u03b3\\u03c1\\u03af\\u03b1\\u03c2 \\u1f01\\u03bb\\u1f78\\u03c2 \\u1f00\\u03bd\\u03c4\\u03ae\\u03c3\\u03b1\\u03bd\\u03c4\\u03b5\\u03c2 , \\u1f44\\u03bb\\u03bf\\u03b9\\u03bd\\u03c4\\u03bf , \\u03c0\\u03c1\\u03af\\u03bd \\u03c0\\u03bf\\u03c4\\u03b5 \\u03bb\\u03ad\\u03ba\\u03c4\\u03c1\\u03c9\\u03bd , \\u1f67\\u03bd \\u03b8\\u03ad\\u03bc\\u03b9\\u03c2 \\u03b5\\u1f34\\u03c1\\u03b3\\u03b5\\u03b9 , \\u03c3\\u03c6\\u03b5\\u03c4\\u03b5\\u03c1\\u03b9\\u03be\\u03ac\\u03bc\\u03b5\\u03bd\\u03bf\\u03b9 \\u03c0\\u03b1\\u03c4\\u03c1\\u03b1\\u03b4\\u03ad\\u03bb\\u03c6\\u03b5\\u03b9\\u03b1\\u03bd \\u03c4\\u03ae\\u03bd\\u03b4\\u0313 \\u1f00\\u03b5\\u03ba\\u03cc\\u03bd\\u03c4\\u03c9\\u03bd \\u1f10\\u03c0\\u03b9\\u03b2\\u1fc6\\u03bd\\u03b1\\u03b9 .\",\"\\u03bc\\u03ae\\u03c0\\u03bf\\u03c4\\u03b5 \\u03c0\\u03c5\\u03c1\\u03af\\u03c6\\u03b1\\u03c4\\u03bf\\u03bd \\u03b3\\u1fb6\\u03bd \\u03a0\\u03b5\\u03bb\\u03b1\\u03c3\\u03b3\\u03af\\u03b1\\u03bd [\\u03c0\\u03cc\\u03bb\\u03b9\\u03bd] \\u03c4\\u1f78\\u03bd \\u1f04\\u03ba\\u03bf\\u03c1\\u03bf\\u03bd \\u03b2\\u03bf\\u1fb6\\u03c2 , \\u03ba\\u03c4\\u03af\\u03c3\\u03b1\\u03b9 \\u03bc\\u03ac\\u03c7\\u03bb\\u03bf\\u03bd \\u1f0c\\u03c1\\u03b7 , \\u03c4\\u1f78\\u03bd \\u1f00\\u03c1\\u03cc\\u03c4\\u03bf\\u03b9\\u03c2 \\u03b8\\u03b5\\u03c1\\u03af - \\u03b6\\u03bf\\u03bd\\u03c4\\u03b1 \\u03b2\\u03c1\\u03bf\\u03c4\\u03bf\\u1f7a\\u03c2 \\u1f10\\u03bd \\u1f04\\u03bb\\u03bb\\u03bf\\u03b9\\u03c2 , \\u03bf\\u1f55\\u03bd\\u03b5\\u03ba\\u0313 \\u1fa4\\u03ba\\u03c4\\u03b9\\u03c3\\u03b1\\u03bd \\u1f21\\u03bc\\u1fb6\\u03c2 , \\u03c8\\u1fc6\\u03c6\\u03bf\\u03bd \\u03b4\\u0313 \\u03b5\\u1f54\\u03c6\\u03c1\\u03bf\\u03bd\\u0313 \\u1f14\\u03b8\\u03b5\\u03bd\\u03c4\\u03bf , \\u03b1\\u1f30\\u03b4\\u03bf\\u1fe6\\u03bd\\u03c4\\u03b1\\u03b9 \\u03b4\\u0313 \\u1f31\\u03ba\\u03ad\\u03c4\\u03b1\\u03c2 \\u0394\\u03b9\\u03cc\\u03c2 , \\u03c0\\u03bf\\u03af\\u03bc\\u03bd\\u03b1\\u03bd \\u03c4\\u03ac\\u03bd\\u03b4\\u0313 \\u1f00\\u03bc\\u03ad\\u03b3\\u03b1\\u03c1\\u03c4\\u03bf\\u03bd \\u00b7\",\"\\u03c0\\u03c1\\u1ff6\\u03c4\\u03b1 \\u03c3\\u1f72 \\u03ba\\u03b5\\u03ba\\u03bb\\u03cc\\u03bc\\u03b5\\u03bd\\u03bf\\u03c2 , \\u03b8\\u03cd\\u03b3\\u03b1\\u03c4\\u03b5\\u03c1 \\u0394\\u03b9\\u03cc\\u03c2 , \\u1f04\\u03bc\\u03b2\\u03c1\\u03bf\\u03c4\\u0313 \\u1f08\\u03b8\\u03ac\\u03bd\\u03b1 \\u03b3\\u03b1\\u03b9\\u03ac\\u03bf\\u03c7\\u03cc\\u03bd \\u03c4\\u0313 \\u1f00\\u03b4\\u03b5\\u03bb\\u03c6\\u03b5\\u1f70\\u03bd \\u1f0c\\u03c1\\u03c4\\u03b5\\u03bc\\u03b9\\u03bd , \\u1f03 \\u03ba\\u03c5\\u03ba\\u03bb\\u03cc\\u03b5\\u03bd\\u03c4\\u0313 \\u1f00\\u03b3\\u03bf\\u03c1\\u1fb6\\u03c2 \\u03b8\\u03c1\\u03cc\\u03bd\\u03bf\\u03bd \\u03b5\\u1f50\\u03ba\\u03bb\\u03ad\\u03b1 \\u03b8\\u03ac\\u03c3\\u03c3\\u03b5\\u03b9 , \\u03ba\\u03b1\\u1f76 \\u03a6\\u03bf\\u1fd6\\u03b2\\u03bf\\u03bd \\u1f11\\u03ba\\u03b1\\u03b2\\u03cc\\u03bb\\u03bf\\u03bd , \\u1f30\\u1f7c \\u03c4\\u03c1\\u03b9\\u03c3\\u03c3\\u03bf\\u1f76 \\u1f00\\u03bb\\u03b5\\u03be\\u03af\\u03bc\\u03bf\\u03c1\\u03bf\\u03b9 \\u03c0\\u03c1\\u03bf\\u03c6\\u03ac\\u03bd\\u03b7\\u03c4\\u03ad \\u03bc\\u03bf\\u03b9 , \\u03b5\\u1f34 \\u03c0\\u03bf\\u03c4\\u03b5 \\u03ba\\u03b1\\u1f76 \\u03c0\\u03c1\\u03bf\\u03c4\\u03ad\\u03c1\\u03b1\\u03c2 \\u1f04\\u03c4\\u03b1\\u03c2 \\u1f55\\u03c0\\u03b5\\u03c1 \\u1f40\\u03c1\\u03bd\\u03c5\\u03bc\\u03ad\\u03bd\\u03b1\\u03c2 \\u03c0\\u03cc\\u03bb\\u03b5\\u03b9 \\u1f20\\u03bd\\u03cd\\u03c3\\u03b1\\u03c4\\u0313 \\u1f10\\u03ba\\u03c4\\u03bf\\u03c0\\u03af\\u03b1\\u03bd \\u03c6\\u03bb\\u03cc\\u03b3\\u03b1 \\u03c0\\u03ae\\u03bc\\u03b1\\u03c4\\u03bf\\u03c2 , \\u1f14\\u03bb\\u03b8\\u03b5\\u03c4\\u03b5 \\u03ba\\u03b1\\u1f76 \\u03bd\\u1fe6\\u03bd .\",\"\\u03c0\\u03c1\\u1ff6\\u03c4\\u03b1 \\u03c3\\u1f72 \\u03ba\\u03b5\\u03ba\\u03bb\\u03cc\\u03bc\\u03b5\\u03bd\\u03bf\\u03c2 , \\u03b8\\u03cd\\u03b3\\u03b1\\u03c4\\u03b5\\u03c1 \\u0394\\u03b9\\u03cc\\u03c2 , \\u1f04\\u03bc\\u03b2\\u03c1\\u03bf\\u03c4\\u0313 \\u1f08\\u03b8\\u03ac\\u03bd\\u03b1 \\u03b3\\u03b1\\u03b9\\u03ac\\u03bf\\u03c7\\u03cc\\u03bd \\u03c4\\u0313 \\u1f00\\u03b4\\u03b5\\u03bb\\u03c6\\u03b5\\u1f70\\u03bd \\u1f0c\\u03c1\\u03c4\\u03b5\\u03bc\\u03b9\\u03bd , \\u1f03 \\u03ba\\u03c5\\u03ba\\u03bb\\u03cc\\u03b5\\u03bd\\u03c4\\u0313 \\u1f00\\u03b3\\u03bf\\u03c1\\u1fb6\\u03c2 \\u03b8\\u03c1\\u03cc\\u03bd\\u03bf\\u03bd \\u03b5\\u1f50\\u03ba\\u03bb\\u03ad\\u03b1 \\u03b8\\u03ac\\u03c3\\u03c3\\u03b5\\u03b9 , \\u03ba\\u03b1\\u1f76 \\u03a6\\u03bf\\u1fd6\\u03b2\\u03bf\\u03bd \\u1f11\\u03ba\\u03b1\\u03b2\\u03cc\\u03bb\\u03bf\\u03bd , \\u1f30\\u1f7c \\u03c4\\u03c1\\u03b9\\u03c3\\u03c3\\u03bf\\u1f76 \\u1f00\\u03bb\\u03b5\\u03be\\u03af\\u03bc\\u03bf\\u03c1\\u03bf\\u03b9 \\u03c0\\u03c1\\u03bf\\u03c6\\u03ac\\u03bd\\u03b7\\u03c4\\u03ad \\u03bc\\u03bf\\u03b9 , \\u03b5\\u1f34 \\u03c0\\u03bf\\u03c4\\u03b5 \\u03ba\\u03b1\\u1f76 \\u03c0\\u03c1\\u03bf\\u03c4\\u03ad\\u03c1\\u03b1\\u03c2 \\u1f04\\u03c4\\u03b1\\u03c2 \\u1f55\\u03c0\\u03b5\\u03c1 \\u1f40\\u03c1\\u03bd\\u03c5\\u03bc\\u03ad\\u03bd\\u03b1\\u03c2 \\u03c0\\u03cc\\u03bb\\u03b5\\u03b9 \\u1f20\\u03bd\\u03cd\\u03c3\\u03b1\\u03c4\\u0313 \\u1f10\\u03ba\\u03c4\\u03bf\\u03c0\\u03af\\u03b1\\u03bd \\u03c6\\u03bb\\u03cc\\u03b3\\u03b1 \\u03c0\\u03ae\\u03bc\\u03b1\\u03c4\\u03bf\\u03c2 , \\u1f14\\u03bb\\u03b8\\u03b5\\u03c4\\u03b5 \\u03ba\\u03b1\\u1f76 \\u03bd\\u1fe6\\u03bd .\",\"\\u1f66\\u03bd\\u03b1\\u03be , \\u03b5\\u1f36\\u03c0\\u03bf\\u03bd \\u03bc\\u1f72\\u03bd \\u03bf\\u1f50\\u03c7 \\u1f05\\u03c0\\u03b1\\u03be \\u03bc\\u03cc\\u03bd\\u03bf\\u03bd , \\u1f34\\u03c3\\u03b8\\u03b9 \\u03b4\\u1f72 \\u03c0\\u03b1\\u03c1\\u03b1\\u03c6\\u03c1\\u03cc\\u03bd\\u03b9\\u03bc\\u03bf\\u03bd , \\u1f04\\u03c0\\u03bf\\u03c1\\u03bf\\u03bd \\u1f10\\u03c0\\u1f76 \\u03c6\\u03c1\\u03cc\\u03bd\\u03b9\\u03bc\\u03b1 \\u03c0\\u03b5\\u03c6\\u03ac\\u03bd\\u03b8\\u03b1\\u03b9 \\u03bc\\u0313 \\u1f04\\u03bd , \\u03b5\\u1f34 \\u03c3\\u0313 \\u1f10\\u03bd\\u03bf\\u03c3\\u03c6\\u03b9\\u03b6\\u03cc\\u03bc\\u03b1\\u03bd , \\u1f45\\u03c2 \\u03c4\\u0313 \\u1f10\\u03bc\\u1f70\\u03bd \\u03b3\\u1fb6\\u03bd \\u03c6\\u03af\\u03bb\\u03b1\\u03bd \\u1f10\\u03bd \\u03c0\\u03cc\\u03bd\\u03bf\\u03b9\\u03c2 \\u1f00\\u03bb\\u03cd\\u03bf\\u03c5\\u03c3\\u03b1\\u03bd \\u03ba\\u03b1\\u03c4\\u0313 \\u1f40\\u03c1\\u03b8\\u1f78\\u03bd \\u03bf\\u1f54\\u03c1\\u03b9\\u03c3\\u03b1\\u03c2 , \\u03c4\\u03b1\\u03bd\\u1fe6\\u03bd \\u03c4\\u0313 \\u03b5\\u1f54\\u03c0\\u03bf\\u03bc\\u03c0\\u03bf\\u03c2 , \\u1f02\\u03bd \\u03b3\\u03ad\\u03bd\\u03bf\\u03b9\\u03bf .\",\"\\u03b4\\u03ad\\u03ba\\u03b1\\u03c4\\u03bf\\u03bd \\u03bc\\u1f72\\u03bd \\u1f14\\u03c4\\u03bf\\u03c2 \\u03c4\\u03cc\\u03b4\\u0313 \\u1f10\\u03c0\\u03b5\\u1f76 \\u03a0\\u03c1\\u03b9\\u03ac\\u03bc\\u03bf\\u03c5 \\u03bc\\u03ad\\u03b3\\u03b1\\u03c2 \\u1f00\\u03bd\\u03c4\\u03af\\u03b4\\u03b9\\u03ba\\u03bf\\u03c2 , \\u039c\\u03b5\\u03bd\\u03ad\\u03bb\\u03b1\\u03bf\\u03c2 \\u1f04\\u03bd\\u03b1\\u03be \\u1f20\\u03b4\\u0313 \\u1f08\\u03b3\\u03b1\\u03bc\\u03ad\\u03bc\\u03bd\\u03c9\\u03bd , \\u03b4\\u03b9\\u03b8\\u03c1\\u03cc\\u03bd\\u03bf\\u03c5 \\u0394\\u03b9\\u03cc\\u03b8\\u03b5\\u03bd \\u03ba\\u03b1\\u1f76 \\u03b4\\u03b9\\u03c3\\u03ba\\u03ae\\u03c0\\u03c4\\u03c1\\u03bf\\u03c5 \\u03c4\\u03b9\\u03bc\\u1fc6\\u03c2 \\u1f40\\u03c7\\u03c5\\u03c1\\u1f78\\u03bd \\u03b6\\u03b5\\u1fe6\\u03b3\\u03bf\\u03c2 \\u1f08\\u03c4\\u03c1\\u03b5\\u03b9\\u03b4\\u1fb6\\u03bd \\u03c3\\u03c4\\u03cc\\u03bb\\u03bf\\u03bd \\u1f08\\u03c1\\u03b3\\u03b5\\u03af\\u03c9\\u03bd \\u03c7\\u03b9\\u03bb\\u03b9\\u03bf\\u03bd\\u03b1\\u03cd\\u03c4\\u03b7\\u03bd , \\u03c4\\u1fc6\\u03c3\\u03b4\\u0313 \\u1f00\\u03c0\\u1f78 \\u03c7\\u03ce\\u03c1\\u03b1\\u03c2 \\u1f26\\u03c1\\u03b1\\u03bd , \\u03c3\\u03c4\\u03c1\\u03b1\\u03c4\\u03b9\\u1ff6\\u03c4\\u03b9\\u03bd \\u1f00\\u03c1\\u03c9\\u03b3\\u1f70\\u03bd , \\u03bc\\u03ad\\u03b3\\u03b1\\u03bd \\u1f10\\u03ba \\u03b8\\u03c5\\u03bc\\u03bf\\u1fe6 \\u03ba\\u03bb\\u03ac\\u03b6\\u03bf\\u03bd\\u03c4\\u03b5\\u03c2 \\u1f0c\\u03c1\\u03b7 \\u03c4\\u03c1\\u03cc\\u03c0\\u03bf\\u03bd \\u03b1\\u1f30\\u03b3\\u03c5\\u03c0\\u03b9\\u1ff6\\u03bd , \\u03bf\\u1f35\\u03c4\\u0313 \\u1f10\\u03ba\\u03c0\\u03b1\\u03c4\\u03af\\u03bf\\u03b9\\u03c2 \\u1f04\\u03bb\\u03b3\\u03b5\\u03c3\\u03b9 \\u03c0\\u03b1\\u03af\\u03b4\\u03c9\\u03bd \\u1f55\\u03c0\\u03b1\\u03c4\\u03bf\\u03b9 \\u03bb\\u03b5\\u03c7\\u03ad\\u03c9\\u03bd \\u03c3\\u03c4\\u03c1\\u03bf\\u03c6\\u03bf\\u03b4\\u03b9\\u03bd\\u03bf\\u1fe6\\u03bd\\u03c4\\u03b1\\u03b9 \\u03c0\\u03c4\\u03b5\\u03c1\\u03cd\\u03b3\\u03c9\\u03bd \\u1f10\\u03c1\\u03b5\\u03c4\\u03bc\\u03bf\\u1fd6\\u03c3\\u03b9\\u03bd \\u1f10\\u03c1\\u03b5\\u03c3\\u03c3\\u03cc\\u03bc\\u03b5\\u03bd\\u03bf\\u03b9 , \\u03b4\\u03b5\\u03bc\\u03bd\\u03b9\\u03bf\\u03c4\\u03ae\\u03c1\\u03b7 \\u03c0\\u03cc\\u03bd\\u03bf\\u03bd \\u1f40\\u03c1\\u03c4\\u03b1\\u03bb\\u03af\\u03c7\\u03c9\\u03bd \\u1f40\\u03bb\\u03ad\\u03c3\\u03b1\\u03bd\\u03c4\\u03b5\\u03c2 \\u00b7\",\"\\u03b4\\u03ad\\u03ba\\u03b1\\u03c4\\u03bf\\u03bd \\u03bc\\u1f72\\u03bd \\u1f14\\u03c4\\u03bf\\u03c2 \\u03c4\\u03cc\\u03b4\\u0313 \\u1f10\\u03c0\\u03b5\\u1f76 \\u03a0\\u03c1\\u03b9\\u03ac\\u03bc\\u03bf\\u03c5 \\u03bc\\u03ad\\u03b3\\u03b1\\u03c2 \\u1f00\\u03bd\\u03c4\\u03af\\u03b4\\u03b9\\u03ba\\u03bf\\u03c2 , \\u039c\\u03b5\\u03bd\\u03ad\\u03bb\\u03b1\\u03bf\\u03c2 \\u1f04\\u03bd\\u03b1\\u03be \\u1f20\\u03b4\\u0313 \\u1f08\\u03b3\\u03b1\\u03bc\\u03ad\\u03bc\\u03bd\\u03c9\\u03bd , \\u03b4\\u03b9\\u03b8\\u03c1\\u03cc\\u03bd\\u03bf\\u03c5 \\u0394\\u03b9\\u03cc\\u03b8\\u03b5\\u03bd \\u03ba\\u03b1\\u1f76 \\u03b4\\u03b9\\u03c3\\u03ba\\u03ae\\u03c0\\u03c4\\u03c1\\u03bf\\u03c5 \\u03c4\\u03b9\\u03bc\\u1fc6\\u03c2 \\u1f40\\u03c7\\u03c5\\u03c1\\u1f78\\u03bd \\u03b6\\u03b5\\u1fe6\\u03b3\\u03bf\\u03c2 \\u1f08\\u03c4\\u03c1\\u03b5\\u03b9\\u03b4\\u1fb6\\u03bd \\u03c3\\u03c4\\u03cc\\u03bb\\u03bf\\u03bd \\u1f08\\u03c1\\u03b3\\u03b5\\u03af\\u03c9\\u03bd \\u03c7\\u03b9\\u03bb\\u03b9\\u03bf\\u03bd\\u03b1\\u03cd\\u03c4\\u03b7\\u03bd , \\u03c4\\u1fc6\\u03c3\\u03b4\\u0313 \\u1f00\\u03c0\\u1f78 \\u03c7\\u03ce\\u03c1\\u03b1\\u03c2 \\u1f26\\u03c1\\u03b1\\u03bd , \\u03c3\\u03c4\\u03c1\\u03b1\\u03c4\\u03b9\\u1ff6\\u03c4\\u03b9\\u03bd \\u1f00\\u03c1\\u03c9\\u03b3\\u1f70\\u03bd , \\u03bc\\u03ad\\u03b3\\u03b1\\u03bd \\u1f10\\u03ba \\u03b8\\u03c5\\u03bc\\u03bf\\u1fe6 \\u03ba\\u03bb\\u03ac\\u03b6\\u03bf\\u03bd\\u03c4\\u03b5\\u03c2 \\u1f0c\\u03c1\\u03b7 \\u03c4\\u03c1\\u03cc\\u03c0\\u03bf\\u03bd \\u03b1\\u1f30\\u03b3\\u03c5\\u03c0\\u03b9\\u1ff6\\u03bd , \\u03bf\\u1f35\\u03c4\\u0313 \\u1f10\\u03ba\\u03c0\\u03b1\\u03c4\\u03af\\u03bf\\u03b9\\u03c2 \\u1f04\\u03bb\\u03b3\\u03b5\\u03c3\\u03b9 \\u03c0\\u03b1\\u03af\\u03b4\\u03c9\\u03bd \\u1f55\\u03c0\\u03b1\\u03c4\\u03bf\\u03b9 \\u03bb\\u03b5\\u03c7\\u03ad\\u03c9\\u03bd \\u03c3\\u03c4\\u03c1\\u03bf\\u03c6\\u03bf\\u03b4\\u03b9\\u03bd\\u03bf\\u1fe6\\u03bd\\u03c4\\u03b1\\u03b9 \\u03c0\\u03c4\\u03b5\\u03c1\\u03cd\\u03b3\\u03c9\\u03bd \\u1f10\\u03c1\\u03b5\\u03c4\\u03bc\\u03bf\\u1fd6\\u03c3\\u03b9\\u03bd \\u1f10\\u03c1\\u03b5\\u03c3\\u03c3\\u03cc\\u03bc\\u03b5\\u03bd\\u03bf\\u03b9 , \\u03b4\\u03b5\\u03bc\\u03bd\\u03b9\\u03bf\\u03c4\\u03ae\\u03c1\\u03b7 \\u03c0\\u03cc\\u03bd\\u03bf\\u03bd \\u1f40\\u03c1\\u03c4\\u03b1\\u03bb\\u03af\\u03c7\\u03c9\\u03bd \\u1f40\\u03bb\\u03ad\\u03c3\\u03b1\\u03bd\\u03c4\\u03b5\\u03c2 \\u00b7\",\"\\u03bf\\u1f55\\u03c4\\u03c9 \\u03b4\\u0313 \\u1f08\\u03c4\\u03c1\\u03ad\\u03c9\\u03c2 \\u03c0\\u03b1\\u1fd6\\u03b4\\u03b1\\u03c2 \\u1f41 \\u03ba\\u03c1\\u03b5\\u03af\\u03c3\\u03c3\\u03c9\\u03bd \\u1f10\\u03c0\\u0313 \\u1f08\\u03bb\\u03b5\\u03be\\u03ac\\u03bd\\u03b4\\u03c1\\u1ff3 \\u03c0\\u03ad\\u03bc\\u03c0\\u03b5\\u03b9 \\u03be\\u03ad\\u03bd\\u03b9\\u03bf\\u03c2 \\u0396\\u03b5\\u1f7a\\u03c2 \\u03c0\\u03bf\\u03bb\\u03c5\\u03ac\\u03bd\\u03bf\\u03c1\\u03bf\\u03c2 \\u1f00\\u03bc\\u03c6\\u1f76 \\u03b3\\u03c5\\u03bd\\u03b1\\u03b9\\u03ba\\u1f78\\u03c2 \\u03c0\\u03bf\\u03bb\\u03bb\\u1f70 \\u03c0\\u03b1\\u03bb\\u03b1\\u03af\\u03c3\\u03bc\\u03b1\\u03c4\\u03b1 \\u03ba\\u03b1\\u1f76 \\u03b3\\u03c5\\u03b9\\u03bf\\u03b2\\u03b1\\u03c1\\u1fc6 \\u03b3\\u03cc\\u03bd\\u03b1\\u03c4\\u03bf\\u03c2 \\u03ba\\u03bf\\u03bd\\u03af\\u03b1\\u03b9\\u03c3\\u03b9\\u03bd \\u1f10\\u03c1\\u03b5\\u03b9\\u03b4\\u03bf\\u03bc\\u03ad\\u03bd\\u03bf\\u03c5 \\u03b4\\u03b9\\u03b1\\u03ba\\u03bd\\u03b1\\u03b9\\u03bf\\u03bc\\u03ad\\u03bd\\u03b7\\u03c2 \\u03c4\\u0313 \\u1f10\\u03bd \\u03c0\\u03c1\\u03bf\\u03c4\\u03b5\\u03bb\\u03b5\\u03af\\u03bf\\u03b9\\u03c2 \\u03ba\\u03ac\\u03bc\\u03b1\\u03ba\\u03bf\\u03c2 \\u03b8\\u03ae\\u03c3\\u03c9\\u03bd \\u0394\\u03b1\\u03bd\\u03b1\\u03bf\\u1fd6\\u03c3\\u03b9 \\u03a4\\u03c1\\u03c9\\u03c3\\u03af \\u03b8\\u0313 \\u1f41\\u03bc\\u03bf\\u03af\\u03c9\\u03c2 .\",\"\\u03bf\\u1f35\\u03c4\\u03b5 \\u03c4\\u1f78 \\u03a3\\u03bf\\u03cd\\u03c3\\u03c9\\u03bd \\u1f20\\u03b4\\u0313 \\u1f08\\u03b3\\u03b2\\u03b1\\u03c4\\u03ac\\u03bd\\u03c9\\u03bd \\u03ba\\u03b1\\u1f76 \\u03c4\\u1f78 \\u03c0\\u03b1\\u03bb\\u03b1\\u03b9\\u1f78\\u03bd \\u039a\\u03af\\u03c3\\u03c3\\u03b9\\u03bf\\u03bd \\u1f15\\u03c1\\u03ba\\u03bf\\u03c2 \\u03c0\\u03c1\\u03bf\\u03bb\\u03b9\\u03c0\\u03cc\\u03bd\\u03c4\\u03b5\\u03c2 \\u1f14\\u03b2\\u03b1\\u03bd , \\u03c4\\u03bf\\u1f76 \\u03bc\\u1f72\\u03bd \\u1f10\\u03c6\\u0313 \\u1f35\\u03c0\\u03c0\\u03c9\\u03bd , \\u03c4\\u03bf\\u1f76 \\u03b4\\u0313 \\u1f10\\u03c0\\u1f76 \\u03bd\\u03b1\\u1ff6\\u03bd , \\u03c0\\u03b5\\u03b6\\u03bf\\u03af \\u03c4\\u03b5 \\u03b2\\u03ac\\u03b4\\u03b7\\u03bd \\u03c0\\u03bf\\u03bb\\u03ad\\u03bc\\u03bf\\u03c5 \\u03c3\\u03c4\\u1fd6\\u03c6\\u03bf\\u03c2 \\u03c0\\u03b1\\u03c1\\u03ad\\u03c7\\u03bf\\u03bd\\u03c4\\u03b5\\u03c2 \\u00b7\",\"\\u03c4\\u03af\\u03c2 \\u1f41 \\u03ba\\u03c1\\u03b1\\u03b9\\u03c0\\u03bd\\u1ff7 \\u03c0\\u03bf\\u03b4\\u1f76 \\u03c0\\u03ae\\u03b4\\u03b7- \\u03bc\\u03b1 \\u03c4\\u03cc\\u03b4\\u0313 \\u03b5\\u1f50\\u03c0\\u03b5\\u03c4\\u1ff6\\u03c2 \\u1f00\\u03bd\\u1fb4\\u03c3\\u03c3\\u03c9\\u03bd ;\",\"\\u03b1\\u1f31 \\u03b4\\u0313 \\u1f01\\u03b2\\u03c1\\u03cc\\u03b3\\u03bf\\u03bf\\u03b9 \\u03a0\\u03b5\\u03c1\\u03c3\\u03af\\u03b4\\u03b5\\u03c2 \\u1f00\\u03bd\\u03b4\\u03c1\\u1ff6\\u03bd \\u03c0\\u03bf\\u03b8\\u03ad\\u03bf\\u03c5\\u03c3\\u03b1\\u03b9 \\u1f30\\u03b4\\u03b5\\u1fd6\\u03bd \\u1f00\\u03c1\\u03c4\\u03b9\\u03b6\\u03c5\\u03b3\\u03af\\u03b1\\u03bd , \\u03bb\\u03ad\\u03ba\\u03c4\\u03c1\\u03c9\\u03bd \\u03b5\\u1f50\\u03bd\\u1f70\\u03c2 \\u1f01\\u03b2\\u03c1\\u03bf\\u03c7\\u03af\\u03c4\\u03c9\\u03bd\\u03b1\\u03c2 , \\u03c7\\u03bb\\u03b9\\u03b4\\u03b1\\u03bd\\u1fc6\\u03c2 \\u1f25\\u03b2\\u03b7\\u03c2 \\u03c4\\u03ad\\u03c1\\u03c8\\u03b9\\u03bd , \\u1f00\\u03c6\\u03b5\\u1fd6\\u03c3\\u03b1\\u03b9 , \\u03c0\\u03b5\\u03bd\\u03b8\\u03bf\\u1fe6\\u03c3\\u03b9 \\u03b3\\u03cc\\u03bf\\u03b9\\u03c2 \\u1f00\\u03ba\\u03bf\\u03c1\\u03b5\\u03c3\\u03c4\\u03bf\\u03c4\\u03ac\\u03c4\\u03bf\\u03b9\\u03c2 .\",\"\\u03c7\\u1f64\\u03c4\\u0313 \\u03b1\\u1f56\\u03b8\\u03b9\\u03c2 \\u03b1\\u1f50\\u03c4\\u1f78\\u03c2 \\u1f1d\\u03ba\\u03c4\\u03bf\\u03c1\\u03bf\\u03c2 \\u03bc\\u03cc\\u03bd\\u03bf\\u03c2 \\u03bc\\u03cc\\u03bd\\u03bf\\u03c5 \\u03bb\\u03b1\\u03c7\\u03ce\\u03bd \\u03c4\\u03b5 \\u03ba\\u1f00\\u03ba\\u03ad\\u03bb\\u03b5\\u03c5\\u03c3\\u03c4\\u03bf\\u03c2 \\u1f26\\u03bb\\u03b8\\u0313 \\u1f10\\u03bd\\u03b1\\u03bd\\u03c4\\u03af\\u03bf\\u03c2 , \\u03bf\\u1f50 \\u03b4\\u03c1\\u03b1\\u03c0\\u03ad\\u03c4\\u03b7\\u03bd \\u03c4\\u1f78\\u03bd \\u03ba\\u03bb\\u1fc6\\u03c1\\u03bf\\u03bd \\u1f10\\u03c2 \\u03bc\\u03ad\\u03c3\\u03bf\\u03bd \\u03ba\\u03b1\\u03b8\\u03b5\\u03af\\u03c2 , \\u1f51\\u03b3\\u03c1\\u1fb6\\u03c2 \\u1f00\\u03c1\\u03bf\\u03cd\\u03c1\\u03b1\\u03c2 \\u03b2\\u1ff6\\u03bb\\u03bf\\u03bd , \\u1f00\\u03bb\\u03bb\\u0313 \\u1f43\\u03c2 \\u03b5\\u1f50\\u03bb\\u03cc\\u03c6\\u03bf\\u03c5 \\u03ba\\u03c5\\u03bd\\u1fc6\\u03c2 \\u1f14\\u03bc\\u03b5\\u03bb\\u03bb\\u03b5 \\u03c0\\u03c1\\u1ff6\\u03c4\\u03bf\\u03c2 \\u1f05\\u03bb\\u03bc\\u03b1 \\u03ba\\u03bf\\u03c5\\u03c6\\u03b9\\u03b5\\u1fd6\\u03bd ;\",\"\\u1f00\\u03bb\\u03bb\\u0313 \\u03b1\\u1f34\\u03b4\\u03b5\\u03c3\\u03b1\\u03b9 \\u03bc\\u1f72\\u03bd \\u03c0\\u03b1\\u03c4\\u03ad\\u03c1\\u03b1 \\u03c4\\u1f78\\u03bd \\u03c3\\u1f78\\u03bd \\u1f10\\u03bd \\u03bb\\u03c5\\u03b3\\u03c1\\u1ff7 \\u03b3\\u03ae\\u03c1\\u1fb3 \\u03c0\\u03c1\\u03bf\\u03bb\\u03b5\\u03af\\u03c0\\u03c9\\u03bd , \\u03b1\\u1f34\\u03b4\\u03b5\\u03c3\\u03b1\\u03b9 \\u03b4\\u1f72 \\u03bc\\u03b7\\u03c4\\u03ad\\u03c1\\u03b1 \\u03c0\\u03bf\\u03bb\\u03bb\\u1ff6\\u03bd \\u1f10\\u03c4\\u1ff6\\u03bd \\u03ba\\u03bb\\u03b7\\u03c1\\u03bf\\u1fe6\\u03c7\\u03bf\\u03bd , \\u1f25 \\u03c3\\u03b5 \\u03c0\\u03bf\\u03bb\\u03bb\\u03ac\\u03ba\\u03b9\\u03c2 \\u03b8\\u03b5\\u03bf\\u1fd6\\u03c2 \\u1f00\\u03c1\\u1fb6\\u03c4\\u03b1\\u03b9 \\u03b6\\u1ff6\\u03bd\\u03c4\\u03b1 \\u03c0\\u03c1\\u1f78\\u03c2 \\u03b4\\u03cc\\u03bc\\u03bf\\u03c5\\u03c2 \\u03bc\\u03bf\\u03bb\\u03b5\\u1fd6\\u03bd \\u00b7\",\"\\u1f00\\u03bb\\u03bb\\u0313 \\u03b1\\u1f34\\u03b4\\u03b5\\u03c3\\u03b1\\u03b9 \\u03bc\\u1f72\\u03bd \\u03c0\\u03b1\\u03c4\\u03ad\\u03c1\\u03b1 \\u03c4\\u1f78\\u03bd \\u03c3\\u1f78\\u03bd \\u1f10\\u03bd \\u03bb\\u03c5\\u03b3\\u03c1\\u1ff7 \\u03b3\\u03ae\\u03c1\\u1fb3 \\u03c0\\u03c1\\u03bf\\u03bb\\u03b5\\u03af\\u03c0\\u03c9\\u03bd , \\u03b1\\u1f34\\u03b4\\u03b5\\u03c3\\u03b1\\u03b9 \\u03b4\\u1f72 \\u03bc\\u03b7\\u03c4\\u03ad\\u03c1\\u03b1 \\u03c0\\u03bf\\u03bb\\u03bb\\u1ff6\\u03bd \\u1f10\\u03c4\\u1ff6\\u03bd \\u03ba\\u03bb\\u03b7\\u03c1\\u03bf\\u1fe6\\u03c7\\u03bf\\u03bd , \\u1f25 \\u03c3\\u03b5 \\u03c0\\u03bf\\u03bb\\u03bb\\u03ac\\u03ba\\u03b9\\u03c2 \\u03b8\\u03b5\\u03bf\\u1fd6\\u03c2 \\u1f00\\u03c1\\u1fb6\\u03c4\\u03b1\\u03b9 \\u03b6\\u1ff6\\u03bd\\u03c4\\u03b1 \\u03c0\\u03c1\\u1f78\\u03c2 \\u03b4\\u03cc\\u03bc\\u03bf\\u03c5\\u03c2 \\u03bc\\u03bf\\u03bb\\u03b5\\u1fd6\\u03bd \\u00b7\",\"\\u03b8\\u03b5\\u03bf\\u1fe6 \\u03c4\\u03b5 \\u03b3\\u1f70\\u03c1 \\u03b8\\u03ad\\u03bb\\u03bf\\u03bd\\u03c4\\u03bf\\u03c2 \\u1f10\\u03ba\\u03c0\\u03ad\\u03c1\\u03c3\\u03b5\\u03b9\\u03bd \\u03c0\\u03cc\\u03bb\\u03b9\\u03bd \\u03ba\\u03b1\\u1f76 \\u03bc\\u1f74 \\u03b8\\u03ad\\u03bb\\u03bf\\u03bd\\u03c4\\u03cc\\u03c2 \\u03c6\\u03b7\\u03c3\\u03b9\\u03bd , \\u03bf\\u1f50 \\u03b4\\u1f72 \\u03c4\\u1f74\\u03bd \\u0394\\u03b9\\u1f78\\u03c2 \\u1f14\\u03c1\\u03b9\\u03bd \\u03c0\\u03ad\\u03b4\\u03bf\\u03b9 \\u03c3\\u03ba\\u03ae\\u03c8\\u03b1\\u03c3\\u03b1\\u03bd \\u1f10\\u03bc\\u03c0\\u03bf\\u03b4\\u1f7c\\u03bd \\u03c3\\u03c7\\u03b5\\u03b8\\u03b5\\u1fd6\\u03bd .\",\"\\u03bc\\u03ae\\u03c0\\u03bf\\u03c4\\u0313 \\u1f10\\u03bc\\u1f78\\u03bd \\u03ba\\u03b1\\u03c4\\u0313 \\u03b1\\u1f30\\u1ff6\\u03bd\\u03b1 \\u03bb\\u03af\\u03c0\\u03bf\\u03b9 \\u03b8\\u03b5\\u1ff6\\u03bd \\u1f05\\u03b4\\u03b5 \\u03c0\\u03b1\\u03bd\\u03ac\\u03b3\\u03c5\\u03c1\\u03b9\\u03c2 , \\u03bc\\u03b7 \\u03b4\\u0313 \\u1f10\\u03c0\\u03af\\u03b4\\u03bf\\u03b9\\u03bc\\u03b9 \\u03c4\\u03ac\\u03bd\\u03b4\\u0313 \\u1f00\\u03c3\\u03c4\\u03c5\\u03b4\\u03c1\\u03bf\\u03bc\\u03bf\\u03c5\\u03bc\\u03ad\\u03bd\\u03b1\\u03bd \\u03c0\\u03cc\\u03bb\\u03b9\\u03bd \\u03ba\\u03b1\\u1f76 \\u03c3\\u03c4\\u03c1\\u03ac\\u03c4\\u03b5\\u03c5\\u03bc\\u0313 \\u1f01\\u03c0\\u03c4\\u03cc\\u03bc\\u03b5\\u03bd\\u03bf\\u03bd \\u03c0\\u03c5\\u03c1\\u1f76 \\u03b4\\u03b1\\u0390\\u1ff3 .\",\"\\u03c0\\u03b1\\u03bd\\u03c4\\u03bf\\u03b4\\u03b1\\u03c0\\u1f78\\u03c2 \\u03b4\\u1f72 \\u03ba\\u03b1\\u03c1\\u03c0\\u1f78\\u03c2 \\u03c7\\u03b1\\u03bc\\u03ac\\u03b4\\u03b9\\u03c2 \\u03c0\\u03b5\\u03c3\\u1f7c\\u03bd \\u1f00\\u03bb\\u03b3\\u03cd\\u03bd\\u03b5\\u03b9 \\u03ba\\u03c5\\u03c1\\u03ae\\u03c3\\u03b1\\u03c2 \\u00b7\",\"\\u03ba\\u1f00\\u03bd\\u03c4\\u03b1\\u1fe6\\u03b8\\u0313 \\u1f41 \\u03c0\\u03b1\\u1fd6\\u03c2 \\u03b4\\u03cd\\u03c3\\u03c4\\u03b7\\u03bd\\u03bf\\u03c2 \\u03bf\\u1f54 \\u03c4\\u0313 \\u1f40\\u03b4\\u03c5\\u03c1\\u03bc\\u03ac\\u03c4\\u03c9\\u03bd \\u1f10\\u03bb\\u03b5\\u03af\\u03c0\\u03b5\\u03c4\\u0313 \\u03bf\\u1f50\\u03b4\\u03ad\\u03bd , \\u1f00\\u03bc\\u03c6\\u03af \\u03bd\\u03b9\\u03bd \\u03b3\\u03bf\\u03ce\\u03bc\\u03b5\\u03bd\\u03bf\\u03c2 , \\u03bf\\u1f54 \\u03c4\\u0313 \\u1f00\\u03bc\\u03c6\\u03b9\\u03c0\\u03af\\u03c0\\u03c4\\u03c9\\u03bd \\u03c3\\u03c4\\u03cc\\u03bc\\u03b1\\u03c3\\u03b9\\u03bd , \\u1f00\\u03bb\\u03bb\\u1f70 \\u03c0\\u03bb\\u03b5\\u03c5\\u03c1\\u03cc\\u03b8\\u03b5\\u03bd \\u03c0\\u03bb\\u03b5\\u03c5\\u03c1\\u1f70\\u03bd \\u03c0\\u03b1\\u03c1\\u03b5\\u1f76\\u03c2 \\u1f14\\u03ba\\u03b5\\u03b9\\u03c4\\u03bf \\u03c0\\u03cc\\u03bb\\u03bb\\u0313 \\u1f00\\u03bd\\u03b1\\u03c3\\u03c4\\u03ad\\u03bd\\u03c9\\u03bd , \\u1f65\\u03c2 \\u03bd\\u03b9\\u03bd \\u03bc\\u03b1\\u03c4\\u03b1\\u03af\\u03c9\\u03c2 \\u03b1\\u1f30\\u03c4\\u03af\\u1fb3 \\u03b2\\u03ac\\u03bb\\u03bf\\u03b9 \\u03ba\\u03b1\\u03ba\\u1fc7 , \\u03ba\\u03bb\\u03b1\\u03af\\u03c9\\u03bd \\u1f41\\u03b8\\u03bf\\u03cd\\u03bd\\u03b5\\u03ba\\u0313 \\u1f10\\u03ba \\u03b4\\u03c5\\u03bf\\u1fd6\\u03bd \\u1f14\\u03c3\\u03bf\\u03b9\\u03b8\\u0313 \\u1f05\\u03bc\\u03b1 , \\u03c0\\u03b1\\u03c4\\u03c1\\u03cc\\u03c2 \\u03c4\\u0313 \\u1f10\\u03ba\\u03b5\\u03af\\u03bd\\u03b7\\u03c2 \\u03c4\\u0313 , \\u1f60\\u03c1\\u03c6\\u03b1\\u03bd\\u03b9\\u03c3\\u03bc\\u03ad\\u03bd\\u03bf\\u03c2 \\u03b2\\u03af\\u03bf\\u03bd .\",\"\\u1f41 \\u03bc\\u1f72\\u03bd \\u1f26\\u03bd \\u03c0\\u03bf\\u03c4\\u03b1\\u03bc\\u03bf\\u1fe6 \\u03c3\\u03b8\\u03ad\\u03bd\\u03bf\\u03c2 , \\u1f51\\u03c8\\u03af\\u03ba\\u03b5\\u03c1\\u03c9 \\u03c4\\u03b5\\u03c4\\u03c1\\u03b1\\u03cc\\u03c1\\u03bf\\u03c5 \\u03c6\\u03ac\\u03c3\\u03bc\\u03b1 \\u03c4\\u03b1\\u03cd\\u03c1\\u03bf\\u03c5 , \\u1f08\\u03c7\\u03b5\\u03bb\\u1ff7\\u03bf\\u03c2 \\u1f00\\u03c0\\u0313 \\u039f\\u1f30\\u03bd\\u03b9\\u03b1\\u03b4\\u1fb6\\u03bd , \\u1f41 \\u03b4\\u1f72 \\u0392\\u03b1\\u03ba\\u03c7\\u03af\\u03b1\\u03c2 \\u1f00\\u03c0\\u1f78 \\u1f26\\u03bb\\u03b8\\u03b5 \\u03c0\\u03b1\\u03bb\\u03af\\u03bd\\u03c4\\u03bf\\u03bd\\u03b1 \\u0398\\u03ae\\u03b2\\u03b1\\u03c2 \\u03c4\\u03cc\\u03be\\u03b1 \\u03ba\\u03b1\\u1f76 \\u03bb\\u03cc\\u03b3\\u03c7\\u03b1\\u03c2 \\u1fe5\\u03cc\\u03c0\\u03b1\\u03bb\\u03cc\\u03bd \\u03c4\\u03b5 \\u03c4\\u03b9\\u03bd\\u03ac\\u03c3\\u03c3\\u03c9\\u03bd , \\u03c0\\u03b1\\u1fd6\\u03c2 \\u0394\\u03b9\\u03cc\\u03c2 \\u00b7\",\"\\u1f41 \\u03bc\\u1f72\\u03bd \\u1f26\\u03bd \\u03c0\\u03bf\\u03c4\\u03b1\\u03bc\\u03bf\\u1fe6 \\u03c3\\u03b8\\u03ad\\u03bd\\u03bf\\u03c2 , \\u1f51\\u03c8\\u03af\\u03ba\\u03b5\\u03c1\\u03c9 \\u03c4\\u03b5\\u03c4\\u03c1\\u03b1\\u03cc\\u03c1\\u03bf\\u03c5 \\u03c6\\u03ac\\u03c3\\u03bc\\u03b1 \\u03c4\\u03b1\\u03cd\\u03c1\\u03bf\\u03c5 , \\u1f08\\u03c7\\u03b5\\u03bb\\u1ff7\\u03bf\\u03c2 \\u1f00\\u03c0\\u0313 \\u039f\\u1f30\\u03bd\\u03b9\\u03b1\\u03b4\\u1fb6\\u03bd , \\u1f41 \\u03b4\\u1f72 \\u0392\\u03b1\\u03ba\\u03c7\\u03af\\u03b1\\u03c2 \\u1f00\\u03c0\\u1f78 \\u1f26\\u03bb\\u03b8\\u03b5 \\u03c0\\u03b1\\u03bb\\u03af\\u03bd\\u03c4\\u03bf\\u03bd\\u03b1 \\u0398\\u03ae\\u03b2\\u03b1\\u03c2 \\u03c4\\u03cc\\u03be\\u03b1 \\u03ba\\u03b1\\u1f76 \\u03bb\\u03cc\\u03b3\\u03c7\\u03b1\\u03c2 \\u1fe5\\u03cc\\u03c0\\u03b1\\u03bb\\u03cc\\u03bd \\u03c4\\u03b5 \\u03c4\\u03b9\\u03bd\\u03ac\\u03c3\\u03c3\\u03c9\\u03bd , \\u03c0\\u03b1\\u1fd6\\u03c2 \\u0394\\u03b9\\u03cc\\u03c2 \\u00b7\",\"\\u1f40\\u03c4\\u03bf\\u03c4\\u03bf\\u03c4\\u03bf\\u03c4\\u03bf\\u03c4\\u03bf\\u03c4\\u03bf\\u03c4\\u03bf\\u1fd6 , \\u1f34\\u03c4\\u03c9 \\u03c4\\u03b9\\u03c2 \\u03b4\\u03bf\\u03c1\\u03c5 - \\u03c3\\u03b8\\u03b5\\u03bd\\u1f74\\u03c2 \\u1f00\\u03bd\\u03ae\\u03c1 , \\u1f00\\u03bd\\u03b1\\u03bb\\u03c5\\u03c4\\u1f74\\u03c1 \\u03b4\\u03cc\\u03bc\\u03c9\\u03bd , \\u03a3\\u03ba\\u03c5\\u03b8\\u03b9\\u03ba\\u03ac \\u03c4\\u0313 \\u1f10\\u03bd \\u03c7\\u03b5\\u03c1\\u03bf\\u1fd6\\u03bd \\u03c0\\u03b1\\u03bb\\u03af\\u03bd\\u03c4\\u03bf\\u03bd\\u0313 \\u1f10\\u03bd \\u1f14\\u03c1\\u03b3\\u1ff3 \\u03b2\\u03ad\\u03bb\\u03b7 \\u0313 \\u03c0\\u03b9\\u03c0\\u03ac\\u03bb\\u03bb\\u03c9\\u03bd \\u1f0c\\u03c1\\u03b7\\u03c2 \\u03c3\\u03c7\\u03ad\\u03b4\\u03b9\\u03ac \\u03c4\\u0313 \\u03b1\\u1f50\\u03c4\\u03cc\\u03ba\\u03c9\\u03c0\\u03b1 \\u03bd\\u03c9\\u03bc\\u1ff6\\u03bd \\u03be\\u03af\\u03c6\\u03b7 .\",\"\\u1f13 \\u1f15 , \\u03c0\\u03c1\\u1f78 \\u03b4\\u1f72 \\u03b4\\u1f74 \\u0313 \\u03c7\\u03b8\\u03c1\\u1ff6\\u03bd \\u03c4\\u1f78\\u03bd \\u1f14\\u03c3\\u03c9\\u03b8\\u03b5\\u03bd \\u03bc\\u03b5\\u03bb\\u03ac\\u03b8\\u03c1\\u03c9\\u03bd , \\u0396\\u03b5\\u1fe6 , \\u03b8\\u03ad\\u03c2 , \\u1f10\\u03c0\\u03b5\\u03af \\u03bd\\u03b9\\u03bd \\u03bc\\u03ad\\u03b3\\u03b1\\u03bd \\u1f04\\u03c1\\u03b1\\u03c2 , \\u03b4\\u03af\\u03b4\\u03c5\\u03bc\\u03b1 \\u03ba\\u03b1\\u1f76 \\u03c4\\u03c1\\u03b9\\u03c0\\u03bb\\u1fb6 \\u03c0\\u03b1\\u03bb\\u03af\\u03bc\\u03c0\\u03bf\\u03b9\\u03bd\\u03b1 \\u03b8\\u03ad\\u03bb\\u03c9\\u03bd \\u1f00\\u03bc\\u03b5\\u03af\\u03c8\\u03b5\\u03b9 .\",\"\\u03b5\\u1f30 \\u03b4\\u0313 \\u03bf\\u1f56\\u03bd \\u1f00\\u03bc\\u03b5\\u03af\\u03c8\\u03c9 \\u03b2\\u03b1\\u03bb\\u1f78\\u03bd \\u1f11\\u03c1\\u03ba\\u03b5\\u03af\\u03c9\\u03bd \\u03c0\\u03c5\\u03bb\\u1ff6\\u03bd \\u03ba\\u1f00\\u03ba\\u03b5\\u1fd6\\u03bd\\u03bf\\u03bd \\u1f10\\u03bd \\u03b8\\u03c1\\u03cc\\u03bd\\u03bf\\u03b9\\u03c3\\u03b9\\u03bd \\u03b5\\u1f51\\u03c1\\u03ae\\u03c3\\u03c9 \\u03c0\\u03b1\\u03c4\\u03c1\\u03cc\\u03c2 , \\u1f22 \\u03ba\\u03b1\\u1f76 \\u03bc\\u03bf\\u03bb\\u1f7c\\u03bd \\u1f14\\u03c0\\u03b5\\u03b9\\u03c4\\u03ac \\u03bc\\u03bf\\u03b9 \\u03ba\\u03b1\\u03c4\\u1f70 \\u03c3\\u03c4\\u03cc\\u03bc\\u03b1 \\u1f00\\u03c1\\u03b5\\u1fd6 , \\u03c3\\u03ac\\u03c6\\u0313 \\u1f34\\u03c3\\u03b8\\u03b9 , \\u03ba\\u03b1\\u1f76 \\u03ba\\u03b1\\u03c4\\u0313 \\u1f40\\u03c6\\u03b8\\u03b1\\u03bb\\u03bc\\u03bf\\u1f7a\\u03c2 \\u03b2\\u03b1\\u03bb\\u03b5\\u1fd6 , \\u03c0\\u03c1\\u1f76\\u03bd \\u03b1\\u1f50\\u03c4\\u1f78\\u03bd \\u03b5\\u1f30\\u03c0\\u03b5\\u1fd6\\u03bd \\\" \\u03c0\\u03bf\\u03b4\\u03b1\\u03c0\\u1f78\\u03c2 \\u1f41 \\u03be\\u03ad\\u03bd\\u03bf\\u03c2 ;\\\" \\u03bd\\u03b5\\u03ba\\u03c1\\u1f78\\u03bd \\u03b8\\u03ae\\u03c3\\u03c9 , \\u03c0\\u03bf\\u03b4\\u03ce\\u03ba\\u03b5\\u03b9 \\u03c0\\u03b5\\u03c1\\u03b9\\u03b2\\u03b1\\u03bb\\u1f7c\\u03bd \\u03c7\\u03b1\\u03bb\\u03ba\\u03b5\\u03cd\\u03bc\\u03b1\\u03c4\\u03b9 .\",\"\\u1f08\\u03c1\\u03b3\\u03b5\\u1fd6\\u03cc\\u03c2 \\u03b5\\u1f30\\u03bc\\u03b9 , \\u03c0\\u03b1\\u03c4\\u03ad\\u03c1\\u03b1 \\u03b4\\u0313 \\u1f31\\u03c3\\u03c4\\u03bf\\u03c1\\u03b5\\u1fd6\\u03c2 \\u03ba\\u03b1\\u03bb\\u1ff6\\u03c2 , \\u1f08\\u03b3\\u03b1\\u03bc\\u03ad\\u03bc\\u03bd\\u03bf\\u03bd\\u0313 , \\u1f00\\u03bd\\u03b4\\u03c1\\u1ff6\\u03bd \\u03bd\\u03b1\\u03c5\\u03b2\\u03b1\\u03c4\\u1ff6\\u03bd \\u1f01\\u03c1\\u03bc\\u03cc\\u03c3\\u03c4\\u03bf\\u03c1\\u03b1 , \\u03be\\u1f7a\\u03bd \\u1fa7 \\u03c3\\u1f7a \\u03a4\\u03c1\\u03bf\\u03af\\u03b1\\u03bd \\u1f04\\u03c0\\u03bf\\u03bb\\u03b9\\u03bd \\u1f38\\u03bb\\u03af\\u03bf\\u03c5 \\u03c0\\u03cc\\u03bb\\u03b9\\u03bd \\u1f14\\u03b8\\u03b7\\u03ba\\u03b1\\u03c2 .\",\"\\u1f08\\u03c1\\u03b3\\u03b5\\u1fd6\\u03cc\\u03c2 \\u03b5\\u1f30\\u03bc\\u03b9 , \\u03c0\\u03b1\\u03c4\\u03ad\\u03c1\\u03b1 \\u03b4\\u0313 \\u1f31\\u03c3\\u03c4\\u03bf\\u03c1\\u03b5\\u1fd6\\u03c2 \\u03ba\\u03b1\\u03bb\\u1ff6\\u03c2 , \\u1f08\\u03b3\\u03b1\\u03bc\\u03ad\\u03bc\\u03bd\\u03bf\\u03bd\\u0313 , \\u1f00\\u03bd\\u03b4\\u03c1\\u1ff6\\u03bd \\u03bd\\u03b1\\u03c5\\u03b2\\u03b1\\u03c4\\u1ff6\\u03bd \\u1f01\\u03c1\\u03bc\\u03cc\\u03c3\\u03c4\\u03bf\\u03c1\\u03b1 , \\u03be\\u1f7a\\u03bd \\u1fa7 \\u03c3\\u1f7a \\u03a4\\u03c1\\u03bf\\u03af\\u03b1\\u03bd \\u1f04\\u03c0\\u03bf\\u03bb\\u03b9\\u03bd \\u1f38\\u03bb\\u03af\\u03bf\\u03c5 \\u03c0\\u03cc\\u03bb\\u03b9\\u03bd \\u1f14\\u03b8\\u03b7\\u03ba\\u03b1\\u03c2 .\",\"\\u1f08\\u03c1\\u03b3\\u03b5\\u1fd6\\u03cc\\u03c2 \\u03b5\\u1f30\\u03bc\\u03b9 , \\u03c0\\u03b1\\u03c4\\u03ad\\u03c1\\u03b1 \\u03b4\\u0313 \\u1f31\\u03c3\\u03c4\\u03bf\\u03c1\\u03b5\\u1fd6\\u03c2 \\u03ba\\u03b1\\u03bb\\u1ff6\\u03c2 , \\u1f08\\u03b3\\u03b1\\u03bc\\u03ad\\u03bc\\u03bd\\u03bf\\u03bd\\u0313 , \\u1f00\\u03bd\\u03b4\\u03c1\\u1ff6\\u03bd \\u03bd\\u03b1\\u03c5\\u03b2\\u03b1\\u03c4\\u1ff6\\u03bd \\u1f01\\u03c1\\u03bc\\u03cc\\u03c3\\u03c4\\u03bf\\u03c1\\u03b1 , \\u03be\\u1f7a\\u03bd \\u1fa7 \\u03c3\\u1f7a \\u03a4\\u03c1\\u03bf\\u03af\\u03b1\\u03bd \\u1f04\\u03c0\\u03bf\\u03bb\\u03b9\\u03bd \\u1f38\\u03bb\\u03af\\u03bf\\u03c5 \\u03c0\\u03cc\\u03bb\\u03b9\\u03bd \\u1f14\\u03b8\\u03b7\\u03ba\\u03b1\\u03c2 .\",\"\\u03ba\\u03b1\\u1f76 \\u03c4\\u03cc\\u03c4\\u0313 \\u1f10\\u03be\\u03b1\\u03af\\u03c6\\u03bd\\u03b7\\u03c2 \\u03c7\\u03b8\\u03bf\\u03bd\\u1f78\\u03c2 \\u03c4\\u03c5\\u03c6\\u1f7c\\u03c2 \\u1f00\\u03b5\\u03af\\u03c1\\u03b1\\u03c2 \\u03c3\\u03ba\\u03b7\\u03c0\\u03c4\\u03cc\\u03bd \\u03bf\\u1f50\\u03c1\\u03ac\\u03bd\\u03b9\\u03bf\\u03bd \\u1f04\\u03c7\\u03bf\\u03c2 , \\u03c0\\u03af\\u03bc\\u03c0\\u03bb\\u03b7\\u03c3\\u03b9 \\u03c0\\u03b5\\u03b4\\u03af\\u03bf\\u03bd , \\u03c0\\u1fb6\\u03c3\\u03b1\\u03bd \\u03b1\\u1f30\\u03ba\\u03af\\u03b6\\u03c9\\u03bd \\u03c6\\u03cc\\u03b2\\u03b7\\u03bd \\u1f55\\u03bb\\u03b7\\u03c2 \\u03c0\\u03b5\\u03b4\\u03b9\\u03ac\\u03b4\\u03bf\\u03c2 , \\u1f10\\u03bd \\u03b4\\u0313 \\u1f10\\u03bc\\u03b5\\u03c3\\u03c4\\u03ce\\u03b8\\u03b7 \\u03bc\\u03ad\\u03b3\\u03b1\\u03c2 \\u03b1\\u1f30\\u03b8\\u03ae\\u03c1 \\u00b7\",\"\\u03c4\\u03bf\\u03cd\\u03c4\\u03bf\\u03c5 \\u03b3\\u1f70\\u03c1 \\u03bf\\u1f55\\u03bd\\u03b5\\u03ba\\u0313 \\u1f04\\u03bd\\u03b4\\u03c1\\u03b5\\u03c2 \\u03b5\\u1f54\\u03c7\\u03bf\\u03bd\\u03c4\\u03b1\\u03b9 \\u03b3\\u03bf\\u03bd\\u1f70\\u03c2 \\u03ba\\u03b1\\u03c4\\u03b7\\u03ba\\u03cc\\u03bf\\u03c5\\u03c2 \\u03c6\\u03cd\\u03c3\\u03b1\\u03bd\\u03c4\\u03b5\\u03c2 \\u1f10\\u03bd \\u03b4\\u03cc\\u03bc\\u03bf\\u03b9\\u03c2 \\u1f14\\u03c7\\u03b5\\u03b9\\u03bd , \\u1f61\\u03c2 \\u03ba\\u03b1\\u1f76 \\u03c4\\u1f78\\u03bd \\u1f10\\u03c7\\u03b8\\u03c1\\u1f78\\u03bd \\u1f00\\u03bd\\u03c4\\u03b1\\u03bc\\u03cd\\u03bd\\u03c9\\u03bd\\u03c4\\u03b1\\u03b9 \\u03ba\\u03b1\\u03ba\\u03bf\\u1fd6\\u03c2 \\u03ba\\u03b1\\u1f76 \\u03c4\\u1f78\\u03bd \\u03c6\\u03af\\u03bb\\u03bf\\u03bd \\u03c4\\u03b9\\u03bc\\u1ff6\\u03c3\\u03b9\\u03bd \\u1f10\\u03be \\u1f34\\u03c3\\u03bf\\u03c5 \\u03c0\\u03b1\\u03c4\\u03c1\\u03af .\",\"\\u03c4\\u1f78\\u03bd \\u03b4\\u0313 \\u03b1\\u1f56 \\u03be\\u03cd\\u03bd\\u03b1\\u03b9\\u03bc\\u03bf\\u03bd \\u03c4\\u03bf\\u1fe6\\u03b4\\u03b5 , \\u03a0\\u03bf\\u03bb\\u03c5\\u03bd\\u03b5\\u03af\\u03ba\\u03b7 \\u03bb\\u03ad\\u03b3\\u03c9 , \\u1f43\\u03c2 \\u03b3\\u1fc6\\u03bd \\u03c0\\u03b1\\u03c4\\u03c1\\u1ff4\\u03b1\\u03bd \\u03ba\\u03b1\\u1f76 \\u03b8\\u03b5\\u03bf\\u1f7a\\u03c2 \\u03c4\\u03bf\\u1f7a\\u03c2 \\u1f10\\u03b3\\u03b3\\u03b5\\u03bd\\u03b5\\u1fd6\\u03c2 \\u03c6\\u03c5\\u03b3\\u1f70\\u03c2 \\u03ba\\u03b1\\u03c4\\u03b5\\u03bb\\u03b8\\u1f7c\\u03bd \\u1f20\\u03b8\\u03ad\\u03bb\\u03b7\\u03c3\\u03b5 \\u03bc\\u1f72\\u03bd \\u03c0\\u03c5\\u03c1\\u1f76 \\u03c0\\u03c1\\u1fc6\\u03c3\\u03b1\\u03b9 \\u03ba\\u03b1\\u03c4\\u0313 \\u1f04\\u03ba\\u03c1\\u03b1\\u03c2 , \\u1f20\\u03b8\\u03ad\\u03bb\\u03b7\\u03c3\\u03b5 \\u03b4\\u0313 \\u03b1\\u1f35\\u03bc\\u03b1\\u03c4\\u03bf\\u03c2 \\u03ba\\u03bf\\u03b9\\u03bd\\u03bf\\u1fe6 \\u03c0\\u03ac\\u03c3\\u03b1\\u03c3\\u03b8\\u03b1\\u03b9 , \\u03c4\\u03bf\\u1f7a\\u03c2 \\u03b4\\u1f72 \\u03b4\\u03bf\\u03c5\\u03bb\\u03ce\\u03c3\\u03b1\\u03c2 \\u1f04\\u03b3\\u03b5\\u03b9\\u03bd , \\u03c4\\u03bf\\u1fe6\\u03c4\\u03bf\\u03bd \\u03c0\\u03cc\\u03bb\\u03b5\\u03b9 \\u03c4\\u1fc7\\u03b4\\u0313 \\u1f10\\u03ba\\u03ba\\u03b5\\u03ba\\u03ae\\u03c1\\u03c5\\u03ba\\u03c4\\u03b1\\u03b9 \\u03c4\\u03ac\\u03c6\\u1ff3 \\u03bc\\u03ae\\u03c4\\u03b5 \\u03ba\\u03c4\\u03b5\\u03c1\\u03af\\u03b6\\u03b5\\u03b9\\u03bd \\u03bc\\u03ae\\u03c4\\u03b5 \\u03ba\\u03c9\\u03ba\\u1fe6\\u03c3\\u03b1\\u03af \\u03c4\\u03b9\\u03bd\\u03b1 , \\u1f10\\u1fb6\\u03bd \\u03b4\\u0313 \\u1f04\\u03b8\\u03b1\\u03c0\\u03c4\\u03bf\\u03bd \\u03ba\\u03b1\\u1f76 \\u03c0\\u03c1\\u1f78\\u03c2 \\u03bf\\u1f30\\u03c9\\u03bd\\u1ff6\\u03bd \\u03b4\\u03ad\\u03bc\\u03b1\\u03c2 \\u03ba\\u03b1\\u1f76 \\u03c0\\u03c1\\u1f78\\u03c2 \\u03ba\\u03c5\\u03bd\\u1ff6\\u03bd \\u1f10\\u03b4\\u03b5\\u03c3\\u03c4\\u1f78\\u03bd \\u03b1\\u1f30\\u03ba\\u03b9\\u03c3\\u03b8\\u03ad\\u03bd \\u03c4\\u0313 \\u1f30\\u03b4\\u03b5\\u1fd6\\u03bd .\",\"\\u1f10\\u03c0\\u03b5\\u1f76 \\u03c4\\u03ac\\u03c7\\u03b9\\u03c3\\u03c4\\u0313 \\u1f24\\u03c1\\u03be\\u03b1\\u03bd\\u03c4\\u03bf \\u03b4\\u03b1\\u03af\\u03bc\\u03bf\\u03bd\\u03b5\\u03c2 \\u03c7\\u03cc\\u03bb\\u03bf\\u03c5 \\u03c3\\u03c4\\u03ac\\u03c3\\u03b9\\u03c2 \\u03c4\\u0313 \\u1f10\\u03bd \\u1f00\\u03bb\\u03bb\\u03ae\\u03bb\\u03bf\\u03b9\\u03c3\\u03b9\\u03bd \\u1f60\\u03c1\\u03bf\\u03b8\\u03cd\\u03bd\\u03b5\\u03c4\\u03bf , \\u03bf\\u1f31 \\u03bc\\u1f72\\u03bd \\u03b8\\u03ad\\u03bb\\u03bf\\u03bd\\u03c4\\u03b5\\u03c2 \\u1f10\\u03ba\\u03b2\\u03b1\\u03bb\\u03b5\\u1fd6\\u03bd \\u1f15\\u03b4\\u03c1\\u03b1\\u03c2 \\u039a\\u03c1\\u03cc\\u03bd\\u03bf\\u03bd , \\u1f61\\u03c2 \\u0396\\u03b5\\u1f7a\\u03c2 \\u1f00\\u03bd\\u03ac\\u03c3\\u03c3\\u03bf\\u03b9 \\u03b4\\u1fc6\\u03b8\\u03b5\\u03bd , \\u03bf\\u1f31 \\u03b4\\u1f72 \\u03c4\\u03bf\\u1f54\\u03bc\\u03c0\\u03b1\\u03bb\\u03b9\\u03bd \\u03c3\\u03c0\\u03b5\\u03cd\\u03b4\\u03bf\\u03bd\\u03c4\\u03b5\\u03c2 , \\u1f61\\u03c2 \\u0396\\u03b5\\u1f7a\\u03c2 \\u03bc\\u03ae\\u03c0\\u03bf\\u03c4\\u0313 \\u1f04\\u03c1\\u03be\\u03b5\\u03b9\\u03b5\\u03bd \\u03b8\\u03b5\\u1ff6\\u03bd , \\u1f10\\u03bd\\u03c4\\u03b1\\u1fe6\\u03b8\\u0313 \\u1f10\\u03b3\\u1f7c \\u03c4\\u1f70 \\u03bb\\u1ff7\\u03c3\\u03c4\\u03b1 \\u03b2\\u03bf\\u03c5\\u03bb\\u03b5\\u03cd\\u03c9\\u03bd \\u03c0\\u03b9\\u03b8\\u03b5\\u1fd6\\u03bd \\u03a4\\u03b9\\u03c4\\u1fb6\\u03bd\\u03b1\\u03c2 , \\u039f\\u1f50\\u03c1\\u03b1\\u03bd\\u03bf\\u1fe6 \\u03c4\\u03b5 \\u03ba\\u03b1\\u1f76 \\u03a7\\u03b8\\u03bf\\u03bd\\u1f78\\u03c2 \\u03c4\\u03ad\\u03ba\\u03bd\\u03b1 , \\u03bf\\u1f50\\u03ba \\u1f20\\u03b4\\u03c5\\u03bd\\u03ae\\u03b8\\u03b7\\u03bd .\",\"\\u03ba\\u03b1\\u03af \\u03bc\\u0313 \\u03bf\\u1f54\\u03c4\\u03b9 \\u03bc\\u03b5\\u03bb\\u03b9\\u03b3\\u03bb\\u03ce\\u03c3\\u03c3\\u03bf\\u03b9\\u03c2 \\u03c0\\u03b5\\u03b9\\u03b8\\u03bf\\u1fe6\\u03c2 \\u1f10\\u03c0\\u03b1\\u03bf\\u03b9\\u03b4\\u03b1\\u1fd6\\u03c3\\u03b9\\u03bd \\u03b8\\u03ad\\u03bb\\u03be\\u03b5\\u03b9 , \\u03c3\\u03c4\\u03b5\\u03c1\\u03b5\\u03ac\\u03c2 \\u03c4\\u0313 \\u03bf\\u1f54\\u03c0\\u03bf\\u03c4\\u0313 \\u1f00\\u03c0\\u03b5\\u03b9\\u03bb\\u1f70\\u03c2 \\u03c0\\u03c4\\u03ae\\u03be\\u03b1\\u03c2 \\u03c4\\u03cc\\u03b4\\u0313 \\u1f10\\u03b3\\u1f7c \\u03ba\\u03b1\\u03c4\\u03b1\\u03bc\\u03b7\\u03bd\\u03cd\\u03c3\\u03c9 , \\u03c0\\u03c1\\u1f76\\u03bd \\u1f02\\u03bd \\u1f10\\u03be \\u1f00\\u03b3\\u03c1\\u03af\\u03c9\\u03bd \\u03b4\\u03b5\\u03c3\\u03bc\\u1ff6\\u03bd \\u03c7\\u03b1\\u03bb\\u03ac\\u03c3\\u1fc3 \\u03c0\\u03bf\\u03b9\\u03bd\\u03ac\\u03c2 \\u03c4\\u03b5 \\u03c4\\u03af\\u03bd\\u03b5\\u03b9\\u03bd \\u03c4\\u1fc6\\u03c3\\u03b4\\u0313 \\u03b1\\u1f30\\u03ba\\u03b5\\u03af\\u03b1\\u03c2 \\u1f10\\u03b8\\u03b5\\u03bb\\u03ae\\u03c3\\u1fc3 .\",\"\\u1f2d\\u03c6\\u03b1\\u03b9\\u03c3\\u03c4\\u03b5 , \\u03c3\\u03bf\\u1f76 \\u03b4\\u1f72 \\u03c7\\u03c1\\u1f74 \\u03bc\\u03ad\\u03bb\\u03b5\\u03b9\\u03bd \\u1f10\\u03c0\\u03b9\\u03c3\\u03c4\\u03bf\\u03bb\\u1f70\\u03c2 \\u1f05\\u03c2 \\u03c3\\u03bf\\u03b9 \\u03c0\\u03b1\\u03c4\\u1f74\\u03c1 \\u1f10\\u03c6\\u03b5\\u1fd6\\u03c4\\u03bf , \\u03c4\\u03cc\\u03bd\\u03b4\\u03b5 \\u03c0\\u03c1\\u1f78\\u03c2 \\u03c0\\u03ad\\u03c4\\u03c1\\u03b1\\u03b9\\u03c2 \\u1f51\\u03c8\\u03b7\\u03bb\\u03bf\\u03ba\\u03c1\\u03ae\\u03bc\\u03bd\\u03bf\\u03b9\\u03c2 \\u03c4\\u1f78\\u03bd \\u03bb\\u03b5\\u03c9\\u03c1\\u03b3\\u1f78\\u03bd \\u1f40\\u03c7\\u03bc\\u03ac\\u03c3\\u03b1\\u03b9 \\u1f00\\u03b4\\u03b1\\u03bc\\u03b1\\u03bd\\u03c4\\u03af\\u03bd\\u03c9\\u03bd \\u03b4\\u03b5\\u03c3\\u03bc\\u1ff6\\u03bd \\u1f10\\u03bd \\u1f00\\u03c1\\u03c1\\u03ae\\u03ba\\u03c4\\u03bf\\u03b9\\u03c2 \\u03c0\\u03ad\\u03b4\\u03b1\\u03b9\\u03c2 .\"]]},\"header\":{\"values\":[\"Label\",\"Source Sentence\",\"Target Sentence\"]},\"type\":\"table\"}],                        {\"template\":{\"data\":{\"histogram2dcontour\":[{\"type\":\"histogram2dcontour\",\"colorbar\":{\"outlinewidth\":0,\"ticks\":\"\"},\"colorscale\":[[0.0,\"#0d0887\"],[0.1111111111111111,\"#46039f\"],[0.2222222222222222,\"#7201a8\"],[0.3333333333333333,\"#9c179e\"],[0.4444444444444444,\"#bd3786\"],[0.5555555555555556,\"#d8576b\"],[0.6666666666666666,\"#ed7953\"],[0.7777777777777778,\"#fb9f3a\"],[0.8888888888888888,\"#fdca26\"],[1.0,\"#f0f921\"]]}],\"choropleth\":[{\"type\":\"choropleth\",\"colorbar\":{\"outlinewidth\":0,\"ticks\":\"\"}}],\"histogram2d\":[{\"type\":\"histogram2d\",\"colorbar\":{\"outlinewidth\":0,\"ticks\":\"\"},\"colorscale\":[[0.0,\"#0d0887\"],[0.1111111111111111,\"#46039f\"],[0.2222222222222222,\"#7201a8\"],[0.3333333333333333,\"#9c179e\"],[0.4444444444444444,\"#bd3786\"],[0.5555555555555556,\"#d8576b\"],[0.6666666666666666,\"#ed7953\"],[0.7777777777777778,\"#fb9f3a\"],[0.8888888888888888,\"#fdca26\"],[1.0,\"#f0f921\"]]}],\"heatmap\":[{\"type\":\"heatmap\",\"colorbar\":{\"outlinewidth\":0,\"ticks\":\"\"},\"colorscale\":[[0.0,\"#0d0887\"],[0.1111111111111111,\"#46039f\"],[0.2222222222222222,\"#7201a8\"],[0.3333333333333333,\"#9c179e\"],[0.4444444444444444,\"#bd3786\"],[0.5555555555555556,\"#d8576b\"],[0.6666666666666666,\"#ed7953\"],[0.7777777777777778,\"#fb9f3a\"],[0.8888888888888888,\"#fdca26\"],[1.0,\"#f0f921\"]]}],\"heatmapgl\":[{\"type\":\"heatmapgl\",\"colorbar\":{\"outlinewidth\":0,\"ticks\":\"\"},\"colorscale\":[[0.0,\"#0d0887\"],[0.1111111111111111,\"#46039f\"],[0.2222222222222222,\"#7201a8\"],[0.3333333333333333,\"#9c179e\"],[0.4444444444444444,\"#bd3786\"],[0.5555555555555556,\"#d8576b\"],[0.6666666666666666,\"#ed7953\"],[0.7777777777777778,\"#fb9f3a\"],[0.8888888888888888,\"#fdca26\"],[1.0,\"#f0f921\"]]}],\"contourcarpet\":[{\"type\":\"contourcarpet\",\"colorbar\":{\"outlinewidth\":0,\"ticks\":\"\"}}],\"contour\":[{\"type\":\"contour\",\"colorbar\":{\"outlinewidth\":0,\"ticks\":\"\"},\"colorscale\":[[0.0,\"#0d0887\"],[0.1111111111111111,\"#46039f\"],[0.2222222222222222,\"#7201a8\"],[0.3333333333333333,\"#9c179e\"],[0.4444444444444444,\"#bd3786\"],[0.5555555555555556,\"#d8576b\"],[0.6666666666666666,\"#ed7953\"],[0.7777777777777778,\"#fb9f3a\"],[0.8888888888888888,\"#fdca26\"],[1.0,\"#f0f921\"]]}],\"surface\":[{\"type\":\"surface\",\"colorbar\":{\"outlinewidth\":0,\"ticks\":\"\"},\"colorscale\":[[0.0,\"#0d0887\"],[0.1111111111111111,\"#46039f\"],[0.2222222222222222,\"#7201a8\"],[0.3333333333333333,\"#9c179e\"],[0.4444444444444444,\"#bd3786\"],[0.5555555555555556,\"#d8576b\"],[0.6666666666666666,\"#ed7953\"],[0.7777777777777778,\"#fb9f3a\"],[0.8888888888888888,\"#fdca26\"],[1.0,\"#f0f921\"]]}],\"mesh3d\":[{\"type\":\"mesh3d\",\"colorbar\":{\"outlinewidth\":0,\"ticks\":\"\"}}],\"scatter\":[{\"fillpattern\":{\"fillmode\":\"overlay\",\"size\":10,\"solidity\":0.2},\"type\":\"scatter\"}],\"parcoords\":[{\"type\":\"parcoords\",\"line\":{\"colorbar\":{\"outlinewidth\":0,\"ticks\":\"\"}}}],\"scatterpolargl\":[{\"type\":\"scatterpolargl\",\"marker\":{\"colorbar\":{\"outlinewidth\":0,\"ticks\":\"\"}}}],\"bar\":[{\"error_x\":{\"color\":\"#2a3f5f\"},\"error_y\":{\"color\":\"#2a3f5f\"},\"marker\":{\"line\":{\"color\":\"#E5ECF6\",\"width\":0.5},\"pattern\":{\"fillmode\":\"overlay\",\"size\":10,\"solidity\":0.2}},\"type\":\"bar\"}],\"scattergeo\":[{\"type\":\"scattergeo\",\"marker\":{\"colorbar\":{\"outlinewidth\":0,\"ticks\":\"\"}}}],\"scatterpolar\":[{\"type\":\"scatterpolar\",\"marker\":{\"colorbar\":{\"outlinewidth\":0,\"ticks\":\"\"}}}],\"histogram\":[{\"marker\":{\"pattern\":{\"fillmode\":\"overlay\",\"size\":10,\"solidity\":0.2}},\"type\":\"histogram\"}],\"scattergl\":[{\"type\":\"scattergl\",\"marker\":{\"colorbar\":{\"outlinewidth\":0,\"ticks\":\"\"}}}],\"scatter3d\":[{\"type\":\"scatter3d\",\"line\":{\"colorbar\":{\"outlinewidth\":0,\"ticks\":\"\"}},\"marker\":{\"colorbar\":{\"outlinewidth\":0,\"ticks\":\"\"}}}],\"scattermapbox\":[{\"type\":\"scattermapbox\",\"marker\":{\"colorbar\":{\"outlinewidth\":0,\"ticks\":\"\"}}}],\"scatterternary\":[{\"type\":\"scatterternary\",\"marker\":{\"colorbar\":{\"outlinewidth\":0,\"ticks\":\"\"}}}],\"scattercarpet\":[{\"type\":\"scattercarpet\",\"marker\":{\"colorbar\":{\"outlinewidth\":0,\"ticks\":\"\"}}}],\"carpet\":[{\"aaxis\":{\"endlinecolor\":\"#2a3f5f\",\"gridcolor\":\"white\",\"linecolor\":\"white\",\"minorgridcolor\":\"white\",\"startlinecolor\":\"#2a3f5f\"},\"baxis\":{\"endlinecolor\":\"#2a3f5f\",\"gridcolor\":\"white\",\"linecolor\":\"white\",\"minorgridcolor\":\"white\",\"startlinecolor\":\"#2a3f5f\"},\"type\":\"carpet\"}],\"table\":[{\"cells\":{\"fill\":{\"color\":\"#EBF0F8\"},\"line\":{\"color\":\"white\"}},\"header\":{\"fill\":{\"color\":\"#C8D4E3\"},\"line\":{\"color\":\"white\"}},\"type\":\"table\"}],\"barpolar\":[{\"marker\":{\"line\":{\"color\":\"#E5ECF6\",\"width\":0.5},\"pattern\":{\"fillmode\":\"overlay\",\"size\":10,\"solidity\":0.2}},\"type\":\"barpolar\"}],\"pie\":[{\"automargin\":true,\"type\":\"pie\"}]},\"layout\":{\"autotypenumbers\":\"strict\",\"colorway\":[\"#636efa\",\"#EF553B\",\"#00cc96\",\"#ab63fa\",\"#FFA15A\",\"#19d3f3\",\"#FF6692\",\"#B6E880\",\"#FF97FF\",\"#FECB52\"],\"font\":{\"color\":\"#2a3f5f\"},\"hovermode\":\"closest\",\"hoverlabel\":{\"align\":\"left\"},\"paper_bgcolor\":\"white\",\"plot_bgcolor\":\"#E5ECF6\",\"polar\":{\"bgcolor\":\"#E5ECF6\",\"angularaxis\":{\"gridcolor\":\"white\",\"linecolor\":\"white\",\"ticks\":\"\"},\"radialaxis\":{\"gridcolor\":\"white\",\"linecolor\":\"white\",\"ticks\":\"\"}},\"ternary\":{\"bgcolor\":\"#E5ECF6\",\"aaxis\":{\"gridcolor\":\"white\",\"linecolor\":\"white\",\"ticks\":\"\"},\"baxis\":{\"gridcolor\":\"white\",\"linecolor\":\"white\",\"ticks\":\"\"},\"caxis\":{\"gridcolor\":\"white\",\"linecolor\":\"white\",\"ticks\":\"\"}},\"coloraxis\":{\"colorbar\":{\"outlinewidth\":0,\"ticks\":\"\"}},\"colorscale\":{\"sequential\":[[0.0,\"#0d0887\"],[0.1111111111111111,\"#46039f\"],[0.2222222222222222,\"#7201a8\"],[0.3333333333333333,\"#9c179e\"],[0.4444444444444444,\"#bd3786\"],[0.5555555555555556,\"#d8576b\"],[0.6666666666666666,\"#ed7953\"],[0.7777777777777778,\"#fb9f3a\"],[0.8888888888888888,\"#fdca26\"],[1.0,\"#f0f921\"]],\"sequentialminus\":[[0.0,\"#0d0887\"],[0.1111111111111111,\"#46039f\"],[0.2222222222222222,\"#7201a8\"],[0.3333333333333333,\"#9c179e\"],[0.4444444444444444,\"#bd3786\"],[0.5555555555555556,\"#d8576b\"],[0.6666666666666666,\"#ed7953\"],[0.7777777777777778,\"#fb9f3a\"],[0.8888888888888888,\"#fdca26\"],[1.0,\"#f0f921\"]],\"diverging\":[[0,\"#8e0152\"],[0.1,\"#c51b7d\"],[0.2,\"#de77ae\"],[0.3,\"#f1b6da\"],[0.4,\"#fde0ef\"],[0.5,\"#f7f7f7\"],[0.6,\"#e6f5d0\"],[0.7,\"#b8e186\"],[0.8,\"#7fbc41\"],[0.9,\"#4d9221\"],[1,\"#276419\"]]},\"xaxis\":{\"gridcolor\":\"white\",\"linecolor\":\"white\",\"ticks\":\"\",\"title\":{\"standoff\":15},\"zerolinecolor\":\"white\",\"automargin\":true,\"zerolinewidth\":2},\"yaxis\":{\"gridcolor\":\"white\",\"linecolor\":\"white\",\"ticks\":\"\",\"title\":{\"standoff\":15},\"zerolinecolor\":\"white\",\"automargin\":true,\"zerolinewidth\":2},\"scene\":{\"xaxis\":{\"backgroundcolor\":\"#E5ECF6\",\"gridcolor\":\"white\",\"linecolor\":\"white\",\"showbackground\":true,\"ticks\":\"\",\"zerolinecolor\":\"white\",\"gridwidth\":2},\"yaxis\":{\"backgroundcolor\":\"#E5ECF6\",\"gridcolor\":\"white\",\"linecolor\":\"white\",\"showbackground\":true,\"ticks\":\"\",\"zerolinecolor\":\"white\",\"gridwidth\":2},\"zaxis\":{\"backgroundcolor\":\"#E5ECF6\",\"gridcolor\":\"white\",\"linecolor\":\"white\",\"showbackground\":true,\"ticks\":\"\",\"zerolinecolor\":\"white\",\"gridwidth\":2}},\"shapedefaults\":{\"line\":{\"color\":\"#2a3f5f\"}},\"annotationdefaults\":{\"arrowcolor\":\"#2a3f5f\",\"arrowhead\":0,\"arrowwidth\":1},\"geo\":{\"bgcolor\":\"white\",\"landcolor\":\"#E5ECF6\",\"subunitcolor\":\"white\",\"showland\":true,\"showlakes\":true,\"lakecolor\":\"white\"},\"title\":{\"x\":0.05},\"mapbox\":{\"style\":\"light\"}}}},                        {\"responsive\": true}                    ).then(function(){\n",
              "                            \n",
              "var gd = document.getElementById('82271029-8e04-4472-86cc-af5f714fce57');\n",
              "var x = new MutationObserver(function (mutations, observer) {{\n",
              "        var display = window.getComputedStyle(gd).display;\n",
              "        if (!display || display === 'none') {{\n",
              "            console.log([gd, 'removed!']);\n",
              "            Plotly.purge(gd);\n",
              "            observer.disconnect();\n",
              "        }}\n",
              "}});\n",
              "\n",
              "// Listen for the removal of the full notebook cells\n",
              "var notebookContainer = gd.closest('#notebook-container');\n",
              "if (notebookContainer) {{\n",
              "    x.observe(notebookContainer, {childList: true});\n",
              "}}\n",
              "\n",
              "// Listen for the clearing of the current output cell\n",
              "var outputEl = gd.closest('.output');\n",
              "if (outputEl) {{\n",
              "    x.observe(outputEl, {childList: true});\n",
              "}}\n",
              "\n",
              "                        })                };                            </script>        </div>\n",
              "</body>\n",
              "</html>"
            ]
          },
          "metadata": {}
        }
      ]
    },
    {
      "cell_type": "markdown",
      "source": [
        "Fonction pour la recherche de suite de lemmes dans le corpus source"
      ],
      "metadata": {
        "id": "DtefEGJJwje9"
      }
    },
    {
      "cell_type": "code",
      "source": [
        "def search_lemma_sequence_in_similarity_scores(file_similarity_scores, lemma_sequence):\n",
        "    results = []\n",
        "\n",
        "    # Parcourir la liste des objets score_info\n",
        "    for score_info in file_similarity_scores:\n",
        "        source_file = score_info[0]\n",
        "        target_file = score_info[1]\n",
        "        average_score = score_info[2]\n",
        "        sentences_data = score_info[3]\n",
        "\n",
        "        # Parcourir les données des phrases similaires\n",
        "        for sentence_data in sentences_data:\n",
        "            source_sentence = sentence_data[0]\n",
        "            target_sentence = sentence_data[1]\n",
        "            similarity_score = sentence_data[2]\n",
        "            common_lemmas = sentence_data[3]\n",
        "\n",
        "            # Vérifier si la séquence de lemmes est dans la phrase source\n",
        "            if lemma_sequence in source_sentence:\n",
        "                # Ajouter les données à la liste des résultats\n",
        "                results.append({\n",
        "                    'Source File': source_file,\n",
        "                    'Target File': target_file,\n",
        "                    'Average Score': average_score,\n",
        "                    'Source Sentence': source_sentence,\n",
        "                    'Target Sentence': target_sentence,\n",
        "                    'Similarity Score': similarity_score,\n",
        "                    'Common Lemmas': common_lemmas\n",
        "                })\n",
        "\n",
        "    # Trier les résultats par Similarity Score de façon décroissante\n",
        "    results.sort(key=lambda x: x['Similarity Score'], reverse=True)\n",
        "\n",
        "    return results\n"
      ],
      "metadata": {
        "id": "U_9DsiAJ-f-Q"
      },
      "execution_count": null,
      "outputs": []
    },
    {
      "cell_type": "markdown",
      "source": [
        "Interface d'interrogation du corpus source"
      ],
      "metadata": {
        "id": "wgyo8XnDwoZk"
      }
    },
    {
      "cell_type": "code",
      "source": [
        "import ipywidgets as widgets\n",
        "from IPython.display import display\n",
        "\n",
        "# Créer les widgets\n",
        "lemma_entry = widgets.Text(description='Séquence de lemmes :')\n",
        "search_button = widgets.Button(description='Rechercher')\n",
        "output = widgets.Output()\n",
        "\n",
        "# Définir l'action du bouton\n",
        "def on_search_button_clicked(b):\n",
        "    output.clear_output()\n",
        "    lemma_sequence = lemma_entry.value\n",
        "    if not lemma_sequence:\n",
        "        with output:\n",
        "            print(\"Veuillez entrer une séquence de lemmes.\")\n",
        "        return\n",
        "    results = search_lemma_sequence_in_similarity_scores(file_similarity_scores, lemma_sequence)\n",
        "    if not results:\n",
        "        with output:\n",
        "            print(\"Aucun résultat trouvé.\")\n",
        "        return\n",
        "    with output:\n",
        "        for result in results:\n",
        "            print(f\"Source File: {result['Source File']}\")\n",
        "            print(f\"Target File: {result['Target File']}\")\n",
        "            print(f\"Average Score: {result['Average Score']}\")\n",
        "            print(f\"Source Sentence: {result['Source Sentence']}\")\n",
        "            print(f\"Target Sentence: {result['Target Sentence']}\")\n",
        "            print(f\"Similarity Score: {result['Similarity Score']}\")\n",
        "            print(f\"Common Lemmas: {', '.join(result['Common Lemmas'])}\")\n",
        "            print()\n",
        "\n",
        "search_button.on_click(on_search_button_clicked)\n",
        "\n",
        "# Afficher les widgets\n",
        "display(lemma_entry, search_button, output)\n"
      ],
      "metadata": {
        "id": "7KqxpsaLnBwG",
        "colab": {
          "base_uri": "https://localhost:8080/",
          "height": 1000,
          "referenced_widgets": [
            "6eee5b92644a440ebfd0a769d3e15310",
            "8284b9e9e05140a6a8dc077ee4e694b3",
            "5512da4efed941a1a490be14059b39e6",
            "d600ecb5bdb0414eba6ada88ca77522e",
            "12ae7c41e38f453682dc5b52ef282ced",
            "5c2a86d6ed814dc49b665f78021f1ddf",
            "0a5544ee022644e3900c67d492a84030",
            "039e6a5ade364b10a3fb12266945b073"
          ]
        },
        "outputId": "6969bdbd-d5ae-444d-f9f1-187099552764"
      },
      "execution_count": null,
      "outputs": [
        {
          "output_type": "display_data",
          "data": {
            "text/plain": [
              "Text(value='', description='Séquence de lemmes :')"
            ],
            "application/vnd.jupyter.widget-view+json": {
              "version_major": 2,
              "version_minor": 0,
              "model_id": "6eee5b92644a440ebfd0a769d3e15310"
            }
          },
          "metadata": {}
        },
        {
          "output_type": "display_data",
          "data": {
            "text/plain": [
              "Button(description='Rechercher', style=ButtonStyle())"
            ],
            "application/vnd.jupyter.widget-view+json": {
              "version_major": 2,
              "version_minor": 0,
              "model_id": "d600ecb5bdb0414eba6ada88ca77522e"
            }
          },
          "metadata": {}
        },
        {
          "output_type": "display_data",
          "data": {
            "text/plain": [
              "Output()"
            ],
            "application/vnd.jupyter.widget-view+json": {
              "version_major": 2,
              "version_minor": 0,
              "model_id": "0a5544ee022644e3900c67d492a84030"
            }
          },
          "metadata": {}
        }
      ]
    },
    {
      "cell_type": "markdown",
      "source": [
        "Fonction pour la création d'une matrice de similarité"
      ],
      "metadata": {
        "id": "5XQzCUFwwuT7"
      }
    },
    {
      "cell_type": "code",
      "source": [
        "def create_similarity_matrix(source_files, target_files, file_similarity_scores):\n",
        "    # Créer une liste de tous les fichiers uniques\n",
        "    all_files = list(set(source_files + target_files))\n",
        "\n",
        "    # Initialiser la matrice de similarité avec des zéros\n",
        "    similarity_matrix = np.zeros((len(all_files), len(all_files)))\n",
        "\n",
        "    # Remplir la matrice avec les scores de similarité\n",
        "    for source_file, target_file, similarity_score, _ in file_similarity_scores:\n",
        "        # Obtenir les indices des fichiers source et cible\n",
        "        source_index = all_files.index(source_file)\n",
        "        target_index = all_files.index(target_file)\n",
        "\n",
        "        # Mettre à jour la matrice de similarité\n",
        "        similarity_matrix[source_index, target_index] = similarity_score\n",
        "        similarity_matrix[target_index, source_index] = similarity_score  # La matrice doit être symétrique\n",
        "\n",
        "    return similarity_matrix, all_files\n",
        "\n",
        "similarity_matrix, all_files = create_similarity_matrix(source_files, target_files, file_similarity_scores)\n"
      ],
      "metadata": {
        "id": "OIKiQgF7-UEd"
      },
      "execution_count": null,
      "outputs": []
    },
    {
      "cell_type": "markdown",
      "source": [
        "Représentation 1 de la matrice"
      ],
      "metadata": {
        "id": "5x33172Bw1eg"
      }
    },
    {
      "cell_type": "code",
      "source": [
        "from sklearn.manifold import MDS\n",
        "import matplotlib.pyplot as plt\n",
        "from scipy.cluster.hierarchy import linkage, dendrogram\n",
        "\n",
        "mds = MDS(n_components=2, dissimilarity='precomputed')\n",
        "positions = mds.fit_transform(1 - similarity_matrix)  # Convertir la similarité en dissimilarité\n",
        "\n",
        "plt.figure(figsize=(10, 10))\n",
        "plt.scatter(positions[:, 0], positions[:, 1])\n",
        "for i, label in enumerate(all_files):\n",
        "    plt.annotate(os.path.basename(label), (positions[i, 0], positions[i, 1]))\n",
        "plt.show()\n",
        "\n"
      ],
      "metadata": {
        "id": "Pu4guT_vQaKW"
      },
      "execution_count": null,
      "outputs": []
    },
    {
      "cell_type": "markdown",
      "source": [
        "Représentation 2 de la matrice (clustering)"
      ],
      "metadata": {
        "id": "Fzi_f9EPw5bK"
      }
    },
    {
      "cell_type": "code",
      "source": [
        "from sklearn.cluster import AgglomerativeClustering\n",
        "\n",
        "# Choisissez le nombre de clusters\n",
        "num_clusters = 5\n",
        "\n",
        "# Appliquez le clustering agglomératif\n",
        "clustering = AgglomerativeClustering(n_clusters=num_clusters, affinity='precomputed', linkage='complete')\n",
        "clusters = clustering.fit_predict(1 - similarity_matrix)  # Convertir la similarité en dissimilarité\n",
        "\n",
        "# Créez une liste de couleurs pour chaque cluster\n",
        "colors = ['b', 'g', 'r', 'c', 'm', 'y', 'k']\n",
        "\n",
        "plt.figure(figsize=(10, 10))\n",
        "\n",
        "# Tracez chaque point avec la couleur correspondant à son cluster\n",
        "for i in range(len(positions)):\n",
        "    plt.scatter(positions[i, 0], positions[i, 1], color=colors[clusters[i] % len(colors)])\n",
        "    plt.annotate(all_files[i], (positions[i, 0], positions[i, 1]))\n",
        "\n",
        "plt.show()\n"
      ],
      "metadata": {
        "id": "fz0bYhwaQckE"
      },
      "execution_count": null,
      "outputs": []
    },
    {
      "cell_type": "markdown",
      "source": [
        "Représentation en arbre"
      ],
      "metadata": {
        "id": "ztt53gPbw-W-"
      }
    },
    {
      "cell_type": "code",
      "source": [
        "from scipy.spatial.distance import squareform\n",
        "from scipy.cluster.hierarchy import linkage, fcluster\n",
        "\n",
        "# Convertir la matrice de similarité en une matrice de dissimilarité\n",
        "dissimilarity_matrix = 1 - similarity_matrix\n",
        "\n",
        "# Assurez-vous que la diagonale est définie à 0\n",
        "np.fill_diagonal(dissimilarity_matrix, 0)\n",
        "\n",
        "# Générer la matrice de liaison\n",
        "linkage_matrix = linkage(squareform(dissimilarity_matrix), method='ward')\n",
        "\n",
        "# Déterminer les clusters en utilisant fcluster\n",
        "cluster_ids = fcluster(linkage_matrix, num_clusters, criterion='maxclust')\n",
        "\n",
        "# Créer le dendrogramme\n",
        "plt.figure(figsize=(10, 10))\n",
        "dendrogram(linkage_matrix, labels=[f\"{os.path.basename(label)} (Cluster {cluster_id})\" for label, cluster_id in zip(all_files, cluster_ids)], orientation='right', color_threshold=num_clusters-0.5)\n",
        "plt.show()\n"
      ],
      "metadata": {
        "colab": {
          "base_uri": "https://localhost:8080/",
          "height": 830
        },
        "id": "nGvaoNXyTjMh",
        "outputId": "0fe5895a-3a9a-46f2-d67d-a1ee4e924379"
      },
      "execution_count": null,
      "outputs": [
        {
          "output_type": "display_data",
          "data": {
            "text/plain": [
              "<Figure size 1000x1000 with 1 Axes>"
            ],
            "image/png": "[encoded data removed]"
          },
          "metadata": {}
        }
      ]
    },
    {
      "cell_type": "code",
      "source": [],
      "metadata": {
        "id": "tHdmwlnWT5fb"
      },
      "execution_count": null,
      "outputs": []
    }
  ],
  "metadata": {
    "accelerator": "GPU",
    "colab": {
      "machine_shape": "hm",
      "provenance": [],
      "gpuType": "T4",
      "authorship_tag": "ABX9TyN0sJRlr8K41U0ilx0VB5Fa",
      "include_colab_link": true
    },
    "kernelspec": {
      "display_name": "Python 3",
      "name": "python3"
    },
    "language_info": {
      "name": "python"
    },
    "widgets": {
      "application/vnd.jupyter.widget-state+json": {
        "6eee5b92644a440ebfd0a769d3e15310": {
          "model_module": "@jupyter-widgets/controls",
          "model_name": "TextModel",
          "model_module_version": "1.5.0",
          "state": {
            "_dom_classes": [],
            "_model_module": "@jupyter-widgets/controls",
            "_model_module_version": "1.5.0",
            "_model_name": "TextModel",
            "_view_count": null,
            "_view_module": "@jupyter-widgets/controls",
            "_view_module_version": "1.5.0",
            "_view_name": "TextView",
            "continuous_update": true,
            "description": "Séquence de lemmes :",
            "description_tooltip": null,
            "disabled": false,
            "layout": "IPY_MODEL_8284b9e9e05140a6a8dc077ee4e694b3",
            "placeholder": "​",
            "style": "IPY_MODEL_5512da4efed941a1a490be14059b39e6",
            "value": "φάτις"
          }
        },
        "8284b9e9e05140a6a8dc077ee4e694b3": {
          "model_module": "@jupyter-widgets/base",
          "model_name": "LayoutModel",
          "model_module_version": "1.2.0",
          "state": {
            "_model_module": "@jupyter-widgets/base",
            "_model_module_version": "1.2.0",
            "_model_name": "LayoutModel",
            "_view_count": null,
            "_view_module": "@jupyter-widgets/base",
            "_view_module_version": "1.2.0",
            "_view_name": "LayoutView",
            "align_content": null,
            "align_items": null,
            "align_self": null,
            "border": null,
            "bottom": null,
            "display": null,
            "flex": null,
            "flex_flow": null,
            "grid_area": null,
            "grid_auto_columns": null,
            "grid_auto_flow": null,
            "grid_auto_rows": null,
            "grid_column": null,
            "grid_gap": null,
            "grid_row": null,
            "grid_template_areas": null,
            "grid_template_columns": null,
            "grid_template_rows": null,
            "height": null,
            "justify_content": null,
            "justify_items": null,
            "left": null,
            "margin": null,
            "max_height": null,
            "max_width": null,
            "min_height": null,
            "min_width": null,
            "object_fit": null,
            "object_position": null,
            "order": null,
            "overflow": null,
            "overflow_x": null,
            "overflow_y": null,
            "padding": null,
            "right": null,
            "top": null,
            "visibility": null,
            "width": null
          }
        },
        "5512da4efed941a1a490be14059b39e6": {
          "model_module": "@jupyter-widgets/controls",
          "model_name": "DescriptionStyleModel",
          "model_module_version": "1.5.0",
          "state": {
            "_model_module": "@jupyter-widgets/controls",
            "_model_module_version": "1.5.0",
            "_model_name": "DescriptionStyleModel",
            "_view_count": null,
            "_view_module": "@jupyter-widgets/base",
            "_view_module_version": "1.2.0",
            "_view_name": "StyleView",
            "description_width": ""
          }
        },
        "d600ecb5bdb0414eba6ada88ca77522e": {
          "model_module": "@jupyter-widgets/controls",
          "model_name": "ButtonModel",
          "model_module_version": "1.5.0",
          "state": {
            "_dom_classes": [],
            "_model_module": "@jupyter-widgets/controls",
            "_model_module_version": "1.5.0",
            "_model_name": "ButtonModel",
            "_view_count": null,
            "_view_module": "@jupyter-widgets/controls",
            "_view_module_version": "1.5.0",
            "_view_name": "ButtonView",
            "button_style": "",
            "description": "Rechercher",
            "disabled": false,
            "icon": "",
            "layout": "IPY_MODEL_12ae7c41e38f453682dc5b52ef282ced",
            "style": "IPY_MODEL_5c2a86d6ed814dc49b665f78021f1ddf",
            "tooltip": ""
          }
        },
        "12ae7c41e38f453682dc5b52ef282ced": {
          "model_module": "@jupyter-widgets/base",
          "model_name": "LayoutModel",
          "model_module_version": "1.2.0",
          "state": {
            "_model_module": "@jupyter-widgets/base",
            "_model_module_version": "1.2.0",
            "_model_name": "LayoutModel",
            "_view_count": null,
            "_view_module": "@jupyter-widgets/base",
            "_view_module_version": "1.2.0",
            "_view_name": "LayoutView",
            "align_content": null,
            "align_items": null,
            "align_self": null,
            "border": null,
            "bottom": null,
            "display": null,
            "flex": null,
            "flex_flow": null,
            "grid_area": null,
            "grid_auto_columns": null,
            "grid_auto_flow": null,
            "grid_auto_rows": null,
            "grid_column": null,
            "grid_gap": null,
            "grid_row": null,
            "grid_template_areas": null,
            "grid_template_columns": null,
            "grid_template_rows": null,
            "height": null,
            "justify_content": null,
            "justify_items": null,
            "left": null,
            "margin": null,
            "max_height": null,
            "max_width": null,
            "min_height": null,
            "min_width": null,
            "object_fit": null,
            "object_position": null,
            "order": null,
            "overflow": null,
            "overflow_x": null,
            "overflow_y": null,
            "padding": null,
            "right": null,
            "top": null,
            "visibility": null,
            "width": null
          }
        },
        "5c2a86d6ed814dc49b665f78021f1ddf": {
          "model_module": "@jupyter-widgets/controls",
          "model_name": "ButtonStyleModel",
          "model_module_version": "1.5.0",
          "state": {
            "_model_module": "@jupyter-widgets/controls",
            "_model_module_version": "1.5.0",
            "_model_name": "ButtonStyleModel",
            "_view_count": null,
            "_view_module": "@jupyter-widgets/base",
            "_view_module_version": "1.2.0",
            "_view_name": "StyleView",
            "button_color": null,
            "font_weight": ""
          }
        },
        "0a5544ee022644e3900c67d492a84030": {
          "model_module": "@jupyter-widgets/output",
          "model_name": "OutputModel",
          "model_module_version": "1.0.0",
          "state": {
            "_dom_classes": [],
            "_model_module": "@jupyter-widgets/output",
            "_model_module_version": "1.0.0",
            "_model_name": "OutputModel",
            "_view_count": null,
            "_view_module": "@jupyter-widgets/output",
            "_view_module_version": "1.0.0",
            "_view_name": "OutputView",
            "layout": "IPY_MODEL_039e6a5ade364b10a3fb12266945b073",
            "msg_id": "",
            "outputs": [
              {
                "output_type": "stream",
                "name": "stdout",
                "text": [
                  "Source File: /content/treebank_data/v2.1/Greek/texts/tlg0012.tlg002.perseus-grc1.tb.xml\n",
                  "Target File: /content/treebank_data/v2.1/Greek/texts/tlg0011.tlg004.perseus-grc1.tb.xml\n",
                  "Average Score: 0.6480821806051662\n",
                  "Source Sentence: αὐτίκα γὰρ φάτις εἶσιν ἅμ̓ ἠελίῳ ἀνιόντι ἀνδρῶν μνηστήρων , οὓς ἔκτανον ἐν μεγάροισιν ·\n",
                  "Target Sentence: οὔ τε γὰρ ἔκγονα κλυτᾶς χθονὸς αὔξεται οὔ τε τόκοισιν ἰηίων καμάτων ἀνέχουσι γυναῖκες ·\n",
                  "Similarity Score: 0.698863172531128\n",
                  "Common Lemmas: \n",
                  "\n",
                  "Source File: /content/treebank_data/v2.1/Greek/texts/tlg0012.tlg002.perseus-grc1.tb.xml\n",
                  "Target File: /content/treebank_data/v2.1/Greek/texts/tlg0085.tlg002.perseus-grc2.tb.xml\n",
                  "Average Score: 0.6489354883799392\n",
                  "Source Sentence: αὐτίκα γὰρ φάτις εἶσιν ἅμ̓ ἠελίῳ ἀνιόντι ἀνδρῶν μνηστήρων , οὓς ἔκτανον ἐν μεγάροισιν ·\n",
                  "Target Sentence: ἀλλὰ σύ μοι Γᾶ τε καὶ ἄλλοι χθονίων ἁγεμόνες δαίμονα μεγαυχῆ ἰόντ̓ αἰνέσατ̓ ἐκ δόμων , Περσᾶν Σουσιγενῆ θεόν ·\n",
                  "Similarity Score: 0.6897143363952637\n",
                  "Common Lemmas: \n",
                  "\n",
                  "Source File: /content/treebank_data/v2.1/Greek/texts/tlg0012.tlg002.perseus-grc1.tb.xml\n",
                  "Target File: /content/treebank_data/v2.1/Greek/texts/tlg0085.tlg003.perseus-grc2.tb.xml\n",
                  "Average Score: 0.6442965139977657\n",
                  "Source Sentence: αὐτίκα γὰρ φάτις εἶσιν ἅμ̓ ἠελίῳ ἀνιόντι ἀνδρῶν μνηστήρων , οὓς ἔκτανον ἐν μεγάροισιν ·\n",
                  "Target Sentence: νέοι γὰρ οἰακονόμοι κρατοῦσ̓ , Ὀλύμπου ·\n",
                  "Similarity Score: 0.6896807193756104\n",
                  "Common Lemmas: \n",
                  "\n",
                  "Source File: /content/treebank_data/v2.1/Greek/texts/tlg0012.tlg002.perseus-grc1.tb.xml\n",
                  "Target File: /content/treebank_data/v2.1/Greek/texts/tlg0011.tlg001.perseus-grc2.tb.xml\n",
                  "Average Score: 0.6538006580132723\n",
                  "Source Sentence: αὐτίκα γὰρ φάτις εἶσιν ἅμ̓ ἠελίῳ ἀνιόντι ἀνδρῶν μνηστήρων , οὓς ἔκτανον ἐν μεγάροισιν ·\n",
                  "Target Sentence: χρόνῳ δ̓ ἐν ὑστέρῳ μέν , ἀσμένῃ δέ μοι , ὁ κλεινὸς ἦλθε Ζηνὸς Ἀλκμήνης τε παῖς ·\n",
                  "Similarity Score: 0.6884743809700012\n",
                  "Common Lemmas: \n",
                  "\n",
                  "Source File: /content/treebank_data/v2.1/Greek/texts/tlg0012.tlg002.perseus-grc1.tb.xml\n",
                  "Target File: /content/treebank_data/v2.1/Greek/texts/tlg0011.tlg003.perseus-grc1.tb.xml\n",
                  "Average Score: 0.653678187988687\n",
                  "Source Sentence: αὐτίκα γὰρ φάτις εἶσιν ἅμ̓ ἠελίῳ ἀνιόντι ἀνδρῶν μνηστήρων , οὓς ἔκτανον ἐν μεγάροισιν ·\n",
                  "Target Sentence: ἰὼ πόροι ἁλίρροθοι πάραλά τ̓ ἄντρα καὶ νέμος ἐπάκτιον , πολὺν πολύν με δαρόν τε δὴ κατείχετ̓ ἀμφὶ Τροίαν χρόνον ·\n",
                  "Similarity Score: 0.6806311845779419\n",
                  "Common Lemmas: \n",
                  "\n",
                  "Source File: /content/treebank_data/v2.1/Greek/texts/tlg0012.tlg002.perseus-grc1.tb.xml\n",
                  "Target File: /content/treebank_data/v2.1/Greek/texts/tlg0085.tlg005.perseus-grc1.tb.xml\n",
                  "Average Score: 0.6514867170048557\n",
                  "Source Sentence: αὐτίκα γὰρ φάτις εἶσιν ἅμ̓ ἠελίῳ ἀνιόντι ἀνδρῶν μνηστήρων , οὓς ἔκτανον ἐν μεγάροισιν ·\n",
                  "Target Sentence: κεδνὸς δὲ στρατόμαντις ἰδὼν δύο λήμασι δισσοὺς Ἀτρεΐδας μαχίμους ἐδάη λαγοδαίτας πομπούς τ̓ ἀρχάς ·\n",
                  "Similarity Score: 0.6762115001678467\n",
                  "Common Lemmas: \n",
                  "\n",
                  "Source File: /content/treebank_data/v2.1/Greek/texts/tlg0012.tlg002.perseus-grc1.tb.xml\n",
                  "Target File: /content/treebank_data/v2.1/Greek/texts/tlg0085.tlg004.perseus-grc2.tb.xml\n",
                  "Average Score: 0.6447078644801919\n",
                  "Source Sentence: αὐτίκα γὰρ φάτις εἶσιν ἅμ̓ ἠελίῳ ἀνιόντι ἀνδρῶν μνηστήρων , οὓς ἔκτανον ἐν μεγάροισιν ·\n",
                  "Target Sentence: ὡς δ̓ ὑπέραυχα βάζουσιν ἐπὶ πτόλει μαινομένᾳ φρενί , τώς νιν Ζεὺς νεμέτωρ ἐπίδοι κοταίνων .\n",
                  "Similarity Score: 0.6757400274276734\n",
                  "Common Lemmas: \n",
                  "\n",
                  "Source File: /content/treebank_data/v2.1/Greek/texts/tlg0012.tlg002.perseus-grc1.tb.xml\n",
                  "Target File: /content/treebank_data/v2.1/Greek/texts/tlg0011.tlg005.perseus-grc2.tb.xml\n",
                  "Average Score: 0.6515048689532059\n",
                  "Source Sentence: αὐτίκα γὰρ φάτις εἶσιν ἅμ̓ ἠελίῳ ἀνιόντι ἀνδρῶν μνηστήρων , οὓς ἔκτανον ἐν μεγάροισιν ·\n",
                  "Target Sentence: ἐγὼ δὲ σὺν χαρᾷ λόγους τοιούσδ̓ ἔχουσ̓ ἔσπευδον , οὐκ εἰδυῖ̓ ἄρα ἵν̓ ἦμεν ἄτης ·\n",
                  "Similarity Score: 0.6719341516494751\n",
                  "Common Lemmas: \n",
                  "\n",
                  "Source File: /content/treebank_data/v2.1/Greek/texts/tlg0012.tlg002.perseus-grc1.tb.xml\n",
                  "Target File: /content/treebank_data/v2.1/Greek/texts/tlg0085.tlg006.perseus-grc2.tb.xml\n",
                  "Average Score: 0.6447466017608285\n",
                  "Source Sentence: αὐτίκα γὰρ φάτις εἶσιν ἅμ̓ ἠελίῳ ἀνιόντι ἀνδρῶν μνηστήρων , οὓς ἔκτανον ἐν μεγάροισιν ·\n",
                  "Target Sentence: παῖδες γὰρ ἀνδρὶ κληδόνες σωτήριοι θανόντι ·\n",
                  "Similarity Score: 0.670880937576294\n",
                  "Common Lemmas: ανηρ\n",
                  "\n",
                  "Source File: /content/treebank_data/v2.1/Greek/texts/tlg0012.tlg002.perseus-grc1.tb.xml\n",
                  "Target File: /content/treebank_data/v2.1/Greek/texts/tlg0085.tlg001.perseus-grc2.tb.xml\n",
                  "Average Score: 0.645888585829401\n",
                  "Source Sentence: αὐτίκα γὰρ φάτις εἶσιν ἅμ̓ ἠελίῳ ἀνιόντι ἀνδρῶν μνηστήρων , οὓς ἔκτανον ἐν μεγάροισιν ·\n",
                  "Target Sentence: ἀλλά , θεοὶ γενέται κλύετ̓ εὖ τὸ δίκαιον ἰδόντες ·\n",
                  "Similarity Score: 0.6661200761795044\n",
                  "Common Lemmas: \n",
                  "\n",
                  "Source File: /content/treebank_data/v2.1/Greek/texts/tlg0012.tlg002.perseus-grc1.tb.xml\n",
                  "Target File: /content/treebank_data/v2.1/Greek/texts/tlg0011.tlg002.perseus-grc2.tb.xml\n",
                  "Average Score: 0.6493460859595863\n",
                  "Source Sentence: ἐκ γάρ τοι τούτων φάτις ἀνθρώπους ἀναβαίνει ἐσθλή , χαίρουσιν δὲ πατὴρ καὶ πότνια μήτηρ .\n",
                  "Target Sentence: καίτοι καὶ γενεᾷ τίμιος , ὦ παῖ παῖ , καὶ Ζηνὸς ταμιεύεσκε γονὰς χρυσορύτους .\n",
                  "Similarity Score: 0.6632040977478028\n",
                  "Common Lemmas: \n",
                  "\n",
                  "Source File: /content/treebank_data/v2.1/Greek/texts/tlg0012.tlg002.perseus-grc1.tb.xml\n",
                  "Target File: /content/treebank_data/v2.1/Greek/texts/tlg0011.tlg003.perseus-grc1.tb.xml\n",
                  "Average Score: 0.653678187988687\n",
                  "Source Sentence: ἐκ γάρ τοι τούτων φάτις ἀνθρώπους ἀναβαίνει ἐσθλή , χαίρουσιν δὲ πατὴρ καὶ πότνια μήτηρ .\n",
                  "Target Sentence: ὅτου δ̓ ἀπορρεῖ μνῆστις εὖ πεπονθότος , οὐκ ἂν γένοιτ̓ ἔθ̓ οὗτος εὐγενὴς ἀνήρ .\n",
                  "Similarity Score: 0.662009859085083\n",
                  "Common Lemmas: \n",
                  "\n",
                  "Source File: /content/treebank_data/v2.1/Greek/texts/tlg0012.tlg002.perseus-grc1.tb.xml\n",
                  "Target File: /content/treebank_data/v2.1/Greek/texts/tlg0085.tlg007.perseus-grc1.tb.xml\n",
                  "Average Score: 0.6357860758264321\n",
                  "Source Sentence: ἐκ γάρ τοι τούτων φάτις ἀνθρώπους ἀναβαίνει ἐσθλή , χαίρουσιν δὲ πατὴρ καὶ πότνια μήτηρ .\n",
                  "Target Sentence: κακῶν δ̓ ἕκατι κἀγένοντ̓ , ἐπεὶ κακὸν σκότον νέμονται Τάρταρόν θ̓ ὑπὸ χθονός , μισήματ̓ ἀνδρῶν καὶ θεῶν Ὀλυμπίων .\n",
                  "Similarity Score: 0.6589660882949829\n",
                  "Common Lemmas: \n",
                  "\n",
                  "Source File: /content/treebank_data/v2.1/Greek/texts/tlg0012.tlg002.perseus-grc1.tb.xml\n",
                  "Target File: /content/treebank_data/v2.1/Greek/texts/tlg0011.tlg002.perseus-grc2.tb.xml\n",
                  "Average Score: 0.6493460859595863\n",
                  "Source Sentence: αὐτίκα γὰρ φάτις εἶσιν ἅμ̓ ἠελίῳ ἀνιόντι ἀνδρῶν μνηστήρων , οὓς ἔκτανον ἐν μεγάροισιν ·\n",
                  "Target Sentence: πάντα γὰρ λέχρια τἀν χεροῖν , τὰ δ̓ ἐπὶ κρατί μοι πότμος δυσκόμιστος εἰσήλατο .\n",
                  "Similarity Score: 0.6573963403701782\n",
                  "Common Lemmas: \n",
                  "\n",
                  "Source File: /content/treebank_data/v2.1/Greek/texts/tlg0012.tlg002.perseus-grc1.tb.xml\n",
                  "Target File: /content/treebank_data/v2.1/Greek/texts/tlg0085.tlg005.perseus-grc1.tb.xml\n",
                  "Average Score: 0.6514867170048557\n",
                  "Source Sentence: ἐκ γάρ τοι τούτων φάτις ἀνθρώπους ἀναβαίνει ἐσθλή , χαίρουσιν δὲ πατὴρ καὶ πότνια μήτηρ .\n",
                  "Target Sentence: συνθνῄσκουσα δὲ σποδὸς προπέμπει πίονας πλούτου πνοάς .\n",
                  "Similarity Score: 0.6572789192199707\n",
                  "Common Lemmas: \n",
                  "\n",
                  "Source File: /content/treebank_data/v2.1/Greek/texts/tlg0012.tlg002.perseus-grc1.tb.xml\n",
                  "Target File: /content/treebank_data/v2.1/Greek/texts/tlg0085.tlg007.perseus-grc1.tb.xml\n",
                  "Average Score: 0.6357860758264321\n",
                  "Source Sentence: αὐτίκα γὰρ φάτις εἶσιν ἅμ̓ ἠελίῳ ἀνιόντι ἀνδρῶν μνηστήρων , οὓς ἔκτανον ἐν μεγάροισιν ·\n",
                  "Target Sentence: μέγας γὰρ Ἅιδης ἐστὶν εὔθυνος βροτῶν ἔνερθε χθονός , δελτογράφῳ δὲ πάντ̓ ἐπωπᾷ φρενί .\n",
                  "Similarity Score: 0.6563896179199219\n",
                  "Common Lemmas: \n",
                  "\n",
                  "Source File: /content/treebank_data/v2.1/Greek/texts/tlg0012.tlg002.perseus-grc1.tb.xml\n",
                  "Target File: /content/treebank_data/v2.1/Greek/texts/tlg0011.tlg005.perseus-grc2.tb.xml\n",
                  "Average Score: 0.6515048689532059\n",
                  "Source Sentence: ἐκ γάρ τοι τούτων φάτις ἀνθρώπους ἀναβαίνει ἐσθλή , χαίρουσιν δὲ πατὴρ καὶ πότνια μήτηρ .\n",
                  "Target Sentence: οἰκτρὰ μὲν νόστοις αὐδά , οἰκτρὰ δ̓ ἐν κοίταις πατρῴαις ὅτε οἱ παγχάλκων ἀνταία γενύων ὡρμάθη πλαγά .\n",
                  "Similarity Score: 0.654555881023407\n",
                  "Common Lemmas: \n",
                  "\n",
                  "Source File: /content/treebank_data/v2.1/Greek/texts/tlg0012.tlg002.perseus-grc1.tb.xml\n",
                  "Target File: /content/treebank_data/v2.1/Greek/texts/tlg0011.tlg001.perseus-grc2.tb.xml\n",
                  "Average Score: 0.6538006580132723\n",
                  "Source Sentence: ἐκ γάρ τοι τούτων φάτις ἀνθρώπους ἀναβαίνει ἐσθλή , χαίρουσιν δὲ πατὴρ καὶ πότνια μήτηρ .\n",
                  "Target Sentence: τοιαῦτα , μῆτερ , πατρὶ βουλεύσασ̓ ἐμῷ καὶ δρῶσ̓ ἐλήφθης , ὧν σε ποίνιμος Δίκη τίσαιτ̓ Ἐρινύς τ̓ .\n",
                  "Similarity Score: 0.6520549893379212\n",
                  "Common Lemmas: μητηρ, πατηρ\n",
                  "\n",
                  "Source File: /content/treebank_data/v2.1/Greek/texts/tlg0012.tlg002.perseus-grc1.tb.xml\n",
                  "Target File: /content/treebank_data/v2.1/Greek/texts/tlg0011.tlg004.perseus-grc1.tb.xml\n",
                  "Average Score: 0.6480821806051662\n",
                  "Source Sentence: ἐκ γάρ τοι τούτων φάτις ἀνθρώπους ἀναβαίνει ἐσθλή , χαίρουσιν δὲ πατὴρ καὶ πότνια μήτηρ .\n",
                  "Target Sentence: πόλις δ̓ ὁμοῦ μὲν θυμιαμάτων γέμει , ὁμοῦ δὲ παιάνων τε καὶ στεναγμάτων ·\n",
                  "Similarity Score: 0.6490684390068054\n",
                  "Common Lemmas: \n",
                  "\n",
                  "Source File: /content/treebank_data/v2.1/Greek/texts/tlg0012.tlg002.perseus-grc1.tb.xml\n",
                  "Target File: /content/treebank_data/v2.1/Greek/texts/tlg0085.tlg002.perseus-grc2.tb.xml\n",
                  "Average Score: 0.6489354883799392\n",
                  "Source Sentence: ἐκ γάρ τοι τούτων φάτις ἀνθρώπους ἀναβαίνει ἐσθλή , χαίρουσιν δὲ πατὴρ καὶ πότνια μήτηρ .\n",
                  "Target Sentence: δίδυμα γάρ ἐστι καὶ τριπλᾶ - λυπρά , χάρματα δ̓ ἐχθροῖς .\n",
                  "Similarity Score: 0.6487764358520508\n",
                  "Common Lemmas: \n",
                  "\n",
                  "Source File: /content/treebank_data/v2.1/Greek/texts/tlg0012.tlg002.perseus-grc1.tb.xml\n",
                  "Target File: /content/treebank_data/v2.1/Greek/texts/tlg0085.tlg001.perseus-grc2.tb.xml\n",
                  "Average Score: 0.645888585829401\n",
                  "Source Sentence: ἐκ γάρ τοι τούτων φάτις ἀνθρώπους ἀναβαίνει ἐσθλή , χαίρουσιν δὲ πατὴρ καὶ πότνια μήτηρ .\n",
                  "Target Sentence: ἐμοῦ δ̓ ἄνακτος εὐλόγως ἐπώνυμον γένος Πελασγῶν τήνδε καρποῦται χθόνα .\n",
                  "Similarity Score: 0.6469336986541748\n",
                  "Common Lemmas: \n",
                  "\n",
                  "Source File: /content/treebank_data/v2.1/Greek/texts/tlg0012.tlg002.perseus-grc1.tb.xml\n",
                  "Target File: /content/treebank_data/v2.1/Greek/texts/tlg0085.tlg006.perseus-grc2.tb.xml\n",
                  "Average Score: 0.6447466017608285\n",
                  "Source Sentence: ἐκ γάρ τοι τούτων φάτις ἀνθρώπους ἀναβαίνει ἐσθλή , χαίρουσιν δὲ πατὴρ καὶ πότνια μήτηρ .\n",
                  "Target Sentence: βοᾷ γὰρ λοιγὸς Ἐρινὺν παρὰ τῶν πρότερον φθιμένων ἄτην ἑτέραν ἐπάγουσαν ἐπ̓ ἄτῃ .\n",
                  "Similarity Score: 0.6458016872406006\n",
                  "Common Lemmas: \n",
                  "\n",
                  "Source File: /content/treebank_data/v2.1/Greek/texts/tlg0012.tlg002.perseus-grc1.tb.xml\n",
                  "Target File: /content/treebank_data/v2.1/Greek/texts/tlg0085.tlg003.perseus-grc2.tb.xml\n",
                  "Average Score: 0.6442965139977657\n",
                  "Source Sentence: ἐκ γάρ τοι τούτων φάτις ἀνθρώπους ἀναβαίνει ἐσθλή , χαίρουσιν δὲ πατὴρ καὶ πότνια μήτηρ .\n",
                  "Target Sentence: ταρβῶ γὰρ ἀστεργάνορα παρθενίαν εἰσορῶσ̓ Ἰοῦς ἀμαλαπτομέναν δυσπλάνοις Ἥρας ἀλατείαις πόνων .\n",
                  "Similarity Score: 0.6401107549667359\n",
                  "Common Lemmas: \n",
                  "\n",
                  "Source File: /content/treebank_data/v2.1/Greek/texts/tlg0012.tlg002.perseus-grc1.tb.xml\n",
                  "Target File: /content/treebank_data/v2.1/Greek/texts/tlg0085.tlg004.perseus-grc2.tb.xml\n",
                  "Average Score: 0.6447078644801919\n",
                  "Source Sentence: ἐκ γάρ τοι τούτων φάτις ἀνθρώπους ἀναβαίνει ἐσθλή , χαίρουσιν δὲ πατὴρ καὶ πότνια μήτηρ .\n",
                  "Target Sentence: ἦ δῆτ̓ ἂν εἴη πανδίκως ψευδώνυμος Δίκη , ξυνοῦσα φωτὶ παντόλμῳ φρένας .\n",
                  "Similarity Score: 0.6397437691688538\n",
                  "Common Lemmas: \n",
                  "\n"
                ]
              }
            ]
          }
        },
        "039e6a5ade364b10a3fb12266945b073": {
          "model_module": "@jupyter-widgets/base",
          "model_name": "LayoutModel",
          "model_module_version": "1.2.0",
          "state": {
            "_model_module": "@jupyter-widgets/base",
            "_model_module_version": "1.2.0",
            "_model_name": "LayoutModel",
            "_view_count": null,
            "_view_module": "@jupyter-widgets/base",
            "_view_module_version": "1.2.0",
            "_view_name": "LayoutView",
            "align_content": null,
            "align_items": null,
            "align_self": null,
            "border": null,
            "bottom": null,
            "display": null,
            "flex": null,
            "flex_flow": null,
            "grid_area": null,
            "grid_auto_columns": null,
            "grid_auto_flow": null,
            "grid_auto_rows": null,
            "grid_column": null,
            "grid_gap": null,
            "grid_row": null,
            "grid_template_areas": null,
            "grid_template_columns": null,
            "grid_template_rows": null,
            "height": null,
            "justify_content": null,
            "justify_items": null,
            "left": null,
            "margin": null,
            "max_height": null,
            "max_width": null,
            "min_height": null,
            "min_width": null,
            "object_fit": null,
            "object_position": null,
            "order": null,
            "overflow": null,
            "overflow_x": null,
            "overflow_y": null,
            "padding": null,
            "right": null,
            "top": null,
            "visibility": null,
            "width": null
          }
        }
      }
    }
  },
  "nbformat": 4,
  "nbformat_minor": 0
}